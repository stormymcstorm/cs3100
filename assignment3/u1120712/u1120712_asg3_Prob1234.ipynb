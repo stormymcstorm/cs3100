{
  "nbformat": 4,
  "nbformat_minor": 0,
  "metadata": {
    "kernelspec": {
      "display_name": "Python 3",
      "language": "python",
      "name": "python3"
    },
    "language_info": {
      "codemirror_mode": {
        "name": "ipython",
        "version": 3
      },
      "file_extension": ".py",
      "mimetype": "text/x-python",
      "name": "python",
      "nbconvert_exporter": "python",
      "pygments_lexer": "ipython3",
      "version": "3.7.3"
    },
    "toc": {
      "colors": {
        "hover_highlight": "#DAA520",
        "running_highlight": "#FF0000",
        "selected_highlight": "#FFD700"
      },
      "moveMenuLeft": true,
      "nav_menu": {
        "height": "121px",
        "width": "252px"
      },
      "navigate_menu": true,
      "number_sections": true,
      "sideBar": true,
      "threshold": 4,
      "toc_cell": false,
      "toc_section_display": "block",
      "toc_window_display": false,
      "widenNotebook": false
    },
    "colab": {
      "name": "u1120712_asg3_Prob1234.ipynb",
      "provenance": [],
      "collapsed_sections": [
        "kjipWQKQFTU9",
        "4Ux8CAVjFTWE",
        "XU7uQnTlFTWU",
        "mtCe9DyKFTWa",
        "AUtl3IpeFTWk",
        "Z2I7c_ojFTWl",
        "CvpMl5CtFTW1",
        "QmZb00RWFTXA",
        "nZIGy6WtFTXN",
        "gvZQR2uNFTXe"
      ]
    },
    "widgets": {
      "application/vnd.jupyter.widget-state+json": {
        "01838e32d12a437ab9d8d88240bb56cf": {
          "model_module": "@jupyter-widgets/controls",
          "model_name": "VBoxModel",
          "state": {
            "_view_name": "VBoxView",
            "_dom_classes": [],
            "_model_name": "VBoxModel",
            "_view_module": "@jupyter-widgets/controls",
            "_model_module_version": "1.5.0",
            "_view_count": null,
            "_view_module_version": "1.5.0",
            "box_style": "",
            "layout": "IPY_MODEL_6a8b6738918a4e1cbbd97867d0f583dc",
            "_model_module": "@jupyter-widgets/controls",
            "children": [
              "IPY_MODEL_3fd925ad6c5248d48428254f9e872b39",
              "IPY_MODEL_497cd24238814f50b2dc45932f226298",
              "IPY_MODEL_5231221e81b847e68f4da6eed99aae07",
              "IPY_MODEL_79e4105dd2b4450382f8c11fd80f851b"
            ]
          }
        },
        "6a8b6738918a4e1cbbd97867d0f583dc": {
          "model_module": "@jupyter-widgets/base",
          "model_name": "LayoutModel",
          "state": {
            "_view_name": "LayoutView",
            "grid_template_rows": null,
            "right": null,
            "justify_content": null,
            "_view_module": "@jupyter-widgets/base",
            "overflow": null,
            "_model_module_version": "1.2.0",
            "_view_count": null,
            "flex_flow": null,
            "width": null,
            "min_width": null,
            "border": null,
            "align_items": null,
            "bottom": null,
            "_model_module": "@jupyter-widgets/base",
            "top": null,
            "grid_column": null,
            "overflow_y": null,
            "overflow_x": null,
            "grid_auto_flow": null,
            "grid_area": null,
            "grid_template_columns": null,
            "flex": null,
            "_model_name": "LayoutModel",
            "justify_items": null,
            "grid_row": null,
            "max_height": null,
            "align_content": null,
            "visibility": null,
            "align_self": null,
            "height": null,
            "min_height": null,
            "padding": null,
            "grid_auto_rows": null,
            "grid_gap": null,
            "max_width": null,
            "order": null,
            "_view_module_version": "1.2.0",
            "grid_template_areas": null,
            "object_position": null,
            "object_fit": null,
            "grid_auto_columns": null,
            "margin": null,
            "display": null,
            "left": null
          }
        },
        "3fd925ad6c5248d48428254f9e872b39": {
          "model_module": "@jupyter-widgets/controls",
          "model_name": "HBoxModel",
          "state": {
            "_view_name": "HBoxView",
            "_dom_classes": [],
            "_model_name": "HBoxModel",
            "_view_module": "@jupyter-widgets/controls",
            "_model_module_version": "1.5.0",
            "_view_count": null,
            "_view_module_version": "1.5.0",
            "box_style": "",
            "layout": "IPY_MODEL_3a89577c99594690b4374dfb90b08888",
            "_model_module": "@jupyter-widgets/controls",
            "children": [
              "IPY_MODEL_5ab296f8ef2348d8b561f784b3f067c1",
              "IPY_MODEL_e8d174d81a3249499759845a2d743955"
            ]
          }
        },
        "497cd24238814f50b2dc45932f226298": {
          "model_module": "@jupyter-widgets/output",
          "model_name": "OutputModel",
          "state": {
            "_view_name": "OutputView",
            "msg_id": "",
            "_dom_classes": [],
            "_model_name": "OutputModel",
            "outputs": [
              {
                "output_type": "display_data",
                "metadata": {
                  "tags": []
                },
                "text/plain": "<graphviz.files.Source at 0x7f0b9bf50cc0>",
                "image/svg+xml": "<?xml version=\"1.0\" encoding=\"UTF-8\" standalone=\"no\"?>\n<!DOCTYPE svg PUBLIC \"-//W3C//DTD SVG 1.1//EN\"\n \"http://www.w3.org/Graphics/SVG/1.1/DTD/svg11.dtd\">\n<!-- Generated by graphviz version 2.40.1 (20161225.0304)\n -->\n<!-- Title: %3 Pages: 1 -->\n<svg width=\"333pt\" height=\"122pt\"\n viewBox=\"0.00 0.00 332.59 122.00\" xmlns=\"http://www.w3.org/2000/svg\" xmlns:xlink=\"http://www.w3.org/1999/xlink\">\n<g id=\"graph0\" class=\"graph\" transform=\"scale(1 1) rotate(0) translate(4 117.9977)\">\n<title>%3</title>\n<polygon fill=\"#ffffff\" stroke=\"transparent\" points=\"-4,4 -4,-117.9977 328.5917,-117.9977 328.5917,4 -4,4\"/>\n<!-- EMPTY -->\n<g id=\"node1\" class=\"node\">\n<title>EMPTY</title>\n</g>\n<!-- I -->\n<g id=\"node3\" class=\"node\">\n<title>I</title>\n<ellipse fill=\"none\" stroke=\"#000000\" cx=\"109\" cy=\"-29.9977\" rx=\"18\" ry=\"18\"/>\n<text text-anchor=\"middle\" x=\"109\" y=\"-26.2977\" font-family=\"Times,serif\" font-size=\"14.00\" fill=\"#000000\">I</text>\n</g>\n<!-- EMPTY&#45;&gt;I -->\n<g id=\"edge1\" class=\"edge\">\n<title>EMPTY&#45;&gt;I</title>\n<path fill=\"none\" stroke=\"#000000\" d=\"M54.3048,-29.9977C62.6909,-29.9977 71.9407,-29.9977 80.4103,-29.9977\"/>\n<polygon fill=\"#000000\" stroke=\"#000000\" points=\"80.5976,-33.4978 90.5976,-29.9977 80.5976,-26.4978 80.5976,-33.4978\"/>\n</g>\n<!-- S1 -->\n<g id=\"node2\" class=\"node\">\n<title>S1</title>\n<ellipse fill=\"none\" stroke=\"#000000\" cx=\"195.7982\" cy=\"-29.9977\" rx=\"20.5982\" ry=\"20.5982\"/>\n<text text-anchor=\"middle\" x=\"195.7982\" y=\"-26.2977\" font-family=\"Times,serif\" font-size=\"14.00\" fill=\"#000000\">S1</text>\n</g>\n<!-- F10 -->\n<g id=\"node4\" class=\"node\">\n<title>F10</title>\n<ellipse fill=\"none\" stroke=\"#000000\" cx=\"294.594\" cy=\"-29.9977\" rx=\"25.9957\" ry=\"25.9957\"/>\n<ellipse fill=\"none\" stroke=\"#000000\" cx=\"294.594\" cy=\"-29.9977\" rx=\"29.9954\" ry=\"29.9954\"/>\n<text text-anchor=\"middle\" x=\"294.594\" y=\"-26.2977\" font-family=\"Times,serif\" font-size=\"14.00\" fill=\"#000000\">F10</text>\n</g>\n<!-- S1&#45;&gt;F10 -->\n<g id=\"edge5\" class=\"edge\">\n<title>S1&#45;&gt;F10</title>\n<path fill=\"none\" stroke=\"#000000\" d=\"M216.7502,-29.9977C227.6555,-29.9977 241.3667,-29.9977 254.2314,-29.9977\"/>\n<polygon fill=\"#000000\" stroke=\"#000000\" points=\"254.2974,-33.4978 264.2974,-29.9977 254.2974,-26.4978 254.2974,-33.4978\"/>\n<text text-anchor=\"start\" x=\"234.5963\" y=\"-33.7977\" font-family=\"Times,serif\" font-size=\"14.00\" fill=\"#000000\"> 0</text>\n</g>\n<!-- I&#45;&gt;S1 -->\n<g id=\"edge3\" class=\"edge\">\n<title>I&#45;&gt;S1</title>\n<path fill=\"none\" stroke=\"#000000\" d=\"M127.4077,-29.9977C138.2934,-29.9977 152.3613,-29.9977 164.9052,-29.9977\"/>\n<polygon fill=\"#000000\" stroke=\"#000000\" points=\"164.9803,-33.4978 174.9802,-29.9977 164.9802,-26.4978 164.9803,-33.4978\"/>\n<text text-anchor=\"start\" x=\"145\" y=\"-33.7977\" font-family=\"Times,serif\" font-size=\"14.00\" fill=\"#000000\"> 1</text>\n</g>\n<!-- I&#45;&gt;I -->\n<g id=\"edge2\" class=\"edge\">\n<title>I&#45;&gt;I</title>\n<path fill=\"none\" stroke=\"#000000\" d=\"M105.7643,-47.7794C105.2144,-57.3126 106.293,-65.9977 109,-65.9977 110.6496,-65.9977 111.6945,-62.7726 112.1347,-58.0958\"/>\n<polygon fill=\"#000000\" stroke=\"#000000\" points=\"115.6375,-57.8133 112.2357,-47.7794 108.6379,-57.7446 115.6375,-57.8133\"/>\n<text text-anchor=\"start\" x=\"103\" y=\"-69.7977\" font-family=\"Times,serif\" font-size=\"14.00\" fill=\"#000000\"> 0</text>\n</g>\n<!-- I&#45;&gt;I -->\n<g id=\"edge4\" class=\"edge\">\n<title>I&#45;&gt;I</title>\n<path fill=\"none\" stroke=\"#000000\" d=\"M103.6841,-47.418C100.6538,-64.7886 102.4258,-83.9977 109,-83.9977 114.2902,-83.9977 116.4708,-71.5594 115.5419,-57.6497\"/>\n<polygon fill=\"#000000\" stroke=\"#000000\" points=\"118.9808,-56.9305 114.3159,-47.418 112.0305,-57.7634 118.9808,-56.9305\"/>\n<text text-anchor=\"start\" x=\"103\" y=\"-87.7977\" font-family=\"Times,serif\" font-size=\"14.00\" fill=\"#000000\"> 1</text>\n</g>\n</g>\n</svg>\n"
              }
            ],
            "_view_module": "@jupyter-widgets/output",
            "_model_module_version": "1.0.0",
            "_view_count": null,
            "_view_module_version": "1.0.0",
            "layout": "IPY_MODEL_cc41ebcf028b4c2d9f6a23b4a78f41c2",
            "_model_module": "@jupyter-widgets/output"
          }
        },
        "5231221e81b847e68f4da6eed99aae07": {
          "model_module": "@jupyter-widgets/output",
          "model_name": "OutputModel",
          "state": {
            "_view_name": "OutputView",
            "msg_id": "",
            "_dom_classes": [],
            "_model_name": "OutputModel",
            "outputs": [],
            "_view_module": "@jupyter-widgets/output",
            "_model_module_version": "1.0.0",
            "_view_count": null,
            "_view_module_version": "1.0.0",
            "layout": "IPY_MODEL_d52daf4c52a34a138e2446b1586bdfd7",
            "_model_module": "@jupyter-widgets/output"
          }
        },
        "79e4105dd2b4450382f8c11fd80f851b": {
          "model_module": "@jupyter-widgets/controls",
          "model_name": "HBoxModel",
          "state": {
            "_view_name": "HBoxView",
            "_dom_classes": [],
            "_model_name": "HBoxModel",
            "_view_module": "@jupyter-widgets/controls",
            "_model_module_version": "1.5.0",
            "_view_count": null,
            "_view_module_version": "1.5.0",
            "box_style": "",
            "layout": "IPY_MODEL_68723327492447e9a8559a2759ea18a7",
            "_model_module": "@jupyter-widgets/controls",
            "children": [
              "IPY_MODEL_816423f55db14085a51c49ce9ad0a77b",
              "IPY_MODEL_20e422bb8c1a403d8562131e45ae0721",
              "IPY_MODEL_2b9c4a620b3f449ca766acb33beecd3c",
              "IPY_MODEL_6c1592b50b2f493eb91b5f80805539cb"
            ]
          }
        },
        "3a89577c99594690b4374dfb90b08888": {
          "model_module": "@jupyter-widgets/base",
          "model_name": "LayoutModel",
          "state": {
            "_view_name": "LayoutView",
            "grid_template_rows": null,
            "right": null,
            "justify_content": null,
            "_view_module": "@jupyter-widgets/base",
            "overflow": null,
            "_model_module_version": "1.2.0",
            "_view_count": null,
            "flex_flow": null,
            "width": null,
            "min_width": null,
            "border": null,
            "align_items": null,
            "bottom": null,
            "_model_module": "@jupyter-widgets/base",
            "top": null,
            "grid_column": null,
            "overflow_y": null,
            "overflow_x": null,
            "grid_auto_flow": null,
            "grid_area": null,
            "grid_template_columns": null,
            "flex": null,
            "_model_name": "LayoutModel",
            "justify_items": null,
            "grid_row": null,
            "max_height": null,
            "align_content": null,
            "visibility": null,
            "align_self": null,
            "height": null,
            "min_height": null,
            "padding": null,
            "grid_auto_rows": null,
            "grid_gap": null,
            "max_width": null,
            "order": null,
            "_view_module_version": "1.2.0",
            "grid_template_areas": null,
            "object_position": null,
            "object_fit": null,
            "grid_auto_columns": null,
            "margin": null,
            "display": null,
            "left": null
          }
        },
        "5ab296f8ef2348d8b561f784b3f067c1": {
          "model_module": "@jupyter-widgets/controls",
          "model_name": "TextModel",
          "state": {
            "_view_name": "TextView",
            "style": "IPY_MODEL_a87c56d0b90c4225859c0c91e94b33d2",
            "_dom_classes": [],
            "description": "Input:",
            "_model_name": "TextModel",
            "placeholder": "Sigma: {0,1}",
            "_view_module": "@jupyter-widgets/controls",
            "_model_module_version": "1.5.0",
            "value": "",
            "_view_count": null,
            "disabled": false,
            "_view_module_version": "1.5.0",
            "continuous_update": true,
            "description_tooltip": null,
            "_model_module": "@jupyter-widgets/controls",
            "layout": "IPY_MODEL_675e6d1be703498889008c72d0559e12"
          }
        },
        "e8d174d81a3249499759845a2d743955": {
          "model_module": "@jupyter-widgets/controls",
          "model_name": "ButtonModel",
          "state": {
            "_view_name": "ButtonView",
            "style": "IPY_MODEL_ccb853d388d345ee9a046bcb9046f4b8",
            "_dom_classes": [],
            "description": "Animate",
            "_model_name": "ButtonModel",
            "button_style": "primary",
            "_view_module": "@jupyter-widgets/controls",
            "_model_module_version": "1.5.0",
            "tooltip": "",
            "_view_count": null,
            "disabled": false,
            "_view_module_version": "1.5.0",
            "layout": "IPY_MODEL_2ed9f23517f94f50a61c4ab3c0d8fbcb",
            "_model_module": "@jupyter-widgets/controls",
            "icon": ""
          }
        },
        "68723327492447e9a8559a2759ea18a7": {
          "model_module": "@jupyter-widgets/base",
          "model_name": "LayoutModel",
          "state": {
            "_view_name": "LayoutView",
            "grid_template_rows": null,
            "right": null,
            "justify_content": null,
            "_view_module": "@jupyter-widgets/base",
            "overflow": null,
            "_model_module_version": "1.2.0",
            "_view_count": null,
            "flex_flow": null,
            "width": null,
            "min_width": null,
            "border": null,
            "align_items": null,
            "bottom": null,
            "_model_module": "@jupyter-widgets/base",
            "top": null,
            "grid_column": null,
            "overflow_y": null,
            "overflow_x": null,
            "grid_auto_flow": null,
            "grid_area": null,
            "grid_template_columns": null,
            "flex": null,
            "_model_name": "LayoutModel",
            "justify_items": null,
            "grid_row": null,
            "max_height": null,
            "align_content": null,
            "visibility": null,
            "align_self": null,
            "height": null,
            "min_height": null,
            "padding": null,
            "grid_auto_rows": null,
            "grid_gap": null,
            "max_width": null,
            "order": null,
            "_view_module_version": "1.2.0",
            "grid_template_areas": null,
            "object_position": null,
            "object_fit": null,
            "grid_auto_columns": null,
            "margin": null,
            "display": null,
            "left": null
          }
        },
        "816423f55db14085a51c49ce9ad0a77b": {
          "model_module": "@jupyter-widgets/controls",
          "model_name": "PlayModel",
          "state": {
            "_view_name": "PlayView",
            "style": "IPY_MODEL_72dbe4eb94024b6e96cfc19d790451b2",
            "interval": 950,
            "_dom_classes": [],
            "description": "Press play",
            "_model_name": "PlayModel",
            "max": 100,
            "_view_module": "@jupyter-widgets/controls",
            "_model_module_version": "1.5.0",
            "value": 0,
            "_view_count": null,
            "disabled": true,
            "_repeat": false,
            "_view_module_version": "1.5.0",
            "show_repeat": true,
            "min": 0,
            "_playing": false,
            "step": 1,
            "description_tooltip": null,
            "_model_module": "@jupyter-widgets/controls",
            "layout": "IPY_MODEL_3d28c7c74c9b4d6ebcf35b9e95dfee2d"
          }
        },
        "20e422bb8c1a403d8562131e45ae0721": {
          "model_module": "@jupyter-widgets/controls",
          "model_name": "ButtonModel",
          "state": {
            "_view_name": "ButtonView",
            "style": "IPY_MODEL_1b6a460bf1214df39bc940c7a2e75c3c",
            "_dom_classes": [],
            "description": "",
            "_model_name": "ButtonModel",
            "button_style": "",
            "_view_module": "@jupyter-widgets/controls",
            "_model_module_version": "1.5.0",
            "tooltip": "",
            "_view_count": null,
            "disabled": true,
            "_view_module_version": "1.5.0",
            "layout": "IPY_MODEL_d94d365a21024af0a659bf99cd231a08",
            "_model_module": "@jupyter-widgets/controls",
            "icon": "step-backward"
          }
        },
        "2b9c4a620b3f449ca766acb33beecd3c": {
          "model_module": "@jupyter-widgets/controls",
          "model_name": "ButtonModel",
          "state": {
            "_view_name": "ButtonView",
            "style": "IPY_MODEL_0eaf3d94c49042f08896ab411b4e7cea",
            "_dom_classes": [],
            "description": "",
            "_model_name": "ButtonModel",
            "button_style": "",
            "_view_module": "@jupyter-widgets/controls",
            "_model_module_version": "1.5.0",
            "tooltip": "",
            "_view_count": null,
            "disabled": true,
            "_view_module_version": "1.5.0",
            "layout": "IPY_MODEL_4e10117b95b445fb923edd7b25c2eff9",
            "_model_module": "@jupyter-widgets/controls",
            "icon": "step-forward"
          }
        },
        "6c1592b50b2f493eb91b5f80805539cb": {
          "model_module": "@jupyter-widgets/controls",
          "model_name": "IntSliderModel",
          "state": {
            "_view_name": "IntSliderView",
            "style": "IPY_MODEL_cadcaae40cbc490bb48ef09c9a26264f",
            "_dom_classes": [],
            "description": "Speed:",
            "step": 1,
            "_model_name": "IntSliderModel",
            "orientation": "horizontal",
            "max": 10,
            "_view_module": "@jupyter-widgets/controls",
            "_model_module_version": "1.5.0",
            "value": 1,
            "_view_count": null,
            "disabled": true,
            "_view_module_version": "1.5.0",
            "min": 1,
            "continuous_update": false,
            "readout_format": "d",
            "description_tooltip": null,
            "readout": true,
            "_model_module": "@jupyter-widgets/controls",
            "layout": "IPY_MODEL_aa74c8549ca240bbad50bb643313d43d"
          }
        },
        "a87c56d0b90c4225859c0c91e94b33d2": {
          "model_module": "@jupyter-widgets/controls",
          "model_name": "DescriptionStyleModel",
          "state": {
            "_view_name": "StyleView",
            "_model_name": "DescriptionStyleModel",
            "description_width": "",
            "_view_module": "@jupyter-widgets/base",
            "_model_module_version": "1.5.0",
            "_view_count": null,
            "_view_module_version": "1.2.0",
            "_model_module": "@jupyter-widgets/controls"
          }
        },
        "675e6d1be703498889008c72d0559e12": {
          "model_module": "@jupyter-widgets/base",
          "model_name": "LayoutModel",
          "state": {
            "_view_name": "LayoutView",
            "grid_template_rows": null,
            "right": null,
            "justify_content": null,
            "_view_module": "@jupyter-widgets/base",
            "overflow": null,
            "_model_module_version": "1.2.0",
            "_view_count": null,
            "flex_flow": null,
            "width": "500px",
            "min_width": null,
            "border": null,
            "align_items": null,
            "bottom": null,
            "_model_module": "@jupyter-widgets/base",
            "top": null,
            "grid_column": null,
            "overflow_y": null,
            "overflow_x": null,
            "grid_auto_flow": null,
            "grid_area": null,
            "grid_template_columns": null,
            "flex": null,
            "_model_name": "LayoutModel",
            "justify_items": null,
            "grid_row": null,
            "max_height": null,
            "align_content": null,
            "visibility": null,
            "align_self": null,
            "height": null,
            "min_height": null,
            "padding": null,
            "grid_auto_rows": null,
            "grid_gap": null,
            "max_width": null,
            "order": null,
            "_view_module_version": "1.2.0",
            "grid_template_areas": null,
            "object_position": null,
            "object_fit": null,
            "grid_auto_columns": null,
            "margin": null,
            "display": null,
            "left": null
          }
        },
        "ccb853d388d345ee9a046bcb9046f4b8": {
          "model_module": "@jupyter-widgets/controls",
          "model_name": "ButtonStyleModel",
          "state": {
            "_view_name": "StyleView",
            "_model_name": "ButtonStyleModel",
            "_view_module": "@jupyter-widgets/base",
            "_model_module_version": "1.5.0",
            "_view_count": null,
            "button_color": null,
            "font_weight": "",
            "_view_module_version": "1.2.0",
            "_model_module": "@jupyter-widgets/controls"
          }
        },
        "2ed9f23517f94f50a61c4ab3c0d8fbcb": {
          "model_module": "@jupyter-widgets/base",
          "model_name": "LayoutModel",
          "state": {
            "_view_name": "LayoutView",
            "grid_template_rows": null,
            "right": null,
            "justify_content": null,
            "_view_module": "@jupyter-widgets/base",
            "overflow": null,
            "_model_module_version": "1.2.0",
            "_view_count": null,
            "flex_flow": null,
            "width": null,
            "min_width": null,
            "border": null,
            "align_items": null,
            "bottom": null,
            "_model_module": "@jupyter-widgets/base",
            "top": null,
            "grid_column": null,
            "overflow_y": null,
            "overflow_x": null,
            "grid_auto_flow": null,
            "grid_area": null,
            "grid_template_columns": null,
            "flex": null,
            "_model_name": "LayoutModel",
            "justify_items": null,
            "grid_row": null,
            "max_height": null,
            "align_content": null,
            "visibility": null,
            "align_self": null,
            "height": null,
            "min_height": null,
            "padding": null,
            "grid_auto_rows": null,
            "grid_gap": null,
            "max_width": null,
            "order": null,
            "_view_module_version": "1.2.0",
            "grid_template_areas": null,
            "object_position": null,
            "object_fit": null,
            "grid_auto_columns": null,
            "margin": null,
            "display": null,
            "left": null
          }
        },
        "72dbe4eb94024b6e96cfc19d790451b2": {
          "model_module": "@jupyter-widgets/controls",
          "model_name": "DescriptionStyleModel",
          "state": {
            "_view_name": "StyleView",
            "_model_name": "DescriptionStyleModel",
            "description_width": "",
            "_view_module": "@jupyter-widgets/base",
            "_model_module_version": "1.5.0",
            "_view_count": null,
            "_view_module_version": "1.2.0",
            "_model_module": "@jupyter-widgets/controls"
          }
        },
        "3d28c7c74c9b4d6ebcf35b9e95dfee2d": {
          "model_module": "@jupyter-widgets/base",
          "model_name": "LayoutModel",
          "state": {
            "_view_name": "LayoutView",
            "grid_template_rows": null,
            "right": null,
            "justify_content": null,
            "_view_module": "@jupyter-widgets/base",
            "overflow": null,
            "_model_module_version": "1.2.0",
            "_view_count": null,
            "flex_flow": null,
            "width": null,
            "min_width": null,
            "border": null,
            "align_items": null,
            "bottom": null,
            "_model_module": "@jupyter-widgets/base",
            "top": null,
            "grid_column": null,
            "overflow_y": null,
            "overflow_x": null,
            "grid_auto_flow": null,
            "grid_area": null,
            "grid_template_columns": null,
            "flex": null,
            "_model_name": "LayoutModel",
            "justify_items": null,
            "grid_row": null,
            "max_height": null,
            "align_content": null,
            "visibility": null,
            "align_self": null,
            "height": null,
            "min_height": null,
            "padding": null,
            "grid_auto_rows": null,
            "grid_gap": null,
            "max_width": null,
            "order": null,
            "_view_module_version": "1.2.0",
            "grid_template_areas": null,
            "object_position": null,
            "object_fit": null,
            "grid_auto_columns": null,
            "margin": null,
            "display": null,
            "left": null
          }
        },
        "1b6a460bf1214df39bc940c7a2e75c3c": {
          "model_module": "@jupyter-widgets/controls",
          "model_name": "ButtonStyleModel",
          "state": {
            "_view_name": "StyleView",
            "_model_name": "ButtonStyleModel",
            "_view_module": "@jupyter-widgets/base",
            "_model_module_version": "1.5.0",
            "_view_count": null,
            "button_color": null,
            "font_weight": "",
            "_view_module_version": "1.2.0",
            "_model_module": "@jupyter-widgets/controls"
          }
        },
        "d94d365a21024af0a659bf99cd231a08": {
          "model_module": "@jupyter-widgets/base",
          "model_name": "LayoutModel",
          "state": {
            "_view_name": "LayoutView",
            "grid_template_rows": null,
            "right": null,
            "justify_content": null,
            "_view_module": "@jupyter-widgets/base",
            "overflow": null,
            "_model_module_version": "1.2.0",
            "_view_count": null,
            "flex_flow": null,
            "width": "40px",
            "min_width": null,
            "border": null,
            "align_items": null,
            "bottom": null,
            "_model_module": "@jupyter-widgets/base",
            "top": null,
            "grid_column": null,
            "overflow_y": null,
            "overflow_x": null,
            "grid_auto_flow": null,
            "grid_area": null,
            "grid_template_columns": null,
            "flex": null,
            "_model_name": "LayoutModel",
            "justify_items": null,
            "grid_row": null,
            "max_height": null,
            "align_content": null,
            "visibility": null,
            "align_self": null,
            "height": null,
            "min_height": null,
            "padding": null,
            "grid_auto_rows": null,
            "grid_gap": null,
            "max_width": null,
            "order": null,
            "_view_module_version": "1.2.0",
            "grid_template_areas": null,
            "object_position": null,
            "object_fit": null,
            "grid_auto_columns": null,
            "margin": null,
            "display": null,
            "left": null
          }
        },
        "0eaf3d94c49042f08896ab411b4e7cea": {
          "model_module": "@jupyter-widgets/controls",
          "model_name": "ButtonStyleModel",
          "state": {
            "_view_name": "StyleView",
            "_model_name": "ButtonStyleModel",
            "_view_module": "@jupyter-widgets/base",
            "_model_module_version": "1.5.0",
            "_view_count": null,
            "button_color": null,
            "font_weight": "",
            "_view_module_version": "1.2.0",
            "_model_module": "@jupyter-widgets/controls"
          }
        },
        "4e10117b95b445fb923edd7b25c2eff9": {
          "model_module": "@jupyter-widgets/base",
          "model_name": "LayoutModel",
          "state": {
            "_view_name": "LayoutView",
            "grid_template_rows": null,
            "right": null,
            "justify_content": null,
            "_view_module": "@jupyter-widgets/base",
            "overflow": null,
            "_model_module_version": "1.2.0",
            "_view_count": null,
            "flex_flow": null,
            "width": "40px",
            "min_width": null,
            "border": null,
            "align_items": null,
            "bottom": null,
            "_model_module": "@jupyter-widgets/base",
            "top": null,
            "grid_column": null,
            "overflow_y": null,
            "overflow_x": null,
            "grid_auto_flow": null,
            "grid_area": null,
            "grid_template_columns": null,
            "flex": null,
            "_model_name": "LayoutModel",
            "justify_items": null,
            "grid_row": null,
            "max_height": null,
            "align_content": null,
            "visibility": null,
            "align_self": null,
            "height": null,
            "min_height": null,
            "padding": null,
            "grid_auto_rows": null,
            "grid_gap": null,
            "max_width": null,
            "order": null,
            "_view_module_version": "1.2.0",
            "grid_template_areas": null,
            "object_position": null,
            "object_fit": null,
            "grid_auto_columns": null,
            "margin": null,
            "display": null,
            "left": null
          }
        },
        "cadcaae40cbc490bb48ef09c9a26264f": {
          "model_module": "@jupyter-widgets/controls",
          "model_name": "SliderStyleModel",
          "state": {
            "_view_name": "StyleView",
            "handle_color": null,
            "_model_name": "SliderStyleModel",
            "description_width": "",
            "_view_module": "@jupyter-widgets/base",
            "_model_module_version": "1.5.0",
            "_view_count": null,
            "_view_module_version": "1.2.0",
            "_model_module": "@jupyter-widgets/controls"
          }
        },
        "aa74c8549ca240bbad50bb643313d43d": {
          "model_module": "@jupyter-widgets/base",
          "model_name": "LayoutModel",
          "state": {
            "_view_name": "LayoutView",
            "grid_template_rows": null,
            "right": null,
            "justify_content": null,
            "_view_module": "@jupyter-widgets/base",
            "overflow": null,
            "_model_module_version": "1.2.0",
            "_view_count": null,
            "flex_flow": null,
            "width": null,
            "min_width": null,
            "border": null,
            "align_items": null,
            "bottom": null,
            "_model_module": "@jupyter-widgets/base",
            "top": null,
            "grid_column": null,
            "overflow_y": null,
            "overflow_x": null,
            "grid_auto_flow": null,
            "grid_area": null,
            "grid_template_columns": null,
            "flex": null,
            "_model_name": "LayoutModel",
            "justify_items": null,
            "grid_row": null,
            "max_height": null,
            "align_content": null,
            "visibility": null,
            "align_self": null,
            "height": null,
            "min_height": null,
            "padding": null,
            "grid_auto_rows": null,
            "grid_gap": null,
            "max_width": null,
            "order": null,
            "_view_module_version": "1.2.0",
            "grid_template_areas": null,
            "object_position": null,
            "object_fit": null,
            "grid_auto_columns": null,
            "margin": null,
            "display": null,
            "left": null
          }
        },
        "cc41ebcf028b4c2d9f6a23b4a78f41c2": {
          "model_module": "@jupyter-widgets/base",
          "model_name": "LayoutModel",
          "state": {
            "_view_name": "LayoutView",
            "grid_template_rows": null,
            "right": null,
            "justify_content": null,
            "_view_module": "@jupyter-widgets/base",
            "overflow": null,
            "_model_module_version": "1.2.0",
            "_view_count": null,
            "flex_flow": null,
            "width": null,
            "min_width": null,
            "border": null,
            "align_items": null,
            "bottom": null,
            "_model_module": "@jupyter-widgets/base",
            "top": null,
            "grid_column": null,
            "overflow_y": null,
            "overflow_x": null,
            "grid_auto_flow": null,
            "grid_area": null,
            "grid_template_columns": null,
            "flex": null,
            "_model_name": "LayoutModel",
            "justify_items": null,
            "grid_row": null,
            "max_height": null,
            "align_content": null,
            "visibility": null,
            "align_self": null,
            "height": null,
            "min_height": null,
            "padding": null,
            "grid_auto_rows": null,
            "grid_gap": null,
            "max_width": null,
            "order": null,
            "_view_module_version": "1.2.0",
            "grid_template_areas": null,
            "object_position": null,
            "object_fit": null,
            "grid_auto_columns": null,
            "margin": null,
            "display": null,
            "left": null
          }
        },
        "d52daf4c52a34a138e2446b1586bdfd7": {
          "model_module": "@jupyter-widgets/base",
          "model_name": "LayoutModel",
          "state": {
            "_view_name": "LayoutView",
            "grid_template_rows": null,
            "right": null,
            "justify_content": null,
            "_view_module": "@jupyter-widgets/base",
            "overflow": null,
            "_model_module_version": "1.2.0",
            "_view_count": null,
            "flex_flow": null,
            "width": null,
            "min_width": null,
            "border": null,
            "align_items": null,
            "bottom": null,
            "_model_module": "@jupyter-widgets/base",
            "top": null,
            "grid_column": null,
            "overflow_y": null,
            "overflow_x": null,
            "grid_auto_flow": null,
            "grid_area": null,
            "grid_template_columns": null,
            "flex": null,
            "_model_name": "LayoutModel",
            "justify_items": null,
            "grid_row": null,
            "max_height": null,
            "align_content": null,
            "visibility": null,
            "align_self": null,
            "height": null,
            "min_height": null,
            "padding": null,
            "grid_auto_rows": null,
            "grid_gap": null,
            "max_width": null,
            "order": null,
            "_view_module_version": "1.2.0",
            "grid_template_areas": null,
            "object_position": null,
            "object_fit": null,
            "grid_auto_columns": null,
            "margin": null,
            "display": null,
            "left": null
          }
        }
      }
    }
  },
  "cells": [
    {
      "cell_type": "markdown",
      "metadata": {
        "id": "UlA2Hx4HFTUO"
      },
      "source": [
        "# A Video that's likely helpful"
      ]
    },
    {
      "cell_type": "code",
      "metadata": {
        "run_control": {
          "frozen": false,
          "read_only": false
        },
        "id": "Z4TRkIzLFTUR",
        "outputId": "6a11d92c-d8bb-4d75-8998-d31147f85a87",
        "colab": {
          "base_uri": "https://localhost:8080/",
          "height": 320
        }
      },
      "source": [
        "# This is a potentially helpful video from long ago... watch it if you've not, before.\n",
        "from IPython.display import YouTubeVideo\n",
        "YouTubeVideo('xjFtLF95uBc')"
      ],
      "execution_count": 1,
      "outputs": [
        {
          "output_type": "execute_result",
          "data": {
            "text/html": [
              "\n",
              "        <iframe\n",
              "            width=\"400\"\n",
              "            height=\"300\"\n",
              "            src=\"https://www.youtube.com/embed/xjFtLF95uBc\"\n",
              "            frameborder=\"0\"\n",
              "            allowfullscreen\n",
              "        ></iframe>\n",
              "        "
            ],
            "text/plain": [
              "<IPython.lib.display.YouTubeVideo at 0x7f0b9c787860>"
            ],
            "image/jpeg": "[encoded data removed]"
          },
          "metadata": {
            "tags": []
          },
          "execution_count": 1
        }
      ]
    },
    {
      "cell_type": "markdown",
      "metadata": {
        "run_control": {
          "frozen": false,
          "read_only": false
        },
        "id": "Uu7JLCJvFTUg"
      },
      "source": [
        "# Asg-3 imports \n"
      ]
    },
    {
      "cell_type": "code",
      "metadata": {
        "run_control": {
          "frozen": false,
          "read_only": false
        },
        "scrolled": true,
        "id": "G6SpSK1HFTUm",
        "outputId": "e9687799-3097-4b9f-f19f-fd29775254de",
        "colab": {
          "base_uri": "https://localhost:8080/",
          "height": 1000
        }
      },
      "source": [
        "#~~~~~~~~~~~~~~~~~~~~~~~~~~~~~~~~~~~~~~~~~~~~~~~~~~~~~~~\n",
        "import sys\n",
        "\n",
        "# -- Detect if in Own Install or in Colab\n",
        "try:\n",
        "    import google.colab\n",
        "    OWN_INSTALL = False\n",
        "except:\n",
        "    OWN_INSTALL = True\n",
        "    \n",
        "if OWN_INSTALL:\n",
        "    \n",
        "  #---- Leave these definitions ON if running on laptop\n",
        "  #---- Else turn OFF by putting them between ''' ... '''\n",
        "\n",
        "  sys.path[0:0] = ['../../../../..',  '../../../../../3rdparty',  \n",
        "                   '../../../..',  '../../../../3rdparty',  \n",
        "                   '../../..',     '../../../3rdparty', \n",
        "                   '../..',        '../../3rdparty',\n",
        "                   '..',           '../3rdparty' ]\n",
        "\n",
        "else: # In colab\n",
        "  ! if [ ! -d Jove ]; then git clone https://github.com/ganeshutah/Jove Jove; fi\n",
        "  sys.path.append('./Jove')\n",
        "  sys.path.append('./Jove/jove')\n",
        "\n",
        "# -- common imports --\n",
        "from jove.DotBashers import *\n",
        "from jove.Def_md2mc  import *\n",
        "from jove.Def_NFA    import *\n",
        "from jove.Def_DFA    import *\n",
        "from jove.AnimateNFA import *\n",
        "#~~~~~~~~~~~~~~~~~~~~~~~~~~~~~~~~~~~~~~~~~~~~~~~~~~~~~~~"
      ],
      "execution_count": 2,
      "outputs": [
        {
          "output_type": "stream",
          "text": [
            "Cloning into 'Jove'...\n",
            "remote: Enumerating objects: 358, done.\u001b[K\n",
            "remote: Counting objects: 100% (358/358), done.\u001b[K\n",
            "remote: Compressing objects: 100% (239/239), done.\u001b[K\n",
            "remote: Total 3931 (delta 246), reused 223 (delta 113), pack-reused 3573\u001b[K\n",
            "Receiving objects: 100% (3931/3931), 6.85 MiB | 9.41 MiB/s, done.\n",
            "Resolving deltas: 100% (2545/2545), done.\n",
            "You may use any of these help commands:\n",
            "help(ResetStNum)\n",
            "help(NxtStateStr)\n",
            "\n",
            "You may use any of these help commands:\n",
            "help(md2mc)\n",
            ".. and if you want to dig more, then ..\n",
            "help(default_line_attr)\n",
            "help(length_ok_input_items)\n",
            "help(union_line_attr_list_fld)\n",
            "help(extend_rsltdict)\n",
            "help(form_delta)\n",
            "help(get_machine_components)\n",
            "\n",
            "You may use any of these help commands:\n",
            "help(mkp_dfa)\n",
            "help(mk_dfa)\n",
            "help(totalize_dfa)\n",
            "help(addtosigma_delta)\n",
            "help(step_dfa)\n",
            "help(run_dfa)\n",
            "help(accepts_dfa)\n",
            "help(comp_dfa)\n",
            "help(union_dfa)\n",
            "help(intersect_dfa)\n",
            "help(pruneUnreach)\n",
            "help(iso_dfa)\n",
            "help(langeq_dfa)\n",
            "help(same_status)\n",
            "help(h_langeq_dfa)\n",
            "help(fixptDist)\n",
            "help(min_dfa)\n",
            "help(pairFR)\n",
            "help(state_combos)\n",
            "help(sepFinNonFin)\n",
            "help(bash_eql_classes)\n",
            "help(listminus)\n",
            "help(bash_1)\n",
            "help(mk_rep_eqc)\n",
            "help(F_of)\n",
            "help(rep_of_s)\n",
            "help(q0_of)\n",
            "help(Delta_of)\n",
            "help(mk_state_eqc_name)\n",
            "\n",
            "You may use any of these help commands:\n",
            "help(mk_nfa)\n",
            "help(totalize_nfa)\n",
            "help(step_nfa)\n",
            "help(run_nfa)\n",
            "help(ec_step_nfa)\n",
            "help(Eclosure)\n",
            "help(Echelp)\n",
            "help(accepts_nfa)\n",
            "help(nfa2dfa)\n",
            "help(n2d)\n",
            "help(inSets)\n",
            "help(rev_dfa)\n",
            "help(min_dfa_brz)\n",
            "\n"
          ],
          "name": "stdout"
        }
      ]
    },
    {
      "cell_type": "markdown",
      "metadata": {
        "id": "XSjURZGOFTUx"
      },
      "source": [
        "# Problem 1a (SV): Design an NFA for $\\{0,1\\}^* 1 0$ (\"Ends 10\")\n",
        "\n",
        "## It will be a 3-state NFA, and name the states as I, S0, and F\n",
        "\n",
        "### Document each line of your Jove code with a short comment\n"
      ]
    },
    {
      "cell_type": "code",
      "metadata": {
        "id": "toXHvkNTFTUz",
        "outputId": "fa96997a-074d-430c-db74-5b595d9b8cb5",
        "colab": {
          "base_uri": "https://localhost:8080/",
          "height": 35
        }
      },
      "source": [
        "# SOLUTION\n",
        "\n",
        "nfaEnds10 = md2mc('''\n",
        "!!! A NFA that accepts strings of 0s and 1s ending in the sequence 10\n",
        "\n",
        "NFA \n",
        "\n",
        "I   : 0 -> I    !! Handles {0,1}*\n",
        "I   : 1 -> I    !! Handles {0,1}*\n",
        "I   : 1 -> S1   !! Handles {0,1}*1\n",
        "\n",
        "S1  : 0 -> F10  !! Handles {0,1}*10\n",
        "''')"
      ],
      "execution_count": 3,
      "outputs": [
        {
          "output_type": "stream",
          "text": [
            "Generating LALR tables\n"
          ],
          "name": "stderr"
        }
      ]
    },
    {
      "cell_type": "markdown",
      "metadata": {
        "id": "89DTrRdoFTU7"
      },
      "source": [
        "# Problem 1b (SV): Determine States in Animation\n",
        "\n",
        "Put the above NFA in animation, and note down the set of states attained\n",
        "after the DFA has seen every character in 10010. More detailed instructions follow."
      ]
    },
    {
      "cell_type": "markdown",
      "metadata": {
        "id": "kjipWQKQFTU9"
      },
      "source": [
        "## 1b(i): Execute the cell below and follow the bulleted instructions\n",
        "\n",
        "* When the animation pane comes up, type in 10010 and click Animate\n",
        "\n",
        "* Then click the \">|\" button, which is for single-stepping\n",
        "\n",
        "* Note down the results as you single-step, and fill answers in 1b(ii) below\n"
      ]
    },
    {
      "cell_type": "code",
      "metadata": {
        "scrolled": false,
        "id": "bB4_-5XWFTU_",
        "outputId": "19cf7368-fdaa-4bc1-b726-b06142ce6517",
        "colab": {
          "base_uri": "https://localhost:8080/",
          "height": 0,
          "referenced_widgets": [
            "01838e32d12a437ab9d8d88240bb56cf",
            "6a8b6738918a4e1cbbd97867d0f583dc",
            "3fd925ad6c5248d48428254f9e872b39",
            "497cd24238814f50b2dc45932f226298",
            "5231221e81b847e68f4da6eed99aae07",
            "79e4105dd2b4450382f8c11fd80f851b",
            "3a89577c99594690b4374dfb90b08888",
            "5ab296f8ef2348d8b561f784b3f067c1",
            "e8d174d81a3249499759845a2d743955",
            "68723327492447e9a8559a2759ea18a7",
            "816423f55db14085a51c49ce9ad0a77b",
            "20e422bb8c1a403d8562131e45ae0721",
            "2b9c4a620b3f449ca766acb33beecd3c",
            "6c1592b50b2f493eb91b5f80805539cb",
            "a87c56d0b90c4225859c0c91e94b33d2",
            "675e6d1be703498889008c72d0559e12",
            "ccb853d388d345ee9a046bcb9046f4b8",
            "2ed9f23517f94f50a61c4ab3c0d8fbcb",
            "72dbe4eb94024b6e96cfc19d790451b2",
            "3d28c7c74c9b4d6ebcf35b9e95dfee2d",
            "1b6a460bf1214df39bc940c7a2e75c3c",
            "d94d365a21024af0a659bf99cd231a08",
            "0eaf3d94c49042f08896ab411b4e7cea",
            "4e10117b95b445fb923edd7b25c2eff9",
            "cadcaae40cbc490bb48ef09c9a26264f",
            "aa74c8549ca240bbad50bb643313d43d",
            "cc41ebcf028b4c2d9f6a23b4a78f41c2",
            "d52daf4c52a34a138e2446b1586bdfd7"
          ]
        }
      },
      "source": [
        "AnimateNFA(nfaEnds10, FuseEdges=False)\n",
        "display(HTML('<link rel=\\\"stylesheet\\\" href=\\\"//stackpath.bootstrapcdn.com/font-awesome/4.7.0/css/font-awesome.min.css\\\"/>'))"
      ],
      "execution_count": 4,
      "outputs": [
        {
          "output_type": "display_data",
          "data": {
            "application/vnd.jupyter.widget-view+json": {
              "model_id": "01838e32d12a437ab9d8d88240bb56cf",
              "version_minor": 0,
              "version_major": 2
            },
            "text/plain": [
              "VBox(children=(HBox(children=(Text(value='', description='Input:', layout=Layout(width='500px'), placeholder='…"
            ]
          },
          "metadata": {
            "tags": []
          }
        },
        {
          "output_type": "display_data",
          "data": {
            "text/html": [
              "<link rel=\"stylesheet\" href=\"//stackpath.bootstrapcdn.com/font-awesome/4.7.0/css/font-awesome.min.css\"/>"
            ],
            "text/plain": [
              "<IPython.core.display.HTML object>"
            ]
          },
          "metadata": {
            "tags": []
          }
        }
      ]
    },
    {
      "cell_type": "markdown",
      "metadata": {
        "id": "KRUX39fAFTVG"
      },
      "source": [
        "## 1b(ii) : Provide these answers based on single-stepping the animation (please provide it as a SET OF STATES - else we won't give you any points). \n",
        "\n",
        "## Also say whether a token dropped out of the diagram (with the move on a symbol being undefined) and whether the state reached is final. \n",
        "\n",
        "### SET of states before consuming any of 10010 = $\\{I\\}$ . \n",
        "#### NONE OF THESE\n",
        "\n",
        "### SET of states AFTER consuming \"1\" and before consuming \"0010\"  = $\\{I, S1\\}$\n",
        "#### NONE OF THESE\n",
        "\n",
        "### SET of states AFTER consuming \"10\" and before consuming \"010\"  = $\\{I, F10\\}$\n",
        "#### The SET of states reached is FINAL\n",
        "\n",
        "### SET of states AFTER consuming \"100\" and before consuming \"10\"  = $\\{I\\}$\n",
        "#### A Token Dropped Out\n",
        "\n",
        "### SET of states AFTER consuming \"1001\" and before consuming \"0\"  = $\\{I, S1\\}$\n",
        "#### NONE OF THESE\n",
        "\n",
        "### SET of states AFTER consuming \"10010\" entirely  = $\\{I, F10\\}$\n",
        "####  The SET of states reached is FINAL"
      ]
    },
    {
      "cell_type": "markdown",
      "metadata": {
        "id": "LX3t4TS3FTVJ"
      },
      "source": [
        "# Problem 1c (SV): Convert the NFA to a DFA and answer\n",
        "\n",
        "Convert the NFA to a DFA by the command below, and answer 1c's question below"
      ]
    },
    {
      "cell_type": "code",
      "metadata": {
        "id": "mwwLKRrkFTVL",
        "outputId": "30f695dd-0525-4eb2-86ac-507b7a8c8ccd",
        "colab": {
          "base_uri": "https://localhost:8080/",
          "height": 202
        }
      },
      "source": [
        "dotObj_dfa(nfa2dfa(nfaEnds10, STATENAME_MAXSIZE=50), STATENAME_MAXSIZE=50)"
      ],
      "execution_count": 5,
      "outputs": [
        {
          "output_type": "execute_result",
          "data": {
            "text/plain": [
              "<graphviz.dot.Digraph at 0x7f0b9b445080>"
            ],
            "image/svg+xml": "<?xml version=\"1.0\" encoding=\"UTF-8\" standalone=\"no\"?>\n<!DOCTYPE svg PUBLIC \"-//W3C//DTD SVG 1.1//EN\"\n \"http://www.w3.org/Graphics/SVG/1.1/DTD/svg11.dtd\">\n<!-- Generated by graphviz version 2.40.1 (20161225.0304)\n -->\n<!-- Title: %3 Pages: 1 -->\n<svg width=\"364pt\" height=\"136pt\"\n viewBox=\"0.00 0.00 363.79 136.39\" xmlns=\"http://www.w3.org/2000/svg\" xmlns:xlink=\"http://www.w3.org/1999/xlink\">\n<g id=\"graph0\" class=\"graph\" transform=\"scale(1 1) rotate(0) translate(4 132.3945)\">\n<title>%3</title>\n<polygon fill=\"#ffffff\" stroke=\"transparent\" points=\"-4,4 -4,-132.3945 359.7889,-132.3945 359.7889,4 -4,4\"/>\n<!-- EMPTY -->\n<g id=\"node1\" class=\"node\">\n<title>EMPTY</title>\n</g>\n<!-- I -->\n<g id=\"node2\" class=\"node\">\n<title>I</title>\n<ellipse fill=\"none\" stroke=\"#000000\" cx=\"109\" cy=\"-20.797\" rx=\"18\" ry=\"18\"/>\n<text text-anchor=\"middle\" x=\"109\" y=\"-17.097\" font-family=\"Times,serif\" font-size=\"14.00\" fill=\"#000000\">I</text>\n</g>\n<!-- EMPTY&#45;&gt;I -->\n<g id=\"edge1\" class=\"edge\">\n<title>EMPTY&#45;&gt;I</title>\n<path fill=\"none\" stroke=\"#000000\" d=\"M54.3048,-20.797C62.6909,-20.797 71.9407,-20.797 80.4103,-20.797\"/>\n<polygon fill=\"#000000\" stroke=\"#000000\" points=\"80.5976,-24.2971 90.5976,-20.797 80.5976,-17.2971 80.5976,-24.2971\"/>\n</g>\n<!-- I&#45;&gt;I -->\n<g id=\"edge3\" class=\"edge\">\n<title>I&#45;&gt;I</title>\n<path fill=\"none\" stroke=\"#000000\" d=\"M102.6208,-37.8343C101.3189,-47.6549 103.4453,-56.797 109,-56.797 112.4717,-56.797 114.6042,-53.2259 115.3975,-48.1499\"/>\n<polygon fill=\"#000000\" stroke=\"#000000\" points=\"118.8971,-47.828 115.3792,-37.8343 111.8971,-47.8405 118.8971,-47.828\"/>\n<text text-anchor=\"middle\" x=\"109\" y=\"-60.597\" font-family=\"Times,serif\" font-size=\"14.00\" fill=\"#000000\">0 </text>\n</g>\n<!-- I_S1 -->\n<g id=\"node3\" class=\"node\">\n<title>I_S1</title>\n<ellipse fill=\"none\" stroke=\"#000000\" cx=\"203.5975\" cy=\"-66.797\" rx=\"28.6953\" ry=\"28.6953\"/>\n<text text-anchor=\"middle\" x=\"203.5975\" y=\"-63.097\" font-family=\"Times,serif\" font-size=\"14.00\" fill=\"#000000\">I_S1</text>\n</g>\n<!-- I&#45;&gt;I_S1 -->\n<g id=\"edge2\" class=\"edge\">\n<title>I&#45;&gt;I_S1</title>\n<path fill=\"none\" stroke=\"#000000\" d=\"M125.4776,-28.8096C137.2888,-34.553 153.6416,-42.5049 168.3345,-49.6497\"/>\n<polygon fill=\"#000000\" stroke=\"#000000\" points=\"167.162,-52.9713 177.6857,-54.1969 170.2232,-46.6762 167.162,-52.9713\"/>\n<text text-anchor=\"middle\" x=\"151\" y=\"-47.597\" font-family=\"Times,serif\" font-size=\"14.00\" fill=\"#000000\">1 </text>\n</g>\n<!-- I_S1&#45;&gt;I_S1 -->\n<g id=\"edge4\" class=\"edge\">\n<title>I_S1&#45;&gt;I_S1</title>\n<path fill=\"none\" stroke=\"#000000\" d=\"M193.8855,-94.0789C193.4539,-104.6271 196.6912,-113.3945 203.5975,-113.3945 208.0218,-113.3945 210.9404,-109.7963 212.3532,-104.4369\"/>\n<polygon fill=\"#000000\" stroke=\"#000000\" points=\"215.8753,-104.3583 213.3094,-94.0789 208.9049,-103.7148 215.8753,-104.3583\"/>\n<text text-anchor=\"middle\" x=\"203.5975\" y=\"-117.1945\" font-family=\"Times,serif\" font-size=\"14.00\" fill=\"#000000\">1 </text>\n</g>\n<!-- F10_I -->\n<g id=\"node4\" class=\"node\">\n<title>F10_I</title>\n<ellipse fill=\"none\" stroke=\"#000000\" cx=\"317.9919\" cy=\"-37.797\" rx=\"33.6165\" ry=\"33.6165\"/>\n<ellipse fill=\"none\" stroke=\"#000000\" cx=\"317.9919\" cy=\"-37.797\" rx=\"37.5951\" ry=\"37.5951\"/>\n<text text-anchor=\"middle\" x=\"317.9919\" y=\"-34.097\" font-family=\"Times,serif\" font-size=\"14.00\" fill=\"#000000\">F10_I</text>\n</g>\n<!-- I_S1&#45;&gt;F10_I -->\n<g id=\"edge5\" class=\"edge\">\n<title>I_S1&#45;&gt;F10_I</title>\n<path fill=\"none\" stroke=\"#000000\" d=\"M231.6972,-60.9272C241.3903,-58.806 252.2972,-56.3115 262.1949,-53.797 265.3204,-53.003 268.5363,-52.1574 271.7713,-51.2857\"/>\n<polygon fill=\"#000000\" stroke=\"#000000\" points=\"272.7498,-54.6466 281.4617,-48.6171 270.8913,-47.8978 272.7498,-54.6466\"/>\n<text text-anchor=\"middle\" x=\"256.1949\" y=\"-60.597\" font-family=\"Times,serif\" font-size=\"14.00\" fill=\"#000000\">0 </text>\n</g>\n<!-- F10_I&#45;&gt;I -->\n<g id=\"edge7\" class=\"edge\">\n<title>F10_I&#45;&gt;I</title>\n<path fill=\"none\" stroke=\"#000000\" d=\"M282.1339,-25.4121C266.9309,-20.7803 248.8975,-16.0891 232.1949,-13.797 207.011,-10.341 200.3845,-12.4546 175,-13.797 162.4903,-14.4585 148.7024,-15.8207 136.9782,-17.169\"/>\n<polygon fill=\"#000000\" stroke=\"#000000\" points=\"136.3975,-13.7136 126.8871,-18.383 137.2336,-20.6635 136.3975,-13.7136\"/>\n<text text-anchor=\"middle\" x=\"203.5975\" y=\"-17.597\" font-family=\"Times,serif\" font-size=\"14.00\" fill=\"#000000\">0 </text>\n</g>\n<!-- F10_I&#45;&gt;I_S1 -->\n<g id=\"edge6\" class=\"edge\">\n<title>F10_I&#45;&gt;I_S1</title>\n<path fill=\"none\" stroke=\"#000000\" d=\"M280.4571,-31.5968C270.447,-31.1627 259.7596,-31.8291 250.1949,-34.797 244.5507,-36.5484 238.9835,-39.2465 233.7693,-42.349\"/>\n<polygon fill=\"#000000\" stroke=\"#000000\" points=\"231.817,-39.4439 225.3764,-47.8564 235.6573,-45.2964 231.817,-39.4439\"/>\n<text text-anchor=\"middle\" x=\"256.1949\" y=\"-38.597\" font-family=\"Times,serif\" font-size=\"14.00\" fill=\"#000000\">1 </text>\n</g>\n</g>\n</svg>\n"
          },
          "metadata": {
            "tags": []
          },
          "execution_count": 5
        }
      ]
    },
    {
      "cell_type": "markdown",
      "metadata": {
        "id": "X_HavSJnFTVS"
      },
      "source": [
        "#### 1c's question-1: State DFA is in after 10010 = F10_I.\n",
        "\n",
        "The DFA transitions from I to I_S1 to F10_I to I to I_S1 to F10_I meaning the DFA is in the F10_I state after 10010.\n",
        "\n",
        "#### 1c's question-2: Set of states NFA is in after 10010 (last ans of 1b(ii) ) = $\\{I, F10\\}$.\n",
        "\n",
        "The NFA accepts 10010, so it will be in a final state after 10010, the I state lingers to process a protentially longer string.\n",
        "\n",
        "#### Do the above match? Recall that for an NFA set of states (A,B), a DFA state may be named A_B or B_A. We use \"match\" in this sense.\n",
        "\n",
        "The states of the DFA and NFA match since the DFA is in the F10_I state and the NFA is in the $\\{I, F10\\}$ state.\n",
        "\n",
        "#### Reason that the above should match? Please provide a sentence stating when a DFA accepts and when an NFA accepts in terms of its tokens being in many states that includes a final state.\n",
        "\n",
        "A NFA accepts a string when it's set of current states contains a final state after processing the last token. A DFA accepts a string when it's current state is final after processing the last token. Since both the DFA and the NFA are in the same final state and the NFA is also in the inital state they should match."
      ]
    },
    {
      "cell_type": "markdown",
      "metadata": {
        "id": "weYjgHQQFTVT"
      },
      "source": [
        "# Problem 2 (XL): Design an NFA for $\\{\\varepsilon, 0\\}$ \n",
        "### It will be a 2-state NFA with an IF state and a final state (call that final state \"F2\" )"
      ]
    },
    {
      "cell_type": "code",
      "metadata": {
        "id": "GwrumITFFTVU"
      },
      "source": [
        "nfaEps0 = md2mc('''\n",
        "NFA \n",
        " \n",
        "IF: 0 -> F2\n",
        "\n",
        "''')"
      ],
      "execution_count": 6,
      "outputs": []
    },
    {
      "cell_type": "code",
      "metadata": {
        "id": "9U3NrIqLFTVZ",
        "outputId": "4ab14629-8b64-4fb9-8d6f-1a9885f40acf",
        "colab": {
          "base_uri": "https://localhost:8080/",
          "height": 98
        }
      },
      "source": [
        "dotObj_nfa(nfaEps0)"
      ],
      "execution_count": 7,
      "outputs": [
        {
          "output_type": "execute_result",
          "data": {
            "text/plain": [
              "<graphviz.dot.Digraph at 0x7f0b9b4410f0>"
            ],
            "image/svg+xml": "<?xml version=\"1.0\" encoding=\"UTF-8\" standalone=\"no\"?>\n<!DOCTYPE svg PUBLIC \"-//W3C//DTD SVG 1.1//EN\"\n \"http://www.w3.org/Graphics/SVG/1.1/DTD/svg11.dtd\">\n<!-- Generated by graphviz version 2.40.1 (20161225.0304)\n -->\n<!-- Title: %3 Pages: 1 -->\n<svg width=\"242pt\" height=\"58pt\"\n viewBox=\"0.00 0.00 242.29 57.60\" xmlns=\"http://www.w3.org/2000/svg\" xmlns:xlink=\"http://www.w3.org/1999/xlink\">\n<g id=\"graph0\" class=\"graph\" transform=\"scale(1 1) rotate(0) translate(4 53.5963)\">\n<title>%3</title>\n<polygon fill=\"#ffffff\" stroke=\"transparent\" points=\"-4,4 -4,-53.5963 238.293,-53.5963 238.293,4 -4,4\"/>\n<!-- EMPTY -->\n<g id=\"node1\" class=\"node\">\n<title>EMPTY</title>\n</g>\n<!-- IF -->\n<g id=\"node3\" class=\"node\">\n<title>IF</title>\n<ellipse fill=\"none\" stroke=\"#000000\" cx=\"113.8483\" cy=\"-24.7982\" rx=\"18.724\" ry=\"18.724\"/>\n<ellipse fill=\"none\" stroke=\"#000000\" cx=\"113.8483\" cy=\"-24.7982\" rx=\"22.6977\" ry=\"22.6977\"/>\n<text text-anchor=\"middle\" x=\"113.8483\" y=\"-21.0982\" font-family=\"Times,serif\" font-size=\"14.00\" fill=\"#000000\">IF</text>\n</g>\n<!-- EMPTY&#45;&gt;IF -->\n<g id=\"edge1\" class=\"edge\">\n<title>EMPTY&#45;&gt;IF</title>\n<path fill=\"none\" stroke=\"#000000\" d=\"M54.0033,-24.7982C62.5212,-24.7982 72.0276,-24.7982 80.9112,-24.7982\"/>\n<polygon fill=\"#000000\" stroke=\"#000000\" points=\"80.9572,-28.2983 90.9572,-24.7982 80.9572,-21.2983 80.9572,-28.2983\"/>\n</g>\n<!-- F2 -->\n<g id=\"node2\" class=\"node\">\n<title>F2</title>\n<ellipse fill=\"none\" stroke=\"#000000\" cx=\"209.4948\" cy=\"-24.7982\" rx=\"20.6302\" ry=\"20.6302\"/>\n<ellipse fill=\"none\" stroke=\"#000000\" cx=\"209.4948\" cy=\"-24.7982\" rx=\"24.5979\" ry=\"24.5979\"/>\n<text text-anchor=\"middle\" x=\"209.4948\" y=\"-21.0982\" font-family=\"Times,serif\" font-size=\"14.00\" fill=\"#000000\">F2</text>\n</g>\n<!-- IF&#45;&gt;F2 -->\n<g id=\"edge2\" class=\"edge\">\n<title>IF&#45;&gt;F2</title>\n<path fill=\"none\" stroke=\"#000000\" d=\"M137.0017,-24.7982C148.2318,-24.7982 161.9613,-24.7982 174.4394,-24.7982\"/>\n<polygon fill=\"#000000\" stroke=\"#000000\" points=\"174.5444,-28.2983 184.5444,-24.7982 174.5443,-21.2983 174.5444,-28.2983\"/>\n<text text-anchor=\"middle\" x=\"160.6967\" y=\"-28.5982\" font-family=\"Times,serif\" font-size=\"14.00\" fill=\"#000000\">0 </text>\n</g>\n</g>\n</svg>\n"
          },
          "metadata": {
            "tags": []
          },
          "execution_count": 7
        }
      ]
    },
    {
      "cell_type": "markdown",
      "metadata": {
        "id": "TigYf2ldFTVg"
      },
      "source": [
        "# A tutorial on Concatenating NFA\n",
        "\n",
        "Watch this video, then do Xinyi Li's question.\n",
        "\n",
        "To watch the video separately in Youtube in large size, \n",
        "visit https://youtu.be/VWyOT1uYfIc\n",
        "\n",
        "Otherwise just run the command below!"
      ]
    },
    {
      "cell_type": "code",
      "metadata": {
        "id": "4bVXFt6OFTVg",
        "outputId": "6ad2d890-2bca-490c-ec14-788e5e89f7d7",
        "colab": {
          "base_uri": "https://localhost:8080/",
          "height": 320
        }
      },
      "source": [
        "# NFA Concatenation\n",
        "from IPython.display import YouTubeVideo\n",
        "YouTubeVideo('VWyOT1uYfIc')"
      ],
      "execution_count": 8,
      "outputs": [
        {
          "output_type": "execute_result",
          "data": {
            "text/html": [
              "\n",
              "        <iframe\n",
              "            width=\"400\"\n",
              "            height=\"300\"\n",
              "            src=\"https://www.youtube.com/embed/VWyOT1uYfIc\"\n",
              "            frameborder=\"0\"\n",
              "            allowfullscreen\n",
              "        ></iframe>\n",
              "        "
            ],
            "text/plain": [
              "<IPython.lib.display.YouTubeVideo at 0x7f0b9b441c50>"
            ],
            "image/jpeg": "[encoded data removed]"
          },
          "metadata": {
            "tags": []
          },
          "execution_count": 8
        }
      ]
    },
    {
      "cell_type": "markdown",
      "metadata": {
        "id": "5w9UQUY6FTVm"
      },
      "source": [
        "# Problem 2a (XL): Develop a Concatenation NFA\n",
        "\n",
        "## Concatenate nfaEnds10 and nfaEps0 to obtain NFAEnds10Eps0\n",
        "\n",
        "### Follow the steps in the above video.\n",
        "\n",
        "### Describe the steps in a few bullets below, then finish the notebook code cell that defines NFAEnds10Eps0 below where space is provided for your work\n"
      ]
    },
    {
      "cell_type": "markdown",
      "metadata": {
        "id": "ltC7NPLpFTVo"
      },
      "source": [
        "# Problem 2b (XL): Show the full Concatenation NFA below\n"
      ]
    },
    {
      "cell_type": "code",
      "metadata": {
        "run_control": {
          "frozen": false,
          "read_only": false
        },
        "id": "vvh1fj7TFTVq"
      },
      "source": [
        "# Here is the resulting NFA\n",
        "\n",
        "NFAEnds10Eps0 = md2mc('''\n",
        "NFA \n",
        "\n",
        "!!---- Put NFA 1's transitions below, \n",
        "!!----  after suitably renaming states to make final states non-final etc.\n",
        " \n",
        "I   : 0 -> I    !! Handles {0,1}*\n",
        "I   : 1 -> I    !! Handles {0,1}*\n",
        "I   : 1 -> A1   !! Handles {0,1}*1\n",
        "\n",
        "A1  : 0 -> T1  !! Handles {0,1}*10\n",
        "\n",
        "!!--- put the \"bridge\" transition below\n",
        " \n",
        "T1  : '' -> F3\n",
        "\n",
        "!!--- put NFA 2's transitions below, again after suitable state renamings as above\n",
        "\n",
        "F3  : 0 -> F2\n",
        "''')"
      ],
      "execution_count": 9,
      "outputs": []
    },
    {
      "cell_type": "markdown",
      "metadata": {
        "id": "2SpZbS7oFTVw"
      },
      "source": [
        "## Problem 2b (XL): Draw the concat NFA and convert to a DFA\n",
        "\n",
        "... Run the THREE commands below, and then move on to answer LT's question \n",
        "... based on the results you observe from these commands\n"
      ]
    },
    {
      "cell_type": "code",
      "metadata": {
        "id": "aIm05ASHFTVy",
        "outputId": "75f74aee-6283-447c-e854-2269fc47f622",
        "colab": {
          "base_uri": "https://localhost:8080/",
          "height": 176
        }
      },
      "source": [
        "# command-1\n",
        "dotObj_nfa(NFAEnds10Eps0)"
      ],
      "execution_count": 10,
      "outputs": [
        {
          "output_type": "execute_result",
          "data": {
            "text/plain": [
              "<graphviz.dot.Digraph at 0x7f0b9bf6b780>"
            ],
            "image/svg+xml": "<?xml version=\"1.0\" encoding=\"UTF-8\" standalone=\"no\"?>\n<!DOCTYPE svg PUBLIC \"-//W3C//DTD SVG 1.1//EN\"\n \"http://www.w3.org/Graphics/SVG/1.1/DTD/svg11.dtd\">\n<!-- Generated by graphviz version 2.40.1 (20161225.0304)\n -->\n<!-- Title: %3 Pages: 1 -->\n<svg width=\"512pt\" height=\"117pt\"\n viewBox=\"0.00 0.00 511.58 116.80\" xmlns=\"http://www.w3.org/2000/svg\" xmlns:xlink=\"http://www.w3.org/1999/xlink\">\n<g id=\"graph0\" class=\"graph\" transform=\"scale(1 1) rotate(0) translate(4 112.7982)\">\n<title>%3</title>\n<polygon fill=\"#ffffff\" stroke=\"transparent\" points=\"-4,4 -4,-112.7982 507.5848,-112.7982 507.5848,4 -4,4\"/>\n<!-- EMPTY -->\n<g id=\"node1\" class=\"node\">\n<title>EMPTY</title>\n</g>\n<!-- I -->\n<g id=\"node3\" class=\"node\">\n<title>I</title>\n<ellipse fill=\"none\" stroke=\"#000000\" cx=\"109\" cy=\"-24.7982\" rx=\"18\" ry=\"18\"/>\n<text text-anchor=\"middle\" x=\"109\" y=\"-21.0982\" font-family=\"Times,serif\" font-size=\"14.00\" fill=\"#000000\">I</text>\n</g>\n<!-- EMPTY&#45;&gt;I -->\n<g id=\"edge1\" class=\"edge\">\n<title>EMPTY&#45;&gt;I</title>\n<path fill=\"none\" stroke=\"#000000\" d=\"M54.3048,-24.7982C62.6909,-24.7982 71.9407,-24.7982 80.4103,-24.7982\"/>\n<polygon fill=\"#000000\" stroke=\"#000000\" points=\"80.5976,-28.2983 90.5976,-24.7982 80.5976,-21.2983 80.5976,-28.2983\"/>\n</g>\n<!-- A1 -->\n<g id=\"node2\" class=\"node\">\n<title>A1</title>\n<ellipse fill=\"none\" stroke=\"#000000\" cx=\"197.748\" cy=\"-24.7982\" rx=\"22.9987\" ry=\"22.9987\"/>\n<text text-anchor=\"middle\" x=\"197.748\" y=\"-21.0982\" font-family=\"Times,serif\" font-size=\"14.00\" fill=\"#000000\">A1</text>\n</g>\n<!-- T1 -->\n<g id=\"node4\" class=\"node\">\n<title>T1</title>\n<ellipse fill=\"none\" stroke=\"#000000\" cx=\"289.9441\" cy=\"-24.7982\" rx=\"21.3963\" ry=\"21.3963\"/>\n<text text-anchor=\"middle\" x=\"289.9441\" y=\"-21.0982\" font-family=\"Times,serif\" font-size=\"14.00\" fill=\"#000000\">T1</text>\n</g>\n<!-- A1&#45;&gt;T1 -->\n<g id=\"edge5\" class=\"edge\">\n<title>A1&#45;&gt;T1</title>\n<path fill=\"none\" stroke=\"#000000\" d=\"M220.538,-24.7982C231.8386,-24.7982 245.675,-24.7982 258.0121,-24.7982\"/>\n<polygon fill=\"#000000\" stroke=\"#000000\" points=\"258.3664,-28.2983 268.3664,-24.7982 258.3663,-21.2983 258.3664,-28.2983\"/>\n<text text-anchor=\"middle\" x=\"244.496\" y=\"-28.5982\" font-family=\"Times,serif\" font-size=\"14.00\" fill=\"#000000\">0 </text>\n</g>\n<!-- I&#45;&gt;A1 -->\n<g id=\"edge4\" class=\"edge\">\n<title>I&#45;&gt;A1</title>\n<path fill=\"none\" stroke=\"#000000\" d=\"M127.3886,-24.7982C138.1775,-24.7982 152.1307,-24.7982 164.7631,-24.7982\"/>\n<polygon fill=\"#000000\" stroke=\"#000000\" points=\"164.9653,-28.2983 174.9652,-24.7982 164.9652,-21.2983 164.9653,-28.2983\"/>\n<text text-anchor=\"middle\" x=\"151\" y=\"-28.5982\" font-family=\"Times,serif\" font-size=\"14.00\" fill=\"#000000\">1 </text>\n</g>\n<!-- I&#45;&gt;I -->\n<g id=\"edge2\" class=\"edge\">\n<title>I&#45;&gt;I</title>\n<path fill=\"none\" stroke=\"#000000\" d=\"M105.7643,-42.5799C105.2144,-52.1131 106.293,-60.7982 109,-60.7982 110.6496,-60.7982 111.6945,-57.5731 112.1347,-52.8962\"/>\n<polygon fill=\"#000000\" stroke=\"#000000\" points=\"115.6375,-52.6137 112.2357,-42.5799 108.6379,-52.5451 115.6375,-52.6137\"/>\n<text text-anchor=\"middle\" x=\"109\" y=\"-64.5982\" font-family=\"Times,serif\" font-size=\"14.00\" fill=\"#000000\">0 </text>\n</g>\n<!-- I&#45;&gt;I -->\n<g id=\"edge3\" class=\"edge\">\n<title>I&#45;&gt;I</title>\n<path fill=\"none\" stroke=\"#000000\" d=\"M103.6841,-42.2184C100.6538,-59.5891 102.4258,-78.7982 109,-78.7982 114.2902,-78.7982 116.4708,-66.3599 115.5419,-52.4501\"/>\n<polygon fill=\"#000000\" stroke=\"#000000\" points=\"118.9808,-51.731 114.3159,-42.2184 112.0305,-52.5638 118.9808,-51.731\"/>\n<text text-anchor=\"middle\" x=\"109\" y=\"-82.5982\" font-family=\"Times,serif\" font-size=\"14.00\" fill=\"#000000\">1 </text>\n</g>\n<!-- F3 -->\n<g id=\"node6\" class=\"node\">\n<title>F3</title>\n<ellipse fill=\"none\" stroke=\"#000000\" cx=\"381.1903\" cy=\"-24.7982\" rx=\"20.6302\" ry=\"20.6302\"/>\n<ellipse fill=\"none\" stroke=\"#000000\" cx=\"381.1903\" cy=\"-24.7982\" rx=\"24.5979\" ry=\"24.5979\"/>\n<text text-anchor=\"middle\" x=\"381.1903\" y=\"-21.0982\" font-family=\"Times,serif\" font-size=\"14.00\" fill=\"#000000\">F3</text>\n</g>\n<!-- T1&#45;&gt;F3 -->\n<g id=\"edge6\" class=\"edge\">\n<title>T1&#45;&gt;F3</title>\n<path fill=\"none\" stroke=\"#000000\" d=\"M311.5681,-24.7982C321.8168,-24.7982 334.3241,-24.7982 345.8958,-24.7982\"/>\n<polygon fill=\"#000000\" stroke=\"#000000\" points=\"346.1683,-28.2983 356.1683,-24.7982 346.1682,-21.2983 346.1683,-28.2983\"/>\n<text text-anchor=\"middle\" x=\"333.8922\" y=\"-28.5982\" font-family=\"Times,serif\" font-size=\"14.00\" fill=\"#000000\">&#39;&#39; </text>\n</g>\n<!-- F2 -->\n<g id=\"node5\" class=\"node\">\n<title>F2</title>\n<ellipse fill=\"none\" stroke=\"#000000\" cx=\"478.7866\" cy=\"-24.7982\" rx=\"20.6302\" ry=\"20.6302\"/>\n<ellipse fill=\"none\" stroke=\"#000000\" cx=\"478.7866\" cy=\"-24.7982\" rx=\"24.5979\" ry=\"24.5979\"/>\n<text text-anchor=\"middle\" x=\"478.7866\" y=\"-21.0982\" font-family=\"Times,serif\" font-size=\"14.00\" fill=\"#000000\">F2</text>\n</g>\n<!-- F3&#45;&gt;F2 -->\n<g id=\"edge7\" class=\"edge\">\n<title>F3&#45;&gt;F2</title>\n<path fill=\"none\" stroke=\"#000000\" d=\"M406.0705,-24.7982C417.542,-24.7982 431.3565,-24.7982 443.8492,-24.7982\"/>\n<polygon fill=\"#000000\" stroke=\"#000000\" points=\"443.9519,-28.2983 453.9519,-24.7982 443.9518,-21.2983 443.9519,-28.2983\"/>\n<text text-anchor=\"middle\" x=\"429.9885\" y=\"-28.5982\" font-family=\"Times,serif\" font-size=\"14.00\" fill=\"#000000\">0 </text>\n</g>\n</g>\n</svg>\n"
          },
          "metadata": {
            "tags": []
          },
          "execution_count": 10
        }
      ]
    },
    {
      "cell_type": "code",
      "metadata": {
        "id": "2RY_PBgPFTV4",
        "outputId": "d45a86fd-1db5-4f34-b189-4f4432066abf",
        "colab": {
          "base_uri": "https://localhost:8080/",
          "height": 267
        }
      },
      "source": [
        "# command-2\n",
        "\n",
        "dotObj_dfa(nfa2dfa(NFAEnds10Eps0, STATENAME_MAXSIZE=50), STATENAME_MAXSIZE=50)"
      ],
      "execution_count": 11,
      "outputs": [
        {
          "output_type": "execute_result",
          "data": {
            "text/plain": [
              "<graphviz.dot.Digraph at 0x7f0b9b037080>"
            ],
            "image/svg+xml": "<?xml version=\"1.0\" encoding=\"UTF-8\" standalone=\"no\"?>\n<!DOCTYPE svg PUBLIC \"-//W3C//DTD SVG 1.1//EN\"\n \"http://www.w3.org/Graphics/SVG/1.1/DTD/svg11.dtd\">\n<!-- Generated by graphviz version 2.40.1 (20161225.0304)\n -->\n<!-- Title: %3 Pages: 1 -->\n<svg width=\"502pt\" height=\"185pt\"\n viewBox=\"0.00 0.00 501.68 185.20\" xmlns=\"http://www.w3.org/2000/svg\" xmlns:xlink=\"http://www.w3.org/1999/xlink\">\n<g id=\"graph0\" class=\"graph\" transform=\"scale(1 1) rotate(0) translate(4 181.1961)\">\n<title>%3</title>\n<polygon fill=\"#ffffff\" stroke=\"transparent\" points=\"-4,4 -4,-181.1961 497.6817,-181.1961 497.6817,4 -4,4\"/>\n<!-- EMPTY -->\n<g id=\"node1\" class=\"node\">\n<title>EMPTY</title>\n</g>\n<!-- I -->\n<g id=\"node2\" class=\"node\">\n<title>I</title>\n<ellipse fill=\"none\" stroke=\"#000000\" cx=\"109\" cy=\"-18\" rx=\"18\" ry=\"18\"/>\n<text text-anchor=\"middle\" x=\"109\" y=\"-14.3\" font-family=\"Times,serif\" font-size=\"14.00\" fill=\"#000000\">I</text>\n</g>\n<!-- EMPTY&#45;&gt;I -->\n<g id=\"edge1\" class=\"edge\">\n<title>EMPTY&#45;&gt;I</title>\n<path fill=\"none\" stroke=\"#000000\" d=\"M54.3048,-18C62.6909,-18 71.9407,-18 80.4103,-18\"/>\n<polygon fill=\"#000000\" stroke=\"#000000\" points=\"80.5976,-21.5001 90.5976,-18 80.5976,-14.5001 80.5976,-21.5001\"/>\n</g>\n<!-- I&#45;&gt;I -->\n<g id=\"edge3\" class=\"edge\">\n<title>I&#45;&gt;I</title>\n<path fill=\"none\" stroke=\"#000000\" d=\"M102.6208,-35.0373C101.3189,-44.8579 103.4453,-54 109,-54 112.4717,-54 114.6042,-50.4289 115.3975,-45.3529\"/>\n<polygon fill=\"#000000\" stroke=\"#000000\" points=\"118.8971,-45.031 115.3792,-35.0373 111.8971,-45.0435 118.8971,-45.031\"/>\n<text text-anchor=\"middle\" x=\"109\" y=\"-57.8\" font-family=\"Times,serif\" font-size=\"14.00\" fill=\"#000000\">0 </text>\n</g>\n<!-- A1_I -->\n<g id=\"node3\" class=\"node\">\n<title>A1_I</title>\n<ellipse fill=\"none\" stroke=\"#000000\" cx=\"205.5473\" cy=\"-71\" rx=\"30.5947\" ry=\"30.5947\"/>\n<text text-anchor=\"middle\" x=\"205.5473\" y=\"-67.3\" font-family=\"Times,serif\" font-size=\"14.00\" fill=\"#000000\">A1_I</text>\n</g>\n<!-- I&#45;&gt;A1_I -->\n<g id=\"edge2\" class=\"edge\">\n<title>I&#45;&gt;A1_I</title>\n<path fill=\"none\" stroke=\"#000000\" d=\"M124.9428,-26.7519C137.1208,-33.437 154.3791,-42.911 169.8037,-51.3784\"/>\n<polygon fill=\"#000000\" stroke=\"#000000\" points=\"168.1711,-54.4749 178.6214,-56.2189 171.5396,-48.3386 168.1711,-54.4749\"/>\n<text text-anchor=\"middle\" x=\"151\" y=\"-46.8\" font-family=\"Times,serif\" font-size=\"14.00\" fill=\"#000000\">1 </text>\n</g>\n<!-- A1_I&#45;&gt;A1_I -->\n<g id=\"edge4\" class=\"edge\">\n<title>A1_I&#45;&gt;A1_I</title>\n<path fill=\"none\" stroke=\"#000000\" d=\"M195.4445,-99.9071C195.1133,-110.6797 198.4809,-119.5473 205.5473,-119.5473 210.1846,-119.5473 213.229,-115.7284 214.6804,-110.0582\"/>\n<polygon fill=\"#000000\" stroke=\"#000000\" points=\"218.1832,-110.1946 215.65,-99.9071 211.215,-109.5289 218.1832,-110.1946\"/>\n<text text-anchor=\"middle\" x=\"205.5473\" y=\"-123.3473\" font-family=\"Times,serif\" font-size=\"14.00\" fill=\"#000000\">1 </text>\n</g>\n<!-- F3_I_T1 -->\n<g id=\"node5\" class=\"node\">\n<title>F3_I_T1</title>\n<ellipse fill=\"none\" stroke=\"#000000\" cx=\"332.2907\" cy=\"-129\" rx=\"44.3766\" ry=\"44.3766\"/>\n<ellipse fill=\"none\" stroke=\"#000000\" cx=\"332.2907\" cy=\"-129\" rx=\"48.393\" ry=\"48.393\"/>\n<text text-anchor=\"middle\" x=\"332.2907\" y=\"-125.3\" font-family=\"Times,serif\" font-size=\"14.00\" fill=\"#000000\">F3_I_T1</text>\n</g>\n<!-- A1_I&#45;&gt;F3_I_T1 -->\n<g id=\"edge5\" class=\"edge\">\n<title>A1_I&#45;&gt;F3_I_T1</title>\n<path fill=\"none\" stroke=\"#000000\" d=\"M229.911,-89.5658C237.4002,-94.7129 245.8485,-99.9839 254.0946,-104 261.032,-107.3788 268.5325,-110.4466 276.0477,-113.1838\"/>\n<polygon fill=\"#000000\" stroke=\"#000000\" points=\"274.9387,-116.5037 285.5334,-116.4728 277.2318,-109.8899 274.9387,-116.5037\"/>\n<text text-anchor=\"middle\" x=\"260.0946\" y=\"-111.8\" font-family=\"Times,serif\" font-size=\"14.00\" fill=\"#000000\">0 </text>\n</g>\n<!-- F2_I -->\n<g id=\"node4\" class=\"node\">\n<title>F2_I</title>\n<ellipse fill=\"none\" stroke=\"#000000\" cx=\"461.0842\" cy=\"-48\" rx=\"28.6832\" ry=\"28.6832\"/>\n<ellipse fill=\"none\" stroke=\"#000000\" cx=\"461.0842\" cy=\"-48\" rx=\"32.6952\" ry=\"32.6952\"/>\n<text text-anchor=\"middle\" x=\"461.0842\" y=\"-44.3\" font-family=\"Times,serif\" font-size=\"14.00\" fill=\"#000000\">F2_I</text>\n</g>\n<!-- F2_I&#45;&gt;I -->\n<g id=\"edge9\" class=\"edge\">\n<title>F2_I&#45;&gt;I</title>\n<path fill=\"none\" stroke=\"#000000\" d=\"M428.4311,-45.2177C359.8111,-39.3708 201.6646,-25.8957 137.1628,-20.3997\"/>\n<polygon fill=\"#000000\" stroke=\"#000000\" points=\"137.205,-16.8907 126.944,-19.5289 136.6107,-23.8654 137.205,-16.8907\"/>\n<text text-anchor=\"middle\" x=\"260.0946\" y=\"-35.8\" font-family=\"Times,serif\" font-size=\"14.00\" fill=\"#000000\">0 </text>\n</g>\n<!-- F2_I&#45;&gt;A1_I -->\n<g id=\"edge8\" class=\"edge\">\n<title>F2_I&#45;&gt;A1_I</title>\n<path fill=\"none\" stroke=\"#000000\" d=\"M428.3628,-48.4356C392.7641,-49.1955 334.2274,-51.2805 284.0946,-57 271.515,-58.4352 257.9047,-60.6303 245.6035,-62.8597\"/>\n<polygon fill=\"#000000\" stroke=\"#000000\" points=\"244.8162,-59.4462 235.6298,-64.7246 246.1028,-66.327 244.8162,-59.4462\"/>\n<text text-anchor=\"middle\" x=\"332.2907\" y=\"-60.8\" font-family=\"Times,serif\" font-size=\"14.00\" fill=\"#000000\">1 </text>\n</g>\n<!-- F3_I_T1&#45;&gt;A1_I -->\n<g id=\"edge6\" class=\"edge\">\n<title>F3_I_T1&#45;&gt;A1_I</title>\n<path fill=\"none\" stroke=\"#000000\" d=\"M293.7098,-100.0325C284.9597,-94.4233 275.4723,-89.0417 266.0946,-85 259.7039,-82.2457 252.69,-79.9906 245.7726,-78.158\"/>\n<polygon fill=\"#000000\" stroke=\"#000000\" points=\"246.3309,-74.6927 235.7906,-75.7663 244.6998,-81.5001 246.3309,-74.6927\"/>\n<text text-anchor=\"middle\" x=\"260.0946\" y=\"-88.8\" font-family=\"Times,serif\" font-size=\"14.00\" fill=\"#000000\">1 </text>\n</g>\n<!-- F3_I_T1&#45;&gt;F2_I -->\n<g id=\"edge7\" class=\"edge\">\n<title>F3_I_T1&#45;&gt;F2_I</title>\n<path fill=\"none\" stroke=\"#000000\" d=\"M373.3958,-103.1484C389.9184,-92.7571 408.8053,-80.8789 424.8087,-70.8142\"/>\n<polygon fill=\"#000000\" stroke=\"#000000\" points=\"426.7677,-73.7168 433.3695,-65.4302 423.0411,-67.7912 426.7677,-73.7168\"/>\n<text text-anchor=\"middle\" x=\"404.4867\" y=\"-89.8\" font-family=\"Times,serif\" font-size=\"14.00\" fill=\"#000000\">0 </text>\n</g>\n</g>\n</svg>\n"
          },
          "metadata": {
            "tags": []
          },
          "execution_count": 11
        }
      ]
    },
    {
      "cell_type": "code",
      "metadata": {
        "run_control": {
          "frozen": false,
          "read_only": false
        },
        "id": "jpsyf7YmFTV_",
        "outputId": "2534dff6-7cde-42b6-9d96-56bbd231dc61",
        "colab": {
          "base_uri": "https://localhost:8080/",
          "height": 177
        }
      },
      "source": [
        "# Let us see its internal representation -- this may give you hints for answering your question\n",
        "\n",
        "# command-3\n",
        "\n",
        "NFAEnds10Eps0"
      ],
      "execution_count": 12,
      "outputs": [
        {
          "output_type": "execute_result",
          "data": {
            "text/plain": [
              "{'Delta': {('A1', '0'): {'T1'},\n",
              "  ('F3', '0'): {'F2'},\n",
              "  ('I', '0'): {'I'},\n",
              "  ('I', '1'): {'A1', 'I'},\n",
              "  ('T1', ''): {'F3'}},\n",
              " 'F': {'F2', 'F3'},\n",
              " 'Q': {'A1', 'F2', 'F3', 'I', 'T1'},\n",
              " 'Q0': {'I'},\n",
              " 'Sigma': {'0', '1'}}"
            ]
          },
          "metadata": {
            "tags": []
          },
          "execution_count": 12
        }
      ]
    },
    {
      "cell_type": "markdown",
      "metadata": {
        "id": "7lELr0y6FTWD"
      },
      "source": [
        "# Problem 3 (LT): Explain the NFA2DFA algorithm\n",
        "\n",
        "Below, you must explain the states of the DFA that resulted from converting the\n",
        "NFA to DFA using subset construction. \n",
        "\n",
        "You must look at the results of running command-1 command-2 and command-3 in answering your question.\n",
        "\n",
        "For each question, your answer must be of\n",
        "the following form:\n",
        "\n",
        "* Currently the NFA is in a *set* of states, say S1. That is already an E-closed state. That is where the DFA begins its operation (in the corresponding DFA state).\n",
        "\n",
        "* Let S1 be {s11, s12} for example. (Notice my use of upper and lower cases.)\n",
        "\n",
        "* Consider a '0' transition\n",
        "\n",
        "* Upon a '0', s11 when to set of states S11, s12 went to set of states S12, and so on.\n",
        "\n",
        "* I performed E-Closure of the states in S11 and that resulted in S11c. (If E-closure did not generate any new states, say \"E-Closure did not generate any new state.\")\n",
        "\n",
        "* Similarly, I performed E-Closure of the states in S12 and that resulted in S12c\n",
        "\n",
        "* Then I unioned S11c and S12c and called it S2\n",
        "\n",
        "* S2 is now an E-closed set of states\n",
        "\n",
        "* Thus, I arrive at a single NFA state corresponding to \n",
        "  - S1 going upon '0' to S2 (and the DFA now has a state corresponding to S2).\n",
        "\n",
        " \n",
        "## QUESTIONS FOR YOU TO ANSWER IN THE ABOVE MANNER\n",
        "\n",
        "### Looking at the NFA NFAEnds10Eps0, why did state I arise in the DFA?\n",
        "\n",
        " * The E-closure of the I state is $\\{I\\}$.\n",
        "\n",
        " * Thus, I arrive at a single NFA state corresponding to $I$ in the DFA\n",
        "\n",
        "\n",
        "### Why did state A1_I arise in the DFA?\n",
        "\n",
        "* Currently the NFA is in a *set* of states, $\\{I\\}$. That is already an E-closed state. That is where the DFA begins its operation (in the corresponding DFA state).\n",
        "\n",
        "* Upon a '1', $I$ goes to the set of states $\\{I, A1\\}$. That is already an E-closed state.\n",
        "\n",
        "* Thus, I arrive at a single NFA state corresponding to \n",
        "  - $I$ going upon '1' to $\\{I, A1\\}$ (and the DFA now has a state corresponding to $\\{I, A1\\}$).\n",
        "\n",
        "\n",
        "### Why did F3_I_T1 arise (mention E-closure steps)\n",
        "\n",
        "* Currently the NFA is in a *set* of states, $\\{I, A1\\}$. That is already an E-closed state. That is where the DFA begins its operation (in the corresponding DFA state).\n",
        "\n",
        "* Upon a '0', $I$ went to set of states $\\{I\\}$, $A1$ went to set of states $\\{T1\\}$, and so on.\n",
        "\n",
        "* I performed E-Closure of the states in $\\{I\\}$ and that E-Closure did not generate any new state.\n",
        "\n",
        "* Similarly, I performed E-Closure of the states in $\\{T1\\}$ and that resulted in $\\{T1, F3\\}$\n",
        "\n",
        "* Then I unioned $\\{I\\}$ and $\\{T1, F3\\}$ and called it $\\{I, T1, F3\\}$\n",
        "\n",
        "* $\\{I, T1, F3\\}$ is now an E-closed set of states\n",
        "\n",
        "* Thus, I arrive at a single NFA state corresponding to \n",
        "  - $\\{I, A1\\}$ going upon '0' to $\\{I, T1, F3\\}$ (and the DFA now has a state corresponding to $\\{I, T1, F3\\}$).\n",
        "\n",
        "\n",
        "### Explain in detail why A1_I went upon a '0' to F3_I_T1 (include all the E-closure steps)\n",
        "\n",
        "* Currently the NFA is in a *set* of states, $\\{I, A1\\}$. That is already an E-closed state. That is where the DFA begins its operation (in the corresponding DFA state).\n",
        "\n",
        "* Upon a '0', $I$ went to set of states $\\{I\\}$, $A1$ went to set of states $\\{T1\\}$, and so on.\n",
        "\n",
        "* I performed E-Closure of the states in $\\{I\\}$ and that E-Closure did not generate any new state.\n",
        "\n",
        "* Similarly, I performed E-Closure of the states in $\\{T1\\}$ and that resulted in $\\{T1, F3\\}$\n",
        "\n",
        "* Then I unioned $\\{I\\}$ and $\\{T1, F3\\}$ and called it $\\{I, T1, F3\\}$\n",
        "\n",
        "* $\\{I, T1, F3\\}$ is now an E-closed set of states\n",
        "\n",
        "\n",
        "### Why did F2_I arise?\n",
        "\n",
        "* Currently the NFA is in a *set* of states, $\\{I, T1, F3\\}$. That is already an E-closed state. That is where the DFA begins its operation (in the corresponding DFA state).\n",
        "\n",
        "* Upon a '0', $I$ went to the set of states $\\{I\\}$, $T1$ went to the set of states $\\{\\}$, $F3$ went to the set of states $\\{F2\\}$, and so on.\n",
        "\n",
        "* I performed E-Closure of the states in $\\{I\\}$ and that E-Closure did not generate any new state.\n",
        "\n",
        "* Similarly, I performed E-Closure of the states in $\\{F2\\}$ and that E-Closure did not generate any new state.\n",
        "\n",
        "* Then I unioned \\{I\\}$, $\\{\\}$ and $\\{F2\\}$ and got $\\{I, F2\\}$.\n",
        "\n",
        "* $\\{I, F2\\}$ is now an E-closed set of states\n",
        "\n",
        "* Thus, I arrive at a single NFA state corresponding to \n",
        "  - $\\{I, T1, F3\\}$ going upon '0' to $\\{I, F2\\}$ (and the DFA now has a state corresponding to $\\{I, F2\\}$).\n",
        "\n"
      ]
    },
    {
      "cell_type": "markdown",
      "metadata": {
        "id": "4Ux8CAVjFTWE"
      },
      "source": [
        "# Problem 4 (AR): Brzozowski's minimization\n",
        "\n",
        "This is to tell you a DFA minimization algorithm that shows you that a bloated DFA can be minimized simply by following these steps, as explained in Section 7.7. In this problem, you will practice these steps on an initial bloated DFA given to you.\n",
        "\n",
        "The steps are these:\n",
        "\n",
        "1. Reverse the given DFA, say DFA_bloated, to obtain an NFA called NFA1 (use the rev_dfa function)\n",
        "\n",
        "2. Determinize NFA1 to obtain a DFA called DFA2\n",
        "\n",
        "3. Reverse DFA2 to obtain another NFA, say NFA2\n",
        "\n",
        "4. Determinize NFA2 to obtain the final minimized DFA, say DFA_min\n",
        "\n",
        "The problem asks you to apply this procedure to minimize an initial DFA_bloated\n",
        "\n"
      ]
    },
    {
      "cell_type": "code",
      "metadata": {
        "id": "DJOTwyFYFTWF"
      },
      "source": [
        "# This is a slight variant of Figure 6.7's bloated DFA \n",
        "\n",
        "DFA_bloated = md2mc('''\n",
        "\n",
        "DFA\n",
        "\n",
        "IS1: a -> Temp\n",
        "IS1: b -> FS3\n",
        "\n",
        "Temp: a -> FS2\n",
        "Temp: b -> FS3\n",
        "\n",
        "FS2: a -> S4\n",
        "FS2: b -> S5\n",
        "\n",
        "FS3: a -> S5\n",
        "FS3: b -> S4\n",
        "\n",
        "S4: a|b -> FS6\n",
        "S5: a|b -> FS6\n",
        "\n",
        "FS6: a|b -> FS6\n",
        "\n",
        "''')"
      ],
      "execution_count": 13,
      "outputs": []
    },
    {
      "cell_type": "code",
      "metadata": {
        "id": "36EaIizjFTWR",
        "outputId": "aab8ca8d-8047-4236-d667-fb5129207fb7",
        "colab": {
          "base_uri": "https://localhost:8080/",
          "height": 0
        }
      },
      "source": [
        "dotObj_dfa(DFA_bloated)"
      ],
      "execution_count": 14,
      "outputs": [
        {
          "output_type": "execute_result",
          "data": {
            "text/plain": [
              "<graphviz.dot.Digraph at 0x7f0b9b4455f8>"
            ],
            "image/svg+xml": "<?xml version=\"1.0\" encoding=\"UTF-8\" standalone=\"no\"?>\n<!DOCTYPE svg PUBLIC \"-//W3C//DTD SVG 1.1//EN\"\n \"http://www.w3.org/Graphics/SVG/1.1/DTD/svg11.dtd\">\n<!-- Generated by graphviz version 2.40.1 (20161225.0304)\n -->\n<!-- Title: %3 Pages: 1 -->\n<svg width=\"566pt\" height=\"179pt\"\n viewBox=\"0.00 0.00 566.28 179.30\" xmlns=\"http://www.w3.org/2000/svg\" xmlns:xlink=\"http://www.w3.org/1999/xlink\">\n<g id=\"graph0\" class=\"graph\" transform=\"scale(1 1) rotate(0) translate(4 175.2953)\">\n<title>%3</title>\n<polygon fill=\"#ffffff\" stroke=\"transparent\" points=\"-4,4 -4,-175.2953 562.2768,-175.2953 562.2768,4 -4,4\"/>\n<!-- EMPTY -->\n<g id=\"node1\" class=\"node\">\n<title>EMPTY</title>\n</g>\n<!-- IS1 -->\n<g id=\"node4\" class=\"node\">\n<title>IS1</title>\n<ellipse fill=\"none\" stroke=\"#000000\" cx=\"115.0479\" cy=\"-46.6476\" rx=\"24.0958\" ry=\"24.0958\"/>\n<text text-anchor=\"middle\" x=\"115.0479\" y=\"-42.9476\" font-family=\"Times,serif\" font-size=\"14.00\" fill=\"#000000\">IS1</text>\n</g>\n<!-- EMPTY&#45;&gt;IS1 -->\n<g id=\"edge1\" class=\"edge\">\n<title>EMPTY&#45;&gt;IS1</title>\n<path fill=\"none\" stroke=\"#000000\" d=\"M54.3763,-46.6476C62.7026,-46.6476 71.9607,-46.6476 80.6861,-46.6476\"/>\n<polygon fill=\"#000000\" stroke=\"#000000\" points=\"80.9666,-50.1477 90.9666,-46.6476 80.9665,-43.1477 80.9666,-50.1477\"/>\n</g>\n<!-- Temp -->\n<g id=\"node2\" class=\"node\">\n<title>Temp</title>\n<ellipse fill=\"none\" stroke=\"#000000\" cx=\"217.5928\" cy=\"-95.6476\" rx=\"32.4942\" ry=\"32.4942\"/>\n<text text-anchor=\"middle\" x=\"217.5928\" y=\"-91.9476\" font-family=\"Times,serif\" font-size=\"14.00\" fill=\"#000000\">Temp</text>\n</g>\n<!-- FS3 -->\n<g id=\"node7\" class=\"node\">\n<title>FS3</title>\n<ellipse fill=\"none\" stroke=\"#000000\" cx=\"328.7376\" cy=\"-30.6476\" rx=\"26.7766\" ry=\"26.7766\"/>\n<ellipse fill=\"none\" stroke=\"#000000\" cx=\"328.7376\" cy=\"-30.6476\" rx=\"30.796\" ry=\"30.796\"/>\n<text text-anchor=\"middle\" x=\"328.7376\" y=\"-26.9476\" font-family=\"Times,serif\" font-size=\"14.00\" fill=\"#000000\">FS3</text>\n</g>\n<!-- Temp&#45;&gt;FS3 -->\n<g id=\"edge5\" class=\"edge\">\n<title>Temp&#45;&gt;FS3</title>\n<path fill=\"none\" stroke=\"#000000\" d=\"M245.9269,-79.0772C260.3356,-70.6507 277.9898,-60.3261 293.2906,-51.3778\"/>\n<polygon fill=\"#000000\" stroke=\"#000000\" points=\"295.12,-54.3626 301.9853,-46.293 291.5862,-48.3201 295.12,-54.3626\"/>\n<text text-anchor=\"middle\" x=\"274.09\" y=\"-69.4476\" font-family=\"Times,serif\" font-size=\"14.00\" fill=\"#000000\">b </text>\n</g>\n<!-- FS2 -->\n<g id=\"node8\" class=\"node\">\n<title>FS2</title>\n<ellipse fill=\"none\" stroke=\"#000000\" cx=\"328.7376\" cy=\"-109.6476\" rx=\"26.7766\" ry=\"26.7766\"/>\n<ellipse fill=\"none\" stroke=\"#000000\" cx=\"328.7376\" cy=\"-109.6476\" rx=\"30.796\" ry=\"30.796\"/>\n<text text-anchor=\"middle\" x=\"328.7376\" y=\"-105.9476\" font-family=\"Times,serif\" font-size=\"14.00\" fill=\"#000000\">FS2</text>\n</g>\n<!-- Temp&#45;&gt;FS2 -->\n<g id=\"edge4\" class=\"edge\">\n<title>Temp&#45;&gt;FS2</title>\n<path fill=\"none\" stroke=\"#000000\" d=\"M250.0393,-99.7347C261.8529,-101.2227 275.3636,-102.9245 287.8171,-104.4932\"/>\n<polygon fill=\"#000000\" stroke=\"#000000\" points=\"287.6099,-107.9947 297.969,-105.772 288.4848,-101.0496 287.6099,-107.9947\"/>\n<text text-anchor=\"middle\" x=\"274.09\" y=\"-106.4476\" font-family=\"Times,serif\" font-size=\"14.00\" fill=\"#000000\">a </text>\n</g>\n<!-- S4 -->\n<g id=\"node3\" class=\"node\">\n<title>S4</title>\n<ellipse fill=\"none\" stroke=\"#000000\" cx=\"428.1834\" cy=\"-108.6476\" rx=\"20.5982\" ry=\"20.5982\"/>\n<text text-anchor=\"middle\" x=\"428.1834\" y=\"-104.9476\" font-family=\"Times,serif\" font-size=\"14.00\" fill=\"#000000\">S4</text>\n</g>\n<!-- FS6 -->\n<g id=\"node6\" class=\"node\">\n<title>FS6</title>\n<ellipse fill=\"none\" stroke=\"#000000\" cx=\"527.6292\" cy=\"-74.6476\" rx=\"26.7766\" ry=\"26.7766\"/>\n<ellipse fill=\"none\" stroke=\"#000000\" cx=\"527.6292\" cy=\"-74.6476\" rx=\"30.796\" ry=\"30.796\"/>\n<text text-anchor=\"middle\" x=\"527.6292\" y=\"-70.9476\" font-family=\"Times,serif\" font-size=\"14.00\" fill=\"#000000\">FS6</text>\n</g>\n<!-- S4&#45;&gt;FS6 -->\n<g id=\"edge10\" class=\"edge\">\n<title>S4&#45;&gt;FS6</title>\n<path fill=\"none\" stroke=\"#000000\" d=\"M448.8987,-112.077C458.2905,-112.8719 469.4108,-112.7328 478.9815,-109.6476 485.0903,-107.6785 491.0797,-104.6261 496.6527,-101.1268\"/>\n<polygon fill=\"#000000\" stroke=\"#000000\" points=\"498.7806,-103.9109 505.0247,-95.3515 494.8058,-98.1489 498.7806,-103.9109\"/>\n<text text-anchor=\"middle\" x=\"472.9815\" y=\"-115.4476\" font-family=\"Times,serif\" font-size=\"14.00\" fill=\"#000000\">a </text>\n</g>\n<!-- S4&#45;&gt;FS6 -->\n<g id=\"edge11\" class=\"edge\">\n<title>S4&#45;&gt;FS6</title>\n<path fill=\"none\" stroke=\"#000000\" d=\"M446.8475,-99.1772C453.1436,-96.2021 460.276,-93.0662 466.9815,-90.6476 473.5885,-88.2646 480.7162,-86.0667 487.6827,-84.1119\"/>\n<polygon fill=\"#000000\" stroke=\"#000000\" points=\"488.9416,-87.3981 497.6947,-81.4286 487.1295,-80.6367 488.9416,-87.3981\"/>\n<text text-anchor=\"middle\" x=\"472.9815\" y=\"-94.4476\" font-family=\"Times,serif\" font-size=\"14.00\" fill=\"#000000\">b </text>\n</g>\n<!-- IS1&#45;&gt;Temp -->\n<g id=\"edge2\" class=\"edge\">\n<title>IS1&#45;&gt;Temp</title>\n<path fill=\"none\" stroke=\"#000000\" d=\"M136.795,-57.0393C149.0447,-62.8927 164.7053,-70.3759 178.9719,-77.193\"/>\n<polygon fill=\"#000000\" stroke=\"#000000\" points=\"177.5641,-80.3993 188.0959,-81.5529 180.5821,-74.0834 177.5641,-80.3993\"/>\n<text text-anchor=\"middle\" x=\"162.0957\" y=\"-75.4476\" font-family=\"Times,serif\" font-size=\"14.00\" fill=\"#000000\">a </text>\n</g>\n<!-- IS1&#45;&gt;FS3 -->\n<g id=\"edge3\" class=\"edge\">\n<title>IS1&#45;&gt;FS3</title>\n<path fill=\"none\" stroke=\"#000000\" d=\"M139.0185,-44.0306C152.5382,-42.6102 169.747,-40.895 185.0957,-39.6476 219.6976,-36.8357 259.0506,-34.425 287.8057,-32.8083\"/>\n<polygon fill=\"#000000\" stroke=\"#000000\" points=\"288.1007,-36.2974 297.8917,-32.2493 287.7133,-29.3082 288.1007,-36.2974\"/>\n<text text-anchor=\"middle\" x=\"217.5928\" y=\"-43.4476\" font-family=\"Times,serif\" font-size=\"14.00\" fill=\"#000000\">b </text>\n</g>\n<!-- S5 -->\n<g id=\"node5\" class=\"node\">\n<title>S5</title>\n<ellipse fill=\"none\" stroke=\"#000000\" cx=\"428.1834\" cy=\"-40.6476\" rx=\"20.5982\" ry=\"20.5982\"/>\n<text text-anchor=\"middle\" x=\"428.1834\" y=\"-36.9476\" font-family=\"Times,serif\" font-size=\"14.00\" fill=\"#000000\">S5</text>\n</g>\n<!-- S5&#45;&gt;FS6 -->\n<g id=\"edge12\" class=\"edge\">\n<title>S5&#45;&gt;FS6</title>\n<path fill=\"none\" stroke=\"#000000\" d=\"M448.3077,-47.528C459.9078,-51.4941 474.8872,-56.6154 488.6991,-61.3376\"/>\n<polygon fill=\"#000000\" stroke=\"#000000\" points=\"487.8905,-64.76 498.485,-64.6834 490.1551,-58.1365 487.8905,-64.76\"/>\n<text text-anchor=\"middle\" x=\"472.9815\" y=\"-61.4476\" font-family=\"Times,serif\" font-size=\"14.00\" fill=\"#000000\">a </text>\n</g>\n<!-- S5&#45;&gt;FS6 -->\n<g id=\"edge13\" class=\"edge\">\n<title>S5&#45;&gt;FS6</title>\n<path fill=\"none\" stroke=\"#000000\" d=\"M448.4422,-34.7397C457.9439,-32.9472 469.2832,-32.24 478.9815,-35.6476 485.706,-38.0103 492.1895,-41.7376 498.1112,-45.9712\"/>\n<polygon fill=\"#000000\" stroke=\"#000000\" points=\"496.3206,-49.0151 506.3479,-52.4363 500.6426,-43.5087 496.3206,-49.0151\"/>\n<text text-anchor=\"middle\" x=\"472.9815\" y=\"-39.4476\" font-family=\"Times,serif\" font-size=\"14.00\" fill=\"#000000\">b </text>\n</g>\n<!-- FS6&#45;&gt;FS6 -->\n<g id=\"edge14\" class=\"edge\">\n<title>FS6&#45;&gt;FS6</title>\n<path fill=\"none\" stroke=\"#000000\" d=\"M522.5667,-105.0524C522.5667,-115.1873 524.2542,-123.2953 527.6292,-123.2953 529.7386,-123.2953 531.1888,-120.1281 531.9798,-115.2784\"/>\n<polygon fill=\"#000000\" stroke=\"#000000\" points=\"535.4886,-115.2714 532.6917,-105.0524 528.5055,-114.7852 535.4886,-115.2714\"/>\n<text text-anchor=\"middle\" x=\"527.6292\" y=\"-127.0953\" font-family=\"Times,serif\" font-size=\"14.00\" fill=\"#000000\">a </text>\n</g>\n<!-- FS6&#45;&gt;FS6 -->\n<g id=\"edge15\" class=\"edge\">\n<title>FS6&#45;&gt;FS6</title>\n<path fill=\"none\" stroke=\"#000000\" d=\"M518.3051,-104.1134C515.8727,-123.0605 518.9807,-141.2953 527.6292,-141.2953 534.7236,-141.2953 538.0898,-129.0248 537.7278,-114.1564\"/>\n<polygon fill=\"#000000\" stroke=\"#000000\" points=\"541.2119,-113.8146 536.9533,-104.1134 534.2327,-114.3529 541.2119,-113.8146\"/>\n<text text-anchor=\"middle\" x=\"527.6292\" y=\"-145.0953\" font-family=\"Times,serif\" font-size=\"14.00\" fill=\"#000000\">b </text>\n</g>\n<!-- FS3&#45;&gt;S4 -->\n<g id=\"edge9\" class=\"edge\">\n<title>FS3&#45;&gt;S4</title>\n<path fill=\"none\" stroke=\"#000000\" d=\"M359.0583,-35.2208C369.4158,-37.8788 380.5932,-42.0653 389.3852,-48.6476 395.6168,-53.313 405.0636,-67.8254 413.0752,-81.4082\"/>\n<polygon fill=\"#000000\" stroke=\"#000000\" points=\"410.0542,-83.1758 418.0846,-90.0869 416.1168,-79.6764 410.0542,-83.1758\"/>\n<text text-anchor=\"middle\" x=\"383.3852\" y=\"-52.4476\" font-family=\"Times,serif\" font-size=\"14.00\" fill=\"#000000\">b </text>\n</g>\n<!-- FS3&#45;&gt;S5 -->\n<g id=\"edge8\" class=\"edge\">\n<title>FS3&#45;&gt;S5</title>\n<path fill=\"none\" stroke=\"#000000\" d=\"M356.3334,-16.837C366.7408,-13.3373 378.6544,-11.3845 389.3852,-14.6476 394.3962,-16.1714 399.3485,-18.5815 403.9528,-21.3336\"/>\n<polygon fill=\"#000000\" stroke=\"#000000\" points=\"402.0409,-24.2655 412.3018,-26.9045 405.9262,-18.4427 402.0409,-24.2655\"/>\n<text text-anchor=\"middle\" x=\"383.3852\" y=\"-18.4476\" font-family=\"Times,serif\" font-size=\"14.00\" fill=\"#000000\">a </text>\n</g>\n<!-- FS2&#45;&gt;S4 -->\n<g id=\"edge6\" class=\"edge\">\n<title>FS2&#45;&gt;S4</title>\n<path fill=\"none\" stroke=\"#000000\" d=\"M359.3861,-109.3394C371.392,-109.2187 385.1468,-109.0804 397.1863,-108.9593\"/>\n<polygon fill=\"#000000\" stroke=\"#000000\" points=\"397.2735,-112.4587 407.2378,-108.8583 397.203,-105.4591 397.2735,-112.4587\"/>\n<text text-anchor=\"middle\" x=\"383.3852\" y=\"-112.4476\" font-family=\"Times,serif\" font-size=\"14.00\" fill=\"#000000\">a </text>\n</g>\n<!-- FS2&#45;&gt;S5 -->\n<g id=\"edge7\" class=\"edge\">\n<title>FS2&#45;&gt;S5</title>\n<path fill=\"none\" stroke=\"#000000\" d=\"M354.1233,-92.0865C364.9875,-84.566 377.8124,-75.6817 389.3852,-67.6476 393.6574,-64.6818 398.1921,-61.5297 402.5976,-58.4653\"/>\n<polygon fill=\"#000000\" stroke=\"#000000\" points=\"404.598,-61.3374 410.807,-52.7526 400.5996,-55.5917 404.598,-61.3374\"/>\n<text text-anchor=\"middle\" x=\"383.3852\" y=\"-80.4476\" font-family=\"Times,serif\" font-size=\"14.00\" fill=\"#000000\">b </text>\n</g>\n</g>\n</svg>\n"
          },
          "metadata": {
            "tags": []
          },
          "execution_count": 14
        }
      ]
    },
    {
      "cell_type": "markdown",
      "metadata": {
        "id": "XU7uQnTlFTWU"
      },
      "source": [
        "## Problem 4.1:  Show the result of reversing the above DFA"
      ]
    },
    {
      "cell_type": "code",
      "metadata": {
        "id": "zZzFh2YJFTWV",
        "outputId": "9c9a3a74-5715-43ee-a8a8-e86a5a9cd1f5",
        "colab": {
          "base_uri": "https://localhost:8080/",
          "height": 0
        }
      },
      "source": [
        "help(rev_dfa)"
      ],
      "execution_count": 15,
      "outputs": [
        {
          "output_type": "stream",
          "text": [
            "Help on function rev_dfa in module jove.Def_NFA:\n",
            "\n",
            "rev_dfa(D)\n",
            "    In : D = a partially consistent DFA without any unreachable states.\n",
            "    Out: A consistent NFA whose language is D's language reversed.\n",
            "\n"
          ],
          "name": "stdout"
        }
      ]
    },
    {
      "cell_type": "markdown",
      "metadata": {
        "id": "mtCe9DyKFTWa"
      },
      "source": [
        "### The reverse invocation"
      ]
    },
    {
      "cell_type": "code",
      "metadata": {
        "id": "kXnAJOLhFTWb"
      },
      "source": [
        "# Reverse DFA_bloated here\n",
        "\n",
        "NFA1 =  rev_dfa(DFA_bloated)"
      ],
      "execution_count": 16,
      "outputs": []
    },
    {
      "cell_type": "code",
      "metadata": {
        "id": "4E2MJqwLFTWg",
        "outputId": "eb3dcb7a-54f0-4bb7-e184-92056614728e",
        "colab": {
          "base_uri": "https://localhost:8080/",
          "height": 0
        }
      },
      "source": [
        "dotObj_nfa(NFA1)"
      ],
      "execution_count": 17,
      "outputs": [
        {
          "output_type": "execute_result",
          "data": {
            "text/plain": [
              "<graphviz.dot.Digraph at 0x7f0b9b4457f0>"
            ],
            "image/svg+xml": "<?xml version=\"1.0\" encoding=\"UTF-8\" standalone=\"no\"?>\n<!DOCTYPE svg PUBLIC \"-//W3C//DTD SVG 1.1//EN\"\n \"http://www.w3.org/Graphics/SVG/1.1/DTD/svg11.dtd\">\n<!-- Generated by graphviz version 2.40.1 (20161225.0304)\n -->\n<!-- Title: %3 Pages: 1 -->\n<svg width=\"558pt\" height=\"176pt\"\n viewBox=\"0.00 0.00 558.28 176.27\" xmlns=\"http://www.w3.org/2000/svg\" xmlns:xlink=\"http://www.w3.org/1999/xlink\">\n<g id=\"graph0\" class=\"graph\" transform=\"scale(1 1) rotate(0) translate(4 172.2732)\">\n<title>%3</title>\n<polygon fill=\"#ffffff\" stroke=\"transparent\" points=\"-4,4 -4,-172.2732 554.2768,-172.2732 554.2768,4 -4,4\"/>\n<!-- EMPTY -->\n<g id=\"node1\" class=\"node\">\n<title>EMPTY</title>\n</g>\n<!-- FS3 -->\n<g id=\"node2\" class=\"node\">\n<title>FS3</title>\n<ellipse fill=\"none\" stroke=\"#000000\" cx=\"308.5392\" cy=\"-126.3179\" rx=\"26.7961\" ry=\"26.7961\"/>\n<text text-anchor=\"middle\" x=\"308.5392\" y=\"-122.6179\" font-family=\"Times,serif\" font-size=\"14.00\" fill=\"#000000\">FS3</text>\n</g>\n<!-- EMPTY&#45;&gt;FS3 -->\n<g id=\"edge2\" class=\"edge\">\n<title>EMPTY&#45;&gt;FS3</title>\n<path fill=\"none\" stroke=\"#000000\" d=\"M32.2719,-68.3467C40.4207,-92.5041 58.62,-134.4086 91,-152.3179 149.4517,-184.6473 230.0795,-160.386 274.9515,-141.9618\"/>\n<polygon fill=\"#000000\" stroke=\"#000000\" points=\"276.3904,-145.1534 284.2286,-138.0251 273.6559,-138.7095 276.3904,-145.1534\"/>\n</g>\n<!-- FS6 -->\n<g id=\"node6\" class=\"node\">\n<title>FS6</title>\n<ellipse fill=\"none\" stroke=\"#000000\" cx=\"117.6476\" cy=\"-50.3179\" rx=\"26.7961\" ry=\"26.7961\"/>\n<text text-anchor=\"middle\" x=\"117.6476\" y=\"-46.6179\" font-family=\"Times,serif\" font-size=\"14.00\" fill=\"#000000\">FS6</text>\n</g>\n<!-- EMPTY&#45;&gt;FS6 -->\n<g id=\"edge1\" class=\"edge\">\n<title>EMPTY&#45;&gt;FS6</title>\n<path fill=\"none\" stroke=\"#000000\" d=\"M54.1973,-50.3179C62.5185,-50.3179 71.8156,-50.3179 80.6723,-50.3179\"/>\n<polygon fill=\"#000000\" stroke=\"#000000\" points=\"80.782,-53.818 90.7819,-50.3179 80.7819,-46.818 80.782,-53.818\"/>\n</g>\n<!-- FS2 -->\n<g id=\"node7\" class=\"node\">\n<title>FS2</title>\n<ellipse fill=\"none\" stroke=\"#000000\" cx=\"308.5392\" cy=\"-44.3179\" rx=\"26.7961\" ry=\"26.7961\"/>\n<text text-anchor=\"middle\" x=\"308.5392\" y=\"-40.6179\" font-family=\"Times,serif\" font-size=\"14.00\" fill=\"#000000\">FS2</text>\n</g>\n<!-- EMPTY&#45;&gt;FS2 -->\n<g id=\"edge3\" class=\"edge\">\n<title>EMPTY&#45;&gt;FS2</title>\n<path fill=\"none\" stroke=\"#000000\" d=\"M52.5187,-32.1987C63.7689,-25.2343 77.4857,-18.0612 91,-14.3179 165.0833,6.2026 190.568,3.7706 263.8916,-19.3179 268.3005,-20.7062 272.7616,-22.5629 277.0715,-24.6402\"/>\n<polygon fill=\"#000000\" stroke=\"#000000\" points=\"275.7078,-27.8778 286.1862,-29.4441 278.9716,-21.6852 275.7078,-27.8778\"/>\n</g>\n<!-- Temp -->\n<g id=\"node3\" class=\"node\">\n<title>Temp</title>\n<ellipse fill=\"none\" stroke=\"#000000\" cx=\"415.684\" cy=\"-58.3179\" rx=\"32.4942\" ry=\"32.4942\"/>\n<text text-anchor=\"middle\" x=\"415.684\" y=\"-54.6179\" font-family=\"Times,serif\" font-size=\"14.00\" fill=\"#000000\">Temp</text>\n</g>\n<!-- FS3&#45;&gt;Temp -->\n<g id=\"edge4\" class=\"edge\">\n<title>FS3&#45;&gt;Temp</title>\n<path fill=\"none\" stroke=\"#000000\" d=\"M331.2012,-111.4849C338.2303,-106.9148 346.0139,-101.8849 353.1869,-97.3179 361.5942,-91.9649 370.6743,-86.2569 379.2386,-80.9061\"/>\n<polygon fill=\"#000000\" stroke=\"#000000\" points=\"381.2928,-83.75 387.9269,-75.4892 377.5893,-77.8099 381.2928,-83.75\"/>\n<text text-anchor=\"middle\" x=\"359.1869\" y=\"-101.1179\" font-family=\"Times,serif\" font-size=\"14.00\" fill=\"#000000\">b </text>\n</g>\n<!-- IS1 -->\n<g id=\"node8\" class=\"node\">\n<title>IS1</title>\n<ellipse fill=\"none\" stroke=\"#000000\" cx=\"522.229\" cy=\"-92.3179\" rx=\"24.089\" ry=\"24.089\"/>\n<ellipse fill=\"none\" stroke=\"#000000\" cx=\"522.229\" cy=\"-92.3179\" rx=\"28.0958\" ry=\"28.0958\"/>\n<text text-anchor=\"middle\" x=\"522.229\" y=\"-88.6179\" font-family=\"Times,serif\" font-size=\"14.00\" fill=\"#000000\">IS1</text>\n</g>\n<!-- FS3&#45;&gt;IS1 -->\n<g id=\"edge5\" class=\"edge\">\n<title>FS3&#45;&gt;IS1</title>\n<path fill=\"none\" stroke=\"#000000\" d=\"M335.1711,-122.0805C372.6905,-116.1108 441.3085,-105.193 484.1915,-98.37\"/>\n<polygon fill=\"#000000\" stroke=\"#000000\" points=\"484.9164,-101.7987 494.2422,-96.7708 483.8164,-94.8857 484.9164,-101.7987\"/>\n<text text-anchor=\"middle\" x=\"415.684\" y=\"-119.1179\" font-family=\"Times,serif\" font-size=\"14.00\" fill=\"#000000\">b </text>\n</g>\n<!-- Temp&#45;&gt;IS1 -->\n<g id=\"edge16\" class=\"edge\">\n<title>Temp&#45;&gt;IS1</title>\n<path fill=\"none\" stroke=\"#000000\" d=\"M446.7876,-68.2435C458.9041,-72.11 472.8828,-76.5708 485.4902,-80.594\"/>\n<polygon fill=\"#000000\" stroke=\"#000000\" points=\"484.6545,-84.0012 495.2453,-83.707 486.7826,-77.3325 484.6545,-84.0012\"/>\n<text text-anchor=\"middle\" x=\"471.1811\" y=\"-82.1179\" font-family=\"Times,serif\" font-size=\"14.00\" fill=\"#000000\">a </text>\n</g>\n<!-- S4 -->\n<g id=\"node4\" class=\"node\">\n<title>S4</title>\n<ellipse fill=\"none\" stroke=\"#000000\" cx=\"213.0934\" cy=\"-46.3179\" rx=\"20.5982\" ry=\"20.5982\"/>\n<text text-anchor=\"middle\" x=\"213.0934\" y=\"-42.6179\" font-family=\"Times,serif\" font-size=\"14.00\" fill=\"#000000\">S4</text>\n</g>\n<!-- S4&#45;&gt;FS3 -->\n<g id=\"edge7\" class=\"edge\">\n<title>S4&#45;&gt;FS3</title>\n<path fill=\"none\" stroke=\"#000000\" d=\"M234.0773,-47.7106C243.8498,-49.2072 255.2068,-52.2364 263.8916,-58.3179 270.9511,-63.2613 281.4272,-78.9467 290.4577,-94.0081\"/>\n<polygon fill=\"#000000\" stroke=\"#000000\" points=\"287.4899,-95.8661 295.5709,-102.718 293.5266,-92.3222 287.4899,-95.8661\"/>\n<text text-anchor=\"middle\" x=\"257.8916\" y=\"-62.1179\" font-family=\"Times,serif\" font-size=\"14.00\" fill=\"#000000\">b </text>\n</g>\n<!-- S4&#45;&gt;FS2 -->\n<g id=\"edge6\" class=\"edge\">\n<title>S4&#45;&gt;FS2</title>\n<path fill=\"none\" stroke=\"#000000\" d=\"M230.031,-34.1995C236.5441,-30.2342 244.2546,-26.3324 251.8916,-24.3179 259.9932,-22.1807 268.5886,-23.3545 276.57,-25.9716\"/>\n<polygon fill=\"#000000\" stroke=\"#000000\" points=\"275.3438,-29.251 285.9266,-29.7542 277.9674,-22.7613 275.3438,-29.251\"/>\n<text text-anchor=\"middle\" x=\"257.8916\" y=\"-28.1179\" font-family=\"Times,serif\" font-size=\"14.00\" fill=\"#000000\">a </text>\n</g>\n<!-- S5 -->\n<g id=\"node5\" class=\"node\">\n<title>S5</title>\n<ellipse fill=\"none\" stroke=\"#000000\" cx=\"213.0934\" cy=\"-106.3179\" rx=\"20.5982\" ry=\"20.5982\"/>\n<text text-anchor=\"middle\" x=\"213.0934\" y=\"-102.6179\" font-family=\"Times,serif\" font-size=\"14.00\" fill=\"#000000\">S5</text>\n</g>\n<!-- S5&#45;&gt;FS3 -->\n<g id=\"edge14\" class=\"edge\">\n<title>S5&#45;&gt;FS3</title>\n<path fill=\"none\" stroke=\"#000000\" d=\"M233.6007,-111.2208C239.4959,-112.5906 245.9402,-114.0502 251.8916,-115.3179 258.3862,-116.7012 265.3151,-118.1057 272.0181,-119.4275\"/>\n<polygon fill=\"#000000\" stroke=\"#000000\" points=\"271.7861,-122.9479 282.2705,-121.4218 273.1228,-116.0767 271.7861,-122.9479\"/>\n<text text-anchor=\"middle\" x=\"257.8916\" y=\"-122.1179\" font-family=\"Times,serif\" font-size=\"14.00\" fill=\"#000000\">a </text>\n</g>\n<!-- S5&#45;&gt;FS2 -->\n<g id=\"edge15\" class=\"edge\">\n<title>S5&#45;&gt;FS2</title>\n<path fill=\"none\" stroke=\"#000000\" d=\"M231.7458,-96.3595C241.489,-90.9861 253.5124,-84.0827 263.8916,-77.3179 268.8577,-74.0811 274.0145,-70.4949 278.9838,-66.9141\"/>\n<polygon fill=\"#000000\" stroke=\"#000000\" points=\"281.1118,-69.6938 287.1028,-60.9555 276.9701,-64.0505 281.1118,-69.6938\"/>\n<text text-anchor=\"middle\" x=\"257.8916\" y=\"-88.1179\" font-family=\"Times,serif\" font-size=\"14.00\" fill=\"#000000\">b </text>\n</g>\n<!-- FS6&#45;&gt;S4 -->\n<g id=\"edge9\" class=\"edge\">\n<title>FS6&#45;&gt;S4</title>\n<path fill=\"none\" stroke=\"#000000\" d=\"M136.9811,-31.8501C144.3252,-26.0291 153.1405,-20.3339 162.2953,-17.3179 172.382,-13.9948 182.7048,-18.2262 191.3876,-24.3946\"/>\n<polygon fill=\"#000000\" stroke=\"#000000\" points=\"189.1854,-27.115 199.1486,-30.7186 193.6073,-21.6884 189.1854,-27.115\"/>\n<text text-anchor=\"middle\" x=\"168.2953\" y=\"-21.1179\" font-family=\"Times,serif\" font-size=\"14.00\" fill=\"#000000\">a </text>\n</g>\n<!-- FS6&#45;&gt;S4 -->\n<g id=\"edge12\" class=\"edge\">\n<title>FS6&#45;&gt;S4</title>\n<path fill=\"none\" stroke=\"#000000\" d=\"M144.4886,-49.193C156.1735,-48.7033 169.9389,-48.1264 182.0606,-47.6184\"/>\n<polygon fill=\"#000000\" stroke=\"#000000\" points=\"182.3517,-51.1094 192.1963,-47.1936 182.0585,-44.1155 182.3517,-51.1094\"/>\n<text text-anchor=\"middle\" x=\"168.2953\" y=\"-53.1179\" font-family=\"Times,serif\" font-size=\"14.00\" fill=\"#000000\">b </text>\n</g>\n<!-- FS6&#45;&gt;S5 -->\n<g id=\"edge10\" class=\"edge\">\n<title>FS6&#45;&gt;S5</title>\n<path fill=\"none\" stroke=\"#000000\" d=\"M140.7524,-63.8739C154.4201,-71.893 171.7977,-82.0888 186.0951,-90.4774\"/>\n<polygon fill=\"#000000\" stroke=\"#000000\" points=\"184.5797,-93.6462 194.9759,-95.6879 188.122,-87.6086 184.5797,-93.6462\"/>\n<text text-anchor=\"middle\" x=\"168.2953\" y=\"-88.1179\" font-family=\"Times,serif\" font-size=\"14.00\" fill=\"#000000\">a </text>\n</g>\n<!-- FS6&#45;&gt;S5 -->\n<g id=\"edge13\" class=\"edge\">\n<title>FS6&#45;&gt;S5</title>\n<path fill=\"none\" stroke=\"#000000\" d=\"M130.9445,-73.5449C138.5963,-84.5944 149.2824,-96.7917 162.2953,-103.3179 168.3069,-106.3328 175.235,-107.8199 182.0031,-108.4213\"/>\n<polygon fill=\"#000000\" stroke=\"#000000\" points=\"182.2523,-111.9302 192.3521,-108.7295 182.4607,-104.9333 182.2523,-111.9302\"/>\n<text text-anchor=\"middle\" x=\"168.2953\" y=\"-111.1179\" font-family=\"Times,serif\" font-size=\"14.00\" fill=\"#000000\">b </text>\n</g>\n<!-- FS6&#45;&gt;FS6 -->\n<g id=\"edge8\" class=\"edge\">\n<title>FS6&#45;&gt;FS6</title>\n<path fill=\"none\" stroke=\"#000000\" d=\"M113.5317,-76.9029C113.3968,-86.8103 114.7687,-94.9655 117.6476,-94.9655 119.447,-94.9655 120.6576,-91.7799 121.2797,-86.9718\"/>\n<polygon fill=\"#000000\" stroke=\"#000000\" points=\"124.7794,-87.0594 121.7636,-76.9029 117.7875,-86.7233 124.7794,-87.0594\"/>\n<text text-anchor=\"middle\" x=\"117.6476\" y=\"-98.7655\" font-family=\"Times,serif\" font-size=\"14.00\" fill=\"#000000\">a </text>\n</g>\n<!-- FS6&#45;&gt;FS6 -->\n<g id=\"edge11\" class=\"edge\">\n<title>FS6&#45;&gt;FS6</title>\n<path fill=\"none\" stroke=\"#000000\" d=\"M110.2859,-76.0585C107.889,-94.548 110.3429,-112.9655 117.6476,-112.9655 123.5827,-112.9655 126.3155,-100.8071 125.846,-86.3303\"/>\n<polygon fill=\"#000000\" stroke=\"#000000\" points=\"129.3097,-85.7413 125.0094,-76.0585 122.3328,-86.3097 129.3097,-85.7413\"/>\n<text text-anchor=\"middle\" x=\"117.6476\" y=\"-116.7655\" font-family=\"Times,serif\" font-size=\"14.00\" fill=\"#000000\">b </text>\n</g>\n<!-- FS2&#45;&gt;Temp -->\n<g id=\"edge17\" class=\"edge\">\n<title>FS2&#45;&gt;Temp</title>\n<path fill=\"none\" stroke=\"#000000\" d=\"M335.0244,-47.7785C346.5644,-49.2864 360.38,-51.0916 373.2893,-52.7784\"/>\n<polygon fill=\"#000000\" stroke=\"#000000\" points=\"373.018,-56.2726 383.3872,-54.0978 373.925,-49.3316 373.018,-56.2726\"/>\n<text text-anchor=\"middle\" x=\"359.1869\" y=\"-55.1179\" font-family=\"Times,serif\" font-size=\"14.00\" fill=\"#000000\">a </text>\n</g>\n</g>\n</svg>\n"
          },
          "metadata": {
            "tags": []
          },
          "execution_count": 17
        }
      ]
    },
    {
      "cell_type": "markdown",
      "metadata": {
        "id": "AUtl3IpeFTWk"
      },
      "source": [
        "## Problem 4.2: Check that NFA1 is indeed the reverse of DFA_bloated by checking one string\n",
        "\n",
        "Point out that \"aabba\" is in DFA_bloated's language but its reversal (i.e. \"abbaa\") is in NFA1's language\n",
        "\n",
        "### Which path does abbaa take in being accepted by NFA1 ?\n",
        "\n",
        ".... LIST THE PATH AS A SEQUENCE OF STATES, HERE ....\n",
        "\n",
        "* Starting from State ...\n",
        "\n",
        "* The next state after 'a' is ...\n",
        "\n",
        "* The next state after 'b' is ...\n",
        "\n",
        "* The next state after 'b' is ...\n",
        "\n",
        "* The next state after 'a' is ...\n",
        "\n",
        "* The next state after 'a' is ...  (This must be the final state!)\n"
      ]
    },
    {
      "cell_type": "markdown",
      "metadata": {
        "id": "Z2I7c_ojFTWl"
      },
      "source": [
        "## Problem 4.3: Determinize NFA1 to obtain DFA2"
      ]
    },
    {
      "cell_type": "code",
      "metadata": {
        "id": "6iMzAQkjFTWm",
        "outputId": "1cdccb0b-ef0d-4737-cc26-092335ec1570",
        "colab": {
          "base_uri": "https://localhost:8080/",
          "height": 0
        }
      },
      "source": [
        "help(nfa2dfa)"
      ],
      "execution_count": 18,
      "outputs": [
        {
          "output_type": "stream",
          "text": [
            "Help on function nfa2dfa in module jove.Def_NFA:\n",
            "\n",
            "nfa2dfa(N, STATENAME_MAXSIZE=20)\n",
            "    In : N (consistent NFA), and optional STATENAME_MAXSIZE\n",
            "         for the generated DFA states\n",
            "    Out: A consistent DFA that is language-equivalent to N.\n",
            "\n"
          ],
          "name": "stdout"
        }
      ]
    },
    {
      "cell_type": "code",
      "metadata": {
        "id": "Pt0B-qhxFTWq"
      },
      "source": [
        "DFA2 = nfa2dfa(NFA1)"
      ],
      "execution_count": 19,
      "outputs": []
    },
    {
      "cell_type": "code",
      "metadata": {
        "id": "FM1ltRsNFTWv",
        "outputId": "0db37037-fae9-43ea-ac1f-56d63c137fc1",
        "colab": {
          "base_uri": "https://localhost:8080/",
          "height": 0
        }
      },
      "source": [
        "dotObj_dfa(DFA2)"
      ],
      "execution_count": 20,
      "outputs": [
        {
          "output_type": "execute_result",
          "data": {
            "text/plain": [
              "<graphviz.dot.Digraph at 0x7f0b9b44e0b8>"
            ],
            "image/svg+xml": "<?xml version=\"1.0\" encoding=\"UTF-8\" standalone=\"no\"?>\n<!DOCTYPE svg PUBLIC \"-//W3C//DTD SVG 1.1//EN\"\n \"http://www.w3.org/Graphics/SVG/1.1/DTD/svg11.dtd\">\n<!-- Generated by graphviz version 2.40.1 (20161225.0304)\n -->\n<!-- Title: %3 Pages: 1 -->\n<svg width=\"547pt\" height=\"165pt\"\n viewBox=\"0.00 0.00 546.98 164.80\" xmlns=\"http://www.w3.org/2000/svg\" xmlns:xlink=\"http://www.w3.org/1999/xlink\">\n<g id=\"graph0\" class=\"graph\" transform=\"scale(1 1) rotate(0) translate(4 160.7958)\">\n<title>%3</title>\n<polygon fill=\"#ffffff\" stroke=\"transparent\" points=\"-4,4 -4,-160.7958 542.9792,-160.7958 542.9792,4 -4,4\"/>\n<!-- EMPTY -->\n<g id=\"node1\" class=\"node\">\n<title>EMPTY</title>\n</g>\n<!-- St4 -->\n<g id=\"node4\" class=\"node\">\n<title>St4</title>\n<ellipse fill=\"none\" stroke=\"#000000\" cx=\"114.3979\" cy=\"-61.3979\" rx=\"23.2963\" ry=\"23.2963\"/>\n<text text-anchor=\"middle\" x=\"114.3979\" y=\"-57.6979\" font-family=\"Times,serif\" font-size=\"14.00\" fill=\"#000000\">St4</text>\n</g>\n<!-- EMPTY&#45;&gt;St4 -->\n<g id=\"edge1\" class=\"edge\">\n<title>EMPTY&#45;&gt;St4</title>\n<path fill=\"none\" stroke=\"#000000\" d=\"M54.1742,-61.3979C62.5103,-61.3979 71.7873,-61.3979 80.5137,-61.3979\"/>\n<polygon fill=\"#000000\" stroke=\"#000000\" points=\"80.7846,-64.898 90.7846,-61.3979 80.7845,-57.898 80.7846,-64.898\"/>\n</g>\n<!-- St6 -->\n<g id=\"node2\" class=\"node\">\n<title>St6</title>\n<ellipse fill=\"none\" stroke=\"#000000\" cx=\"213.1938\" cy=\"-96.3979\" rx=\"23.2963\" ry=\"23.2963\"/>\n<text text-anchor=\"middle\" x=\"213.1938\" y=\"-92.6979\" font-family=\"Times,serif\" font-size=\"14.00\" fill=\"#000000\">St6</text>\n</g>\n<!-- St3 -->\n<g id=\"node5\" class=\"node\">\n<title>St3</title>\n<ellipse fill=\"none\" stroke=\"#000000\" cx=\"315.9896\" cy=\"-102.3979\" rx=\"23.2963\" ry=\"23.2963\"/>\n<text text-anchor=\"middle\" x=\"315.9896\" y=\"-98.6979\" font-family=\"Times,serif\" font-size=\"14.00\" fill=\"#000000\">St3</text>\n</g>\n<!-- St6&#45;&gt;St3 -->\n<g id=\"edge5\" class=\"edge\">\n<title>St6&#45;&gt;St3</title>\n<path fill=\"none\" stroke=\"#000000\" d=\"M236.7772,-97.7744C250.228,-98.5595 267.3157,-99.5569 282.1744,-100.4242\"/>\n<polygon fill=\"#000000\" stroke=\"#000000\" points=\"282.3289,-103.9391 292.5159,-101.0278 282.7369,-96.951 282.3289,-103.9391\"/>\n<text text-anchor=\"middle\" x=\"264.5917\" y=\"-103.1979\" font-family=\"Times,serif\" font-size=\"14.00\" fill=\"#000000\">b </text>\n</g>\n<!-- St1 -->\n<g id=\"node6\" class=\"node\">\n<title>St1</title>\n<ellipse fill=\"none\" stroke=\"#000000\" cx=\"315.9896\" cy=\"-27.3979\" rx=\"23.3111\" ry=\"23.3111\"/>\n<ellipse fill=\"none\" stroke=\"#000000\" cx=\"315.9896\" cy=\"-27.3979\" rx=\"27.2962\" ry=\"27.2962\"/>\n<text text-anchor=\"middle\" x=\"315.9896\" y=\"-23.6979\" font-family=\"Times,serif\" font-size=\"14.00\" fill=\"#000000\">St1</text>\n</g>\n<!-- St6&#45;&gt;St1 -->\n<g id=\"edge4\" class=\"edge\">\n<title>St6&#45;&gt;St1</title>\n<path fill=\"none\" stroke=\"#000000\" d=\"M233.249,-83.7566C244.3317,-76.6993 258.3044,-67.6836 270.5917,-59.3979 275.2887,-56.2306 280.2208,-52.8317 285.0327,-49.4743\"/>\n<polygon fill=\"#000000\" stroke=\"#000000\" points=\"287.3168,-52.1471 293.4877,-43.5348 283.293,-46.4192 287.3168,-52.1471\"/>\n<text text-anchor=\"middle\" x=\"264.5917\" y=\"-70.1979\" font-family=\"Times,serif\" font-size=\"14.00\" fill=\"#000000\">a </text>\n</g>\n<!-- St2 -->\n<g id=\"node3\" class=\"node\">\n<title>St2</title>\n<ellipse fill=\"none\" stroke=\"#000000\" cx=\"412.7855\" cy=\"-60.3979\" rx=\"23.2963\" ry=\"23.2963\"/>\n<text text-anchor=\"middle\" x=\"412.7855\" y=\"-56.6979\" font-family=\"Times,serif\" font-size=\"14.00\" fill=\"#000000\">St2</text>\n</g>\n<!-- St0 -->\n<g id=\"node8\" class=\"node\">\n<title>St0</title>\n<ellipse fill=\"none\" stroke=\"#000000\" cx=\"511.5813\" cy=\"-63.3979\" rx=\"23.3111\" ry=\"23.3111\"/>\n<ellipse fill=\"none\" stroke=\"#000000\" cx=\"511.5813\" cy=\"-63.3979\" rx=\"27.2962\" ry=\"27.2962\"/>\n<text text-anchor=\"middle\" x=\"511.5813\" y=\"-59.6979\" font-family=\"Times,serif\" font-size=\"14.00\" fill=\"#000000\">St0</text>\n</g>\n<!-- St2&#45;&gt;St0 -->\n<g id=\"edge12\" class=\"edge\">\n<title>St2&#45;&gt;St0</title>\n<path fill=\"none\" stroke=\"#000000\" d=\"M433.8947,-49.7713C443.6326,-46.0876 455.4009,-43.3383 466.1834,-45.3979 469.8112,-46.0909 473.519,-47.0692 477.1744,-48.2158\"/>\n<polygon fill=\"#000000\" stroke=\"#000000\" points=\"476.0425,-51.5279 486.6373,-51.563 478.3769,-44.9286 476.0425,-51.5279\"/>\n<text text-anchor=\"middle\" x=\"460.1834\" y=\"-49.1979\" font-family=\"Times,serif\" font-size=\"14.00\" fill=\"#000000\">a </text>\n</g>\n<!-- St2&#45;&gt;St0 -->\n<g id=\"edge13\" class=\"edge\">\n<title>St2&#45;&gt;St0</title>\n<path fill=\"none\" stroke=\"#000000\" d=\"M436.1987,-61.1089C447.4326,-61.45 461.173,-61.8672 473.8312,-62.2516\"/>\n<polygon fill=\"#000000\" stroke=\"#000000\" points=\"474.0292,-65.7592 484.1309,-62.5644 474.2418,-58.7624 474.0292,-65.7592\"/>\n<text text-anchor=\"middle\" x=\"460.1834\" y=\"-66.1979\" font-family=\"Times,serif\" font-size=\"14.00\" fill=\"#000000\">b </text>\n</g>\n<!-- St4&#45;&gt;St6 -->\n<g id=\"edge2\" class=\"edge\">\n<title>St4&#45;&gt;St6</title>\n<path fill=\"none\" stroke=\"#000000\" d=\"M136.8162,-69.34C149.9532,-73.9939 166.7624,-79.9489 181.2655,-85.0868\"/>\n<polygon fill=\"#000000\" stroke=\"#000000\" points=\"180.2694,-88.447 190.8642,-88.4873 182.607,-81.8488 180.2694,-88.447\"/>\n<text text-anchor=\"middle\" x=\"161.7958\" y=\"-83.1979\" font-family=\"Times,serif\" font-size=\"14.00\" fill=\"#000000\">a </text>\n</g>\n<!-- St5 -->\n<g id=\"node7\" class=\"node\">\n<title>St5</title>\n<ellipse fill=\"none\" stroke=\"#000000\" cx=\"213.1938\" cy=\"-27.3979\" rx=\"23.3111\" ry=\"23.3111\"/>\n<ellipse fill=\"none\" stroke=\"#000000\" cx=\"213.1938\" cy=\"-27.3979\" rx=\"27.2962\" ry=\"27.2962\"/>\n<text text-anchor=\"middle\" x=\"213.1938\" y=\"-23.6979\" font-family=\"Times,serif\" font-size=\"14.00\" fill=\"#000000\">St5</text>\n</g>\n<!-- St4&#45;&gt;St5 -->\n<g id=\"edge3\" class=\"edge\">\n<title>St4&#45;&gt;St5</title>\n<path fill=\"none\" stroke=\"#000000\" d=\"M136.8162,-53.6828C148.819,-49.5521 163.8873,-44.3665 177.4614,-39.695\"/>\n<polygon fill=\"#000000\" stroke=\"#000000\" points=\"178.6994,-42.9705 187.0161,-36.4068 176.4214,-36.3515 178.6994,-42.9705\"/>\n<text text-anchor=\"middle\" x=\"161.7958\" y=\"-51.1979\" font-family=\"Times,serif\" font-size=\"14.00\" fill=\"#000000\">b </text>\n</g>\n<!-- St3&#45;&gt;St2 -->\n<g id=\"edge10\" class=\"edge\">\n<title>St3&#45;&gt;St2</title>\n<path fill=\"none\" stroke=\"#000000\" d=\"M337.4718,-93.0768C350.4143,-87.4609 367.1224,-80.2113 381.5119,-73.9676\"/>\n<polygon fill=\"#000000\" stroke=\"#000000\" points=\"383.2482,-77.0296 391.0287,-69.8383 380.4618,-70.608 383.2482,-77.0296\"/>\n<text text-anchor=\"middle\" x=\"366.3875\" y=\"-86.1979\" font-family=\"Times,serif\" font-size=\"14.00\" fill=\"#000000\">a </text>\n</g>\n<!-- St3&#45;&gt;St0 -->\n<g id=\"edge11\" class=\"edge\">\n<title>St3&#45;&gt;St0</title>\n<path fill=\"none\" stroke=\"#000000\" d=\"M339.4706,-102.5959C349.3398,-102.5179 360.9345,-102.2153 371.3875,-101.3979 400.3737,-99.1315 407.9751,-99.4425 436.1834,-92.3979 449.9616,-88.957 452.9148,-86.46 466.1834,-81.3979 469.451,-80.1513 472.8444,-78.8391 476.238,-77.5147\"/>\n<polygon fill=\"#000000\" stroke=\"#000000\" points=\"477.673,-80.7114 485.6988,-73.7949 475.1115,-74.1969 477.673,-80.7114\"/>\n<text text-anchor=\"middle\" x=\"412.7855\" y=\"-103.1979\" font-family=\"Times,serif\" font-size=\"14.00\" fill=\"#000000\">b </text>\n</g>\n<!-- St1&#45;&gt;St2 -->\n<g id=\"edge8\" class=\"edge\">\n<title>St1&#45;&gt;St2</title>\n<path fill=\"none\" stroke=\"#000000\" d=\"M341.9291,-36.2413C353.8598,-40.3088 368.13,-45.1738 380.7271,-49.4685\"/>\n<polygon fill=\"#000000\" stroke=\"#000000\" points=\"379.7998,-52.8501 390.3943,-52.7642 382.0586,-46.2245 379.7998,-52.8501\"/>\n<text text-anchor=\"middle\" x=\"366.3875\" y=\"-50.1979\" font-family=\"Times,serif\" font-size=\"14.00\" fill=\"#000000\">a </text>\n</g>\n<!-- St1&#45;&gt;St0 -->\n<g id=\"edge9\" class=\"edge\">\n<title>St1&#45;&gt;St0</title>\n<path fill=\"none\" stroke=\"#000000\" d=\"M342.3181,-18.3283C367.0369,-11.207 404.8055,-3.9392 436.1834,-13.3979 453.0838,-18.4924 469.6762,-28.7499 482.9741,-38.6554\"/>\n<polygon fill=\"#000000\" stroke=\"#000000\" points=\"481.1641,-41.6815 491.2071,-45.0562 485.4606,-36.1552 481.1641,-41.6815\"/>\n<text text-anchor=\"middle\" x=\"412.7855\" y=\"-17.1979\" font-family=\"Times,serif\" font-size=\"14.00\" fill=\"#000000\">b </text>\n</g>\n<!-- St5&#45;&gt;St3 -->\n<g id=\"edge7\" class=\"edge\">\n<title>St5&#45;&gt;St3</title>\n<path fill=\"none\" stroke=\"#000000\" d=\"M240.7655,-29.5908C250.7832,-31.3919 261.7932,-34.624 270.5917,-40.3979 272.4794,-41.6367 285.0697,-58.9087 296.5133,-74.9075\"/>\n<polygon fill=\"#000000\" stroke=\"#000000\" points=\"293.6751,-76.9556 302.3303,-83.066 299.3747,-72.8918 293.6751,-76.9556\"/>\n<text text-anchor=\"middle\" x=\"264.5917\" y=\"-44.1979\" font-family=\"Times,serif\" font-size=\"14.00\" fill=\"#000000\">b </text>\n</g>\n<!-- St5&#45;&gt;St1 -->\n<g id=\"edge6\" class=\"edge\">\n<title>St5&#45;&gt;St1</title>\n<path fill=\"none\" stroke=\"#000000\" d=\"M236.2287,-12.5147C246.5481,-7.5437 258.9852,-3.8435 270.5917,-6.3979 274.4877,-7.2554 278.4472,-8.4813 282.3221,-9.9158\"/>\n<polygon fill=\"#000000\" stroke=\"#000000\" points=\"281.1182,-13.2058 291.6952,-13.8204 283.8101,-6.7441 281.1182,-13.2058\"/>\n<text text-anchor=\"middle\" x=\"264.5917\" y=\"-10.1979\" font-family=\"Times,serif\" font-size=\"14.00\" fill=\"#000000\">a </text>\n</g>\n<!-- St0&#45;&gt;St0 -->\n<g id=\"edge14\" class=\"edge\">\n<title>St0&#45;&gt;St0</title>\n<path fill=\"none\" stroke=\"#000000\" d=\"M506.9041,-90.4297C506.7508,-100.5036 508.3098,-108.7958 511.5813,-108.7958 513.626,-108.7958 515.0018,-105.5567 515.7086,-100.6679\"/>\n<polygon fill=\"#000000\" stroke=\"#000000\" points=\"519.217,-100.6031 516.2585,-90.4297 512.2271,-100.2276 519.217,-100.6031\"/>\n<text text-anchor=\"middle\" x=\"511.5813\" y=\"-112.5958\" font-family=\"Times,serif\" font-size=\"14.00\" fill=\"#000000\">a </text>\n</g>\n<!-- St0&#45;&gt;St0 -->\n<g id=\"edge15\" class=\"edge\">\n<title>St0&#45;&gt;St0</title>\n<path fill=\"none\" stroke=\"#000000\" d=\"M503.1682,-89.777C500.525,-108.3764 503.3294,-126.7958 511.5813,-126.7958 518.286,-126.7958 521.3945,-114.6361 520.9067,-100.1\"/>\n<polygon fill=\"#000000\" stroke=\"#000000\" points=\"524.3612,-99.4301 519.9944,-89.777 517.3884,-100.0463 524.3612,-99.4301\"/>\n<text text-anchor=\"middle\" x=\"511.5813\" y=\"-130.5958\" font-family=\"Times,serif\" font-size=\"14.00\" fill=\"#000000\">b </text>\n</g>\n</g>\n</svg>\n"
          },
          "metadata": {
            "tags": []
          },
          "execution_count": 20
        }
      ]
    },
    {
      "cell_type": "markdown",
      "metadata": {
        "id": "CvpMl5CtFTW1"
      },
      "source": [
        "## Problem 4.4: Reverse DFA2 to obtain NFA3"
      ]
    },
    {
      "cell_type": "code",
      "metadata": {
        "id": "ToAOo9rsFTW1"
      },
      "source": [
        "NFA3 = rev_dfa(DFA2)"
      ],
      "execution_count": 21,
      "outputs": []
    },
    {
      "cell_type": "code",
      "metadata": {
        "id": "53S3a1k_FTW7",
        "outputId": "2188d09c-6e58-4238-dd50-8a993066a965",
        "colab": {
          "base_uri": "https://localhost:8080/",
          "height": 0
        }
      },
      "source": [
        "dotObj_nfa(NFA3)"
      ],
      "execution_count": 22,
      "outputs": [
        {
          "output_type": "execute_result",
          "data": {
            "text/plain": [
              "<graphviz.dot.Digraph at 0x7f0b9b44e9b0>"
            ],
            "image/svg+xml": "<?xml version=\"1.0\" encoding=\"UTF-8\" standalone=\"no\"?>\n<!DOCTYPE svg PUBLIC \"-//W3C//DTD SVG 1.1//EN\"\n \"http://www.w3.org/Graphics/SVG/1.1/DTD/svg11.dtd\">\n<!-- Generated by graphviz version 2.40.1 (20161225.0304)\n -->\n<!-- Title: %3 Pages: 1 -->\n<svg width=\"531pt\" height=\"206pt\"\n viewBox=\"0.00 0.00 530.98 205.59\" xmlns=\"http://www.w3.org/2000/svg\" xmlns:xlink=\"http://www.w3.org/1999/xlink\">\n<g id=\"graph0\" class=\"graph\" transform=\"scale(1 1) rotate(0) translate(4 201.594)\">\n<title>%3</title>\n<polygon fill=\"#ffffff\" stroke=\"transparent\" points=\"-4,4 -4,-201.594 526.9792,-201.594 526.9792,4 -4,4\"/>\n<!-- EMPTY -->\n<g id=\"node1\" class=\"node\">\n<title>EMPTY</title>\n</g>\n<!-- St5 -->\n<g id=\"node2\" class=\"node\">\n<title>St5</title>\n<ellipse fill=\"none\" stroke=\"#000000\" cx=\"396.7855\" cy=\"-39\" rx=\"23.2963\" ry=\"23.2963\"/>\n<text text-anchor=\"middle\" x=\"396.7855\" y=\"-35.3\" font-family=\"Times,serif\" font-size=\"14.00\" fill=\"#000000\">St5</text>\n</g>\n<!-- EMPTY&#45;&gt;St5 -->\n<g id=\"edge2\" class=\"edge\">\n<title>EMPTY&#45;&gt;St5</title>\n<path fill=\"none\" stroke=\"#000000\" d=\"M35.4614,-66.9737C48.5687,-42.0227 76.2993,0 114.3979,0 114.3979,0 114.3979,0 301.9896,0 325.7389,0 350.4884,-10.5984 368.7413,-20.7454\"/>\n<polygon fill=\"#000000\" stroke=\"#000000\" points=\"366.9989,-23.7809 377.4002,-25.7964 370.526,-17.7344 366.9989,-23.7809\"/>\n</g>\n<!-- St0 -->\n<g id=\"node4\" class=\"node\">\n<title>St0</title>\n<ellipse fill=\"none\" stroke=\"#000000\" cx=\"114.3979\" cy=\"-85\" rx=\"23.2963\" ry=\"23.2963\"/>\n<text text-anchor=\"middle\" x=\"114.3979\" y=\"-81.3\" font-family=\"Times,serif\" font-size=\"14.00\" fill=\"#000000\">St0</text>\n</g>\n<!-- EMPTY&#45;&gt;St0 -->\n<g id=\"edge3\" class=\"edge\">\n<title>EMPTY&#45;&gt;St0</title>\n<path fill=\"none\" stroke=\"#000000\" d=\"M54.1742,-85C62.5103,-85 71.7873,-85 80.5137,-85\"/>\n<polygon fill=\"#000000\" stroke=\"#000000\" points=\"80.7846,-88.5001 90.7846,-85 80.7845,-81.5001 80.7846,-88.5001\"/>\n</g>\n<!-- St1 -->\n<g id=\"node7\" class=\"node\">\n<title>St1</title>\n<ellipse fill=\"none\" stroke=\"#000000\" cx=\"301.9896\" cy=\"-153\" rx=\"23.2963\" ry=\"23.2963\"/>\n<text text-anchor=\"middle\" x=\"301.9896\" y=\"-149.3\" font-family=\"Times,serif\" font-size=\"14.00\" fill=\"#000000\">St1</text>\n</g>\n<!-- EMPTY&#45;&gt;St1 -->\n<g id=\"edge1\" class=\"edge\">\n<title>EMPTY&#45;&gt;St1</title>\n<path fill=\"none\" stroke=\"#000000\" d=\"M32.7745,-103.1404C41.3025,-126.4922 59.7265,-166.0718 91,-183 149.1085,-214.4539 228.8235,-187.4226 271.7198,-168.1987\"/>\n<polygon fill=\"#000000\" stroke=\"#000000\" points=\"273.4426,-171.258 281.0461,-163.8798 270.5011,-164.906 273.4426,-171.258\"/>\n</g>\n<!-- St4 -->\n<g id=\"node8\" class=\"node\">\n<title>St4</title>\n<ellipse fill=\"none\" stroke=\"#000000\" cx=\"495.5813\" cy=\"-71\" rx=\"23.3111\" ry=\"23.3111\"/>\n<ellipse fill=\"none\" stroke=\"#000000\" cx=\"495.5813\" cy=\"-71\" rx=\"27.2962\" ry=\"27.2962\"/>\n<text text-anchor=\"middle\" x=\"495.5813\" y=\"-67.3\" font-family=\"Times,serif\" font-size=\"14.00\" fill=\"#000000\">St4</text>\n</g>\n<!-- St5&#45;&gt;St4 -->\n<g id=\"edge4\" class=\"edge\">\n<title>St5&#45;&gt;St4</title>\n<path fill=\"none\" stroke=\"#000000\" d=\"M419.2038,-46.2613C431.2065,-50.149 446.2748,-55.0296 459.8489,-59.4263\"/>\n<polygon fill=\"#000000\" stroke=\"#000000\" points=\"458.8117,-62.7693 469.4037,-62.5211 460.9688,-56.1099 458.8117,-62.7693\"/>\n<text text-anchor=\"middle\" x=\"444.1834\" y=\"-59.8\" font-family=\"Times,serif\" font-size=\"14.00\" fill=\"#000000\">b </text>\n</g>\n<!-- St2 -->\n<g id=\"node3\" class=\"node\">\n<title>St2</title>\n<ellipse fill=\"none\" stroke=\"#000000\" cx=\"209.1938\" cy=\"-102\" rx=\"23.2963\" ry=\"23.2963\"/>\n<text text-anchor=\"middle\" x=\"209.1938\" y=\"-98.3\" font-family=\"Times,serif\" font-size=\"14.00\" fill=\"#000000\">St2</text>\n</g>\n<!-- St3 -->\n<g id=\"node5\" class=\"node\">\n<title>St3</title>\n<ellipse fill=\"none\" stroke=\"#000000\" cx=\"301.9896\" cy=\"-64\" rx=\"23.2963\" ry=\"23.2963\"/>\n<text text-anchor=\"middle\" x=\"301.9896\" y=\"-60.3\" font-family=\"Times,serif\" font-size=\"14.00\" fill=\"#000000\">St3</text>\n</g>\n<!-- St2&#45;&gt;St3 -->\n<g id=\"edge6\" class=\"edge\">\n<title>St2&#45;&gt;St3</title>\n<path fill=\"none\" stroke=\"#000000\" d=\"M231.1851,-92.9945C242.9728,-88.1675 257.6986,-82.1372 270.6632,-76.8282\"/>\n<polygon fill=\"#000000\" stroke=\"#000000\" points=\"272.2284,-79.9694 280.1562,-72.9408 269.5756,-73.4915 272.2284,-79.9694\"/>\n<text text-anchor=\"middle\" x=\"255.5917\" y=\"-87.8\" font-family=\"Times,serif\" font-size=\"14.00\" fill=\"#000000\">a </text>\n</g>\n<!-- St2&#45;&gt;St1 -->\n<g id=\"edge5\" class=\"edge\">\n<title>St2&#45;&gt;St1</title>\n<path fill=\"none\" stroke=\"#000000\" d=\"M229.7882,-113.3186C242.2827,-120.1855 258.4377,-129.0641 272.2975,-136.6814\"/>\n<polygon fill=\"#000000\" stroke=\"#000000\" points=\"271.0033,-139.9639 281.4528,-141.7131 274.3749,-133.8293 271.0033,-139.9639\"/>\n<text text-anchor=\"middle\" x=\"255.5917\" y=\"-132.8\" font-family=\"Times,serif\" font-size=\"14.00\" fill=\"#000000\">a </text>\n</g>\n<!-- St0&#45;&gt;St2 -->\n<g id=\"edge7\" class=\"edge\">\n<title>St0&#45;&gt;St2</title>\n<path fill=\"none\" stroke=\"#000000\" d=\"M136.4443,-93.682C142.6159,-95.7739 149.3898,-97.7606 155.7958,-99 162.1372,-100.2269 168.975,-101.0085 175.5712,-101.4963\"/>\n<polygon fill=\"#000000\" stroke=\"#000000\" points=\"175.4567,-104.9952 185.6318,-102.0427 175.8364,-98.0055 175.4567,-104.9952\"/>\n<text text-anchor=\"middle\" x=\"161.7958\" y=\"-103.8\" font-family=\"Times,serif\" font-size=\"14.00\" fill=\"#000000\">a </text>\n</g>\n<!-- St0&#45;&gt;St2 -->\n<g id=\"edge10\" class=\"edge\">\n<title>St0&#45;&gt;St2</title>\n<path fill=\"none\" stroke=\"#000000\" d=\"M137.2566,-79.5198C146.8058,-78.088 157.948,-77.5458 167.7958,-80 171.9716,-81.0406 176.1885,-82.5899 180.2513,-84.3934\"/>\n<polygon fill=\"#000000\" stroke=\"#000000\" points=\"178.8498,-87.6056 189.3599,-88.9428 181.9777,-81.3433 178.8498,-87.6056\"/>\n<text text-anchor=\"middle\" x=\"161.7958\" y=\"-83.8\" font-family=\"Times,serif\" font-size=\"14.00\" fill=\"#000000\">b </text>\n</g>\n<!-- St0&#45;&gt;St0 -->\n<g id=\"edge8\" class=\"edge\">\n<title>St0&#45;&gt;St0</title>\n<path fill=\"none\" stroke=\"#000000\" d=\"M110.6809,-108.4068C110.4245,-118.1439 111.6635,-126.3979 114.3979,-126.3979 116.0642,-126.3979 117.1752,-123.3329 117.7309,-118.735\"/>\n<polygon fill=\"#000000\" stroke=\"#000000\" points=\"121.2408,-118.53 118.115,-108.4068 114.2456,-118.2698 121.2408,-118.53\"/>\n<text text-anchor=\"middle\" x=\"114.3979\" y=\"-130.1979\" font-family=\"Times,serif\" font-size=\"14.00\" fill=\"#000000\">a </text>\n</g>\n<!-- St0&#45;&gt;St0 -->\n<g id=\"edge11\" class=\"edge\">\n<title>St0&#45;&gt;St0</title>\n<path fill=\"none\" stroke=\"#000000\" d=\"M107.9526,-107.5497C105.3745,-125.6814 107.5229,-144.3979 114.3979,-144.3979 119.9839,-144.3979 122.4495,-132.0421 121.7949,-117.6833\"/>\n<polygon fill=\"#000000\" stroke=\"#000000\" points=\"125.263,-117.1786 120.8432,-107.5497 118.2937,-117.8332 125.263,-117.1786\"/>\n<text text-anchor=\"middle\" x=\"114.3979\" y=\"-148.1979\" font-family=\"Times,serif\" font-size=\"14.00\" fill=\"#000000\">b </text>\n</g>\n<!-- St0&#45;&gt;St3 -->\n<g id=\"edge12\" class=\"edge\">\n<title>St0&#45;&gt;St3</title>\n<path fill=\"none\" stroke=\"#000000\" d=\"M134.9386,-73.786C148.8407,-66.8539 167.8708,-58.6129 185.7958,-55 213.4876,-49.4186 245.5349,-52.6021 268.9503,-56.6502\"/>\n<polygon fill=\"#000000\" stroke=\"#000000\" points=\"268.5812,-60.1419 279.0546,-58.5427 269.8698,-53.2615 268.5812,-60.1419\"/>\n<text text-anchor=\"middle\" x=\"209.1938\" y=\"-58.8\" font-family=\"Times,serif\" font-size=\"14.00\" fill=\"#000000\">b </text>\n</g>\n<!-- St0&#45;&gt;St1 -->\n<g id=\"edge9\" class=\"edge\">\n<title>St0&#45;&gt;St1</title>\n<path fill=\"none\" stroke=\"#000000\" d=\"M131.8632,-100.8123C139.0071,-106.8819 147.526,-113.6335 155.7958,-119 190.0659,-141.2388 237.1909,-148.9906 268.5728,-151.6588\"/>\n<polygon fill=\"#000000\" stroke=\"#000000\" points=\"268.344,-155.1513 278.5706,-152.3824 268.8493,-148.1696 268.344,-155.1513\"/>\n<text text-anchor=\"middle\" x=\"209.1938\" y=\"-149.8\" font-family=\"Times,serif\" font-size=\"14.00\" fill=\"#000000\">b </text>\n</g>\n<!-- St3&#45;&gt;St5 -->\n<g id=\"edge14\" class=\"edge\">\n<title>St3&#45;&gt;St5</title>\n<path fill=\"none\" stroke=\"#000000\" d=\"M321.2867,-50.1052C327.9635,-46.0538 335.7056,-42.1431 343.3875,-40 349.6588,-38.2505 356.5072,-37.3855 363.1443,-37.0514\"/>\n<polygon fill=\"#000000\" stroke=\"#000000\" points=\"363.3357,-40.5492 373.2868,-36.9126 363.2399,-33.5499 363.3357,-40.5492\"/>\n<text text-anchor=\"middle\" x=\"349.3875\" y=\"-43.8\" font-family=\"Times,serif\" font-size=\"14.00\" fill=\"#000000\">b </text>\n</g>\n<!-- St6 -->\n<g id=\"node6\" class=\"node\">\n<title>St6</title>\n<ellipse fill=\"none\" stroke=\"#000000\" cx=\"396.7855\" cy=\"-104\" rx=\"23.2963\" ry=\"23.2963\"/>\n<text text-anchor=\"middle\" x=\"396.7855\" y=\"-100.3\" font-family=\"Times,serif\" font-size=\"14.00\" fill=\"#000000\">St6</text>\n</g>\n<!-- St3&#45;&gt;St6 -->\n<g id=\"edge13\" class=\"edge\">\n<title>St3&#45;&gt;St6</title>\n<path fill=\"none\" stroke=\"#000000\" d=\"M325.1069,-68.4414C334.6977,-70.6952 345.8012,-73.8494 355.3875,-78 359.9194,-79.9622 364.5299,-82.3756 368.9491,-84.9337\"/>\n<polygon fill=\"#000000\" stroke=\"#000000\" points=\"367.3127,-88.0361 377.665,-90.2898 370.9776,-82.0722 367.3127,-88.0361\"/>\n<text text-anchor=\"middle\" x=\"349.3875\" y=\"-81.8\" font-family=\"Times,serif\" font-size=\"14.00\" fill=\"#000000\">b </text>\n</g>\n<!-- St6&#45;&gt;St4 -->\n<g id=\"edge15\" class=\"edge\">\n<title>St6&#45;&gt;St4</title>\n<path fill=\"none\" stroke=\"#000000\" d=\"M419.2038,-96.5118C431.2065,-92.5026 446.2748,-87.4695 459.8489,-82.9354\"/>\n<polygon fill=\"#000000\" stroke=\"#000000\" points=\"461.0277,-86.2318 469.4037,-79.7439 458.8099,-79.5924 461.0277,-86.2318\"/>\n<text text-anchor=\"middle\" x=\"444.1834\" y=\"-92.8\" font-family=\"Times,serif\" font-size=\"14.00\" fill=\"#000000\">a </text>\n</g>\n<!-- St1&#45;&gt;St5 -->\n<g id=\"edge17\" class=\"edge\">\n<title>St1&#45;&gt;St5</title>\n<path fill=\"none\" stroke=\"#000000\" d=\"M317.9883,-135.7048C328.7805,-123.874 343.2176,-107.7259 355.3875,-93 362.516,-84.3744 370.0372,-74.7386 376.6845,-66.0211\"/>\n<polygon fill=\"#000000\" stroke=\"#000000\" points=\"379.5052,-68.0938 382.7485,-58.0075 373.9232,-63.8698 379.5052,-68.0938\"/>\n<text text-anchor=\"middle\" x=\"349.3875\" y=\"-109.8\" font-family=\"Times,serif\" font-size=\"14.00\" fill=\"#000000\">a </text>\n</g>\n<!-- St1&#45;&gt;St6 -->\n<g id=\"edge16\" class=\"edge\">\n<title>St1&#45;&gt;St6</title>\n<path fill=\"none\" stroke=\"#000000\" d=\"M324.2353,-144.9118C333.9867,-141.0936 345.4497,-136.2291 355.3875,-131 359.8061,-128.6751 364.3547,-126.0121 368.7461,-123.285\"/>\n<polygon fill=\"#000000\" stroke=\"#000000\" points=\"370.9326,-126.04 377.4469,-117.6845 367.1439,-120.1539 370.9326,-126.04\"/>\n<text text-anchor=\"middle\" x=\"349.3875\" y=\"-139.8\" font-family=\"Times,serif\" font-size=\"14.00\" fill=\"#000000\">a </text>\n</g>\n</g>\n</svg>\n"
          },
          "metadata": {
            "tags": []
          },
          "execution_count": 22
        }
      ]
    },
    {
      "cell_type": "markdown",
      "metadata": {
        "id": "QmZb00RWFTXA"
      },
      "source": [
        "## Problem 4.5:  One more determinization, and we are done minimizing\n"
      ]
    },
    {
      "cell_type": "code",
      "metadata": {
        "id": "5kuhsa5kFTXE"
      },
      "source": [
        "DFA_min = nfa2dfa(NFA3)"
      ],
      "execution_count": 23,
      "outputs": []
    },
    {
      "cell_type": "code",
      "metadata": {
        "id": "oaXrlZ1WFTXJ",
        "outputId": "1920c794-6dd5-476c-96e1-c93895e0455d",
        "colab": {
          "base_uri": "https://localhost:8080/",
          "height": 0
        }
      },
      "source": [
        "dotObj_dfa(DFA_min)"
      ],
      "execution_count": 24,
      "outputs": [
        {
          "output_type": "execute_result",
          "data": {
            "text/plain": [
              "<graphviz.dot.Digraph at 0x7f0b9b44ec18>"
            ],
            "image/svg+xml": "<?xml version=\"1.0\" encoding=\"UTF-8\" standalone=\"no\"?>\n<!DOCTYPE svg PUBLIC \"-//W3C//DTD SVG 1.1//EN\"\n \"http://www.w3.org/Graphics/SVG/1.1/DTD/svg11.dtd\">\n<!-- Generated by graphviz version 2.40.1 (20161225.0304)\n -->\n<!-- Title: %3 Pages: 1 -->\n<svg width=\"539pt\" height=\"142pt\"\n viewBox=\"0.00 0.00 538.98 141.80\" xmlns=\"http://www.w3.org/2000/svg\" xmlns:xlink=\"http://www.w3.org/1999/xlink\">\n<g id=\"graph0\" class=\"graph\" transform=\"scale(1 1) rotate(0) translate(4 137.7958)\">\n<title>%3</title>\n<polygon fill=\"#ffffff\" stroke=\"transparent\" points=\"-4,4 -4,-137.7958 534.9792,-137.7958 534.9792,4 -4,4\"/>\n<!-- EMPTY -->\n<g id=\"node1\" class=\"node\">\n<title>EMPTY</title>\n</g>\n<!-- St3 -->\n<g id=\"node4\" class=\"node\">\n<title>St3</title>\n<ellipse fill=\"none\" stroke=\"#000000\" cx=\"114.3979\" cy=\"-23.3979\" rx=\"23.2963\" ry=\"23.2963\"/>\n<text text-anchor=\"middle\" x=\"114.3979\" y=\"-19.6979\" font-family=\"Times,serif\" font-size=\"14.00\" fill=\"#000000\">St3</text>\n</g>\n<!-- EMPTY&#45;&gt;St3 -->\n<g id=\"edge1\" class=\"edge\">\n<title>EMPTY&#45;&gt;St3</title>\n<path fill=\"none\" stroke=\"#000000\" d=\"M54.1742,-23.3979C62.5103,-23.3979 71.7873,-23.3979 80.5137,-23.3979\"/>\n<polygon fill=\"#000000\" stroke=\"#000000\" points=\"80.7846,-26.898 90.7846,-23.3979 80.7845,-19.898 80.7846,-26.898\"/>\n</g>\n<!-- St2 -->\n<g id=\"node2\" class=\"node\">\n<title>St2</title>\n<ellipse fill=\"none\" stroke=\"#000000\" cx=\"404.7855\" cy=\"-40.3979\" rx=\"23.2963\" ry=\"23.2963\"/>\n<text text-anchor=\"middle\" x=\"404.7855\" y=\"-36.6979\" font-family=\"Times,serif\" font-size=\"14.00\" fill=\"#000000\">St2</text>\n</g>\n<!-- St0 -->\n<g id=\"node6\" class=\"node\">\n<title>St0</title>\n<ellipse fill=\"none\" stroke=\"#000000\" cx=\"503.5813\" cy=\"-40.3979\" rx=\"23.3111\" ry=\"23.3111\"/>\n<ellipse fill=\"none\" stroke=\"#000000\" cx=\"503.5813\" cy=\"-40.3979\" rx=\"27.2962\" ry=\"27.2962\"/>\n<text text-anchor=\"middle\" x=\"503.5813\" y=\"-36.6979\" font-family=\"Times,serif\" font-size=\"14.00\" fill=\"#000000\">St0</text>\n</g>\n<!-- St2&#45;&gt;St0 -->\n<g id=\"edge8\" class=\"edge\">\n<title>St2&#45;&gt;St0</title>\n<path fill=\"none\" stroke=\"#000000\" d=\"M428.1987,-40.3979C439.4326,-40.3979 453.173,-40.3979 465.8312,-40.3979\"/>\n<polygon fill=\"#000000\" stroke=\"#000000\" points=\"466.1309,-43.898 476.1309,-40.3979 466.1309,-36.898 466.1309,-43.898\"/>\n<text text-anchor=\"middle\" x=\"452.1834\" y=\"-44.1979\" font-family=\"Times,serif\" font-size=\"14.00\" fill=\"#000000\">a </text>\n</g>\n<!-- St2&#45;&gt;St0 -->\n<g id=\"edge9\" class=\"edge\">\n<title>St2&#45;&gt;St0</title>\n<path fill=\"none\" stroke=\"#000000\" d=\"M425.2357,-28.908C431.7302,-25.8418 439.0758,-22.9511 446.1834,-21.3979 454.1148,-19.6647 462.4928,-20.7131 470.3237,-23.0205\"/>\n<polygon fill=\"#000000\" stroke=\"#000000\" points=\"469.2814,-26.3658 479.8754,-26.502 471.6786,-19.7891 469.2814,-26.3658\"/>\n<text text-anchor=\"middle\" x=\"452.1834\" y=\"-25.1979\" font-family=\"Times,serif\" font-size=\"14.00\" fill=\"#000000\">b </text>\n</g>\n<!-- St4 -->\n<g id=\"node3\" class=\"node\">\n<title>St4</title>\n<ellipse fill=\"none\" stroke=\"#000000\" cx=\"207.1938\" cy=\"-63.3979\" rx=\"23.2963\" ry=\"23.2963\"/>\n<text text-anchor=\"middle\" x=\"207.1938\" y=\"-59.6979\" font-family=\"Times,serif\" font-size=\"14.00\" fill=\"#000000\">St4</text>\n</g>\n<!-- St1 -->\n<g id=\"node5\" class=\"node\">\n<title>St1</title>\n<ellipse fill=\"none\" stroke=\"#000000\" cx=\"305.9896\" cy=\"-40.3979\" rx=\"23.3111\" ry=\"23.3111\"/>\n<ellipse fill=\"none\" stroke=\"#000000\" cx=\"305.9896\" cy=\"-40.3979\" rx=\"27.2962\" ry=\"27.2962\"/>\n<text text-anchor=\"middle\" x=\"305.9896\" y=\"-36.6979\" font-family=\"Times,serif\" font-size=\"14.00\" fill=\"#000000\">St1</text>\n</g>\n<!-- St4&#45;&gt;St1 -->\n<g id=\"edge4\" class=\"edge\">\n<title>St4&#45;&gt;St1</title>\n<path fill=\"none\" stroke=\"#000000\" d=\"M230.5156,-61.4077C239.9366,-60.3278 250.8615,-58.7234 260.5917,-56.3979 263.9444,-55.5966 267.3954,-54.6381 270.8259,-53.5939\"/>\n<polygon fill=\"#000000\" stroke=\"#000000\" points=\"271.9236,-56.9174 280.341,-50.4834 269.7485,-50.2639 271.9236,-56.9174\"/>\n<text text-anchor=\"middle\" x=\"254.5917\" y=\"-62.1979\" font-family=\"Times,serif\" font-size=\"14.00\" fill=\"#000000\">a </text>\n</g>\n<!-- St4&#45;&gt;St1 -->\n<g id=\"edge5\" class=\"edge\">\n<title>St4&#45;&gt;St1</title>\n<path fill=\"none\" stroke=\"#000000\" d=\"M225.903,-48.5416C232.6593,-44.0493 240.5992,-39.6996 248.5917,-37.3979 254.9473,-35.5676 261.8595,-34.8862 268.614,-34.8814\"/>\n<polygon fill=\"#000000\" stroke=\"#000000\" points=\"268.8443,-38.3958 278.9958,-35.363 269.1688,-31.4033 268.8443,-38.3958\"/>\n<text text-anchor=\"middle\" x=\"254.5917\" y=\"-41.1979\" font-family=\"Times,serif\" font-size=\"14.00\" fill=\"#000000\">b </text>\n</g>\n<!-- St3&#45;&gt;St4 -->\n<g id=\"edge2\" class=\"edge\">\n<title>St3&#45;&gt;St4</title>\n<path fill=\"none\" stroke=\"#000000\" d=\"M135.9204,-32.6753C147.8976,-37.8381 163.0147,-44.3544 176.2414,-50.0558\"/>\n<polygon fill=\"#000000\" stroke=\"#000000\" points=\"174.8979,-53.2879 185.4666,-54.0323 177.6689,-46.8597 174.8979,-53.2879\"/>\n<text text-anchor=\"middle\" x=\"160.7958\" y=\"-48.1979\" font-family=\"Times,serif\" font-size=\"14.00\" fill=\"#000000\">a </text>\n</g>\n<!-- St3&#45;&gt;St1 -->\n<g id=\"edge3\" class=\"edge\">\n<title>St3&#45;&gt;St1</title>\n<path fill=\"none\" stroke=\"#000000\" d=\"M137.6828,-19.0895C161.2399,-15.4104 198.6402,-11.4353 230.5917,-16.3979 243.9804,-18.4774 258.2446,-22.5172 270.7221,-26.698\"/>\n<polygon fill=\"#000000\" stroke=\"#000000\" points=\"269.7001,-30.0484 280.295,-30.0464 272.0114,-23.4409 269.7001,-30.0484\"/>\n<text text-anchor=\"middle\" x=\"207.1938\" y=\"-20.1979\" font-family=\"Times,serif\" font-size=\"14.00\" fill=\"#000000\">b </text>\n</g>\n<!-- St1&#45;&gt;St2 -->\n<g id=\"edge6\" class=\"edge\">\n<title>St1&#45;&gt;St2</title>\n<path fill=\"none\" stroke=\"#000000\" d=\"M333.5098,-40.3979C345.0796,-40.3979 358.6561,-40.3979 370.8385,-40.3979\"/>\n<polygon fill=\"#000000\" stroke=\"#000000\" points=\"371.0998,-43.898 381.0998,-40.3979 371.0998,-36.898 371.0998,-43.898\"/>\n<text text-anchor=\"middle\" x=\"357.3875\" y=\"-44.1979\" font-family=\"Times,serif\" font-size=\"14.00\" fill=\"#000000\">a </text>\n</g>\n<!-- St1&#45;&gt;St2 -->\n<g id=\"edge7\" class=\"edge\">\n<title>St1&#45;&gt;St2</title>\n<path fill=\"none\" stroke=\"#000000\" d=\"M329.6955,-26.502C339.9236,-22.0943 352.1074,-18.933 363.3875,-21.3979 367.2745,-22.2473 371.2327,-23.4967 375.0839,-24.9561\"/>\n<polygon fill=\"#000000\" stroke=\"#000000\" points=\"373.7642,-28.1983 384.3353,-28.908 376.5141,-21.761 373.7642,-28.1983\"/>\n<text text-anchor=\"middle\" x=\"357.3875\" y=\"-25.1979\" font-family=\"Times,serif\" font-size=\"14.00\" fill=\"#000000\">b </text>\n</g>\n<!-- St0&#45;&gt;St0 -->\n<g id=\"edge10\" class=\"edge\">\n<title>St0&#45;&gt;St0</title>\n<path fill=\"none\" stroke=\"#000000\" d=\"M498.9041,-67.4297C498.7508,-77.5036 500.3098,-85.7958 503.5813,-85.7958 505.626,-85.7958 507.0018,-82.5567 507.7086,-77.6679\"/>\n<polygon fill=\"#000000\" stroke=\"#000000\" points=\"511.217,-77.6031 508.2585,-67.4297 504.2271,-77.2276 511.217,-77.6031\"/>\n<text text-anchor=\"middle\" x=\"503.5813\" y=\"-89.5958\" font-family=\"Times,serif\" font-size=\"14.00\" fill=\"#000000\">a </text>\n</g>\n<!-- St0&#45;&gt;St0 -->\n<g id=\"edge11\" class=\"edge\">\n<title>St0&#45;&gt;St0</title>\n<path fill=\"none\" stroke=\"#000000\" d=\"M495.1682,-66.777C492.525,-85.3764 495.3294,-103.7958 503.5813,-103.7958 510.286,-103.7958 513.3945,-91.6361 512.9067,-77.1\"/>\n<polygon fill=\"#000000\" stroke=\"#000000\" points=\"516.3612,-76.4301 511.9944,-66.777 509.3884,-77.0463 516.3612,-76.4301\"/>\n<text text-anchor=\"middle\" x=\"503.5813\" y=\"-107.5958\" font-family=\"Times,serif\" font-size=\"14.00\" fill=\"#000000\">b </text>\n</g>\n</g>\n</svg>\n"
          },
          "metadata": {
            "tags": []
          },
          "execution_count": 24
        }
      ]
    },
    {
      "cell_type": "markdown",
      "metadata": {
        "id": "nZIGy6WtFTXN"
      },
      "source": [
        "# Check that DFA_min and DFA_bloated have the same language but are not isomorphic"
      ]
    },
    {
      "cell_type": "code",
      "metadata": {
        "id": "7Ykgsd_bFTXO",
        "outputId": "9d213657-eeb4-406f-a52a-a7ab3045922c",
        "colab": {
          "base_uri": "https://localhost:8080/",
          "height": 0
        }
      },
      "source": [
        "help(langeq_dfa)"
      ],
      "execution_count": 25,
      "outputs": [
        {
          "output_type": "stream",
          "text": [
            "Help on function langeq_dfa in module jove.Def_DFA:\n",
            "\n",
            "langeq_dfa(D1, D2, gen_counterex=False)\n",
            "    Given consistent and total DFAs D1 and D2,\n",
            "    check whether they are language-equivalent. \n",
            "    gen_counterex is a flag that triggers the\n",
            "     printing of a counter-example showing the\n",
            "     pairs that were marched in tandem till a\n",
            "     difference was found.\n",
            "     \n",
            "    Two DFAs are language-equivalent if they \n",
            "    accept the same set of strings. We determine\n",
            "    this through a joint depth-first walk of the \n",
            "    two DFAs until we detect a difference (return\n",
            "    False then) or all pairs of states have been\n",
            "    visited (return True then).\n",
            "\n"
          ],
          "name": "stdout"
        }
      ]
    },
    {
      "cell_type": "code",
      "metadata": {
        "id": "VL3KCBfTFTXU",
        "outputId": "a4d658a6-125a-4c3f-c92b-7476f54cf030",
        "colab": {
          "base_uri": "https://localhost:8080/",
          "height": 0
        }
      },
      "source": [
        "help(iso_dfa)"
      ],
      "execution_count": 26,
      "outputs": [
        {
          "output_type": "stream",
          "text": [
            "Help on function iso_dfa in module jove.Def_DFA:\n",
            "\n",
            "iso_dfa(D1, D2)\n",
            "    Given consistent and total DFAs D1 and D2,\n",
            "    check whether they are isomorphic. Two DFAs\n",
            "    are isomorphic if they have the same number\n",
            "    of states and are language-equivalent. (One would\n",
            "    then be able to match-up state for state and transition\n",
            "    for transition.)\n",
            "\n"
          ],
          "name": "stdout"
        }
      ]
    },
    {
      "cell_type": "code",
      "metadata": {
        "id": "dMbtFdU0FTXX",
        "outputId": "612e53de-3abd-4111-d26c-42c75d61ac61",
        "colab": {
          "base_uri": "https://localhost:8080/",
          "height": 0
        }
      },
      "source": [
        "langeq_dfa(DFA_bloated, DFA_min)"
      ],
      "execution_count": 27,
      "outputs": [
        {
          "output_type": "execute_result",
          "data": {
            "text/plain": [
              "True"
            ]
          },
          "metadata": {
            "tags": []
          },
          "execution_count": 27
        }
      ]
    },
    {
      "cell_type": "code",
      "metadata": {
        "id": "MWmdlJeJFTXa",
        "outputId": "75d970b7-f522-49de-80cf-778b0b718018",
        "colab": {
          "base_uri": "https://localhost:8080/",
          "height": 0
        }
      },
      "source": [
        "not iso_dfa(DFA_bloated, DFA_min)"
      ],
      "execution_count": 28,
      "outputs": [
        {
          "output_type": "execute_result",
          "data": {
            "text/plain": [
              "True"
            ]
          },
          "metadata": {
            "tags": []
          },
          "execution_count": 28
        }
      ]
    },
    {
      "cell_type": "markdown",
      "metadata": {
        "id": "gvZQR2uNFTXe"
      },
      "source": [
        "##  But we indeed are minimal as shown by the number of states of the standard DFA min algorithm"
      ]
    },
    {
      "cell_type": "code",
      "metadata": {
        "id": "CKurGyIiFTXf"
      },
      "source": [
        "DFA_min_alt = min_dfa(DFA_bloated)"
      ],
      "execution_count": 29,
      "outputs": []
    },
    {
      "cell_type": "code",
      "metadata": {
        "id": "aEcpW2CfFTXk",
        "outputId": "8ce05efc-d6cc-4cd1-b48f-c71d0595315f",
        "colab": {
          "base_uri": "https://localhost:8080/",
          "height": 0
        }
      },
      "source": [
        "dotObj_dfa(DFA_min)"
      ],
      "execution_count": 30,
      "outputs": [
        {
          "output_type": "execute_result",
          "data": {
            "text/plain": [
              "<graphviz.dot.Digraph at 0x7f0b9b44ee80>"
            ],
            "image/svg+xml": "<?xml version=\"1.0\" encoding=\"UTF-8\" standalone=\"no\"?>\n<!DOCTYPE svg PUBLIC \"-//W3C//DTD SVG 1.1//EN\"\n \"http://www.w3.org/Graphics/SVG/1.1/DTD/svg11.dtd\">\n<!-- Generated by graphviz version 2.40.1 (20161225.0304)\n -->\n<!-- Title: %3 Pages: 1 -->\n<svg width=\"539pt\" height=\"142pt\"\n viewBox=\"0.00 0.00 538.98 141.80\" xmlns=\"http://www.w3.org/2000/svg\" xmlns:xlink=\"http://www.w3.org/1999/xlink\">\n<g id=\"graph0\" class=\"graph\" transform=\"scale(1 1) rotate(0) translate(4 137.7958)\">\n<title>%3</title>\n<polygon fill=\"#ffffff\" stroke=\"transparent\" points=\"-4,4 -4,-137.7958 534.9792,-137.7958 534.9792,4 -4,4\"/>\n<!-- EMPTY -->\n<g id=\"node1\" class=\"node\">\n<title>EMPTY</title>\n</g>\n<!-- St3 -->\n<g id=\"node4\" class=\"node\">\n<title>St3</title>\n<ellipse fill=\"none\" stroke=\"#000000\" cx=\"114.3979\" cy=\"-23.3979\" rx=\"23.2963\" ry=\"23.2963\"/>\n<text text-anchor=\"middle\" x=\"114.3979\" y=\"-19.6979\" font-family=\"Times,serif\" font-size=\"14.00\" fill=\"#000000\">St3</text>\n</g>\n<!-- EMPTY&#45;&gt;St3 -->\n<g id=\"edge1\" class=\"edge\">\n<title>EMPTY&#45;&gt;St3</title>\n<path fill=\"none\" stroke=\"#000000\" d=\"M54.1742,-23.3979C62.5103,-23.3979 71.7873,-23.3979 80.5137,-23.3979\"/>\n<polygon fill=\"#000000\" stroke=\"#000000\" points=\"80.7846,-26.898 90.7846,-23.3979 80.7845,-19.898 80.7846,-26.898\"/>\n</g>\n<!-- St2 -->\n<g id=\"node2\" class=\"node\">\n<title>St2</title>\n<ellipse fill=\"none\" stroke=\"#000000\" cx=\"404.7855\" cy=\"-40.3979\" rx=\"23.2963\" ry=\"23.2963\"/>\n<text text-anchor=\"middle\" x=\"404.7855\" y=\"-36.6979\" font-family=\"Times,serif\" font-size=\"14.00\" fill=\"#000000\">St2</text>\n</g>\n<!-- St0 -->\n<g id=\"node6\" class=\"node\">\n<title>St0</title>\n<ellipse fill=\"none\" stroke=\"#000000\" cx=\"503.5813\" cy=\"-40.3979\" rx=\"23.3111\" ry=\"23.3111\"/>\n<ellipse fill=\"none\" stroke=\"#000000\" cx=\"503.5813\" cy=\"-40.3979\" rx=\"27.2962\" ry=\"27.2962\"/>\n<text text-anchor=\"middle\" x=\"503.5813\" y=\"-36.6979\" font-family=\"Times,serif\" font-size=\"14.00\" fill=\"#000000\">St0</text>\n</g>\n<!-- St2&#45;&gt;St0 -->\n<g id=\"edge8\" class=\"edge\">\n<title>St2&#45;&gt;St0</title>\n<path fill=\"none\" stroke=\"#000000\" d=\"M428.1987,-40.3979C439.4326,-40.3979 453.173,-40.3979 465.8312,-40.3979\"/>\n<polygon fill=\"#000000\" stroke=\"#000000\" points=\"466.1309,-43.898 476.1309,-40.3979 466.1309,-36.898 466.1309,-43.898\"/>\n<text text-anchor=\"middle\" x=\"452.1834\" y=\"-44.1979\" font-family=\"Times,serif\" font-size=\"14.00\" fill=\"#000000\">a </text>\n</g>\n<!-- St2&#45;&gt;St0 -->\n<g id=\"edge9\" class=\"edge\">\n<title>St2&#45;&gt;St0</title>\n<path fill=\"none\" stroke=\"#000000\" d=\"M425.2357,-28.908C431.7302,-25.8418 439.0758,-22.9511 446.1834,-21.3979 454.1148,-19.6647 462.4928,-20.7131 470.3237,-23.0205\"/>\n<polygon fill=\"#000000\" stroke=\"#000000\" points=\"469.2814,-26.3658 479.8754,-26.502 471.6786,-19.7891 469.2814,-26.3658\"/>\n<text text-anchor=\"middle\" x=\"452.1834\" y=\"-25.1979\" font-family=\"Times,serif\" font-size=\"14.00\" fill=\"#000000\">b </text>\n</g>\n<!-- St4 -->\n<g id=\"node3\" class=\"node\">\n<title>St4</title>\n<ellipse fill=\"none\" stroke=\"#000000\" cx=\"207.1938\" cy=\"-63.3979\" rx=\"23.2963\" ry=\"23.2963\"/>\n<text text-anchor=\"middle\" x=\"207.1938\" y=\"-59.6979\" font-family=\"Times,serif\" font-size=\"14.00\" fill=\"#000000\">St4</text>\n</g>\n<!-- St1 -->\n<g id=\"node5\" class=\"node\">\n<title>St1</title>\n<ellipse fill=\"none\" stroke=\"#000000\" cx=\"305.9896\" cy=\"-40.3979\" rx=\"23.3111\" ry=\"23.3111\"/>\n<ellipse fill=\"none\" stroke=\"#000000\" cx=\"305.9896\" cy=\"-40.3979\" rx=\"27.2962\" ry=\"27.2962\"/>\n<text text-anchor=\"middle\" x=\"305.9896\" y=\"-36.6979\" font-family=\"Times,serif\" font-size=\"14.00\" fill=\"#000000\">St1</text>\n</g>\n<!-- St4&#45;&gt;St1 -->\n<g id=\"edge4\" class=\"edge\">\n<title>St4&#45;&gt;St1</title>\n<path fill=\"none\" stroke=\"#000000\" d=\"M230.5156,-61.4077C239.9366,-60.3278 250.8615,-58.7234 260.5917,-56.3979 263.9444,-55.5966 267.3954,-54.6381 270.8259,-53.5939\"/>\n<polygon fill=\"#000000\" stroke=\"#000000\" points=\"271.9236,-56.9174 280.341,-50.4834 269.7485,-50.2639 271.9236,-56.9174\"/>\n<text text-anchor=\"middle\" x=\"254.5917\" y=\"-62.1979\" font-family=\"Times,serif\" font-size=\"14.00\" fill=\"#000000\">a </text>\n</g>\n<!-- St4&#45;&gt;St1 -->\n<g id=\"edge5\" class=\"edge\">\n<title>St4&#45;&gt;St1</title>\n<path fill=\"none\" stroke=\"#000000\" d=\"M225.903,-48.5416C232.6593,-44.0493 240.5992,-39.6996 248.5917,-37.3979 254.9473,-35.5676 261.8595,-34.8862 268.614,-34.8814\"/>\n<polygon fill=\"#000000\" stroke=\"#000000\" points=\"268.8443,-38.3958 278.9958,-35.363 269.1688,-31.4033 268.8443,-38.3958\"/>\n<text text-anchor=\"middle\" x=\"254.5917\" y=\"-41.1979\" font-family=\"Times,serif\" font-size=\"14.00\" fill=\"#000000\">b </text>\n</g>\n<!-- St3&#45;&gt;St4 -->\n<g id=\"edge2\" class=\"edge\">\n<title>St3&#45;&gt;St4</title>\n<path fill=\"none\" stroke=\"#000000\" d=\"M135.9204,-32.6753C147.8976,-37.8381 163.0147,-44.3544 176.2414,-50.0558\"/>\n<polygon fill=\"#000000\" stroke=\"#000000\" points=\"174.8979,-53.2879 185.4666,-54.0323 177.6689,-46.8597 174.8979,-53.2879\"/>\n<text text-anchor=\"middle\" x=\"160.7958\" y=\"-48.1979\" font-family=\"Times,serif\" font-size=\"14.00\" fill=\"#000000\">a </text>\n</g>\n<!-- St3&#45;&gt;St1 -->\n<g id=\"edge3\" class=\"edge\">\n<title>St3&#45;&gt;St1</title>\n<path fill=\"none\" stroke=\"#000000\" d=\"M137.6828,-19.0895C161.2399,-15.4104 198.6402,-11.4353 230.5917,-16.3979 243.9804,-18.4774 258.2446,-22.5172 270.7221,-26.698\"/>\n<polygon fill=\"#000000\" stroke=\"#000000\" points=\"269.7001,-30.0484 280.295,-30.0464 272.0114,-23.4409 269.7001,-30.0484\"/>\n<text text-anchor=\"middle\" x=\"207.1938\" y=\"-20.1979\" font-family=\"Times,serif\" font-size=\"14.00\" fill=\"#000000\">b </text>\n</g>\n<!-- St1&#45;&gt;St2 -->\n<g id=\"edge6\" class=\"edge\">\n<title>St1&#45;&gt;St2</title>\n<path fill=\"none\" stroke=\"#000000\" d=\"M333.5098,-40.3979C345.0796,-40.3979 358.6561,-40.3979 370.8385,-40.3979\"/>\n<polygon fill=\"#000000\" stroke=\"#000000\" points=\"371.0998,-43.898 381.0998,-40.3979 371.0998,-36.898 371.0998,-43.898\"/>\n<text text-anchor=\"middle\" x=\"357.3875\" y=\"-44.1979\" font-family=\"Times,serif\" font-size=\"14.00\" fill=\"#000000\">a </text>\n</g>\n<!-- St1&#45;&gt;St2 -->\n<g id=\"edge7\" class=\"edge\">\n<title>St1&#45;&gt;St2</title>\n<path fill=\"none\" stroke=\"#000000\" d=\"M329.6955,-26.502C339.9236,-22.0943 352.1074,-18.933 363.3875,-21.3979 367.2745,-22.2473 371.2327,-23.4967 375.0839,-24.9561\"/>\n<polygon fill=\"#000000\" stroke=\"#000000\" points=\"373.7642,-28.1983 384.3353,-28.908 376.5141,-21.761 373.7642,-28.1983\"/>\n<text text-anchor=\"middle\" x=\"357.3875\" y=\"-25.1979\" font-family=\"Times,serif\" font-size=\"14.00\" fill=\"#000000\">b </text>\n</g>\n<!-- St0&#45;&gt;St0 -->\n<g id=\"edge10\" class=\"edge\">\n<title>St0&#45;&gt;St0</title>\n<path fill=\"none\" stroke=\"#000000\" d=\"M498.9041,-67.4297C498.7508,-77.5036 500.3098,-85.7958 503.5813,-85.7958 505.626,-85.7958 507.0018,-82.5567 507.7086,-77.6679\"/>\n<polygon fill=\"#000000\" stroke=\"#000000\" points=\"511.217,-77.6031 508.2585,-67.4297 504.2271,-77.2276 511.217,-77.6031\"/>\n<text text-anchor=\"middle\" x=\"503.5813\" y=\"-89.5958\" font-family=\"Times,serif\" font-size=\"14.00\" fill=\"#000000\">a </text>\n</g>\n<!-- St0&#45;&gt;St0 -->\n<g id=\"edge11\" class=\"edge\">\n<title>St0&#45;&gt;St0</title>\n<path fill=\"none\" stroke=\"#000000\" d=\"M495.1682,-66.777C492.525,-85.3764 495.3294,-103.7958 503.5813,-103.7958 510.286,-103.7958 513.3945,-91.6361 512.9067,-77.1\"/>\n<polygon fill=\"#000000\" stroke=\"#000000\" points=\"516.3612,-76.4301 511.9944,-66.777 509.3884,-77.0463 516.3612,-76.4301\"/>\n<text text-anchor=\"middle\" x=\"503.5813\" y=\"-107.5958\" font-family=\"Times,serif\" font-size=\"14.00\" fill=\"#000000\">b </text>\n</g>\n</g>\n</svg>\n"
          },
          "metadata": {
            "tags": []
          },
          "execution_count": 30
        }
      ]
    },
    {
      "cell_type": "code",
      "metadata": {
        "id": "25WI0-6CFTXo",
        "outputId": "966c1c15-ee7f-44bf-f467-51abae072680",
        "colab": {
          "base_uri": "https://localhost:8080/",
          "height": 0
        }
      },
      "source": [
        "dotObj_dfa(DFA_min_alt)"
      ],
      "execution_count": 31,
      "outputs": [
        {
          "output_type": "execute_result",
          "data": {
            "text/plain": [
              "<graphviz.dot.Digraph at 0x7f0b9b3de2b0>"
            ],
            "image/svg+xml": "<?xml version=\"1.0\" encoding=\"UTF-8\" standalone=\"no\"?>\n<!DOCTYPE svg PUBLIC \"-//W3C//DTD SVG 1.1//EN\"\n \"http://www.w3.org/Graphics/SVG/1.1/DTD/svg11.dtd\">\n<!-- Generated by graphviz version 2.40.1 (20161225.0304)\n -->\n<!-- Title: %3 Pages: 1 -->\n<svg width=\"566pt\" height=\"146pt\"\n viewBox=\"0.00 0.00 566.28 145.70\" xmlns=\"http://www.w3.org/2000/svg\" xmlns:xlink=\"http://www.w3.org/1999/xlink\">\n<g id=\"graph0\" class=\"graph\" transform=\"scale(1 1) rotate(0) translate(4 141.6955)\">\n<title>%3</title>\n<polygon fill=\"#ffffff\" stroke=\"transparent\" points=\"-4,4 -4,-141.6955 562.2768,-141.6955 562.2768,4 -4,4\"/>\n<!-- EMPTY -->\n<g id=\"node1\" class=\"node\">\n<title>EMPTY</title>\n</g>\n<!-- IS1 -->\n<g id=\"node4\" class=\"node\">\n<title>IS1</title>\n<ellipse fill=\"none\" stroke=\"#000000\" cx=\"115.0479\" cy=\"-24.0479\" rx=\"24.0958\" ry=\"24.0958\"/>\n<text text-anchor=\"middle\" x=\"115.0479\" y=\"-20.3479\" font-family=\"Times,serif\" font-size=\"14.00\" fill=\"#000000\">IS1</text>\n</g>\n<!-- EMPTY&#45;&gt;IS1 -->\n<g id=\"edge1\" class=\"edge\">\n<title>EMPTY&#45;&gt;IS1</title>\n<path fill=\"none\" stroke=\"#000000\" d=\"M54.3763,-24.0479C62.7026,-24.0479 71.9607,-24.0479 80.6861,-24.0479\"/>\n<polygon fill=\"#000000\" stroke=\"#000000\" points=\"80.9666,-27.548 90.9666,-24.0479 80.9665,-20.548 80.9666,-27.548\"/>\n</g>\n<!-- Temp -->\n<g id=\"node2\" class=\"node\">\n<title>Temp</title>\n<ellipse fill=\"none\" stroke=\"#000000\" cx=\"217.5928\" cy=\"-73.0479\" rx=\"32.4942\" ry=\"32.4942\"/>\n<text text-anchor=\"middle\" x=\"217.5928\" y=\"-69.3479\" font-family=\"Times,serif\" font-size=\"14.00\" fill=\"#000000\">Temp</text>\n</g>\n<!-- FS3 -->\n<g id=\"node6\" class=\"node\">\n<title>FS3</title>\n<ellipse fill=\"none\" stroke=\"#000000\" cx=\"328.7376\" cy=\"-41.0479\" rx=\"26.7766\" ry=\"26.7766\"/>\n<ellipse fill=\"none\" stroke=\"#000000\" cx=\"328.7376\" cy=\"-41.0479\" rx=\"30.796\" ry=\"30.796\"/>\n<text text-anchor=\"middle\" x=\"328.7376\" y=\"-37.3479\" font-family=\"Times,serif\" font-size=\"14.00\" fill=\"#000000\">FS3</text>\n</g>\n<!-- Temp&#45;&gt;FS3 -->\n<g id=\"edge4\" class=\"edge\">\n<title>Temp&#45;&gt;FS3</title>\n<path fill=\"none\" stroke=\"#000000\" d=\"M249.1785,-65.4004C259.1098,-62.8785 270.0917,-59.9683 280.09,-57.0479 283.2476,-56.1255 286.5087,-55.1356 289.7774,-54.1168\"/>\n<polygon fill=\"#000000\" stroke=\"#000000\" points=\"291.0466,-57.3858 299.5104,-51.0129 288.9197,-50.7167 291.0466,-57.3858\"/>\n<text text-anchor=\"middle\" x=\"274.09\" y=\"-63.8479\" font-family=\"Times,serif\" font-size=\"14.00\" fill=\"#000000\">a </text>\n</g>\n<!-- Temp&#45;&gt;FS3 -->\n<g id=\"edge5\" class=\"edge\">\n<title>Temp&#45;&gt;FS3</title>\n<path fill=\"none\" stroke=\"#000000\" d=\"M242.1967,-51.5977C249.9659,-46.0892 258.9273,-40.9128 268.09,-38.0479 274.5797,-36.0187 281.6492,-35.2025 288.5942,-35.1168\"/>\n<polygon fill=\"#000000\" stroke=\"#000000\" points=\"288.4851,-38.615 298.5986,-35.4578 288.7236,-31.6191 288.4851,-38.615\"/>\n<text text-anchor=\"middle\" x=\"274.09\" y=\"-41.8479\" font-family=\"Times,serif\" font-size=\"14.00\" fill=\"#000000\">b </text>\n</g>\n<!-- S4 -->\n<g id=\"node3\" class=\"node\">\n<title>S4</title>\n<ellipse fill=\"none\" stroke=\"#000000\" cx=\"428.1834\" cy=\"-41.0479\" rx=\"20.5982\" ry=\"20.5982\"/>\n<text text-anchor=\"middle\" x=\"428.1834\" y=\"-37.3479\" font-family=\"Times,serif\" font-size=\"14.00\" fill=\"#000000\">S4</text>\n</g>\n<!-- FS6 -->\n<g id=\"node5\" class=\"node\">\n<title>FS6</title>\n<ellipse fill=\"none\" stroke=\"#000000\" cx=\"527.6292\" cy=\"-41.0479\" rx=\"26.7766\" ry=\"26.7766\"/>\n<ellipse fill=\"none\" stroke=\"#000000\" cx=\"527.6292\" cy=\"-41.0479\" rx=\"30.796\" ry=\"30.796\"/>\n<text text-anchor=\"middle\" x=\"527.6292\" y=\"-37.3479\" font-family=\"Times,serif\" font-size=\"14.00\" fill=\"#000000\">FS6</text>\n</g>\n<!-- S4&#45;&gt;FS6 -->\n<g id=\"edge8\" class=\"edge\">\n<title>S4&#45;&gt;FS6</title>\n<path fill=\"none\" stroke=\"#000000\" d=\"M449.2733,-41.0479C460.1604,-41.0479 473.8256,-41.0479 486.6825,-41.0479\"/>\n<polygon fill=\"#000000\" stroke=\"#000000\" points=\"486.7516,-44.548 496.7515,-41.0479 486.7515,-37.548 486.7516,-44.548\"/>\n<text text-anchor=\"middle\" x=\"472.9815\" y=\"-44.8479\" font-family=\"Times,serif\" font-size=\"14.00\" fill=\"#000000\">a </text>\n</g>\n<!-- S4&#45;&gt;FS6 -->\n<g id=\"edge9\" class=\"edge\">\n<title>S4&#45;&gt;FS6</title>\n<path fill=\"none\" stroke=\"#000000\" d=\"M446.0949,-30.1652C452.4572,-26.8802 459.8211,-23.707 466.9815,-22.0479 474.8417,-20.2266 483.1598,-20.996 491.033,-23.0248\"/>\n<polygon fill=\"#000000\" stroke=\"#000000\" points=\"490.1075,-26.4042 500.6997,-26.1678 492.272,-19.7472 490.1075,-26.4042\"/>\n<text text-anchor=\"middle\" x=\"472.9815\" y=\"-25.8479\" font-family=\"Times,serif\" font-size=\"14.00\" fill=\"#000000\">b </text>\n</g>\n<!-- IS1&#45;&gt;Temp -->\n<g id=\"edge2\" class=\"edge\">\n<title>IS1&#45;&gt;Temp</title>\n<path fill=\"none\" stroke=\"#000000\" d=\"M136.795,-34.4395C149.0447,-40.2929 164.7053,-47.7761 178.9719,-54.5933\"/>\n<polygon fill=\"#000000\" stroke=\"#000000\" points=\"177.5641,-57.7996 188.0959,-58.9531 180.5821,-51.4836 177.5641,-57.7996\"/>\n<text text-anchor=\"middle\" x=\"162.0957\" y=\"-51.8479\" font-family=\"Times,serif\" font-size=\"14.00\" fill=\"#000000\">a </text>\n</g>\n<!-- IS1&#45;&gt;FS3 -->\n<g id=\"edge3\" class=\"edge\">\n<title>IS1&#45;&gt;FS3</title>\n<path fill=\"none\" stroke=\"#000000\" d=\"M139.0926,-19.9286C166.2073,-15.9481 211.5459,-11.2977 250.09,-17.0479 263.4593,-19.0424 277.6982,-22.8448 290.3344,-26.8449\"/>\n<polygon fill=\"#000000\" stroke=\"#000000\" points=\"289.4843,-30.25 300.0776,-30.0645 291.6807,-23.6035 289.4843,-30.25\"/>\n<text text-anchor=\"middle\" x=\"217.5928\" y=\"-20.8479\" font-family=\"Times,serif\" font-size=\"14.00\" fill=\"#000000\">b </text>\n</g>\n<!-- FS6&#45;&gt;FS6 -->\n<g id=\"edge10\" class=\"edge\">\n<title>FS6&#45;&gt;FS6</title>\n<path fill=\"none\" stroke=\"#000000\" d=\"M522.5667,-71.4526C522.5667,-81.5876 524.2542,-89.6955 527.6292,-89.6955 529.7386,-89.6955 531.1888,-86.5283 531.9798,-81.6786\"/>\n<polygon fill=\"#000000\" stroke=\"#000000\" points=\"535.4886,-81.6716 532.6917,-71.4526 528.5055,-81.1854 535.4886,-81.6716\"/>\n<text text-anchor=\"middle\" x=\"527.6292\" y=\"-93.4955\" font-family=\"Times,serif\" font-size=\"14.00\" fill=\"#000000\">a </text>\n</g>\n<!-- FS6&#45;&gt;FS6 -->\n<g id=\"edge11\" class=\"edge\">\n<title>FS6&#45;&gt;FS6</title>\n<path fill=\"none\" stroke=\"#000000\" d=\"M518.3051,-70.5136C515.8727,-89.4607 518.9807,-107.6955 527.6292,-107.6955 534.7236,-107.6955 538.0898,-95.4251 537.7278,-80.5566\"/>\n<polygon fill=\"#000000\" stroke=\"#000000\" points=\"541.2119,-80.2148 536.9533,-70.5136 534.2327,-80.7531 541.2119,-80.2148\"/>\n<text text-anchor=\"middle\" x=\"527.6292\" y=\"-111.4955\" font-family=\"Times,serif\" font-size=\"14.00\" fill=\"#000000\">b </text>\n</g>\n<!-- FS3&#45;&gt;S4 -->\n<g id=\"edge6\" class=\"edge\">\n<title>FS3&#45;&gt;S4</title>\n<path fill=\"none\" stroke=\"#000000\" d=\"M359.3861,-41.0479C371.392,-41.0479 385.1468,-41.0479 397.1863,-41.0479\"/>\n<polygon fill=\"#000000\" stroke=\"#000000\" points=\"397.2378,-44.548 407.2378,-41.0479 397.2377,-37.548 397.2378,-44.548\"/>\n<text text-anchor=\"middle\" x=\"383.3852\" y=\"-44.8479\" font-family=\"Times,serif\" font-size=\"14.00\" fill=\"#000000\">a </text>\n</g>\n<!-- FS3&#45;&gt;S4 -->\n<g id=\"edge7\" class=\"edge\">\n<title>FS3&#45;&gt;S4</title>\n<path fill=\"none\" stroke=\"#000000\" d=\"M355.6671,-26.1678C366.1011,-22.1077 378.2063,-19.4576 389.3852,-22.0479 393.3011,-22.9552 397.2778,-24.3154 401.1183,-25.899\"/>\n<polygon fill=\"#000000\" stroke=\"#000000\" points=\"399.7294,-29.1131 410.2718,-30.1652 402.6865,-22.7684 399.7294,-29.1131\"/>\n<text text-anchor=\"middle\" x=\"383.3852\" y=\"-25.8479\" font-family=\"Times,serif\" font-size=\"14.00\" fill=\"#000000\">b </text>\n</g>\n</g>\n</svg>\n"
          },
          "metadata": {
            "tags": []
          },
          "execution_count": 31
        }
      ]
    },
    {
      "cell_type": "code",
      "metadata": {
        "id": "3wbZTNHNFTXs",
        "outputId": "ac26f29a-1a64-4740-9034-5602fb4d90c1",
        "colab": {
          "base_uri": "https://localhost:8080/",
          "height": 0
        }
      },
      "source": [
        "help(iso_dfa)"
      ],
      "execution_count": 32,
      "outputs": [
        {
          "output_type": "stream",
          "text": [
            "Help on function iso_dfa in module jove.Def_DFA:\n",
            "\n",
            "iso_dfa(D1, D2)\n",
            "    Given consistent and total DFAs D1 and D2,\n",
            "    check whether they are isomorphic. Two DFAs\n",
            "    are isomorphic if they have the same number\n",
            "    of states and are language-equivalent. (One would\n",
            "    then be able to match-up state for state and transition\n",
            "    for transition.)\n",
            "\n"
          ],
          "name": "stdout"
        }
      ]
    },
    {
      "cell_type": "code",
      "metadata": {
        "id": "ciSmr5uIFTX-",
        "outputId": "b3ee275a-64fc-4ed0-b75c-5ac9a912775b",
        "colab": {
          "base_uri": "https://localhost:8080/",
          "height": 0
        }
      },
      "source": [
        "iso_dfa(DFA_min, DFA_min_alt)\n"
      ],
      "execution_count": 33,
      "outputs": [
        {
          "output_type": "execute_result",
          "data": {
            "text/plain": [
              "True"
            ]
          },
          "metadata": {
            "tags": []
          },
          "execution_count": 33
        }
      ]
    },
    {
      "cell_type": "markdown",
      "metadata": {
        "id": "9Ud-4ovnFTYB"
      },
      "source": [
        "# END of demonstration that DFA minimization can be done in two different ways\n",
        "\n",
        "## Here are some notes to understand Brzozowski's method\n",
        "\n",
        "* If you are given a DFA \"D1\", a minimal DFA for \"reverse(D1)\" is obtained by \"reverse followed by determinize\"\n",
        "\n",
        "* But since we are interested in the minimal DFA for \"D1\" (and not reverse(D1)), we do these steps again!\n",
        "\n",
        "* Hence the algorithm becomes \"reverse THEN determinize THEN reverse THEN determinize\""
      ]
    }
  ]
}