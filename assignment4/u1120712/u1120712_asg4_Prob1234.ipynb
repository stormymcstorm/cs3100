{
  "nbformat": 4,
  "nbformat_minor": 0,
  "metadata": {
    "kernelspec": {
      "display_name": "Python 3",
      "language": "python",
      "name": "python3"
    },
    "language_info": {
      "codemirror_mode": {
        "name": "ipython",
        "version": 3
      },
      "file_extension": ".py",
      "mimetype": "text/x-python",
      "name": "python",
      "nbconvert_exporter": "python",
      "pygments_lexer": "ipython3",
      "version": "3.7.3"
    },
    "toc": {
      "colors": {
        "hover_highlight": "#DAA520",
        "running_highlight": "#FF0000",
        "selected_highlight": "#FFD700"
      },
      "moveMenuLeft": true,
      "nav_menu": {
        "height": "121px",
        "width": "252px"
      },
      "navigate_menu": true,
      "number_sections": true,
      "sideBar": true,
      "threshold": 4,
      "toc_cell": false,
      "toc_section_display": "block",
      "toc_window_display": false,
      "widenNotebook": false
    },
    "colab": {
      "name": "u1120712_asg4_Prob1234.ipynb",
      "provenance": [],
      "collapsed_sections": [
        "u3wTZpeoN4JE",
        "EX_7taSAN4JO",
        "tJQY8PELN4JX",
        "uw7xUJ-QN4Jj",
        "49OljGyfN4Jq",
        "gTUABi37N4Jz",
        "Zx4IFE2eN4J7",
        "XtEh5weBN4KG",
        "Ke2h92PUN4KV",
        "ConGP-xkN4KW",
        "ipdruZwdN4Kj",
        "UY2EoEadN4Kv"
      ]
    }
  },
  "cells": [
    {
      "cell_type": "markdown",
      "metadata": {
        "id": "2R436CHvN4Hd"
      },
      "source": [
        "# Asg-4 focuses on \n",
        "\n",
        "## NFA2DFA (review) -- LT\n",
        "\n",
        "## Reversal of NFA by hand -- XL\n",
        "\n",
        "## Conversion to GNFA and Two Elimination Orders -- AR\n",
        "\n",
        "## Chasing down the RE2NFA Components -- SV\n",
        "\n",
        "## Here is the  plan\n",
        "\n",
        "1. In LT, you will\n",
        "\n",
        "    a. take a given nfa called nfa1\n",
        "    \n",
        "    b. convert it to dfa1 \n",
        "    \n",
        "    c. reverse nfa1 by hand obtaining rnfa1\n",
        "    \n",
        "    d. inspect and conclude (listing six paths) that rnfa1 is indeed a reverse of nfa1\n",
        "\n",
        "2. In XL you will\n",
        "\n",
        "    a. learn about a few DFA utilities such as totalize_dfa and dotObj_dfa_w_bh\n",
        "    \n",
        "    b. extract an RE by inspecting nfa1 and write it down as RE1_hand\n",
        "    \n",
        "    c. reverse RE1_hand by inspection, writing the result down as Rev_RE1_hand\n",
        "    \n",
        "    d. Understand the function del_gnfa_states via its help command\n",
        "    \n",
        "\n",
        "3. In AR you will\n",
        "\n",
        "    a. obtain a GNFA for rnfa1, calling it grnfa1\n",
        "    \n",
        "    b. apply two elimination orders for states on grnfa1\n",
        "    \n",
        "    c. obtain Rev_RE1 and Rev_RE2\n",
        "    \n",
        "    d. check that Rev_RE1 and Rev_RE2 and Rev_RE1_hand are all isomorphic\n",
        "    \n",
        "\n",
        "4. In SV you will \n",
        "\n",
        "    a. print the NFA for Rev_RE2 and answer the stated questions.\n",
        "    \n",
        "    b. print the NFA for Rev_RE1_hand and answer the questions.\n",
        "\n",
        "Please follow the instructions and submit your finished notebook as described in previous assignments.\n",
        " "
      ]
    },
    {
      "cell_type": "markdown",
      "metadata": {
        "run_control": {
          "frozen": false,
          "read_only": false
        },
        "id": "e6xit5m2N4Hg"
      },
      "source": [
        "# Asg-4 imports \n"
      ]
    },
    {
      "cell_type": "code",
      "metadata": {
        "run_control": {
          "frozen": false,
          "read_only": false
        },
        "scrolled": true,
        "id": "dAk0gQoSN4Hj"
      },
      "source": [
        "#~~~~~~~~~~~~~~~~~~~~~~~~~~~~~~~~~~~~~~~~~~~~~~~~~~~~~~~\n",
        "import sys\n",
        "\n",
        "# -- Detect if in Own Install or in Colab\n",
        "try:\n",
        "    import google.colab\n",
        "    OWN_INSTALL = False\n",
        "except:\n",
        "    OWN_INSTALL = True\n",
        "    \n",
        "if OWN_INSTALL:\n",
        "    \n",
        "  #---- Leave these definitions ON if running on laptop\n",
        "  #---- Else turn OFF by putting them between ''' ... '''\n",
        "\n",
        "  sys.path[0:0] = ['../../../../..',  '../../../../../3rdparty',  \n",
        "                   '../../../..',  '../../../../3rdparty',  \n",
        "                   '../../..',     '../../../3rdparty', \n",
        "                   '../..',        '../../3rdparty',\n",
        "                   '..',           '../3rdparty' ]\n",
        "\n",
        "else: # In colab\n",
        "  ! if [ ! -d Jove ]; then git clone https://github.com/ganeshutah/Jove Jove; fi\n",
        "  sys.path.append('./Jove')\n",
        "  sys.path.append('./Jove/jove')\n",
        "\n",
        "# -- common imports --\n",
        "from jove.DotBashers import *\n",
        "from jove.Def_md2mc  import *\n",
        "from jove.Def_NFA    import *\n",
        "from jove.Def_DFA    import *\n",
        "from jove.Def_NFA2RE import *\n",
        "from jove.Def_RE2NFA import *\n",
        "from jove.AnimateNFA import *\n",
        "#~~~~~~~~~~~~~~~~~~~~~~~~~~~~~~~~~~~~~~~~~~~~~~~~~~~~~~~"
      ],
      "execution_count": 85,
      "outputs": []
    },
    {
      "cell_type": "markdown",
      "metadata": {
        "id": "6uQxx86YN4H6"
      },
      "source": [
        "# 1. NFA to DFA by hand and Checking (LT) + Getting a simple RE\n",
        "\n",
        "You are given this NFA below\n",
        "\n",
        "## 1(a). nfa1 is given below\n",
        "\n",
        "Questions follow under 1(b)"
      ]
    },
    {
      "cell_type": "code",
      "metadata": {
        "id": "BIj_eF38N4H-"
      },
      "source": [
        "# Given NFA\n",
        "\n",
        "nfa1 = md2mc('''NFA\n",
        "I1 : '' -> B\n",
        "I1 : a  -> I2\n",
        "\n",
        "I2 : c  -> F3\n",
        "I2 : b  -> B\n",
        "\n",
        "B : s  -> B\n",
        "B : d  -> F4\n",
        "B : f  -> F3\n",
        "''')\n"
      ],
      "execution_count": 86,
      "outputs": []
    },
    {
      "cell_type": "code",
      "metadata": {
        "id": "naapBwd8N4IN",
        "outputId": "9ee7a1ea-bdeb-4970-e74c-1635e600660d",
        "colab": {
          "base_uri": "https://localhost:8080/",
          "height": 202
        }
      },
      "source": [
        "dotObj_nfa(nfa1)"
      ],
      "execution_count": 87,
      "outputs": [
        {
          "output_type": "execute_result",
          "data": {
            "text/plain": [
              "<graphviz.dot.Digraph at 0x7f8870e13e10>"
            ],
            "image/svg+xml": "<?xml version=\"1.0\" encoding=\"UTF-8\" standalone=\"no\"?>\n<!DOCTYPE svg PUBLIC \"-//W3C//DTD SVG 1.1//EN\"\n \"http://www.w3.org/Graphics/SVG/1.1/DTD/svg11.dtd\">\n<!-- Generated by graphviz version 2.40.1 (20161225.0304)\n -->\n<!-- Title: %3 Pages: 1 -->\n<svg width=\"402pt\" height=\"136pt\"\n viewBox=\"0.00 0.00 401.99 135.60\" xmlns=\"http://www.w3.org/2000/svg\" xmlns:xlink=\"http://www.w3.org/1999/xlink\">\n<g id=\"graph0\" class=\"graph\" transform=\"scale(1 1) rotate(0) translate(4 131.5963)\">\n<title>%3</title>\n<polygon fill=\"#ffffff\" stroke=\"transparent\" points=\"-4,4 -4,-131.5963 397.9896,-131.5963 397.9896,4 -4,4\"/>\n<!-- EMPTY -->\n<g id=\"node1\" class=\"node\">\n<title>EMPTY</title>\n</g>\n<!-- I2 -->\n<g id=\"node2\" class=\"node\">\n<title>I2</title>\n<ellipse fill=\"none\" stroke=\"#000000\" cx=\"193.545\" cy=\"-81.7982\" rx=\"18.6979\" ry=\"18.6979\"/>\n<text text-anchor=\"middle\" x=\"193.545\" y=\"-78.0982\" font-family=\"Times,serif\" font-size=\"14.00\" fill=\"#000000\">I2</text>\n</g>\n<!-- EMPTY&#45;&gt;I2 -->\n<g id=\"edge1\" class=\"edge\">\n<title>EMPTY&#45;&gt;I2</title>\n<path fill=\"none\" stroke=\"#000000\" d=\"M54.129,-66.7302C84.4711,-70.0096 133.4281,-75.3008 164.5205,-78.6612\"/>\n<polygon fill=\"#000000\" stroke=\"#000000\" points=\"164.3952,-82.168 174.7135,-79.7629 165.1475,-75.2085 164.3952,-82.168\"/>\n</g>\n<!-- I1 -->\n<g id=\"node3\" class=\"node\">\n<title>I1</title>\n<ellipse fill=\"none\" stroke=\"#000000\" cx=\"109.8483\" cy=\"-40.7982\" rx=\"18.6979\" ry=\"18.6979\"/>\n<text text-anchor=\"middle\" x=\"109.8483\" y=\"-37.0982\" font-family=\"Times,serif\" font-size=\"14.00\" fill=\"#000000\">I1</text>\n</g>\n<!-- EMPTY&#45;&gt;I1 -->\n<g id=\"edge2\" class=\"edge\">\n<title>EMPTY&#45;&gt;I1</title>\n<path fill=\"none\" stroke=\"#000000\" d=\"M54.1276,-56.2671C62.9466,-53.8188 72.7508,-51.097 81.6463,-48.6275\"/>\n<polygon fill=\"#000000\" stroke=\"#000000\" points=\"82.8586,-51.9234 91.5579,-45.8759 80.9861,-45.1785 82.8586,-51.9234\"/>\n</g>\n<!-- B -->\n<g id=\"node4\" class=\"node\">\n<title>B</title>\n<ellipse fill=\"none\" stroke=\"#000000\" cx=\"278.3933\" cy=\"-24.7982\" rx=\"18\" ry=\"18\"/>\n<text text-anchor=\"middle\" x=\"278.3933\" y=\"-21.0982\" font-family=\"Times,serif\" font-size=\"14.00\" fill=\"#000000\">B</text>\n</g>\n<!-- I2&#45;&gt;B -->\n<g id=\"edge6\" class=\"edge\">\n<title>I2&#45;&gt;B</title>\n<path fill=\"none\" stroke=\"#000000\" d=\"M209.5043,-71.0769C222.3051,-62.4775 240.4581,-50.2825 254.9162,-40.5698\"/>\n<polygon fill=\"#000000\" stroke=\"#000000\" points=\"257.0109,-43.379 263.36,-34.8973 253.1074,-37.5685 257.0109,-43.379\"/>\n<text text-anchor=\"middle\" x=\"236.3933\" y=\"-60.5982\" font-family=\"Times,serif\" font-size=\"14.00\" fill=\"#000000\">b </text>\n</g>\n<!-- F3 -->\n<g id=\"node5\" class=\"node\">\n<title>F3</title>\n<ellipse fill=\"none\" stroke=\"#000000\" cx=\"369.1915\" cy=\"-102.7982\" rx=\"20.6302\" ry=\"20.6302\"/>\n<ellipse fill=\"none\" stroke=\"#000000\" cx=\"369.1915\" cy=\"-102.7982\" rx=\"24.5979\" ry=\"24.5979\"/>\n<text text-anchor=\"middle\" x=\"369.1915\" y=\"-99.0982\" font-family=\"Times,serif\" font-size=\"14.00\" fill=\"#000000\">F3</text>\n</g>\n<!-- I2&#45;&gt;F3 -->\n<g id=\"edge5\" class=\"edge\">\n<title>I2&#45;&gt;F3</title>\n<path fill=\"none\" stroke=\"#000000\" d=\"M212.3422,-84.0455C241.3398,-87.5124 297.4593,-94.222 334.1115,-98.6041\"/>\n<polygon fill=\"#000000\" stroke=\"#000000\" points=\"334.0069,-102.1164 344.3517,-99.8284 334.8379,-95.1659 334.0069,-102.1164\"/>\n<text text-anchor=\"middle\" x=\"278.3933\" y=\"-97.5982\" font-family=\"Times,serif\" font-size=\"14.00\" fill=\"#000000\">c </text>\n</g>\n<!-- I1&#45;&gt;I2 -->\n<g id=\"edge4\" class=\"edge\">\n<title>I1&#45;&gt;I2</title>\n<path fill=\"none\" stroke=\"#000000\" d=\"M127.9903,-46.8522C136.8226,-50.0288 147.495,-54.2115 156.6967,-58.7982 160.8326,-60.8598 165.1,-63.2524 169.1988,-65.6993\"/>\n<polygon fill=\"#000000\" stroke=\"#000000\" points=\"167.4451,-68.7302 177.7862,-71.0355 171.1397,-62.7846 167.4451,-68.7302\"/>\n<text text-anchor=\"middle\" x=\"151.6967\" y=\"-62.5982\" font-family=\"Times,serif\" font-size=\"14.00\" fill=\"#000000\">a </text>\n</g>\n<!-- I1&#45;&gt;B -->\n<g id=\"edge3\" class=\"edge\">\n<title>I1&#45;&gt;B</title>\n<path fill=\"none\" stroke=\"#000000\" d=\"M128.855,-38.9939C158.3749,-36.1915 215.4247,-30.7758 249.8904,-27.5039\"/>\n<polygon fill=\"#000000\" stroke=\"#000000\" points=\"250.599,-30.9525 260.2235,-26.523 249.9374,-23.9838 250.599,-30.9525\"/>\n<text text-anchor=\"middle\" x=\"193.545\" y=\"-38.5982\" font-family=\"Times,serif\" font-size=\"14.00\" fill=\"#000000\">&#39;&#39; </text>\n</g>\n<!-- B&#45;&gt;B -->\n<g id=\"edge7\" class=\"edge\">\n<title>B&#45;&gt;B</title>\n<path fill=\"none\" stroke=\"#000000\" d=\"M271.3621,-41.4622C269.7996,-51.4232 272.1433,-60.7982 278.3933,-60.7982 282.3972,-60.7982 284.798,-56.9507 285.5956,-51.5664\"/>\n<polygon fill=\"#000000\" stroke=\"#000000\" points=\"289.0935,-51.4015 285.4246,-41.4622 282.0945,-51.5201 289.0935,-51.4015\"/>\n<text text-anchor=\"middle\" x=\"278.3933\" y=\"-64.5982\" font-family=\"Times,serif\" font-size=\"14.00\" fill=\"#000000\">s </text>\n</g>\n<!-- B&#45;&gt;F3 -->\n<g id=\"edge9\" class=\"edge\">\n<title>B&#45;&gt;F3</title>\n<path fill=\"none\" stroke=\"#000000\" d=\"M292.1836,-36.6447C305.4854,-48.0715 325.9742,-65.6724 342.4747,-79.8471\"/>\n<polygon fill=\"#000000\" stroke=\"#000000\" points=\"340.3394,-82.627 350.2056,-86.4884 344.9008,-77.3172 340.3394,-82.627\"/>\n<text text-anchor=\"middle\" x=\"320.3933\" y=\"-67.5982\" font-family=\"Times,serif\" font-size=\"14.00\" fill=\"#000000\">f </text>\n</g>\n<!-- F4 -->\n<g id=\"node6\" class=\"node\">\n<title>F4</title>\n<ellipse fill=\"none\" stroke=\"#000000\" cx=\"369.1915\" cy=\"-24.7982\" rx=\"20.6302\" ry=\"20.6302\"/>\n<ellipse fill=\"none\" stroke=\"#000000\" cx=\"369.1915\" cy=\"-24.7982\" rx=\"24.5979\" ry=\"24.5979\"/>\n<text text-anchor=\"middle\" x=\"369.1915\" y=\"-21.0982\" font-family=\"Times,serif\" font-size=\"14.00\" fill=\"#000000\">F4</text>\n</g>\n<!-- B&#45;&gt;F4 -->\n<g id=\"edge8\" class=\"edge\">\n<title>B&#45;&gt;F4</title>\n<path fill=\"none\" stroke=\"#000000\" d=\"M296.7677,-24.7982C307.4554,-24.7982 321.2849,-24.7982 333.9906,-24.7982\"/>\n<polygon fill=\"#000000\" stroke=\"#000000\" points=\"334.3055,-28.2983 344.3054,-24.7982 334.3054,-21.2983 334.3055,-28.2983\"/>\n<text text-anchor=\"middle\" x=\"320.3933\" y=\"-28.5982\" font-family=\"Times,serif\" font-size=\"14.00\" fill=\"#000000\">d </text>\n</g>\n</g>\n</svg>\n"
          },
          "metadata": {
            "tags": []
          },
          "execution_count": 87
        }
      ]
    },
    {
      "cell_type": "markdown",
      "metadata": {
        "id": "5uNHqngqN4IX"
      },
      "source": [
        "## 1(b). Obtain the DFA of the above NFA by hand. I've given you a start.\n",
        "\n",
        "1. Obtain the Eclosure of the initial NFA state. That is the DFA's initial state.\n",
        "\n",
        "2. When we go from I1_I2_B (set of states corresponding to the Eclosure) and give that state 'a', it goes to \"wasI2\". This is no longer the initial state of the DFA, and hence called \"wasI2\".\n",
        "\n",
        "3. Finish the remaining steps below.\n",
        "\n",
        "Show your work by typing in the Eclosure details of each step wherever there is a $\\varepsilon$ involved in a given DFA state\n",
        "\n",
        "For DFA states where there is no $\\varepsilon$ involved, just show the final Eclosed result.\n",
        "\n",
        "Use as many bullets as necessary to clearly show your work:\n",
        "\n",
        "* From I1_I2_B on a\n",
        "  - 'b' go to B\n",
        "  - 'c' or 'f' go to F3\n",
        "  - 'd' go to F4\n",
        "  - 's' go to B\n",
        "\n",
        "* From wasI2 on a \n",
        "  - 'b' go to B\n",
        "  - 'c' go to F3\n",
        "\n",
        "* From B on a\n",
        "  - 'd' go to F4\n",
        "  - 'f' go to F3\n",
        "  - 's' go to B"
      ]
    },
    {
      "cell_type": "code",
      "metadata": {
        "id": "WoMUo2bvN4IZ"
      },
      "source": [
        "# DFA of nfa1\n",
        "\n",
        "dfa1 = md2mc('''DFA\n",
        "\n",
        "I1_I2_B : a -> wasI2\n",
        "I1_I2_B : b -> B\n",
        "I1_I2_B : c -> F3\n",
        "I1_I2_B : d -> F4\n",
        "I1_I2_B : f -> F3\n",
        "I1_I2_B : s -> B\n",
        "\n",
        "wasI2   : b -> B\n",
        "wasI2   : c -> F3\n",
        "\n",
        "B       : d -> F4\n",
        "B       : f -> F3\n",
        "B       : s -> B\n",
        "\n",
        "\n",
        "''')"
      ],
      "execution_count": 88,
      "outputs": []
    },
    {
      "cell_type": "code",
      "metadata": {
        "id": "EcXZv9VgN4Ih",
        "outputId": "73998430-d556-4bfd-e1b3-208683b7e444",
        "colab": {
          "base_uri": "https://localhost:8080/",
          "height": 394
        }
      },
      "source": [
        "dotObj_dfa(dfa1)"
      ],
      "execution_count": 89,
      "outputs": [
        {
          "output_type": "execute_result",
          "data": {
            "text/plain": [
              "<graphviz.dot.Digraph at 0x7f8870da4f60>"
            ],
            "image/svg+xml": "<?xml version=\"1.0\" encoding=\"UTF-8\" standalone=\"no\"?>\n<!DOCTYPE svg PUBLIC \"-//W3C//DTD SVG 1.1//EN\"\n \"http://www.w3.org/Graphics/SVG/1.1/DTD/svg11.dtd\">\n<!-- Generated by graphviz version 2.40.1 (20161225.0304)\n -->\n<!-- Title: %3 Pages: 1 -->\n<svg width=\"476pt\" height=\"280pt\"\n viewBox=\"0.00 0.00 476.08 279.80\" xmlns=\"http://www.w3.org/2000/svg\" xmlns:xlink=\"http://www.w3.org/1999/xlink\">\n<g id=\"graph0\" class=\"graph\" transform=\"scale(1 1) rotate(0) translate(4 275.7982)\">\n<title>%3</title>\n<polygon fill=\"#ffffff\" stroke=\"transparent\" points=\"-4,4 -4,-275.7982 472.083,-275.7982 472.083,4 -4,4\"/>\n<!-- EMPTY -->\n<g id=\"node1\" class=\"node\">\n<title>EMPTY</title>\n</g>\n<!-- I1_I2_B -->\n<g id=\"node2\" class=\"node\">\n<title>I1_I2_B</title>\n<ellipse fill=\"none\" stroke=\"#000000\" cx=\"133.2463\" cy=\"-121.7982\" rx=\"42.4939\" ry=\"42.4939\"/>\n<text text-anchor=\"middle\" x=\"133.2463\" y=\"-118.0982\" font-family=\"Times,serif\" font-size=\"14.00\" fill=\"#000000\">I1_I2_B</text>\n</g>\n<!-- EMPTY&#45;&gt;I1_I2_B -->\n<g id=\"edge1\" class=\"edge\">\n<title>EMPTY&#45;&gt;I1_I2_B</title>\n<path fill=\"none\" stroke=\"#000000\" d=\"M54.0853,-121.7982C62.3026,-121.7982 71.6242,-121.7982 80.9135,-121.7982\"/>\n<polygon fill=\"#000000\" stroke=\"#000000\" points=\"80.927,-125.2983 90.927,-121.7982 80.9269,-118.2983 80.927,-125.2983\"/>\n</g>\n<!-- B -->\n<g id=\"node3\" class=\"node\">\n<title>B</title>\n<ellipse fill=\"none\" stroke=\"#000000\" cx=\"352.4867\" cy=\"-84.7982\" rx=\"18\" ry=\"18\"/>\n<text text-anchor=\"middle\" x=\"352.4867\" y=\"-81.0982\" font-family=\"Times,serif\" font-size=\"14.00\" fill=\"#000000\">B</text>\n</g>\n<!-- I1_I2_B&#45;&gt;B -->\n<g id=\"edge3\" class=\"edge\">\n<title>I1_I2_B&#45;&gt;B</title>\n<path fill=\"none\" stroke=\"#000000\" d=\"M173.8234,-109.8743C188.7082,-105.8585 205.7622,-101.6722 221.4925,-98.7982 256.4936,-92.4031 297.3287,-88.6105 323.9824,-86.619\"/>\n<polygon fill=\"#000000\" stroke=\"#000000\" points=\"324.4129,-90.0973 334.1393,-85.8963 323.9161,-83.1149 324.4129,-90.0973\"/>\n<text text-anchor=\"middle\" x=\"253.9896\" y=\"-102.5982\" font-family=\"Times,serif\" font-size=\"14.00\" fill=\"#000000\">b </text>\n</g>\n<!-- I1_I2_B&#45;&gt;B -->\n<g id=\"edge7\" class=\"edge\">\n<title>I1_I2_B&#45;&gt;B</title>\n<path fill=\"none\" stroke=\"#000000\" d=\"M167.4294,-96.4147C183.0668,-86.3351 202.3505,-75.9317 221.4925,-70.7982 256.5964,-61.3839 298.5928,-69.0513 325.3994,-76.2215\"/>\n<polygon fill=\"#000000\" stroke=\"#000000\" points=\"324.6442,-79.6454 335.2199,-79.0095 326.556,-72.9115 324.6442,-79.6454\"/>\n<text text-anchor=\"middle\" x=\"253.9896\" y=\"-74.5982\" font-family=\"Times,serif\" font-size=\"14.00\" fill=\"#000000\">s </text>\n</g>\n<!-- wasI2 -->\n<g id=\"node4\" class=\"node\">\n<title>wasI2</title>\n<ellipse fill=\"none\" stroke=\"#000000\" cx=\"253.9896\" cy=\"-154.7982\" rx=\"32.4942\" ry=\"32.4942\"/>\n<text text-anchor=\"middle\" x=\"253.9896\" y=\"-151.0982\" font-family=\"Times,serif\" font-size=\"14.00\" fill=\"#000000\">wasI2</text>\n</g>\n<!-- I1_I2_B&#45;&gt;wasI2 -->\n<g id=\"edge2\" class=\"edge\">\n<title>I1_I2_B&#45;&gt;wasI2</title>\n<path fill=\"none\" stroke=\"#000000\" d=\"M174.1244,-132.9704C186.5407,-136.3639 200.1893,-140.0942 212.6366,-143.4961\"/>\n<polygon fill=\"#000000\" stroke=\"#000000\" points=\"211.7461,-146.881 222.315,-146.1413 213.5916,-140.1286 211.7461,-146.881\"/>\n<text text-anchor=\"middle\" x=\"198.4925\" y=\"-143.5982\" font-family=\"Times,serif\" font-size=\"14.00\" fill=\"#000000\">a </text>\n</g>\n<!-- F3 -->\n<g id=\"node5\" class=\"node\">\n<title>F3</title>\n<ellipse fill=\"none\" stroke=\"#000000\" cx=\"443.2849\" cy=\"-192.7982\" rx=\"20.6302\" ry=\"20.6302\"/>\n<ellipse fill=\"none\" stroke=\"#000000\" cx=\"443.2849\" cy=\"-192.7982\" rx=\"24.5979\" ry=\"24.5979\"/>\n<text text-anchor=\"middle\" x=\"443.2849\" y=\"-189.0982\" font-family=\"Times,serif\" font-size=\"14.00\" fill=\"#000000\">F3</text>\n</g>\n<!-- I1_I2_B&#45;&gt;F3 -->\n<g id=\"edge4\" class=\"edge\">\n<title>I1_I2_B&#45;&gt;F3</title>\n<path fill=\"none\" stroke=\"#000000\" d=\"M144.949,-162.6417C154.0648,-186.3809 169.3273,-214.3783 193.4925,-228.7982 272.4938,-275.9397 314.4377,-261.3418 400.4867,-228.7982 406.9545,-226.3521 413.1359,-222.4808 418.6898,-218.1666\"/>\n<polygon fill=\"#000000\" stroke=\"#000000\" points=\"421.0009,-220.7956 426.3381,-211.6433 416.4583,-215.4697 421.0009,-220.7956\"/>\n<text text-anchor=\"middle\" x=\"310.4867\" y=\"-260.5982\" font-family=\"Times,serif\" font-size=\"14.00\" fill=\"#000000\">c </text>\n</g>\n<!-- I1_I2_B&#45;&gt;F3 -->\n<g id=\"edge6\" class=\"edge\">\n<title>I1_I2_B&#45;&gt;F3</title>\n<path fill=\"none\" stroke=\"#000000\" d=\"M161.2599,-154.101C177.1332,-169.9073 198.4067,-187.3214 221.4925,-195.7982 284.4092,-218.9003 364.2932,-209.2028 408.9918,-200.6264\"/>\n<polygon fill=\"#000000\" stroke=\"#000000\" points=\"409.925,-204.0088 419.0368,-198.6028 408.5425,-197.1466 409.925,-204.0088\"/>\n<text text-anchor=\"middle\" x=\"310.4867\" y=\"-213.5982\" font-family=\"Times,serif\" font-size=\"14.00\" fill=\"#000000\">f </text>\n</g>\n<!-- F4 -->\n<g id=\"node6\" class=\"node\">\n<title>F4</title>\n<ellipse fill=\"none\" stroke=\"#000000\" cx=\"443.2849\" cy=\"-24.7982\" rx=\"20.6302\" ry=\"20.6302\"/>\n<ellipse fill=\"none\" stroke=\"#000000\" cx=\"443.2849\" cy=\"-24.7982\" rx=\"24.5979\" ry=\"24.5979\"/>\n<text text-anchor=\"middle\" x=\"443.2849\" y=\"-21.0982\" font-family=\"Times,serif\" font-size=\"14.00\" fill=\"#000000\">F4</text>\n</g>\n<!-- I1_I2_B&#45;&gt;F4 -->\n<g id=\"edge5\" class=\"edge\">\n<title>I1_I2_B&#45;&gt;F4</title>\n<path fill=\"none\" stroke=\"#000000\" d=\"M164.7315,-93.1526C173.6304,-85.9208 183.5967,-78.5774 193.4925,-72.7982 262.0247,-32.7751 357.4404,-25.29 408.2194,-24.383\"/>\n<polygon fill=\"#000000\" stroke=\"#000000\" points=\"408.388,-27.8816 418.3518,-24.28 408.3167,-20.8819 408.388,-27.8816\"/>\n<text text-anchor=\"middle\" x=\"310.4867\" y=\"-38.5982\" font-family=\"Times,serif\" font-size=\"14.00\" fill=\"#000000\">d </text>\n</g>\n<!-- B&#45;&gt;B -->\n<g id=\"edge12\" class=\"edge\">\n<title>B&#45;&gt;B</title>\n<path fill=\"none\" stroke=\"#000000\" d=\"M345.4555,-101.4622C343.893,-111.4232 346.2367,-120.7982 352.4867,-120.7982 356.4906,-120.7982 358.8914,-116.9507 359.6891,-111.5664\"/>\n<polygon fill=\"#000000\" stroke=\"#000000\" points=\"363.1869,-111.4015 359.518,-101.4622 356.1879,-111.5201 363.1869,-111.4015\"/>\n<text text-anchor=\"middle\" x=\"352.4867\" y=\"-124.5982\" font-family=\"Times,serif\" font-size=\"14.00\" fill=\"#000000\">s </text>\n</g>\n<!-- B&#45;&gt;F3 -->\n<g id=\"edge11\" class=\"edge\">\n<title>B&#45;&gt;F3</title>\n<path fill=\"none\" stroke=\"#000000\" d=\"M364.357,-98.9173C378.5937,-115.8511 402.7693,-144.6068 420.622,-165.8417\"/>\n<polygon fill=\"#000000\" stroke=\"#000000\" points=\"418.0065,-168.1696 427.1207,-173.5716 423.3645,-163.665 418.0065,-168.1696\"/>\n<text text-anchor=\"middle\" x=\"394.4867\" y=\"-142.5982\" font-family=\"Times,serif\" font-size=\"14.00\" fill=\"#000000\">f </text>\n</g>\n<!-- B&#45;&gt;F4 -->\n<g id=\"edge10\" class=\"edge\">\n<title>B&#45;&gt;F4</title>\n<path fill=\"none\" stroke=\"#000000\" d=\"M367.8894,-74.62C380.4087,-66.3471 398.4365,-54.4342 413.7246,-44.3318\"/>\n<polygon fill=\"#000000\" stroke=\"#000000\" points=\"415.9337,-47.0672 422.3471,-38.634 412.0745,-41.2271 415.9337,-47.0672\"/>\n<text text-anchor=\"middle\" x=\"394.4867\" y=\"-63.5982\" font-family=\"Times,serif\" font-size=\"14.00\" fill=\"#000000\">d </text>\n</g>\n<!-- wasI2&#45;&gt;B -->\n<g id=\"edge8\" class=\"edge\">\n<title>wasI2&#45;&gt;B</title>\n<path fill=\"none\" stroke=\"#000000\" d=\"M280.6444,-135.8551C295.8366,-125.0583 314.6912,-111.6587 329.2725,-101.2961\"/>\n<polygon fill=\"#000000\" stroke=\"#000000\" points=\"331.6045,-103.9326 337.7282,-95.2867 327.5495,-98.2268 331.6045,-103.9326\"/>\n<text text-anchor=\"middle\" x=\"310.4867\" y=\"-120.5982\" font-family=\"Times,serif\" font-size=\"14.00\" fill=\"#000000\">b </text>\n</g>\n<!-- wasI2&#45;&gt;F3 -->\n<g id=\"edge9\" class=\"edge\">\n<title>wasI2&#45;&gt;F3</title>\n<path fill=\"none\" stroke=\"#000000\" d=\"M286.101,-161.2443C320.1321,-168.0759 373.6868,-178.8267 408.648,-185.845\"/>\n<polygon fill=\"#000000\" stroke=\"#000000\" points=\"408.3656,-189.3581 418.8589,-187.8948 409.7434,-182.495 408.3656,-189.3581\"/>\n<text text-anchor=\"middle\" x=\"352.4867\" y=\"-180.5982\" font-family=\"Times,serif\" font-size=\"14.00\" fill=\"#000000\">c </text>\n</g>\n</g>\n</svg>\n"
          },
          "metadata": {
            "tags": []
          },
          "execution_count": 89
        }
      ]
    },
    {
      "cell_type": "markdown",
      "metadata": {
        "id": "SWbA0_MNN4Is"
      },
      "source": [
        "## 1(c). Reverse nfa1 by hand, below. In doing so, it is helpful for me to suggest state renamings for you\n",
        "\n",
        "1) Change F3 to I3\n",
        "\n",
        "2) Change F4 to I4\n",
        "\n",
        "3) Change I1 and I2 to F1 and F2\n",
        "\n",
        "4) Now, reverse the transitions of nfa1, obtaining \"rnfa1\" below\n",
        " "
      ]
    },
    {
      "cell_type": "code",
      "metadata": {
        "id": "ak5lbSElN4Is"
      },
      "source": [
        "# There is no Jove function to reverse automatically - do it by hand!\n",
        "\n",
        "rnfa1 = md2mc('''\n",
        "NFA\n",
        "\n",
        "I3 : c -> F2\n",
        "I3 : f -> B\n",
        "\n",
        "I4 : d -> B\n",
        "\n",
        "B: b -> F2\n",
        "B: '' -> F1\n",
        "B: s -> B\n",
        "\n",
        "F2: a -> F1\n",
        "''')"
      ],
      "execution_count": 90,
      "outputs": []
    },
    {
      "cell_type": "code",
      "metadata": {
        "id": "O3oCot5mN4Iz",
        "outputId": "e68e61ff-09c0-47c2-e378-9fd7a7b781ef",
        "colab": {
          "base_uri": "https://localhost:8080/",
          "height": 167
        }
      },
      "source": [
        "dotObj_nfa(rnfa1)"
      ],
      "execution_count": 91,
      "outputs": [
        {
          "output_type": "execute_result",
          "data": {
            "text/plain": [
              "<graphviz.dot.Digraph at 0x7f8870e0ab70>"
            ],
            "image/svg+xml": "<?xml version=\"1.0\" encoding=\"UTF-8\" standalone=\"no\"?>\n<!DOCTYPE svg PUBLIC \"-//W3C//DTD SVG 1.1//EN\"\n \"http://www.w3.org/Graphics/SVG/1.1/DTD/svg11.dtd\">\n<!-- Generated by graphviz version 2.40.1 (20161225.0304)\n -->\n<!-- Title: %3 Pages: 1 -->\n<svg width=\"414pt\" height=\"110pt\"\n viewBox=\"0.00 0.00 413.89 109.65\" xmlns=\"http://www.w3.org/2000/svg\" xmlns:xlink=\"http://www.w3.org/1999/xlink\">\n<g id=\"graph0\" class=\"graph\" transform=\"scale(1 1) rotate(0) translate(4 105.6465)\">\n<title>%3</title>\n<polygon fill=\"#ffffff\" stroke=\"transparent\" points=\"-4,4 -4,-105.6465 409.8893,-105.6465 409.8893,4 -4,4\"/>\n<!-- EMPTY -->\n<g id=\"node1\" class=\"node\">\n<title>EMPTY</title>\n</g>\n<!-- I3 -->\n<g id=\"node2\" class=\"node\">\n<title>I3</title>\n<ellipse fill=\"none\" stroke=\"#000000\" cx=\"109.8483\" cy=\"-74.8483\" rx=\"18.6979\" ry=\"18.6979\"/>\n<text text-anchor=\"middle\" x=\"109.8483\" y=\"-71.1483\" font-family=\"Times,serif\" font-size=\"14.00\" fill=\"#000000\">I3</text>\n</g>\n<!-- EMPTY&#45;&gt;I3 -->\n<g id=\"edge1\" class=\"edge\">\n<title>EMPTY&#45;&gt;I3</title>\n<path fill=\"none\" stroke=\"#000000\" d=\"M54.1276,-55.344C63.111,-58.4885 73.1168,-61.9909 82.143,-65.1504\"/>\n<polygon fill=\"#000000\" stroke=\"#000000\" points=\"81.216,-68.5341 91.8108,-68.5345 83.5287,-61.9272 81.216,-68.5341\"/>\n</g>\n<!-- I4 -->\n<g id=\"node4\" class=\"node\">\n<title>I4</title>\n<ellipse fill=\"none\" stroke=\"#000000\" cx=\"109.8483\" cy=\"-18.8483\" rx=\"18.6979\" ry=\"18.6979\"/>\n<text text-anchor=\"middle\" x=\"109.8483\" y=\"-15.1483\" font-family=\"Times,serif\" font-size=\"14.00\" fill=\"#000000\">I4</text>\n</g>\n<!-- EMPTY&#45;&gt;I4 -->\n<g id=\"edge2\" class=\"edge\">\n<title>EMPTY&#45;&gt;I4</title>\n<path fill=\"none\" stroke=\"#000000\" d=\"M54.1276,-37.0075C63.111,-34.0799 73.1168,-30.819 82.143,-27.8774\"/>\n<polygon fill=\"#000000\" stroke=\"#000000\" points=\"83.3875,-31.1531 91.8108,-24.7267 81.2185,-24.4976 83.3875,-31.1531\"/>\n</g>\n<!-- B -->\n<g id=\"node3\" class=\"node\">\n<title>B</title>\n<ellipse fill=\"none\" stroke=\"#000000\" cx=\"194.6967\" cy=\"-18.8483\" rx=\"18\" ry=\"18\"/>\n<text text-anchor=\"middle\" x=\"194.6967\" y=\"-15.1483\" font-family=\"Times,serif\" font-size=\"14.00\" fill=\"#000000\">B</text>\n</g>\n<!-- I3&#45;&gt;B -->\n<g id=\"edge4\" class=\"edge\">\n<title>I3&#45;&gt;B</title>\n<path fill=\"none\" stroke=\"#000000\" d=\"M125.8076,-64.3152C138.6084,-55.8666 156.7615,-43.8856 171.2196,-34.3432\"/>\n<polygon fill=\"#000000\" stroke=\"#000000\" points=\"173.2452,-37.1999 179.6634,-28.7703 169.3893,-31.3576 173.2452,-37.1999\"/>\n<text text-anchor=\"middle\" x=\"152.6967\" y=\"-54.6483\" font-family=\"Times,serif\" font-size=\"14.00\" fill=\"#000000\">f </text>\n</g>\n<!-- F2 -->\n<g id=\"node5\" class=\"node\">\n<title>F2</title>\n<ellipse fill=\"none\" stroke=\"#000000\" cx=\"285.4948\" cy=\"-76.8483\" rx=\"20.6302\" ry=\"20.6302\"/>\n<ellipse fill=\"none\" stroke=\"#000000\" cx=\"285.4948\" cy=\"-76.8483\" rx=\"24.5979\" ry=\"24.5979\"/>\n<text text-anchor=\"middle\" x=\"285.4948\" y=\"-73.1483\" font-family=\"Times,serif\" font-size=\"14.00\" fill=\"#000000\">F2</text>\n</g>\n<!-- I3&#45;&gt;F2 -->\n<g id=\"edge3\" class=\"edge\">\n<title>I3&#45;&gt;F2</title>\n<path fill=\"none\" stroke=\"#000000\" d=\"M128.8522,-76.2886C142.2235,-77.2277 160.5432,-78.3655 176.6967,-78.8483 201.2509,-79.5823 228.9309,-79.0547 250.2263,-78.3577\"/>\n<polygon fill=\"#000000\" stroke=\"#000000\" points=\"250.558,-81.8482 260.4274,-77.9952 250.3093,-74.8526 250.558,-81.8482\"/>\n<text text-anchor=\"middle\" x=\"194.6967\" y=\"-83.6483\" font-family=\"Times,serif\" font-size=\"14.00\" fill=\"#000000\">c </text>\n</g>\n<!-- B&#45;&gt;B -->\n<g id=\"edge8\" class=\"edge\">\n<title>B&#45;&gt;B</title>\n<path fill=\"none\" stroke=\"#000000\" d=\"M187.3138,-35.5124C185.6732,-45.4733 188.1342,-54.8483 194.6967,-54.8483 198.9008,-54.8483 201.4216,-51.0008 202.2591,-45.6166\"/>\n<polygon fill=\"#000000\" stroke=\"#000000\" points=\"205.7568,-45.4486 202.0795,-35.5124 198.7579,-45.5731 205.7568,-45.4486\"/>\n<text text-anchor=\"middle\" x=\"194.6967\" y=\"-58.6483\" font-family=\"Times,serif\" font-size=\"14.00\" fill=\"#000000\">s </text>\n</g>\n<!-- B&#45;&gt;F2 -->\n<g id=\"edge6\" class=\"edge\">\n<title>B&#45;&gt;F2</title>\n<path fill=\"none\" stroke=\"#000000\" d=\"M210.0993,-28.6872C222.6187,-36.6843 240.6465,-48.2001 255.9346,-57.9658\"/>\n<polygon fill=\"#000000\" stroke=\"#000000\" points=\"254.2455,-61.04 264.557,-63.4737 258.0138,-55.1408 254.2455,-61.04\"/>\n<text text-anchor=\"middle\" x=\"236.6967\" y=\"-51.6483\" font-family=\"Times,serif\" font-size=\"14.00\" fill=\"#000000\">b </text>\n</g>\n<!-- F1 -->\n<g id=\"node6\" class=\"node\">\n<title>F1</title>\n<ellipse fill=\"none\" stroke=\"#000000\" cx=\"381.0911\" cy=\"-34.8483\" rx=\"20.6302\" ry=\"20.6302\"/>\n<ellipse fill=\"none\" stroke=\"#000000\" cx=\"381.0911\" cy=\"-34.8483\" rx=\"24.5979\" ry=\"24.5979\"/>\n<text text-anchor=\"middle\" x=\"381.0911\" y=\"-31.1483\" font-family=\"Times,serif\" font-size=\"14.00\" fill=\"#000000\">F1</text>\n</g>\n<!-- B&#45;&gt;F1 -->\n<g id=\"edge7\" class=\"edge\">\n<title>B&#45;&gt;F1</title>\n<path fill=\"none\" stroke=\"#000000\" d=\"M212.7268,-20.1352C235.4779,-21.7858 275.8045,-24.8011 310.293,-27.8483 321.9735,-28.8804 334.7274,-30.1096 346.1521,-31.2479\"/>\n<polygon fill=\"#000000\" stroke=\"#000000\" points=\"345.9014,-34.7403 356.2017,-32.2595 346.6025,-27.7755 345.9014,-34.7403\"/>\n<text text-anchor=\"middle\" x=\"285.4948\" y=\"-31.6483\" font-family=\"Times,serif\" font-size=\"14.00\" fill=\"#000000\">&#39;&#39; </text>\n</g>\n<!-- I4&#45;&gt;B -->\n<g id=\"edge5\" class=\"edge\">\n<title>I4&#45;&gt;B</title>\n<path fill=\"none\" stroke=\"#000000\" d=\"M129.1017,-18.8483C140.1442,-18.8483 154.2078,-18.8483 166.4787,-18.8483\"/>\n<polygon fill=\"#000000\" stroke=\"#000000\" points=\"166.6798,-22.3484 176.6798,-18.8483 166.6798,-15.3484 166.6798,-22.3484\"/>\n<text text-anchor=\"middle\" x=\"152.6967\" y=\"-22.6483\" font-family=\"Times,serif\" font-size=\"14.00\" fill=\"#000000\">d </text>\n</g>\n<!-- F2&#45;&gt;F1 -->\n<g id=\"edge9\" class=\"edge\">\n<title>F2&#45;&gt;F1</title>\n<path fill=\"none\" stroke=\"#000000\" d=\"M308.636,-66.6813C320.7306,-61.3676 335.7255,-54.7796 348.9309,-48.9779\"/>\n<polygon fill=\"#000000\" stroke=\"#000000\" points=\"350.4155,-52.1485 358.163,-44.9217 347.5998,-45.7398 350.4155,-52.1485\"/>\n<text text-anchor=\"middle\" x=\"333.293\" y=\"-61.6483\" font-family=\"Times,serif\" font-size=\"14.00\" fill=\"#000000\">a </text>\n</g>\n</g>\n</svg>\n"
          },
          "metadata": {
            "tags": []
          },
          "execution_count": 91
        }
      ]
    },
    {
      "cell_type": "code",
      "metadata": {
        "id": "-UCuhNfUN4I6",
        "outputId": "7c11707d-56c9-41cc-8042-330081a3b884",
        "colab": {
          "base_uri": "https://localhost:8080/",
          "height": 202
        }
      },
      "source": [
        "dotObj_nfa(nfa1)"
      ],
      "execution_count": 92,
      "outputs": [
        {
          "output_type": "execute_result",
          "data": {
            "text/plain": [
              "<graphviz.dot.Digraph at 0x7f8870e0add8>"
            ],
            "image/svg+xml": "<?xml version=\"1.0\" encoding=\"UTF-8\" standalone=\"no\"?>\n<!DOCTYPE svg PUBLIC \"-//W3C//DTD SVG 1.1//EN\"\n \"http://www.w3.org/Graphics/SVG/1.1/DTD/svg11.dtd\">\n<!-- Generated by graphviz version 2.40.1 (20161225.0304)\n -->\n<!-- Title: %3 Pages: 1 -->\n<svg width=\"402pt\" height=\"136pt\"\n viewBox=\"0.00 0.00 401.99 135.60\" xmlns=\"http://www.w3.org/2000/svg\" xmlns:xlink=\"http://www.w3.org/1999/xlink\">\n<g id=\"graph0\" class=\"graph\" transform=\"scale(1 1) rotate(0) translate(4 131.5963)\">\n<title>%3</title>\n<polygon fill=\"#ffffff\" stroke=\"transparent\" points=\"-4,4 -4,-131.5963 397.9896,-131.5963 397.9896,4 -4,4\"/>\n<!-- EMPTY -->\n<g id=\"node1\" class=\"node\">\n<title>EMPTY</title>\n</g>\n<!-- I2 -->\n<g id=\"node2\" class=\"node\">\n<title>I2</title>\n<ellipse fill=\"none\" stroke=\"#000000\" cx=\"193.545\" cy=\"-81.7982\" rx=\"18.6979\" ry=\"18.6979\"/>\n<text text-anchor=\"middle\" x=\"193.545\" y=\"-78.0982\" font-family=\"Times,serif\" font-size=\"14.00\" fill=\"#000000\">I2</text>\n</g>\n<!-- EMPTY&#45;&gt;I2 -->\n<g id=\"edge1\" class=\"edge\">\n<title>EMPTY&#45;&gt;I2</title>\n<path fill=\"none\" stroke=\"#000000\" d=\"M54.129,-66.7302C84.4711,-70.0096 133.4281,-75.3008 164.5205,-78.6612\"/>\n<polygon fill=\"#000000\" stroke=\"#000000\" points=\"164.3952,-82.168 174.7135,-79.7629 165.1475,-75.2085 164.3952,-82.168\"/>\n</g>\n<!-- I1 -->\n<g id=\"node3\" class=\"node\">\n<title>I1</title>\n<ellipse fill=\"none\" stroke=\"#000000\" cx=\"109.8483\" cy=\"-40.7982\" rx=\"18.6979\" ry=\"18.6979\"/>\n<text text-anchor=\"middle\" x=\"109.8483\" y=\"-37.0982\" font-family=\"Times,serif\" font-size=\"14.00\" fill=\"#000000\">I1</text>\n</g>\n<!-- EMPTY&#45;&gt;I1 -->\n<g id=\"edge2\" class=\"edge\">\n<title>EMPTY&#45;&gt;I1</title>\n<path fill=\"none\" stroke=\"#000000\" d=\"M54.1276,-56.2671C62.9466,-53.8188 72.7508,-51.097 81.6463,-48.6275\"/>\n<polygon fill=\"#000000\" stroke=\"#000000\" points=\"82.8586,-51.9234 91.5579,-45.8759 80.9861,-45.1785 82.8586,-51.9234\"/>\n</g>\n<!-- B -->\n<g id=\"node4\" class=\"node\">\n<title>B</title>\n<ellipse fill=\"none\" stroke=\"#000000\" cx=\"278.3933\" cy=\"-24.7982\" rx=\"18\" ry=\"18\"/>\n<text text-anchor=\"middle\" x=\"278.3933\" y=\"-21.0982\" font-family=\"Times,serif\" font-size=\"14.00\" fill=\"#000000\">B</text>\n</g>\n<!-- I2&#45;&gt;B -->\n<g id=\"edge6\" class=\"edge\">\n<title>I2&#45;&gt;B</title>\n<path fill=\"none\" stroke=\"#000000\" d=\"M209.5043,-71.0769C222.3051,-62.4775 240.4581,-50.2825 254.9162,-40.5698\"/>\n<polygon fill=\"#000000\" stroke=\"#000000\" points=\"257.0109,-43.379 263.36,-34.8973 253.1074,-37.5685 257.0109,-43.379\"/>\n<text text-anchor=\"middle\" x=\"236.3933\" y=\"-60.5982\" font-family=\"Times,serif\" font-size=\"14.00\" fill=\"#000000\">b </text>\n</g>\n<!-- F3 -->\n<g id=\"node5\" class=\"node\">\n<title>F3</title>\n<ellipse fill=\"none\" stroke=\"#000000\" cx=\"369.1915\" cy=\"-102.7982\" rx=\"20.6302\" ry=\"20.6302\"/>\n<ellipse fill=\"none\" stroke=\"#000000\" cx=\"369.1915\" cy=\"-102.7982\" rx=\"24.5979\" ry=\"24.5979\"/>\n<text text-anchor=\"middle\" x=\"369.1915\" y=\"-99.0982\" font-family=\"Times,serif\" font-size=\"14.00\" fill=\"#000000\">F3</text>\n</g>\n<!-- I2&#45;&gt;F3 -->\n<g id=\"edge5\" class=\"edge\">\n<title>I2&#45;&gt;F3</title>\n<path fill=\"none\" stroke=\"#000000\" d=\"M212.3422,-84.0455C241.3398,-87.5124 297.4593,-94.222 334.1115,-98.6041\"/>\n<polygon fill=\"#000000\" stroke=\"#000000\" points=\"334.0069,-102.1164 344.3517,-99.8284 334.8379,-95.1659 334.0069,-102.1164\"/>\n<text text-anchor=\"middle\" x=\"278.3933\" y=\"-97.5982\" font-family=\"Times,serif\" font-size=\"14.00\" fill=\"#000000\">c </text>\n</g>\n<!-- I1&#45;&gt;I2 -->\n<g id=\"edge4\" class=\"edge\">\n<title>I1&#45;&gt;I2</title>\n<path fill=\"none\" stroke=\"#000000\" d=\"M127.9903,-46.8522C136.8226,-50.0288 147.495,-54.2115 156.6967,-58.7982 160.8326,-60.8598 165.1,-63.2524 169.1988,-65.6993\"/>\n<polygon fill=\"#000000\" stroke=\"#000000\" points=\"167.4451,-68.7302 177.7862,-71.0355 171.1397,-62.7846 167.4451,-68.7302\"/>\n<text text-anchor=\"middle\" x=\"151.6967\" y=\"-62.5982\" font-family=\"Times,serif\" font-size=\"14.00\" fill=\"#000000\">a </text>\n</g>\n<!-- I1&#45;&gt;B -->\n<g id=\"edge3\" class=\"edge\">\n<title>I1&#45;&gt;B</title>\n<path fill=\"none\" stroke=\"#000000\" d=\"M128.855,-38.9939C158.3749,-36.1915 215.4247,-30.7758 249.8904,-27.5039\"/>\n<polygon fill=\"#000000\" stroke=\"#000000\" points=\"250.599,-30.9525 260.2235,-26.523 249.9374,-23.9838 250.599,-30.9525\"/>\n<text text-anchor=\"middle\" x=\"193.545\" y=\"-38.5982\" font-family=\"Times,serif\" font-size=\"14.00\" fill=\"#000000\">&#39;&#39; </text>\n</g>\n<!-- B&#45;&gt;B -->\n<g id=\"edge7\" class=\"edge\">\n<title>B&#45;&gt;B</title>\n<path fill=\"none\" stroke=\"#000000\" d=\"M271.3621,-41.4622C269.7996,-51.4232 272.1433,-60.7982 278.3933,-60.7982 282.3972,-60.7982 284.798,-56.9507 285.5956,-51.5664\"/>\n<polygon fill=\"#000000\" stroke=\"#000000\" points=\"289.0935,-51.4015 285.4246,-41.4622 282.0945,-51.5201 289.0935,-51.4015\"/>\n<text text-anchor=\"middle\" x=\"278.3933\" y=\"-64.5982\" font-family=\"Times,serif\" font-size=\"14.00\" fill=\"#000000\">s </text>\n</g>\n<!-- B&#45;&gt;F3 -->\n<g id=\"edge9\" class=\"edge\">\n<title>B&#45;&gt;F3</title>\n<path fill=\"none\" stroke=\"#000000\" d=\"M292.1836,-36.6447C305.4854,-48.0715 325.9742,-65.6724 342.4747,-79.8471\"/>\n<polygon fill=\"#000000\" stroke=\"#000000\" points=\"340.3394,-82.627 350.2056,-86.4884 344.9008,-77.3172 340.3394,-82.627\"/>\n<text text-anchor=\"middle\" x=\"320.3933\" y=\"-67.5982\" font-family=\"Times,serif\" font-size=\"14.00\" fill=\"#000000\">f </text>\n</g>\n<!-- F4 -->\n<g id=\"node6\" class=\"node\">\n<title>F4</title>\n<ellipse fill=\"none\" stroke=\"#000000\" cx=\"369.1915\" cy=\"-24.7982\" rx=\"20.6302\" ry=\"20.6302\"/>\n<ellipse fill=\"none\" stroke=\"#000000\" cx=\"369.1915\" cy=\"-24.7982\" rx=\"24.5979\" ry=\"24.5979\"/>\n<text text-anchor=\"middle\" x=\"369.1915\" y=\"-21.0982\" font-family=\"Times,serif\" font-size=\"14.00\" fill=\"#000000\">F4</text>\n</g>\n<!-- B&#45;&gt;F4 -->\n<g id=\"edge8\" class=\"edge\">\n<title>B&#45;&gt;F4</title>\n<path fill=\"none\" stroke=\"#000000\" d=\"M296.7677,-24.7982C307.4554,-24.7982 321.2849,-24.7982 333.9906,-24.7982\"/>\n<polygon fill=\"#000000\" stroke=\"#000000\" points=\"334.3055,-28.2983 344.3054,-24.7982 334.3054,-21.2983 334.3055,-28.2983\"/>\n<text text-anchor=\"middle\" x=\"320.3933\" y=\"-28.5982\" font-family=\"Times,serif\" font-size=\"14.00\" fill=\"#000000\">d </text>\n</g>\n</g>\n</svg>\n"
          },
          "metadata": {
            "tags": []
          },
          "execution_count": 92
        }
      ]
    },
    {
      "cell_type": "markdown",
      "metadata": {
        "id": "_dmcXl76N4JB"
      },
      "source": [
        "## 1(d). Inspect and conclude that rnfa1 is truly the reverse of nfa1\n",
        "\n",
        "\n",
        "### List the first six strings in numeric order and check that they have been correctly reversed. \n",
        "\n",
        "State the string in the original machine and explain (by specifying a path as a sequence of states) that this string is present in the reversed machine also.\n",
        "\n",
        "1. \"c\": $I3 \\xrightarrow{c} F2$\n",
        "\n",
        "2. \"d\": $I4 \\xrightarrow{d} B \\xrightarrow{\\epsilon} F1$\n",
        "\n",
        "3. \"f\": $I3 \\xrightarrow{f} B \\xrightarrow{\\epsilon} F1$\n",
        "\n",
        "4. \"ac\": $I3 \\xrightarrow{c} F2 \\xrightarrow{a} F1$\n",
        "\n",
        "5. \"bd\": $I4 \\xrightarrow{d} B \\xrightarrow{b} F2$\n",
        "\n",
        "6. \"bf\": $I3 \\xrightarrow{f} B \\xrightarrow{b} F2$\n",
        "\n",
        " \n",
        " "
      ]
    },
    {
      "cell_type": "markdown",
      "metadata": {
        "id": "ZghcDIYCN4JD"
      },
      "source": [
        "# 2. Extraction of RE by Inspection (XL) and other things before it\n"
      ]
    },
    {
      "cell_type": "markdown",
      "metadata": {
        "id": "u3wTZpeoN4JE"
      },
      "source": [
        "## 2(a). You can totalize dfa1 to obtain the totalized machine\n",
        "\n",
        "* Explain totalize_dfa in a few sentences below, by looking at the Delta before and After"
      ]
    },
    {
      "cell_type": "code",
      "metadata": {
        "id": "rYeXjp1lN4JF"
      },
      "source": [
        "tdfa1 = totalize_dfa(dfa1)"
      ],
      "execution_count": 93,
      "outputs": []
    },
    {
      "cell_type": "markdown",
      "metadata": {
        "id": "-wIBd6mjN4JM"
      },
      "source": [
        "### Your explanation of totalize_dfa\n",
        "\n",
        "* Add a black hole state ($BH$)\n",
        "\n",
        "* $\\forall s \\in \\Sigma, \\forall q \\in Q$ if $\\delta$ does not have a mapping for $(q,s)$ then make $\\delta(q,s) = BH$\n",
        "\n"
      ]
    },
    {
      "cell_type": "markdown",
      "metadata": {
        "id": "EX_7taSAN4JO"
      },
      "source": [
        "##  A printout may look the same ... till you print w_bh "
      ]
    },
    {
      "cell_type": "code",
      "metadata": {
        "id": "HgiqfUFVN4JP",
        "outputId": "559718b4-a394-4d9a-84c4-899ed343ad6c",
        "colab": {
          "base_uri": "https://localhost:8080/",
          "height": 0
        }
      },
      "source": [
        "dotObj_dfa(tdfa1)"
      ],
      "execution_count": 94,
      "outputs": [
        {
          "output_type": "execute_result",
          "data": {
            "text/plain": [
              "<graphviz.dot.Digraph at 0x7f8878a76c50>"
            ],
            "image/svg+xml": "<?xml version=\"1.0\" encoding=\"UTF-8\" standalone=\"no\"?>\n<!DOCTYPE svg PUBLIC \"-//W3C//DTD SVG 1.1//EN\"\n \"http://www.w3.org/Graphics/SVG/1.1/DTD/svg11.dtd\">\n<!-- Generated by graphviz version 2.40.1 (20161225.0304)\n -->\n<!-- Title: %3 Pages: 1 -->\n<svg width=\"476pt\" height=\"280pt\"\n viewBox=\"0.00 0.00 476.08 279.80\" xmlns=\"http://www.w3.org/2000/svg\" xmlns:xlink=\"http://www.w3.org/1999/xlink\">\n<g id=\"graph0\" class=\"graph\" transform=\"scale(1 1) rotate(0) translate(4 275.7982)\">\n<title>%3</title>\n<polygon fill=\"#ffffff\" stroke=\"transparent\" points=\"-4,4 -4,-275.7982 472.083,-275.7982 472.083,4 -4,4\"/>\n<!-- EMPTY -->\n<g id=\"node1\" class=\"node\">\n<title>EMPTY</title>\n</g>\n<!-- I1_I2_B -->\n<g id=\"node2\" class=\"node\">\n<title>I1_I2_B</title>\n<ellipse fill=\"none\" stroke=\"#000000\" cx=\"133.2463\" cy=\"-121.7982\" rx=\"42.4939\" ry=\"42.4939\"/>\n<text text-anchor=\"middle\" x=\"133.2463\" y=\"-118.0982\" font-family=\"Times,serif\" font-size=\"14.00\" fill=\"#000000\">I1_I2_B</text>\n</g>\n<!-- EMPTY&#45;&gt;I1_I2_B -->\n<g id=\"edge1\" class=\"edge\">\n<title>EMPTY&#45;&gt;I1_I2_B</title>\n<path fill=\"none\" stroke=\"#000000\" d=\"M54.0853,-121.7982C62.3026,-121.7982 71.6242,-121.7982 80.9135,-121.7982\"/>\n<polygon fill=\"#000000\" stroke=\"#000000\" points=\"80.927,-125.2983 90.927,-121.7982 80.9269,-118.2983 80.927,-125.2983\"/>\n</g>\n<!-- B -->\n<g id=\"node3\" class=\"node\">\n<title>B</title>\n<ellipse fill=\"none\" stroke=\"#000000\" cx=\"352.4867\" cy=\"-84.7982\" rx=\"18\" ry=\"18\"/>\n<text text-anchor=\"middle\" x=\"352.4867\" y=\"-81.0982\" font-family=\"Times,serif\" font-size=\"14.00\" fill=\"#000000\">B</text>\n</g>\n<!-- I1_I2_B&#45;&gt;B -->\n<g id=\"edge3\" class=\"edge\">\n<title>I1_I2_B&#45;&gt;B</title>\n<path fill=\"none\" stroke=\"#000000\" d=\"M173.8234,-109.8743C188.7082,-105.8585 205.7622,-101.6722 221.4925,-98.7982 256.4936,-92.4031 297.3287,-88.6105 323.9824,-86.619\"/>\n<polygon fill=\"#000000\" stroke=\"#000000\" points=\"324.4129,-90.0973 334.1393,-85.8963 323.9161,-83.1149 324.4129,-90.0973\"/>\n<text text-anchor=\"middle\" x=\"253.9896\" y=\"-102.5982\" font-family=\"Times,serif\" font-size=\"14.00\" fill=\"#000000\">b </text>\n</g>\n<!-- I1_I2_B&#45;&gt;B -->\n<g id=\"edge7\" class=\"edge\">\n<title>I1_I2_B&#45;&gt;B</title>\n<path fill=\"none\" stroke=\"#000000\" d=\"M167.4294,-96.4147C183.0668,-86.3351 202.3505,-75.9317 221.4925,-70.7982 256.5964,-61.3839 298.5928,-69.0513 325.3994,-76.2215\"/>\n<polygon fill=\"#000000\" stroke=\"#000000\" points=\"324.6442,-79.6454 335.2199,-79.0095 326.556,-72.9115 324.6442,-79.6454\"/>\n<text text-anchor=\"middle\" x=\"253.9896\" y=\"-74.5982\" font-family=\"Times,serif\" font-size=\"14.00\" fill=\"#000000\">s </text>\n</g>\n<!-- wasI2 -->\n<g id=\"node4\" class=\"node\">\n<title>wasI2</title>\n<ellipse fill=\"none\" stroke=\"#000000\" cx=\"253.9896\" cy=\"-154.7982\" rx=\"32.4942\" ry=\"32.4942\"/>\n<text text-anchor=\"middle\" x=\"253.9896\" y=\"-151.0982\" font-family=\"Times,serif\" font-size=\"14.00\" fill=\"#000000\">wasI2</text>\n</g>\n<!-- I1_I2_B&#45;&gt;wasI2 -->\n<g id=\"edge2\" class=\"edge\">\n<title>I1_I2_B&#45;&gt;wasI2</title>\n<path fill=\"none\" stroke=\"#000000\" d=\"M174.1244,-132.9704C186.5407,-136.3639 200.1893,-140.0942 212.6366,-143.4961\"/>\n<polygon fill=\"#000000\" stroke=\"#000000\" points=\"211.7461,-146.881 222.315,-146.1413 213.5916,-140.1286 211.7461,-146.881\"/>\n<text text-anchor=\"middle\" x=\"198.4925\" y=\"-143.5982\" font-family=\"Times,serif\" font-size=\"14.00\" fill=\"#000000\">a </text>\n</g>\n<!-- F3 -->\n<g id=\"node5\" class=\"node\">\n<title>F3</title>\n<ellipse fill=\"none\" stroke=\"#000000\" cx=\"443.2849\" cy=\"-192.7982\" rx=\"20.6302\" ry=\"20.6302\"/>\n<ellipse fill=\"none\" stroke=\"#000000\" cx=\"443.2849\" cy=\"-192.7982\" rx=\"24.5979\" ry=\"24.5979\"/>\n<text text-anchor=\"middle\" x=\"443.2849\" y=\"-189.0982\" font-family=\"Times,serif\" font-size=\"14.00\" fill=\"#000000\">F3</text>\n</g>\n<!-- I1_I2_B&#45;&gt;F3 -->\n<g id=\"edge4\" class=\"edge\">\n<title>I1_I2_B&#45;&gt;F3</title>\n<path fill=\"none\" stroke=\"#000000\" d=\"M144.949,-162.6417C154.0648,-186.3809 169.3273,-214.3783 193.4925,-228.7982 272.4938,-275.9397 314.4377,-261.3418 400.4867,-228.7982 406.9545,-226.3521 413.1359,-222.4808 418.6898,-218.1666\"/>\n<polygon fill=\"#000000\" stroke=\"#000000\" points=\"421.0009,-220.7956 426.3381,-211.6433 416.4583,-215.4697 421.0009,-220.7956\"/>\n<text text-anchor=\"middle\" x=\"310.4867\" y=\"-260.5982\" font-family=\"Times,serif\" font-size=\"14.00\" fill=\"#000000\">c </text>\n</g>\n<!-- I1_I2_B&#45;&gt;F3 -->\n<g id=\"edge6\" class=\"edge\">\n<title>I1_I2_B&#45;&gt;F3</title>\n<path fill=\"none\" stroke=\"#000000\" d=\"M161.2599,-154.101C177.1332,-169.9073 198.4067,-187.3214 221.4925,-195.7982 284.4092,-218.9003 364.2932,-209.2028 408.9918,-200.6264\"/>\n<polygon fill=\"#000000\" stroke=\"#000000\" points=\"409.925,-204.0088 419.0368,-198.6028 408.5425,-197.1466 409.925,-204.0088\"/>\n<text text-anchor=\"middle\" x=\"310.4867\" y=\"-213.5982\" font-family=\"Times,serif\" font-size=\"14.00\" fill=\"#000000\">f </text>\n</g>\n<!-- F4 -->\n<g id=\"node6\" class=\"node\">\n<title>F4</title>\n<ellipse fill=\"none\" stroke=\"#000000\" cx=\"443.2849\" cy=\"-24.7982\" rx=\"20.6302\" ry=\"20.6302\"/>\n<ellipse fill=\"none\" stroke=\"#000000\" cx=\"443.2849\" cy=\"-24.7982\" rx=\"24.5979\" ry=\"24.5979\"/>\n<text text-anchor=\"middle\" x=\"443.2849\" y=\"-21.0982\" font-family=\"Times,serif\" font-size=\"14.00\" fill=\"#000000\">F4</text>\n</g>\n<!-- I1_I2_B&#45;&gt;F4 -->\n<g id=\"edge5\" class=\"edge\">\n<title>I1_I2_B&#45;&gt;F4</title>\n<path fill=\"none\" stroke=\"#000000\" d=\"M164.7315,-93.1526C173.6304,-85.9208 183.5967,-78.5774 193.4925,-72.7982 262.0247,-32.7751 357.4404,-25.29 408.2194,-24.383\"/>\n<polygon fill=\"#000000\" stroke=\"#000000\" points=\"408.388,-27.8816 418.3518,-24.28 408.3167,-20.8819 408.388,-27.8816\"/>\n<text text-anchor=\"middle\" x=\"310.4867\" y=\"-38.5982\" font-family=\"Times,serif\" font-size=\"14.00\" fill=\"#000000\">d </text>\n</g>\n<!-- B&#45;&gt;B -->\n<g id=\"edge12\" class=\"edge\">\n<title>B&#45;&gt;B</title>\n<path fill=\"none\" stroke=\"#000000\" d=\"M345.4555,-101.4622C343.893,-111.4232 346.2367,-120.7982 352.4867,-120.7982 356.4906,-120.7982 358.8914,-116.9507 359.6891,-111.5664\"/>\n<polygon fill=\"#000000\" stroke=\"#000000\" points=\"363.1869,-111.4015 359.518,-101.4622 356.1879,-111.5201 363.1869,-111.4015\"/>\n<text text-anchor=\"middle\" x=\"352.4867\" y=\"-124.5982\" font-family=\"Times,serif\" font-size=\"14.00\" fill=\"#000000\">s </text>\n</g>\n<!-- B&#45;&gt;F3 -->\n<g id=\"edge11\" class=\"edge\">\n<title>B&#45;&gt;F3</title>\n<path fill=\"none\" stroke=\"#000000\" d=\"M364.357,-98.9173C378.5937,-115.8511 402.7693,-144.6068 420.622,-165.8417\"/>\n<polygon fill=\"#000000\" stroke=\"#000000\" points=\"418.0065,-168.1696 427.1207,-173.5716 423.3645,-163.665 418.0065,-168.1696\"/>\n<text text-anchor=\"middle\" x=\"394.4867\" y=\"-142.5982\" font-family=\"Times,serif\" font-size=\"14.00\" fill=\"#000000\">f </text>\n</g>\n<!-- B&#45;&gt;F4 -->\n<g id=\"edge10\" class=\"edge\">\n<title>B&#45;&gt;F4</title>\n<path fill=\"none\" stroke=\"#000000\" d=\"M367.8894,-74.62C380.4087,-66.3471 398.4365,-54.4342 413.7246,-44.3318\"/>\n<polygon fill=\"#000000\" stroke=\"#000000\" points=\"415.9337,-47.0672 422.3471,-38.634 412.0745,-41.2271 415.9337,-47.0672\"/>\n<text text-anchor=\"middle\" x=\"394.4867\" y=\"-63.5982\" font-family=\"Times,serif\" font-size=\"14.00\" fill=\"#000000\">d </text>\n</g>\n<!-- wasI2&#45;&gt;B -->\n<g id=\"edge8\" class=\"edge\">\n<title>wasI2&#45;&gt;B</title>\n<path fill=\"none\" stroke=\"#000000\" d=\"M280.6444,-135.8551C295.8366,-125.0583 314.6912,-111.6587 329.2725,-101.2961\"/>\n<polygon fill=\"#000000\" stroke=\"#000000\" points=\"331.6045,-103.9326 337.7282,-95.2867 327.5495,-98.2268 331.6045,-103.9326\"/>\n<text text-anchor=\"middle\" x=\"310.4867\" y=\"-120.5982\" font-family=\"Times,serif\" font-size=\"14.00\" fill=\"#000000\">b </text>\n</g>\n<!-- wasI2&#45;&gt;F3 -->\n<g id=\"edge9\" class=\"edge\">\n<title>wasI2&#45;&gt;F3</title>\n<path fill=\"none\" stroke=\"#000000\" d=\"M286.101,-161.2443C320.1321,-168.0759 373.6868,-178.8267 408.648,-185.845\"/>\n<polygon fill=\"#000000\" stroke=\"#000000\" points=\"408.3656,-189.3581 418.8589,-187.8948 409.7434,-182.495 408.3656,-189.3581\"/>\n<text text-anchor=\"middle\" x=\"352.4867\" y=\"-180.5982\" font-family=\"Times,serif\" font-size=\"14.00\" fill=\"#000000\">c </text>\n</g>\n</g>\n</svg>\n"
          },
          "metadata": {
            "tags": []
          },
          "execution_count": 94
        }
      ]
    },
    {
      "cell_type": "markdown",
      "metadata": {
        "id": "tJQY8PELN4JX"
      },
      "source": [
        "##  Let us print with blackhole"
      ]
    },
    {
      "cell_type": "code",
      "metadata": {
        "id": "WJU966deN4JZ",
        "outputId": "80e0c50e-6d31-41bf-8b6d-72e9a970007c",
        "colab": {
          "base_uri": "https://localhost:8080/",
          "height": 0
        }
      },
      "source": [
        "dotObj_dfa_w_bh(tdfa1)"
      ],
      "execution_count": 95,
      "outputs": [
        {
          "output_type": "execute_result",
          "data": {
            "text/plain": [
              "<graphviz.dot.Digraph at 0x7f8878a76208>"
            ],
            "image/svg+xml": "<?xml version=\"1.0\" encoding=\"UTF-8\" standalone=\"no\"?>\n<!DOCTYPE svg PUBLIC \"-//W3C//DTD SVG 1.1//EN\"\n \"http://www.w3.org/Graphics/SVG/1.1/DTD/svg11.dtd\">\n<!-- Generated by graphviz version 2.40.1 (20161225.0304)\n -->\n<!-- Title: %3 Pages: 1 -->\n<svg width=\"572pt\" height=\"620pt\"\n viewBox=\"0.00 0.00 572.18 619.89\" xmlns=\"http://www.w3.org/2000/svg\" xmlns:xlink=\"http://www.w3.org/1999/xlink\">\n<g id=\"graph0\" class=\"graph\" transform=\"scale(1 1) rotate(0) translate(4 615.8887)\">\n<title>%3</title>\n<polygon fill=\"#ffffff\" stroke=\"transparent\" points=\"-4,4 -4,-615.8887 568.1788,-615.8887 568.1788,4 -4,4\"/>\n<!-- EMPTY -->\n<g id=\"node1\" class=\"node\">\n<title>EMPTY</title>\n</g>\n<!-- I1_I2_B -->\n<g id=\"node3\" class=\"node\">\n<title>I1_I2_B</title>\n<ellipse fill=\"none\" stroke=\"#000000\" cx=\"133.2463\" cy=\"-376.8887\" rx=\"42.4939\" ry=\"42.4939\"/>\n<text text-anchor=\"middle\" x=\"133.2463\" y=\"-373.1887\" font-family=\"Times,serif\" font-size=\"14.00\" fill=\"#000000\">I1_I2_B</text>\n</g>\n<!-- EMPTY&#45;&gt;I1_I2_B -->\n<g id=\"edge1\" class=\"edge\">\n<title>EMPTY&#45;&gt;I1_I2_B</title>\n<path fill=\"none\" stroke=\"#000000\" d=\"M54.0853,-376.8887C62.3026,-376.8887 71.6242,-376.8887 80.9135,-376.8887\"/>\n<polygon fill=\"#000000\" stroke=\"#000000\" points=\"80.927,-380.3888 90.927,-376.8887 80.9269,-373.3888 80.927,-380.3888\"/>\n</g>\n<!-- BH -->\n<g id=\"node2\" class=\"node\">\n<title>BH</title>\n<ellipse fill=\"none\" stroke=\"#000000\" cx=\"540.1309\" cy=\"-311.8887\" rx=\"24.0958\" ry=\"24.0958\"/>\n<text text-anchor=\"middle\" x=\"540.1309\" y=\"-308.1887\" font-family=\"Times,serif\" font-size=\"14.00\" fill=\"#000000\">BH</text>\n</g>\n<!-- BH&#45;&gt;BH -->\n<g id=\"edge32\" class=\"edge\">\n<title>BH&#45;&gt;BH</title>\n<path fill=\"none\" stroke=\"#000000\" d=\"M538.6401,-336.0859C538.5558,-345.7908 539.0528,-353.9366 540.1309,-353.9366 540.7879,-353.9366 541.2291,-350.9118 541.4544,-346.3525\"/>\n<polygon fill=\"#000000\" stroke=\"#000000\" points=\"544.9582,-346.1417 541.6218,-336.0859 537.9592,-346.0275 544.9582,-346.1417\"/>\n<text text-anchor=\"middle\" x=\"540.1309\" y=\"-357.7366\" font-family=\"Times,serif\" font-size=\"14.00\" fill=\"#000000\">b </text>\n</g>\n<!-- BH&#45;&gt;BH -->\n<g id=\"edge33\" class=\"edge\">\n<title>BH&#45;&gt;BH</title>\n<path fill=\"none\" stroke=\"#000000\" d=\"M537.4854,-335.9357C536.5616,-353.8655 537.4434,-371.9366 540.1309,-371.9366 542.2935,-371.9366 543.2869,-360.2352 543.1111,-346.3219\"/>\n<polygon fill=\"#000000\" stroke=\"#000000\" points=\"546.5967,-345.8177 542.7764,-335.9357 539.6004,-346.0432 546.5967,-345.8177\"/>\n<text text-anchor=\"middle\" x=\"540.1309\" y=\"-375.7366\" font-family=\"Times,serif\" font-size=\"14.00\" fill=\"#000000\">c </text>\n</g>\n<!-- BH&#45;&gt;BH -->\n<g id=\"edge34\" class=\"edge\">\n<title>BH&#45;&gt;BH</title>\n<path fill=\"none\" stroke=\"#000000\" d=\"M536.6867,-335.8606C534.5297,-361.2752 535.6778,-389.9366 540.1309,-389.9366 543.9926,-389.9366 545.3689,-368.3828 544.2597,-346.0838\"/>\n<polygon fill=\"#000000\" stroke=\"#000000\" points=\"547.7355,-345.6044 543.5751,-335.8606 540.7511,-346.0721 547.7355,-345.6044\"/>\n<text text-anchor=\"middle\" x=\"540.1309\" y=\"-393.7366\" font-family=\"Times,serif\" font-size=\"14.00\" fill=\"#000000\">d </text>\n</g>\n<!-- BH&#45;&gt;BH -->\n<g id=\"edge35\" class=\"edge\">\n<title>BH&#45;&gt;BH</title>\n<path fill=\"none\" stroke=\"#000000\" d=\"M536.0824,-336.0049C532.5002,-368.4628 533.8497,-407.9366 540.1309,-407.9366 545.7742,-407.9366 547.4367,-376.0737 545.1182,-346.0628\"/>\n<polygon fill=\"#000000\" stroke=\"#000000\" points=\"548.5937,-345.6363 544.1794,-336.0049 541.624,-346.2869 548.5937,-345.6363\"/>\n<text text-anchor=\"middle\" x=\"540.1309\" y=\"-411.7366\" font-family=\"Times,serif\" font-size=\"14.00\" fill=\"#000000\">f </text>\n</g>\n<!-- BH&#45;&gt;BH -->\n<g id=\"edge36\" class=\"edge\">\n<title>BH&#45;&gt;BH</title>\n<path fill=\"none\" stroke=\"#000000\" d=\"M535.6715,-335.6838C530.4608,-375.0171 531.9473,-425.9366 540.1309,-425.9366 547.6112,-425.9366 549.496,-383.3928 545.7853,-346.0414\"/>\n<polygon fill=\"#000000\" stroke=\"#000000\" points=\"549.2135,-345.2167 544.5903,-335.6838 542.2596,-346.019 549.2135,-345.2167\"/>\n<text text-anchor=\"middle\" x=\"540.1309\" y=\"-429.7366\" font-family=\"Times,serif\" font-size=\"14.00\" fill=\"#000000\">a </text>\n</g>\n<!-- BH&#45;&gt;BH -->\n<g id=\"edge37\" class=\"edge\">\n<title>BH&#45;&gt;BH</title>\n<path fill=\"none\" stroke=\"#000000\" d=\"M535.3366,-335.5612C528.4313,-381.5552 530.0293,-443.9366 540.1309,-443.9366 549.5222,-443.9366 551.5638,-390.0192 546.2557,-345.4787\"/>\n<polygon fill=\"#000000\" stroke=\"#000000\" points=\"549.7238,-345.007 544.9252,-335.5612 542.786,-345.9378 549.7238,-345.007\"/>\n<text text-anchor=\"middle\" x=\"540.1309\" y=\"-447.7366\" font-family=\"Times,serif\" font-size=\"14.00\" fill=\"#000000\">s </text>\n</g>\n<!-- B -->\n<g id=\"node4\" class=\"node\">\n<title>B</title>\n<ellipse fill=\"none\" stroke=\"#000000\" cx=\"352.4867\" cy=\"-411.8887\" rx=\"18\" ry=\"18\"/>\n<text text-anchor=\"middle\" x=\"352.4867\" y=\"-408.1887\" font-family=\"Times,serif\" font-size=\"14.00\" fill=\"#000000\">B</text>\n</g>\n<!-- I1_I2_B&#45;&gt;B -->\n<g id=\"edge3\" class=\"edge\">\n<title>I1_I2_B&#45;&gt;B</title>\n<path fill=\"none\" stroke=\"#000000\" d=\"M174.9998,-383.5543C218.7607,-390.5404 286.3112,-401.3243 324.2082,-407.3743\"/>\n<polygon fill=\"#000000\" stroke=\"#000000\" points=\"324.0859,-410.899 334.5126,-409.0193 325.1895,-403.9865 324.0859,-410.899\"/>\n<text text-anchor=\"middle\" x=\"253.9896\" y=\"-405.6887\" font-family=\"Times,serif\" font-size=\"14.00\" fill=\"#000000\">b </text>\n</g>\n<!-- I1_I2_B&#45;&gt;B -->\n<g id=\"edge7\" class=\"edge\">\n<title>I1_I2_B&#45;&gt;B</title>\n<path fill=\"none\" stroke=\"#000000\" d=\"M169.1547,-399.5204C184.635,-408 203.3292,-416.6116 221.4925,-420.8887 256.556,-429.1454 298.2447,-423.7794 325.0191,-418.4627\"/>\n<polygon fill=\"#000000\" stroke=\"#000000\" points=\"325.7861,-421.878 334.8427,-416.38 324.3342,-415.0302 325.7861,-421.878\"/>\n<text text-anchor=\"middle\" x=\"253.9896\" y=\"-429.6887\" font-family=\"Times,serif\" font-size=\"14.00\" fill=\"#000000\">s </text>\n</g>\n<!-- wasI2 -->\n<g id=\"node5\" class=\"node\">\n<title>wasI2</title>\n<ellipse fill=\"none\" stroke=\"#000000\" cx=\"253.9896\" cy=\"-301.8887\" rx=\"32.4942\" ry=\"32.4942\"/>\n<text text-anchor=\"middle\" x=\"253.9896\" y=\"-298.1887\" font-family=\"Times,serif\" font-size=\"14.00\" fill=\"#000000\">wasI2</text>\n</g>\n<!-- I1_I2_B&#45;&gt;wasI2 -->\n<g id=\"edge2\" class=\"edge\">\n<title>I1_I2_B&#45;&gt;wasI2</title>\n<path fill=\"none\" stroke=\"#000000\" d=\"M169.1463,-354.5893C184.3713,-345.1323 202.0957,-334.1227 217.3953,-324.6193\"/>\n<polygon fill=\"#000000\" stroke=\"#000000\" points=\"219.4382,-327.4707 226.0861,-319.2211 215.7446,-321.5244 219.4382,-327.4707\"/>\n<text text-anchor=\"middle\" x=\"198.4925\" y=\"-343.6887\" font-family=\"Times,serif\" font-size=\"14.00\" fill=\"#000000\">a </text>\n</g>\n<!-- F3 -->\n<g id=\"node6\" class=\"node\">\n<title>F3</title>\n<ellipse fill=\"none\" stroke=\"#000000\" cx=\"443.2849\" cy=\"-111.8887\" rx=\"20.6302\" ry=\"20.6302\"/>\n<ellipse fill=\"none\" stroke=\"#000000\" cx=\"443.2849\" cy=\"-111.8887\" rx=\"24.5979\" ry=\"24.5979\"/>\n<text text-anchor=\"middle\" x=\"443.2849\" y=\"-108.1887\" font-family=\"Times,serif\" font-size=\"14.00\" fill=\"#000000\">F3</text>\n</g>\n<!-- I1_I2_B&#45;&gt;F3 -->\n<g id=\"edge4\" class=\"edge\">\n<title>I1_I2_B&#45;&gt;F3</title>\n<path fill=\"none\" stroke=\"#000000\" d=\"M136.3372,-334.7521C142.5144,-262.5362 158.8733,-119.5377 193.4925,-84.8887 258.5166,-19.8088 316.2996,-47.7934 400.4867,-84.8887 405.0692,-86.9079 409.7328,-89.3664 414.2142,-91.9686\"/>\n<polygon fill=\"#000000\" stroke=\"#000000\" points=\"412.7212,-95.1593 423.0727,-97.4169 416.3884,-89.1968 412.7212,-95.1593\"/>\n<text text-anchor=\"middle\" x=\"310.4867\" y=\"-55.6887\" font-family=\"Times,serif\" font-size=\"14.00\" fill=\"#000000\">c </text>\n</g>\n<!-- I1_I2_B&#45;&gt;F3 -->\n<g id=\"edge6\" class=\"edge\">\n<title>I1_I2_B&#45;&gt;F3</title>\n<path fill=\"none\" stroke=\"#000000\" d=\"M153.6717,-339.5317C182.194,-290.042 237.9997,-202.3205 304.4867,-144.8887 333.2421,-120.0497 377.3784,-113.13 408.1345,-111.5731\"/>\n<polygon fill=\"#000000\" stroke=\"#000000\" points=\"408.5322,-115.0617 418.4081,-111.2254 408.2954,-108.0657 408.5322,-115.0617\"/>\n<text text-anchor=\"middle\" x=\"310.4867\" y=\"-148.6887\" font-family=\"Times,serif\" font-size=\"14.00\" fill=\"#000000\">f </text>\n</g>\n<!-- F4 -->\n<g id=\"node7\" class=\"node\">\n<title>F4</title>\n<ellipse fill=\"none\" stroke=\"#000000\" cx=\"443.2849\" cy=\"-495.8887\" rx=\"20.6302\" ry=\"20.6302\"/>\n<ellipse fill=\"none\" stroke=\"#000000\" cx=\"443.2849\" cy=\"-495.8887\" rx=\"24.5979\" ry=\"24.5979\"/>\n<text text-anchor=\"middle\" x=\"443.2849\" y=\"-492.1887\" font-family=\"Times,serif\" font-size=\"14.00\" fill=\"#000000\">F4</text>\n</g>\n<!-- I1_I2_B&#45;&gt;F4 -->\n<g id=\"edge5\" class=\"edge\">\n<title>I1_I2_B&#45;&gt;F4</title>\n<path fill=\"none\" stroke=\"#000000\" d=\"M163.3258,-406.599C179.2949,-420.5694 200.0266,-436.0624 221.4925,-444.8887 284.7545,-470.9005 363.8842,-485.0545 408.4894,-491.4927\"/>\n<polygon fill=\"#000000\" stroke=\"#000000\" points=\"408.1375,-494.9774 418.5256,-492.8945 409.1059,-488.0447 408.1375,-494.9774\"/>\n<text text-anchor=\"middle\" x=\"310.4867\" y=\"-478.6887\" font-family=\"Times,serif\" font-size=\"14.00\" fill=\"#000000\">d </text>\n</g>\n<!-- B&#45;&gt;BH -->\n<g id=\"edge29\" class=\"edge\">\n<title>B&#45;&gt;BH</title>\n<path fill=\"none\" stroke=\"#000000\" d=\"M357.9163,-429.2118C375.6279,-483.0515 434.2681,-640.6577 498.083,-585.8887 516.1029,-570.4232 531.3302,-415.9407 537.3601,-345.9894\"/>\n<polygon fill=\"#000000\" stroke=\"#000000\" points=\"540.8568,-346.1754 538.2151,-335.9152 533.8818,-345.5833 540.8568,-346.1754\"/>\n<text text-anchor=\"middle\" x=\"443.2849\" y=\"-600.6887\" font-family=\"Times,serif\" font-size=\"14.00\" fill=\"#000000\">b </text>\n</g>\n<!-- B&#45;&gt;BH -->\n<g id=\"edge30\" class=\"edge\">\n<title>B&#45;&gt;BH</title>\n<path fill=\"none\" stroke=\"#000000\" d=\"M370.8249,-410.5226C394.6074,-408.0878 436.7496,-401.4712 468.083,-383.8887 487.8611,-372.7904 505.9049,-354.7417 518.9882,-339.492\"/>\n<polygon fill=\"#000000\" stroke=\"#000000\" points=\"522.035,-341.301 525.7259,-331.3698 516.6474,-336.8318 522.035,-341.301\"/>\n<text text-anchor=\"middle\" x=\"443.2849\" y=\"-406.6887\" font-family=\"Times,serif\" font-size=\"14.00\" fill=\"#000000\">c </text>\n</g>\n<!-- B&#45;&gt;BH -->\n<g id=\"edge31\" class=\"edge\">\n<title>B&#45;&gt;BH</title>\n<path fill=\"none\" stroke=\"#000000\" d=\"M366.5907,-400.5306C379.5781,-390.3972 399.6322,-375.5557 418.4867,-364.8887 447.6923,-348.3657 483.0456,-333.4865 508.0948,-323.73\"/>\n<polygon fill=\"#000000\" stroke=\"#000000\" points=\"509.4062,-326.9757 517.487,-320.1236 506.897,-320.4409 509.4062,-326.9757\"/>\n<text text-anchor=\"middle\" x=\"443.2849\" y=\"-368.6887\" font-family=\"Times,serif\" font-size=\"14.00\" fill=\"#000000\">a </text>\n</g>\n<!-- B&#45;&gt;B -->\n<g id=\"edge12\" class=\"edge\">\n<title>B&#45;&gt;B</title>\n<path fill=\"none\" stroke=\"#000000\" d=\"M345.1039,-428.5528C343.4633,-438.5137 345.9242,-447.8887 352.4867,-447.8887 356.6908,-447.8887 359.2117,-444.0412 360.0492,-438.657\"/>\n<polygon fill=\"#000000\" stroke=\"#000000\" points=\"363.5469,-438.4889 359.8695,-428.5528 356.548,-438.6134 363.5469,-438.4889\"/>\n<text text-anchor=\"middle\" x=\"352.4867\" y=\"-451.6887\" font-family=\"Times,serif\" font-size=\"14.00\" fill=\"#000000\">s </text>\n</g>\n<!-- B&#45;&gt;F3 -->\n<g id=\"edge11\" class=\"edge\">\n<title>B&#45;&gt;F3</title>\n<path fill=\"none\" stroke=\"#000000\" d=\"M355.4614,-393.8217C360.4169,-365.6654 371.5244,-309.8807 388.4867,-264.8887 392.5541,-254.1001 396.0025,-252.5108 400.4867,-241.8887 413.9479,-210.0023 425.9467,-172.3137 433.789,-145.7494\"/>\n<polygon fill=\"#000000\" stroke=\"#000000\" points=\"437.2512,-146.378 436.686,-135.7983 430.5303,-144.4213 437.2512,-146.378\"/>\n<text text-anchor=\"middle\" x=\"394.4867\" y=\"-268.6887\" font-family=\"Times,serif\" font-size=\"14.00\" fill=\"#000000\">f </text>\n</g>\n<!-- B&#45;&gt;F4 -->\n<g id=\"edge10\" class=\"edge\">\n<title>B&#45;&gt;F4</title>\n<path fill=\"none\" stroke=\"#000000\" d=\"M365.8843,-424.2832C379.4023,-436.7891 400.6222,-456.4202 417.4272,-471.967\"/>\n<polygon fill=\"#000000\" stroke=\"#000000\" points=\"415.0769,-474.5607 424.7942,-478.7825 419.8305,-469.4223 415.0769,-474.5607\"/>\n<text text-anchor=\"middle\" x=\"394.4867\" y=\"-457.6887\" font-family=\"Times,serif\" font-size=\"14.00\" fill=\"#000000\">d </text>\n</g>\n<!-- wasI2&#45;&gt;BH -->\n<g id=\"edge19\" class=\"edge\">\n<title>wasI2&#45;&gt;BH</title>\n<path fill=\"none\" stroke=\"#000000\" d=\"M284.9782,-311.7719C291.3677,-313.4432 298.0973,-314.9418 304.4867,-315.8887 375.6428,-326.434 460.2002,-320.609 506.1943,-315.9248\"/>\n<polygon fill=\"#000000\" stroke=\"#000000\" points=\"506.642,-319.397 516.2159,-314.8592 505.9018,-312.4363 506.642,-319.397\"/>\n<text text-anchor=\"middle\" x=\"394.4867\" y=\"-325.6887\" font-family=\"Times,serif\" font-size=\"14.00\" fill=\"#000000\">d </text>\n</g>\n<!-- wasI2&#45;&gt;BH -->\n<g id=\"edge20\" class=\"edge\">\n<title>wasI2&#45;&gt;BH</title>\n<path fill=\"none\" stroke=\"#000000\" d=\"M286.5847,-301.5746C316.2801,-301.4161 361.343,-301.4949 400.4867,-302.8887 436.4391,-304.1689 477.5233,-306.9795 505.7728,-309.1215\"/>\n<polygon fill=\"#000000\" stroke=\"#000000\" points=\"505.6942,-312.6258 515.9338,-309.9052 506.2325,-305.6465 505.6942,-312.6258\"/>\n<text text-anchor=\"middle\" x=\"394.4867\" y=\"-306.6887\" font-family=\"Times,serif\" font-size=\"14.00\" fill=\"#000000\">f </text>\n</g>\n<!-- wasI2&#45;&gt;BH -->\n<g id=\"edge21\" class=\"edge\">\n<title>wasI2&#45;&gt;BH</title>\n<path fill=\"none\" stroke=\"#000000\" d=\"M275.5455,-277.46C303.0432,-249.4207 352.7727,-208.9765 400.4867,-222.8887 444.3186,-235.669 487.5091,-266.844 513.9853,-288.6725\"/>\n<polygon fill=\"#000000\" stroke=\"#000000\" points=\"512.0692,-291.6345 521.9739,-295.3961 516.5768,-286.2789 512.0692,-291.6345\"/>\n<text text-anchor=\"middle\" x=\"394.4867\" y=\"-226.6887\" font-family=\"Times,serif\" font-size=\"14.00\" fill=\"#000000\">a </text>\n</g>\n<!-- wasI2&#45;&gt;BH -->\n<g id=\"edge22\" class=\"edge\">\n<title>wasI2&#45;&gt;BH</title>\n<path fill=\"none\" stroke=\"#000000\" d=\"M273.3593,-275.3878C282.2722,-263.9412 293.332,-250.7201 304.4867,-239.8887 337.408,-207.922 355.2651,-194.099 400.4867,-201.8887 431.9042,-207.3006 441.9034,-207.696 468.083,-225.8887 489.7617,-240.9536 508.6805,-264.1726 521.6853,-282.6889\"/>\n<polygon fill=\"#000000\" stroke=\"#000000\" points=\"518.8818,-284.7901 527.4066,-291.0813 524.6657,-280.8471 518.8818,-284.7901\"/>\n<text text-anchor=\"middle\" x=\"394.4867\" y=\"-205.6887\" font-family=\"Times,serif\" font-size=\"14.00\" fill=\"#000000\">s </text>\n</g>\n<!-- wasI2&#45;&gt;B -->\n<g id=\"edge8\" class=\"edge\">\n<title>wasI2&#45;&gt;B</title>\n<path fill=\"none\" stroke=\"#000000\" d=\"M275.8493,-326.3013C293.0513,-345.5122 316.7902,-372.0233 333.2706,-390.4285\"/>\n<polygon fill=\"#000000\" stroke=\"#000000\" points=\"331.0041,-393.144 340.2824,-398.2591 336.219,-388.4745 331.0041,-393.144\"/>\n<text text-anchor=\"middle\" x=\"310.4867\" y=\"-374.6887\" font-family=\"Times,serif\" font-size=\"14.00\" fill=\"#000000\">b </text>\n</g>\n<!-- wasI2&#45;&gt;F3 -->\n<g id=\"edge9\" class=\"edge\">\n<title>wasI2&#45;&gt;F3</title>\n<path fill=\"none\" stroke=\"#000000\" d=\"M259.8824,-269.7669C266.4999,-241.5645 279.7214,-200.932 304.4867,-173.8887 332.1905,-143.6366 377.4186,-127.2646 408.6789,-119.0698\"/>\n<polygon fill=\"#000000\" stroke=\"#000000\" points=\"409.8297,-122.3909 418.6993,-116.596 408.1519,-115.5949 409.8297,-122.3909\"/>\n<text text-anchor=\"middle\" x=\"352.4867\" y=\"-152.6887\" font-family=\"Times,serif\" font-size=\"14.00\" fill=\"#000000\">c </text>\n</g>\n<!-- F3&#45;&gt;BH -->\n<g id=\"edge13\" class=\"edge\">\n<title>F3&#45;&gt;BH</title>\n<path fill=\"none\" stroke=\"#000000\" d=\"M446.7696,-87.0784C453.1884,-48.3594 468.9629,19.5036 498.083,-5.8887 518.3486,-23.56 532.6691,-201.3686 537.9207,-277.5445\"/>\n<polygon fill=\"#000000\" stroke=\"#000000\" points=\"534.4334,-277.8509 538.6012,-287.5915 541.4174,-277.3778 534.4334,-277.8509\"/>\n<text text-anchor=\"middle\" x=\"492.083\" y=\"-9.6887\" font-family=\"Times,serif\" font-size=\"14.00\" fill=\"#000000\">b </text>\n</g>\n<!-- F3&#45;&gt;BH -->\n<g id=\"edge14\" class=\"edge\">\n<title>F3&#45;&gt;BH</title>\n<path fill=\"none\" stroke=\"#000000\" d=\"M458.1705,-131.8136C470.0587,-148.3583 486.5758,-172.8307 498.083,-195.8887 511.5582,-222.89 522.9358,-255.3015 530.4438,-278.9921\"/>\n<polygon fill=\"#000000\" stroke=\"#000000\" points=\"527.1101,-280.0588 533.4195,-288.5701 533.795,-277.982 527.1101,-280.0588\"/>\n<text text-anchor=\"middle\" x=\"492.083\" y=\"-199.6887\" font-family=\"Times,serif\" font-size=\"14.00\" fill=\"#000000\">c </text>\n</g>\n<!-- F3&#45;&gt;BH -->\n<g id=\"edge15\" class=\"edge\">\n<title>F3&#45;&gt;BH</title>\n<path fill=\"none\" stroke=\"#000000\" d=\"M464.8207,-124.4483C476.2679,-132.1594 489.674,-143.0194 498.083,-155.8887 522.4499,-193.1804 532.7663,-244.2397 537.0874,-277.6333\"/>\n<polygon fill=\"#000000\" stroke=\"#000000\" points=\"533.6411,-278.2943 538.2899,-287.8147 540.5928,-277.4732 533.6411,-278.2943\"/>\n<text text-anchor=\"middle\" x=\"492.083\" y=\"-159.6887\" font-family=\"Times,serif\" font-size=\"14.00\" fill=\"#000000\">d </text>\n</g>\n<!-- F3&#45;&gt;BH -->\n<g id=\"edge16\" class=\"edge\">\n<title>F3&#45;&gt;BH</title>\n<path fill=\"none\" stroke=\"#000000\" d=\"M468.1776,-111.6705C478.6932,-112.8763 490.284,-116.1243 498.083,-123.8887 519.4471,-145.1578 531.5733,-229.6979 536.878,-277.8525\"/>\n<polygon fill=\"#000000\" stroke=\"#000000\" points=\"533.4005,-278.2508 537.9364,-287.8255 540.3614,-277.5119 533.4005,-278.2508\"/>\n<text text-anchor=\"middle\" x=\"492.083\" y=\"-127.6887\" font-family=\"Times,serif\" font-size=\"14.00\" fill=\"#000000\">f </text>\n</g>\n<!-- F3&#45;&gt;BH -->\n<g id=\"edge17\" class=\"edge\">\n<title>F3&#45;&gt;BH</title>\n<path fill=\"none\" stroke=\"#000000\" d=\"M464.2008,-98.5171C475.3172,-93.2462 488.6043,-90.0911 498.083,-97.8887 525.2219,-120.2141 535.1115,-222.6774 538.4979,-277.325\"/>\n<polygon fill=\"#000000\" stroke=\"#000000\" points=\"535.0193,-277.7981 539.0917,-287.5791 542.0076,-277.3934 535.0193,-277.7981\"/>\n<text text-anchor=\"middle\" x=\"492.083\" y=\"-101.6887\" font-family=\"Times,serif\" font-size=\"14.00\" fill=\"#000000\">a </text>\n</g>\n<!-- F3&#45;&gt;BH -->\n<g id=\"edge18\" class=\"edge\">\n<title>F3&#45;&gt;BH</title>\n<path fill=\"none\" stroke=\"#000000\" d=\"M457.5948,-91.5822C469.002,-77.8579 485.1508,-64.0489 498.083,-74.8887 528.4461,-100.339 536.8983,-218.1094 539.2401,-277.4774\"/>\n<polygon fill=\"#000000\" stroke=\"#000000\" points=\"535.7435,-277.6385 539.5993,-287.5068 542.7391,-277.3879 535.7435,-277.6385\"/>\n<text text-anchor=\"middle\" x=\"492.083\" y=\"-78.6887\" font-family=\"Times,serif\" font-size=\"14.00\" fill=\"#000000\">s </text>\n</g>\n<!-- F4&#45;&gt;BH -->\n<g id=\"edge23\" class=\"edge\">\n<title>F4&#45;&gt;BH</title>\n<path fill=\"none\" stroke=\"#000000\" d=\"M464.3618,-482.257C475.8077,-473.8759 489.3622,-462.2047 498.083,-448.8887 518.7213,-417.3759 529.6553,-375.2171 535.1447,-346.0279\"/>\n<polygon fill=\"#000000\" stroke=\"#000000\" points=\"538.64,-346.3603 536.9287,-335.9046 531.7463,-345.1454 538.64,-346.3603\"/>\n<text text-anchor=\"middle\" x=\"492.083\" y=\"-466.6887\" font-family=\"Times,serif\" font-size=\"14.00\" fill=\"#000000\">b </text>\n</g>\n<!-- F4&#45;&gt;BH -->\n<g id=\"edge24\" class=\"edge\">\n<title>F4&#45;&gt;BH</title>\n<path fill=\"none\" stroke=\"#000000\" d=\"M456.8158,-475.096C472.4665,-451.0165 496.3263,-414.2051 498.083,-410.8887 509.5238,-389.2906 520.2573,-363.8988 528.016,-344.2383\"/>\n<polygon fill=\"#000000\" stroke=\"#000000\" points=\"531.32,-345.3987 531.6828,-334.8101 524.796,-342.8614 531.32,-345.3987\"/>\n<text text-anchor=\"middle\" x=\"492.083\" y=\"-433.6887\" font-family=\"Times,serif\" font-size=\"14.00\" fill=\"#000000\">c </text>\n</g>\n<!-- F4&#45;&gt;BH -->\n<g id=\"edge25\" class=\"edge\">\n<title>F4&#45;&gt;BH</title>\n<path fill=\"none\" stroke=\"#000000\" d=\"M452.6164,-472.8766C464.5854,-443.4108 484.0529,-395.6741 486.083,-391.8887 488.99,-386.4685 506.3307,-360.9653 520.5983,-340.19\"/>\n<polygon fill=\"#000000\" stroke=\"#000000\" points=\"523.4915,-342.1598 526.2748,-331.9371 517.724,-338.1928 523.4915,-342.1598\"/>\n<text text-anchor=\"middle\" x=\"492.083\" y=\"-395.6887\" font-family=\"Times,serif\" font-size=\"14.00\" fill=\"#000000\">d </text>\n</g>\n<!-- F4&#45;&gt;BH -->\n<g id=\"edge26\" class=\"edge\">\n<title>F4&#45;&gt;BH</title>\n<path fill=\"none\" stroke=\"#000000\" d=\"M451.2535,-519.5282C461.0265,-544.8413 478.6989,-579.2957 498.083,-562.8887 514.4556,-549.0308 530.1837,-411.7709 536.8242,-346.2967\"/>\n<polygon fill=\"#000000\" stroke=\"#000000\" points=\"540.3351,-346.3615 537.8473,-336.0629 533.3698,-345.6651 540.3351,-346.3615\"/>\n<text text-anchor=\"middle\" x=\"492.083\" y=\"-570.6887\" font-family=\"Times,serif\" font-size=\"14.00\" fill=\"#000000\">f </text>\n</g>\n<!-- F4&#45;&gt;BH -->\n<g id=\"edge27\" class=\"edge\">\n<title>F4&#45;&gt;BH</title>\n<path fill=\"none\" stroke=\"#000000\" d=\"M460.1654,-514.7045C471.5805,-525.1563 486.6077,-534.3202 498.083,-524.8887 525.1097,-502.6757 535.0498,-400.6876 538.4725,-346.2927\"/>\n<polygon fill=\"#000000\" stroke=\"#000000\" points=\"541.9795,-346.2745 539.0732,-336.0861 534.9916,-345.8631 541.9795,-346.2745\"/>\n<text text-anchor=\"middle\" x=\"492.083\" y=\"-532.6887\" font-family=\"Times,serif\" font-size=\"14.00\" fill=\"#000000\">a </text>\n</g>\n<!-- F4&#45;&gt;BH -->\n<g id=\"edge28\" class=\"edge\">\n<title>F4&#45;&gt;BH</title>\n<path fill=\"none\" stroke=\"#000000\" d=\"M468.162,-495.0362C478.6746,-493.4152 490.2673,-489.7645 498.083,-481.8887 516.9181,-462.9088 529.7212,-389.7524 535.8892,-345.8297\"/>\n<polygon fill=\"#000000\" stroke=\"#000000\" points=\"539.3637,-346.2534 537.2444,-335.8727 532.4277,-345.3093 539.3637,-346.2534\"/>\n<text text-anchor=\"middle\" x=\"492.083\" y=\"-493.6887\" font-family=\"Times,serif\" font-size=\"14.00\" fill=\"#000000\">s </text>\n</g>\n</g>\n</svg>\n"
          },
          "metadata": {
            "tags": []
          },
          "execution_count": 95
        }
      ]
    },
    {
      "cell_type": "markdown",
      "metadata": {
        "id": "ow0dApqTN4Jh"
      },
      "source": [
        "### Was it a good idea to not always show black-holes?\n",
        "\n",
        "* In what circumstances might you still need to apply the _w_bh view option?\n",
        "\n",
        "\n",
        "An open-ended answer - anything you may think up can be a valuable piece of feedback for me\n"
      ]
    },
    {
      "cell_type": "markdown",
      "metadata": {
        "id": "uw7xUJ-QN4Jj"
      },
      "source": [
        "## 2(b) Obtain an RE by looking at nfa1\n",
        "\n",
        "* Follow all paths\n",
        "\n",
        "* Summarize the paths in your head, using the Star operator suitably\n",
        "\n",
        "\n"
      ]
    },
    {
      "cell_type": "code",
      "metadata": {
        "id": "cto4J_d_N4Jk"
      },
      "source": [
        "RE1_hand = \"c + ac + ('' + b + ab)s*(d+f)\""
      ],
      "execution_count": 96,
      "outputs": []
    },
    {
      "cell_type": "markdown",
      "metadata": {
        "id": "49OljGyfN4Jq"
      },
      "source": [
        "## 2(c) Reverse RE1 by hand to obtain Rev_RE1\n",
        "\n",
        "Once you have an RE, you can \"visually reverse it\" for simple REs"
      ]
    },
    {
      "cell_type": "code",
      "metadata": {
        "id": "Kz6xgVQ8N4Js"
      },
      "source": [
        "Rev_RE1_hand = \"c + ca + (f+d)s*('' + b + ba)\""
      ],
      "execution_count": 97,
      "outputs": []
    },
    {
      "cell_type": "markdown",
      "metadata": {
        "id": "gTUABi37N4Jz"
      },
      "source": [
        "## 2(d) Understand del_gnfa_states via help"
      ]
    },
    {
      "cell_type": "code",
      "metadata": {
        "id": "PPiVeyVWN4J0",
        "outputId": "54e54f29-3542-4783-9db3-d5bdea545575",
        "colab": {
          "base_uri": "https://localhost:8080/",
          "height": 0
        }
      },
      "source": [
        "# help of del_gnfa_states run below\n",
        "help(del_gnfa_states)\n"
      ],
      "execution_count": 98,
      "outputs": [
        {
          "output_type": "stream",
          "text": [
            "Help on function del_gnfa_states in module jove.Def_NFA2RE:\n",
            "\n",
            "del_gnfa_states(Gin, DelList=[])\n",
            "    Given a GNFA Gin with no unreachable states, \n",
            "    delete all states but f\n",
            "    or Real_I and Real_F.\n",
            "    If DelList is given, follow the state deletion\n",
            "    order mentioned therein; else choose order internally.\n",
            "    \n",
            "    Return a triple (Gfinal, dotObj_List, final_re_str), where\n",
            "      Gfinal       : the final GNFA\n",
            "      dotObj_List  : a list of Dot objects recording the process of\n",
            "                     deleting states and forming intermediate REs\n",
            "      final_re_str : the final RE as a string (ready to be fed to  \n",
            "                     re2nfa for converting back to an NFA)\n",
            "\n"
          ],
          "name": "stdout"
        }
      ]
    },
    {
      "cell_type": "markdown",
      "metadata": {
        "id": "0LFKl5NkN4J5"
      },
      "source": [
        "### Document what you learned from the function help of del_gnfa_states and summarize below\n",
        "\n",
        "\n",
        "* Will produce a RE for the GNFA\n",
        "\n",
        "* States can be removed in any order\n",
        "\n",
        "* Produces consistent GNFA at every step"
      ]
    },
    {
      "cell_type": "markdown",
      "metadata": {
        "id": "Zx4IFE2eN4J7"
      },
      "source": [
        "# 3. Converting to GNFA and Attempting Two Elimination Orders (AR)\n",
        "\n",
        "Work on rnfa1 to obtain Rev_RE1 and Rev_RE2 "
      ]
    },
    {
      "cell_type": "markdown",
      "metadata": {
        "id": "7iADFUwrN4J8"
      },
      "source": [
        "## Obtain grnfa1 below via a suitable command"
      ]
    },
    {
      "cell_type": "code",
      "metadata": {
        "id": "zlQgY46jN4J9"
      },
      "source": [
        "grnfa1 = mk_gnfa(rnfa1)"
      ],
      "execution_count": 99,
      "outputs": []
    },
    {
      "cell_type": "code",
      "metadata": {
        "id": "UF6YeF7EN4KD",
        "outputId": "276ce8dc-86ac-4fe2-d2f3-5eea2c0d4f3c",
        "colab": {
          "base_uri": "https://localhost:8080/",
          "height": 0
        }
      },
      "source": [
        "dotObj_gnfa(grnfa1)"
      ],
      "execution_count": 100,
      "outputs": [
        {
          "output_type": "execute_result",
          "data": {
            "text/plain": [
              "<graphviz.dot.Digraph at 0x7f88789d3b00>"
            ],
            "image/svg+xml": "<?xml version=\"1.0\" encoding=\"UTF-8\" standalone=\"no\"?>\n<!DOCTYPE svg PUBLIC \"-//W3C//DTD SVG 1.1//EN\"\n \"http://www.w3.org/Graphics/SVG/1.1/DTD/svg11.dtd\">\n<!-- Generated by graphviz version 2.40.1 (20161225.0304)\n -->\n<!-- Title: %3 Pages: 1 -->\n<svg width=\"641pt\" height=\"142pt\"\n viewBox=\"0.00 0.00 641.48 141.70\" xmlns=\"http://www.w3.org/2000/svg\" xmlns:xlink=\"http://www.w3.org/1999/xlink\">\n<g id=\"graph0\" class=\"graph\" transform=\"scale(1 1) rotate(0) translate(4 137.6967)\">\n<title>%3</title>\n<polygon fill=\"#ffffff\" stroke=\"transparent\" points=\"-4,4 -4,-137.6967 637.4764,-137.6967 637.4764,4 -4,4\"/>\n<!-- EMPTY -->\n<g id=\"node1\" class=\"node\">\n<title>EMPTY</title>\n</g>\n<!-- Real_I -->\n<g id=\"node2\" class=\"node\">\n<title>Real_I</title>\n<ellipse fill=\"none\" stroke=\"#000000\" cx=\"126.0969\" cy=\"-68.6967\" rx=\"35.194\" ry=\"35.194\"/>\n<text text-anchor=\"middle\" x=\"126.0969\" y=\"-64.9967\" font-family=\"Times,serif\" font-size=\"14.00\" fill=\"#000000\">Real_I</text>\n</g>\n<!-- EMPTY&#45;&gt;Real_I -->\n<g id=\"edge1\" class=\"edge\">\n<title>EMPTY&#45;&gt;Real_I</title>\n<path fill=\"none\" stroke=\"#000000\" d=\"M54.0787,-68.6967C62.3227,-68.6967 71.6196,-68.6967 80.7269,-68.6967\"/>\n<polygon fill=\"#000000\" stroke=\"#000000\" points=\"80.8626,-72.1968 90.8626,-68.6967 80.8625,-65.1968 80.8626,-72.1968\"/>\n</g>\n<!-- I4 -->\n<g id=\"node3\" class=\"node\">\n<title>I4</title>\n<ellipse fill=\"none\" stroke=\"#000000\" cx=\"225.0421\" cy=\"-96.6967\" rx=\"18.6979\" ry=\"18.6979\"/>\n<text text-anchor=\"middle\" x=\"225.0421\" y=\"-92.9967\" font-family=\"Times,serif\" font-size=\"14.00\" fill=\"#000000\">I4</text>\n</g>\n<!-- Real_I&#45;&gt;I4 -->\n<g id=\"edge10\" class=\"edge\">\n<title>Real_I&#45;&gt;I4</title>\n<path fill=\"none\" stroke=\"#000000\" d=\"M159.8715,-78.2544C171.873,-81.6506 185.2495,-85.436 196.7456,-88.6892\"/>\n<polygon fill=\"#000000\" stroke=\"#000000\" points=\"196.106,-92.1456 206.6812,-91.5008 198.0121,-85.4101 196.106,-92.1456\"/>\n<text text-anchor=\"middle\" x=\"183.6938\" y=\"-89.4967\" font-family=\"Times,serif\" font-size=\"14.00\" fill=\"#000000\">&#39;&#39; </text>\n</g>\n<!-- I3 -->\n<g id=\"node5\" class=\"node\">\n<title>I3</title>\n<ellipse fill=\"none\" stroke=\"#000000\" cx=\"225.0421\" cy=\"-40.6967\" rx=\"18.6979\" ry=\"18.6979\"/>\n<text text-anchor=\"middle\" x=\"225.0421\" y=\"-36.9967\" font-family=\"Times,serif\" font-size=\"14.00\" fill=\"#000000\">I3</text>\n</g>\n<!-- Real_I&#45;&gt;I3 -->\n<g id=\"edge9\" class=\"edge\">\n<title>Real_I&#45;&gt;I3</title>\n<path fill=\"none\" stroke=\"#000000\" d=\"M159.8715,-59.139C171.873,-55.7427 185.2495,-51.9574 196.7456,-48.7041\"/>\n<polygon fill=\"#000000\" stroke=\"#000000\" points=\"198.0121,-51.9833 206.6812,-45.8925 196.106,-45.2477 198.0121,-51.9833\"/>\n<text text-anchor=\"middle\" x=\"183.6938\" y=\"-57.4967\" font-family=\"Times,serif\" font-size=\"14.00\" fill=\"#000000\">&#39;&#39; </text>\n</g>\n<!-- B -->\n<g id=\"node6\" class=\"node\">\n<title>B</title>\n<ellipse fill=\"none\" stroke=\"#000000\" cx=\"309.8904\" cy=\"-82.6967\" rx=\"18\" ry=\"18\"/>\n<text text-anchor=\"middle\" x=\"309.8904\" y=\"-78.9967\" font-family=\"Times,serif\" font-size=\"14.00\" fill=\"#000000\">B</text>\n</g>\n<!-- I4&#45;&gt;B -->\n<g id=\"edge4\" class=\"edge\">\n<title>I4&#45;&gt;B</title>\n<path fill=\"none\" stroke=\"#000000\" d=\"M243.8727,-93.5896C255.0866,-91.7393 269.5252,-89.3569 282.0385,-87.2922\"/>\n<polygon fill=\"#000000\" stroke=\"#000000\" points=\"282.687,-90.7326 291.9838,-85.6513 281.5474,-83.826 282.687,-90.7326\"/>\n<text text-anchor=\"middle\" x=\"267.8904\" y=\"-93.4967\" font-family=\"Times,serif\" font-size=\"14.00\" fill=\"#000000\">d </text>\n</g>\n<!-- F2 -->\n<g id=\"node4\" class=\"node\">\n<title>F2</title>\n<ellipse fill=\"none\" stroke=\"#000000\" cx=\"396.6886\" cy=\"-28.6967\" rx=\"20.5982\" ry=\"20.5982\"/>\n<text text-anchor=\"middle\" x=\"396.6886\" y=\"-24.9967\" font-family=\"Times,serif\" font-size=\"14.00\" fill=\"#000000\">F2</text>\n</g>\n<!-- F1 -->\n<g id=\"node7\" class=\"node\">\n<title>F1</title>\n<ellipse fill=\"none\" stroke=\"#000000\" cx=\"484.2849\" cy=\"-79.6967\" rx=\"20.5982\" ry=\"20.5982\"/>\n<text text-anchor=\"middle\" x=\"484.2849\" y=\"-75.9967\" font-family=\"Times,serif\" font-size=\"14.00\" fill=\"#000000\">F1</text>\n</g>\n<!-- F2&#45;&gt;F1 -->\n<g id=\"edge8\" class=\"edge\">\n<title>F2&#45;&gt;F1</title>\n<path fill=\"none\" stroke=\"#000000\" d=\"M414.8386,-39.2639C427.0535,-46.3756 443.3777,-55.8798 457.1302,-63.8867\"/>\n<polygon fill=\"#000000\" stroke=\"#000000\" points=\"455.7551,-67.1361 466.1581,-69.143 459.2772,-61.0867 455.7551,-67.1361\"/>\n<text text-anchor=\"middle\" x=\"440.4867\" y=\"-60.4967\" font-family=\"Times,serif\" font-size=\"14.00\" fill=\"#000000\">a </text>\n</g>\n<!-- Real_F -->\n<g id=\"node8\" class=\"node\">\n<title>Real_F</title>\n<ellipse fill=\"none\" stroke=\"#000000\" cx=\"591.7797\" cy=\"-41.6967\" rx=\"37.8753\" ry=\"37.8753\"/>\n<ellipse fill=\"none\" stroke=\"#000000\" cx=\"591.7797\" cy=\"-41.6967\" rx=\"41.8942\" ry=\"41.8942\"/>\n<text text-anchor=\"middle\" x=\"591.7797\" y=\"-37.9967\" font-family=\"Times,serif\" font-size=\"14.00\" fill=\"#000000\">Real_F</text>\n</g>\n<!-- F2&#45;&gt;Real_F -->\n<g id=\"edge11\" class=\"edge\">\n<title>F2&#45;&gt;Real_F</title>\n<path fill=\"none\" stroke=\"#000000\" d=\"M417.4781,-29.6912C439.3056,-30.7719 474.6209,-32.6241 505.083,-34.6967 516.2716,-35.4579 528.2648,-36.3666 539.6542,-37.2731\"/>\n<polygon fill=\"#000000\" stroke=\"#000000\" points=\"539.6544,-40.7844 549.9036,-38.1007 540.2178,-33.8071 539.6544,-40.7844\"/>\n<text text-anchor=\"middle\" x=\"484.2849\" y=\"-38.4967\" font-family=\"Times,serif\" font-size=\"14.00\" fill=\"#000000\">&#39;&#39; </text>\n</g>\n<!-- I3&#45;&gt;F2 -->\n<g id=\"edge2\" class=\"edge\">\n<title>I3&#45;&gt;F2</title>\n<path fill=\"none\" stroke=\"#000000\" d=\"M244.0671,-39.3666C273.4142,-37.3149 330.0323,-33.3567 365.4498,-30.8806\"/>\n<polygon fill=\"#000000\" stroke=\"#000000\" points=\"365.9756,-34.3525 375.7071,-30.1635 365.4873,-27.3695 365.9756,-34.3525\"/>\n<text text-anchor=\"middle\" x=\"309.8904\" y=\"-40.4967\" font-family=\"Times,serif\" font-size=\"14.00\" fill=\"#000000\">c </text>\n</g>\n<!-- I3&#45;&gt;B -->\n<g id=\"edge3\" class=\"edge\">\n<title>I3&#45;&gt;B</title>\n<path fill=\"none\" stroke=\"#000000\" d=\"M242.2124,-49.196C254.2919,-55.1753 270.666,-63.2805 284.2825,-70.0207\"/>\n<polygon fill=\"#000000\" stroke=\"#000000\" points=\"283.0944,-73.3379 293.6093,-74.6375 286.1998,-67.0644 283.0944,-73.3379\"/>\n<text text-anchor=\"middle\" x=\"267.8904\" y=\"-68.4967\" font-family=\"Times,serif\" font-size=\"14.00\" fill=\"#000000\">f </text>\n</g>\n<!-- B&#45;&gt;F2 -->\n<g id=\"edge5\" class=\"edge\">\n<title>B&#45;&gt;F2</title>\n<path fill=\"none\" stroke=\"#000000\" d=\"M325.2625,-72.7774C331.6276,-68.6959 339.0964,-63.9394 345.8904,-59.6967 353.7007,-54.8193 362.2297,-49.5807 370.0304,-44.8234\"/>\n<polygon fill=\"#000000\" stroke=\"#000000\" points=\"372.0411,-47.6971 378.7664,-39.5105 368.4037,-41.7163 372.0411,-47.6971\"/>\n<text text-anchor=\"middle\" x=\"351.8904\" y=\"-63.4967\" font-family=\"Times,serif\" font-size=\"14.00\" fill=\"#000000\">b </text>\n</g>\n<!-- B&#45;&gt;B -->\n<g id=\"edge7\" class=\"edge\">\n<title>B&#45;&gt;B</title>\n<path fill=\"none\" stroke=\"#000000\" d=\"M302.5076,-99.3607C300.867,-109.3217 303.3279,-118.6967 309.8904,-118.6967 314.0945,-118.6967 316.6153,-114.8492 317.4529,-109.4649\"/>\n<polygon fill=\"#000000\" stroke=\"#000000\" points=\"320.9505,-109.2969 317.2732,-99.3607 313.9517,-109.4214 320.9505,-109.2969\"/>\n<text text-anchor=\"middle\" x=\"309.8904\" y=\"-122.4967\" font-family=\"Times,serif\" font-size=\"14.00\" fill=\"#000000\">s </text>\n</g>\n<!-- B&#45;&gt;F1 -->\n<g id=\"edge6\" class=\"edge\">\n<title>B&#45;&gt;F1</title>\n<path fill=\"none\" stroke=\"#000000\" d=\"M327.8968,-82.3869C357.5205,-81.8773 416.8797,-80.8562 453.3416,-80.229\"/>\n<polygon fill=\"#000000\" stroke=\"#000000\" points=\"453.4811,-83.7272 463.4194,-80.0556 453.3606,-76.7282 453.4811,-83.7272\"/>\n<text text-anchor=\"middle\" x=\"396.6886\" y=\"-84.4967\" font-family=\"Times,serif\" font-size=\"14.00\" fill=\"#000000\">&#39;&#39; </text>\n</g>\n<!-- F1&#45;&gt;Real_F -->\n<g id=\"edge12\" class=\"edge\">\n<title>F1&#45;&gt;Real_F</title>\n<path fill=\"none\" stroke=\"#000000\" d=\"M504.0011,-72.7269C514.8287,-68.8993 528.7865,-63.9651 542.3721,-59.1625\"/>\n<polygon fill=\"#000000\" stroke=\"#000000\" points=\"543.8869,-62.3393 552.1486,-55.7065 541.5538,-55.7396 543.8869,-62.3393\"/>\n<text text-anchor=\"middle\" x=\"527.583\" y=\"-69.4967\" font-family=\"Times,serif\" font-size=\"14.00\" fill=\"#000000\">&#39;&#39; </text>\n</g>\n</g>\n</svg>\n"
          },
          "metadata": {
            "tags": []
          },
          "execution_count": 100
        }
      ]
    },
    {
      "cell_type": "markdown",
      "metadata": {
        "id": "XtEh5weBN4KG"
      },
      "source": [
        "## 3(b,c) i : Apply the elimination order by supplying the second argument \n",
        "['B', 'F2', 'F1', 'I3', 'I4']\n",
        "\n",
        "as you learned in the help"
      ]
    },
    {
      "cell_type": "code",
      "metadata": {
        "id": "zN_wvdOvN4KH",
        "outputId": "9984d4c1-b26a-411d-8dce-4cbe993fff6f",
        "colab": {
          "base_uri": "https://localhost:8080/",
          "height": 0
        }
      },
      "source": [
        "(Gfinal, DO, Rev_RE1) = del_gnfa_states(grnfa1, ['B', 'F2', 'F1', 'I3', 'I4'])"
      ],
      "execution_count": 101,
      "outputs": [
        {
          "output_type": "stream",
          "text": [
            "**** Eliminating state B ****\n",
            "**** Eliminating state F2 ****\n",
            "**** Eliminating state F1 ****\n",
            "**** Eliminating state I3 ****\n",
            "**** Eliminating state I4 ****\n"
          ],
          "name": "stdout"
        }
      ]
    },
    {
      "cell_type": "code",
      "metadata": {
        "id": "VCnIvyF1N4KN",
        "outputId": "64a9ef95-c24d-4767-a085-8fb815ec56b8",
        "colab": {
          "base_uri": "https://localhost:8080/",
          "height": 0
        }
      },
      "source": [
        "Rev_RE1"
      ],
      "execution_count": 102,
      "outputs": [
        {
          "output_type": "execute_result",
          "data": {
            "application/vnd.google.colaboratory.intrinsic+json": {
              "type": "string"
            },
            "text/plain": [
              "'((((((((d ((s)* b)) a) + (d (s)*)) + (d (s)*)) + (d ((s)* b))) + (d ((s)* b))) + ((((((((f ((s)* b)) + c) + c) a) + (f (s)*)) + (f (s)*)) + (((f ((s)* b)) + c) + c)) + (((f ((s)* b)) + c) + c))) + ((((((((f ((s)* b)) + c) + c) a) + (f (s)*)) + (f (s)*)) + (((f ((s)* b)) + c) + c)) + (((f ((s)* b)) + c) + c)))'"
            ]
          },
          "metadata": {
            "tags": []
          },
          "execution_count": 102
        }
      ]
    },
    {
      "cell_type": "code",
      "metadata": {
        "id": "ToY5nKQXN4KS",
        "outputId": "f7d6fcc2-5a15-4c86-ec91-3b18244abc74",
        "colab": {
          "base_uri": "https://localhost:8080/",
          "height": 0
        }
      },
      "source": [
        "dotObj_dfa(min_dfa(nfa2dfa(re2nfa(Rev_RE1))))"
      ],
      "execution_count": 103,
      "outputs": [
        {
          "output_type": "stream",
          "text": [
            "Generating LALR tables\n"
          ],
          "name": "stderr"
        },
        {
          "output_type": "execute_result",
          "data": {
            "text/plain": [
              "<graphviz.dot.Digraph at 0x7f8878b36160>"
            ],
            "image/svg+xml": "<?xml version=\"1.0\" encoding=\"UTF-8\" standalone=\"no\"?>\n<!DOCTYPE svg PUBLIC \"-//W3C//DTD SVG 1.1//EN\"\n \"http://www.w3.org/Graphics/SVG/1.1/DTD/svg11.dtd\">\n<!-- Generated by graphviz version 2.40.1 (20161225.0304)\n -->\n<!-- Title: %3 Pages: 1 -->\n<svg width=\"452pt\" height=\"121pt\"\n viewBox=\"0.00 0.00 452.18 121.40\" xmlns=\"http://www.w3.org/2000/svg\" xmlns:xlink=\"http://www.w3.org/1999/xlink\">\n<g id=\"graph0\" class=\"graph\" transform=\"scale(1 1) rotate(0) translate(4 117.3979)\">\n<title>%3</title>\n<polygon fill=\"#ffffff\" stroke=\"transparent\" points=\"-4,4 -4,-117.3979 448.1834,-117.3979 448.1834,4 -4,4\"/>\n<!-- EMPTY -->\n<g id=\"node1\" class=\"node\">\n<title>EMPTY</title>\n</g>\n<!-- St1 -->\n<g id=\"node2\" class=\"node\">\n<title>St1</title>\n<ellipse fill=\"none\" stroke=\"#000000\" cx=\"114.3979\" cy=\"-65.3979\" rx=\"23.2963\" ry=\"23.2963\"/>\n<text text-anchor=\"middle\" x=\"114.3979\" y=\"-61.6979\" font-family=\"Times,serif\" font-size=\"14.00\" fill=\"#000000\">St1</text>\n</g>\n<!-- EMPTY&#45;&gt;St1 -->\n<g id=\"edge1\" class=\"edge\">\n<title>EMPTY&#45;&gt;St1</title>\n<path fill=\"none\" stroke=\"#000000\" d=\"M54.1742,-65.3979C62.5103,-65.3979 71.7873,-65.3979 80.5137,-65.3979\"/>\n<polygon fill=\"#000000\" stroke=\"#000000\" points=\"80.7846,-68.898 90.7846,-65.3979 80.7845,-61.898 80.7846,-68.898\"/>\n</g>\n<!-- St4 -->\n<g id=\"node3\" class=\"node\">\n<title>St4</title>\n<ellipse fill=\"none\" stroke=\"#000000\" cx=\"315.9896\" cy=\"-75.3979\" rx=\"23.3111\" ry=\"23.3111\"/>\n<ellipse fill=\"none\" stroke=\"#000000\" cx=\"315.9896\" cy=\"-75.3979\" rx=\"27.2962\" ry=\"27.2962\"/>\n<text text-anchor=\"middle\" x=\"315.9896\" y=\"-71.6979\" font-family=\"Times,serif\" font-size=\"14.00\" fill=\"#000000\">St4</text>\n</g>\n<!-- St1&#45;&gt;St4 -->\n<g id=\"edge2\" class=\"edge\">\n<title>St1&#45;&gt;St4</title>\n<path fill=\"none\" stroke=\"#000000\" d=\"M134.8931,-76.9828C148.7759,-84.1447 167.8017,-92.6601 185.7958,-96.3979 217.4594,-102.9753 253.8175,-95.9012 280.0501,-88.238\"/>\n<polygon fill=\"#000000\" stroke=\"#000000\" points=\"281.4061,-91.4823 289.9268,-85.1856 279.3392,-84.7944 281.4061,-91.4823\"/>\n<text text-anchor=\"middle\" x=\"213.1938\" y=\"-102.1979\" font-family=\"Times,serif\" font-size=\"14.00\" fill=\"#000000\">c </text>\n</g>\n<!-- St5 -->\n<g id=\"node5\" class=\"node\">\n<title>St5</title>\n<ellipse fill=\"none\" stroke=\"#000000\" cx=\"213.1938\" cy=\"-27.3979\" rx=\"23.3111\" ry=\"23.3111\"/>\n<ellipse fill=\"none\" stroke=\"#000000\" cx=\"213.1938\" cy=\"-27.3979\" rx=\"27.2962\" ry=\"27.2962\"/>\n<text text-anchor=\"middle\" x=\"213.1938\" y=\"-23.6979\" font-family=\"Times,serif\" font-size=\"14.00\" fill=\"#000000\">St5</text>\n</g>\n<!-- St1&#45;&gt;St5 -->\n<g id=\"edge3\" class=\"edge\">\n<title>St1&#45;&gt;St5</title>\n<path fill=\"none\" stroke=\"#000000\" d=\"M136.3239,-56.9645C148.492,-52.2843 163.921,-46.3498 177.7577,-41.0278\"/>\n<polygon fill=\"#000000\" stroke=\"#000000\" points=\"179.4052,-44.1441 187.4822,-37.2874 176.8923,-37.6107 179.4052,-44.1441\"/>\n<text text-anchor=\"middle\" x=\"161.7958\" y=\"-52.1979\" font-family=\"Times,serif\" font-size=\"14.00\" fill=\"#000000\">d </text>\n</g>\n<!-- St1&#45;&gt;St5 -->\n<g id=\"edge4\" class=\"edge\">\n<title>St1&#45;&gt;St5</title>\n<path fill=\"none\" stroke=\"#000000\" d=\"M128.3556,-46.4915C135.54,-38.3624 145.0476,-29.7423 155.7958,-25.3979 161.9838,-22.8968 168.86,-21.8404 175.6415,-21.6442\"/>\n<polygon fill=\"#000000\" stroke=\"#000000\" points=\"176.0066,-25.1567 186.1076,-21.9598 176.2177,-18.1599 176.0066,-25.1567\"/>\n<text text-anchor=\"middle\" x=\"161.7958\" y=\"-29.1979\" font-family=\"Times,serif\" font-size=\"14.00\" fill=\"#000000\">f </text>\n</g>\n<!-- St9 -->\n<g id=\"node4\" class=\"node\">\n<title>St9</title>\n<ellipse fill=\"none\" stroke=\"#000000\" cx=\"416.7855\" cy=\"-75.3979\" rx=\"23.3111\" ry=\"23.3111\"/>\n<ellipse fill=\"none\" stroke=\"#000000\" cx=\"416.7855\" cy=\"-75.3979\" rx=\"27.2962\" ry=\"27.2962\"/>\n<text text-anchor=\"middle\" x=\"416.7855\" y=\"-71.6979\" font-family=\"Times,serif\" font-size=\"14.00\" fill=\"#000000\">St9</text>\n</g>\n<!-- St4&#45;&gt;St9 -->\n<g id=\"edge5\" class=\"edge\">\n<title>St4&#45;&gt;St9</title>\n<path fill=\"none\" stroke=\"#000000\" d=\"M343.5325,-75.3979C354.5327,-75.3979 367.3758,-75.3979 379.2089,-75.3979\"/>\n<polygon fill=\"#000000\" stroke=\"#000000\" points=\"379.2759,-78.898 389.2759,-75.3979 379.2758,-71.898 379.2759,-78.898\"/>\n<text text-anchor=\"middle\" x=\"366.3875\" y=\"-79.1979\" font-family=\"Times,serif\" font-size=\"14.00\" fill=\"#000000\">a </text>\n</g>\n<!-- St5&#45;&gt;St4 -->\n<g id=\"edge6\" class=\"edge\">\n<title>St5&#45;&gt;St4</title>\n<path fill=\"none\" stroke=\"#000000\" d=\"M238.0778,-39.0174C251.2382,-45.1626 267.5924,-52.7991 281.9143,-59.4866\"/>\n<polygon fill=\"#000000\" stroke=\"#000000\" points=\"280.4368,-62.6594 290.9785,-63.7191 283.3984,-56.3168 280.4368,-62.6594\"/>\n<text text-anchor=\"middle\" x=\"264.5917\" y=\"-56.1979\" font-family=\"Times,serif\" font-size=\"14.00\" fill=\"#000000\">b </text>\n</g>\n<!-- St5&#45;&gt;St5 -->\n<g id=\"edge7\" class=\"edge\">\n<title>St5&#45;&gt;St5</title>\n<path fill=\"none\" stroke=\"#000000\" d=\"M203.876,-53.523C203.3496,-64.0011 206.4555,-72.7958 213.1938,-72.7958 217.5105,-72.7958 220.3365,-69.1865 221.6717,-63.8374\"/>\n<polygon fill=\"#000000\" stroke=\"#000000\" points=\"225.1884,-63.7741 222.5116,-53.523 218.2115,-63.206 225.1884,-63.7741\"/>\n<text text-anchor=\"middle\" x=\"213.1938\" y=\"-76.5958\" font-family=\"Times,serif\" font-size=\"14.00\" fill=\"#000000\">s </text>\n</g>\n</g>\n</svg>\n"
          },
          "metadata": {
            "tags": []
          },
          "execution_count": 103
        }
      ]
    },
    {
      "cell_type": "markdown",
      "metadata": {
        "id": "Ke2h92PUN4KV"
      },
      "source": [
        "## 3(b,c) ii : Apply the elimination order by supplying the second argument \n",
        " ['I3', 'I4', 'F1', 'B', 'F2' ]\n",
        "\n",
        "as you learned in the help"
      ]
    },
    {
      "cell_type": "code",
      "metadata": {
        "id": "vYf0fQcwNJbR",
        "outputId": "d02d630f-4ad2-4282-d79d-b4df88809357",
        "colab": {
          "base_uri": "https://localhost:8080/",
          "height": 0
        }
      },
      "source": [
        "DO[4]"
      ],
      "execution_count": 104,
      "outputs": [
        {
          "output_type": "execute_result",
          "data": {
            "text/plain": [
              "<graphviz.dot.Digraph at 0x7f8870da30f0>"
            ],
            "image/svg+xml": "<?xml version=\"1.0\" encoding=\"UTF-8\" standalone=\"no\"?>\n<!DOCTYPE svg PUBLIC \"-//W3C//DTD SVG 1.1//EN\"\n \"http://www.w3.org/Graphics/SVG/1.1/DTD/svg11.dtd\">\n<!-- Generated by graphviz version 2.40.1 (20161225.0304)\n -->\n<!-- Title: %3 Pages: 1 -->\n<svg width=\"1209pt\" height=\"107pt\"\n viewBox=\"0.00 0.00 1208.59 107.10\" xmlns=\"http://www.w3.org/2000/svg\" xmlns:xlink=\"http://www.w3.org/1999/xlink\">\n<g id=\"graph0\" class=\"graph\" transform=\"scale(1 1) rotate(0) translate(4 103.0969)\">\n<title>%3</title>\n<polygon fill=\"#ffffff\" stroke=\"transparent\" points=\"-4,4 -4,-103.0969 1204.5871,-103.0969 1204.5871,4 -4,4\"/>\n<!-- EMPTY -->\n<g id=\"node1\" class=\"node\">\n<title>EMPTY</title>\n</g>\n<!-- Real_I -->\n<g id=\"node2\" class=\"node\">\n<title>Real_I</title>\n<ellipse fill=\"none\" stroke=\"#000000\" cx=\"126.0969\" cy=\"-35.0969\" rx=\"35.194\" ry=\"35.194\"/>\n<text text-anchor=\"middle\" x=\"126.0969\" y=\"-31.3969\" font-family=\"Times,serif\" font-size=\"14.00\" fill=\"#000000\">Real_I</text>\n</g>\n<!-- EMPTY&#45;&gt;Real_I -->\n<g id=\"edge1\" class=\"edge\">\n<title>EMPTY&#45;&gt;Real_I</title>\n<path fill=\"none\" stroke=\"#000000\" d=\"M54.0787,-35.0969C62.3227,-35.0969 71.6196,-35.0969 80.7269,-35.0969\"/>\n<polygon fill=\"#000000\" stroke=\"#000000\" points=\"80.8626,-38.597 90.8626,-35.0969 80.8625,-31.597 80.8626,-38.597\"/>\n</g>\n<!-- I4 -->\n<g id=\"node3\" class=\"node\">\n<title>I4</title>\n<ellipse fill=\"none\" stroke=\"#000000\" cx=\"494.1938\" cy=\"-71.0969\" rx=\"18.6979\" ry=\"18.6979\"/>\n<text text-anchor=\"middle\" x=\"494.1938\" y=\"-67.3969\" font-family=\"Times,serif\" font-size=\"14.00\" fill=\"#000000\">I4</text>\n</g>\n<!-- Real_I&#45;&gt;I4 -->\n<g id=\"edge5\" class=\"edge\">\n<title>Real_I&#45;&gt;I4</title>\n<path fill=\"none\" stroke=\"#000000\" d=\"M161.0584,-38.5161C233.3065,-45.582 397.9058,-61.6799 464.9548,-68.2373\"/>\n<polygon fill=\"#000000\" stroke=\"#000000\" points=\"464.9197,-71.7505 475.2129,-69.2406 465.6011,-64.7837 464.9197,-71.7505\"/>\n<text text-anchor=\"middle\" x=\"187.1938\" y=\"-45.8969\" font-family=\"Times,serif\" font-size=\"14.00\" fill=\"#000000\">&quot;&quot; </text>\n</g>\n<!-- Real_F -->\n<g id=\"node4\" class=\"node\">\n<title>Real_F</title>\n<ellipse fill=\"none\" stroke=\"#000000\" cx=\"1158.8904\" cy=\"-52.0969\" rx=\"37.8753\" ry=\"37.8753\"/>\n<ellipse fill=\"none\" stroke=\"#000000\" cx=\"1158.8904\" cy=\"-52.0969\" rx=\"41.8942\" ry=\"41.8942\"/>\n<text text-anchor=\"middle\" x=\"1158.8904\" y=\"-48.3969\" font-family=\"Times,serif\" font-size=\"14.00\" fill=\"#000000\">Real_F</text>\n</g>\n<!-- Real_I&#45;&gt;Real_F -->\n<g id=\"edge2\" class=\"edge\">\n<title>Real_I&#45;&gt;Real_F</title>\n<path fill=\"none\" stroke=\"#000000\" d=\"M161.2321,-31.6277C177.0886,-30.2285 196.0657,-28.7841 213.1938,-28.0969 462.7708,-18.0837 525.4742,-22.7042 775.1938,-28.0969 919.2945,-31.2087 955.8468,-27.0511 1099.1938,-42.0969 1102.0351,-42.3951 1104.9463,-42.7428 1107.8804,-43.126\"/>\n<polygon fill=\"#000000\" stroke=\"#000000\" points=\"1107.4834,-46.6047 1117.8763,-44.546 1108.4679,-39.6743 1107.4834,-46.6047\"/>\n<text text-anchor=\"middle\" x=\"494.1938\" y=\"-31.8969\" font-family=\"Times,serif\" font-size=\"14.00\" fill=\"#000000\">((((((((f ((s)* b)) + c) + c) a) + (f (s)*)) + (f (s)*)) + (((f ((s)* b)) + c) + c)) + (((f ((s)* b)) + c) + c)) </text>\n</g>\n<!-- I4&#45;&gt;Real_F -->\n<g id=\"edge3\" class=\"edge\">\n<title>I4&#45;&gt;Real_F</title>\n<path fill=\"none\" stroke=\"#000000\" d=\"M513.134,-72.7591C587.9724,-78.9574 870.168,-98.8345 1099.1938,-68.0969 1102.3841,-67.6687 1105.6465,-67.1212 1108.9203,-66.4881\"/>\n<polygon fill=\"#000000\" stroke=\"#000000\" points=\"1109.6828,-69.9042 1118.715,-64.3662 1108.2007,-63.0629 1109.6828,-69.9042\"/>\n<text text-anchor=\"middle\" x=\"946.1938\" y=\"-87.8969\" font-family=\"Times,serif\" font-size=\"14.00\" fill=\"#000000\">(((((d ((s)* b)) a) + (d (s)*)) + (d (s)*)) + (d ((s)* b))) </text>\n</g>\n<!-- I4&#45;&gt;Real_F -->\n<g id=\"edge4\" class=\"edge\">\n<title>I4&#45;&gt;Real_F</title>\n<path fill=\"none\" stroke=\"#000000\" d=\"M513.0577,-69.225C560.2185,-64.6509 687.0833,-52.9953 793.1938,-49.0969 929.1021,-44.1037 963.2366,-45.6828 1099.1938,-49.0969 1101.7354,-49.1607 1104.3372,-49.2398 1106.9646,-49.3306\"/>\n<polygon fill=\"#000000\" stroke=\"#000000\" points=\"1107.0209,-52.8355 1117.151,-49.7319 1107.2965,-45.8409 1107.0209,-52.8355\"/>\n<text text-anchor=\"middle\" x=\"946.1938\" y=\"-52.8969\" font-family=\"Times,serif\" font-size=\"14.00\" fill=\"#000000\">(d ((s)* b)) </text>\n</g>\n</g>\n</svg>\n"
          },
          "metadata": {
            "tags": []
          },
          "execution_count": 104
        }
      ]
    },
    {
      "cell_type": "code",
      "metadata": {
        "id": "pPbk-aEyM_QI",
        "outputId": "04412338-7d61-4594-ecf6-e58780d8ad7d",
        "colab": {
          "base_uri": "https://localhost:8080/",
          "height": 0
        }
      },
      "source": [
        "DO[5]"
      ],
      "execution_count": 105,
      "outputs": [
        {
          "output_type": "execute_result",
          "data": {
            "text/plain": [
              "<graphviz.dot.Digraph at 0x7f8870da3128>"
            ],
            "image/svg+xml": "<?xml version=\"1.0\" encoding=\"UTF-8\" standalone=\"no\"?>\n<!DOCTYPE svg PUBLIC \"-//W3C//DTD SVG 1.1//EN\"\n \"http://www.w3.org/Graphics/SVG/1.1/DTD/svg11.dtd\">\n<!-- Generated by graphviz version 2.40.1 (20161225.0304)\n -->\n<!-- Title: %3 Pages: 1 -->\n<svg width=\"1265pt\" height=\"122pt\"\n viewBox=\"0.00 0.00 1264.59 121.71\" xmlns=\"http://www.w3.org/2000/svg\" xmlns:xlink=\"http://www.w3.org/1999/xlink\">\n<g id=\"graph0\" class=\"graph\" transform=\"scale(1 1) rotate(0) translate(4 117.7089)\">\n<title>%3</title>\n<polygon fill=\"#ffffff\" stroke=\"transparent\" points=\"-4,4 -4,-117.7089 1260.5871,-117.7089 1260.5871,4 -4,4\"/>\n<!-- EMPTY -->\n<g id=\"node1\" class=\"node\">\n<title>EMPTY</title>\n</g>\n<!-- Real_I -->\n<g id=\"node2\" class=\"node\">\n<title>Real_I</title>\n<ellipse fill=\"none\" stroke=\"#000000\" cx=\"126.0969\" cy=\"-72.0123\" rx=\"35.194\" ry=\"35.194\"/>\n<text text-anchor=\"middle\" x=\"126.0969\" y=\"-68.3123\" font-family=\"Times,serif\" font-size=\"14.00\" fill=\"#000000\">Real_I</text>\n</g>\n<!-- EMPTY&#45;&gt;Real_I -->\n<g id=\"edge1\" class=\"edge\">\n<title>EMPTY&#45;&gt;Real_I</title>\n<path fill=\"none\" stroke=\"#000000\" d=\"M54.0787,-72.0123C62.3227,-72.0123 71.6196,-72.0123 80.7269,-72.0123\"/>\n<polygon fill=\"#000000\" stroke=\"#000000\" points=\"80.8626,-75.5124 90.8626,-72.0123 80.8625,-68.5124 80.8626,-75.5124\"/>\n</g>\n<!-- Real_F -->\n<g id=\"node3\" class=\"node\">\n<title>Real_F</title>\n<ellipse fill=\"none\" stroke=\"#000000\" cx=\"1214.8904\" cy=\"-72.0123\" rx=\"37.8753\" ry=\"37.8753\"/>\n<ellipse fill=\"none\" stroke=\"#000000\" cx=\"1214.8904\" cy=\"-72.0123\" rx=\"41.8942\" ry=\"41.8942\"/>\n<text text-anchor=\"middle\" x=\"1214.8904\" y=\"-68.3123\" font-family=\"Times,serif\" font-size=\"14.00\" fill=\"#000000\">Real_F</text>\n</g>\n<!-- Real_I&#45;&gt;Real_F -->\n<g id=\"edge2\" class=\"edge\">\n<title>Real_I&#45;&gt;Real_F</title>\n<path fill=\"none\" stroke=\"#000000\" d=\"M161.3963,-72.0123C320.646,-72.0123 972.6444,-72.0123 1162.6802,-72.0123\"/>\n<polygon fill=\"#000000\" stroke=\"#000000\" points=\"1162.9566,-75.5124 1172.9565,-72.0123 1162.9565,-68.5124 1162.9566,-75.5124\"/>\n<text text-anchor=\"middle\" x=\"667.1938\" y=\"-75.8123\" font-family=\"Times,serif\" font-size=\"14.00\" fill=\"#000000\">(((((((d ((s)* b)) a) + (d (s)*)) + (d (s)*)) + (d ((s)* b))) + (d ((s)* b))) + ((((((((f ((s)* b)) + c) + c) a) + (f (s)*)) + (f (s)*)) + (((f ((s)* b)) + c) + c)) + (((f ((s)* b)) + c) + c))) </text>\n</g>\n<!-- Real_I&#45;&gt;Real_F -->\n<g id=\"edge3\" class=\"edge\">\n<title>Real_I&#45;&gt;Real_F</title>\n<path fill=\"none\" stroke=\"#000000\" d=\"M158.4764,-58.4481C165.2107,-56.1915 172.3448,-54.2008 179.1938,-53.0123 606.5843,21.153 726.5542,13.5554 1155.1938,-53.0123 1158.6296,-53.5459 1162.1382,-54.2425 1165.6479,-55.0531\"/>\n<polygon fill=\"#000000\" stroke=\"#000000\" points=\"1164.9242,-58.481 1175.4822,-57.5986 1166.6783,-51.7044 1164.9242,-58.481\"/>\n<text text-anchor=\"middle\" x=\"667.1938\" y=\"-56.8123\" font-family=\"Times,serif\" font-size=\"14.00\" fill=\"#000000\">((((((((f ((s)* b)) + c) + c) a) + (f (s)*)) + (f (s)*)) + (((f ((s)* b)) + c) + c)) + (((f ((s)* b)) + c) + c)) </text>\n</g>\n</g>\n</svg>\n"
          },
          "metadata": {
            "tags": []
          },
          "execution_count": 105
        }
      ]
    },
    {
      "cell_type": "markdown",
      "metadata": {
        "id": "ConGP-xkN4KW"
      },
      "source": [
        "## Examine DO[0] through DO[Last_Legal_Item] (find out how long DO is)\n",
        "\n",
        "DO[0] is the initial GNFA machine, DO[1] is the next one, and so on. You will see each step getting\n",
        "rid of one state.\n",
        "\n",
        "### [[ ...UPDATED WORDING...]] Summarize your observation of the state elimination and which REs were introduced as a result. Pick TWO cases, one of which involves the removal of a state with a self-loop. Use one bullet per question case discussed.\n",
        "\n",
        "* The length of DO is the number of states in the GNFA not includeing Real_I and Real_F plus one for the original GNFA.\n",
        "\n",
        "* The removal step for $F1$ results in a RE which since it leads to an accepting state, only considers the incoming symbols, so it produces the union of the incoming edges $\\epsilon + a$.\n",
        "\n",
        "* The removal step for $B$ results in a RE which is the concationation of the union of all the incoming edges $(d+f) + f$ with the self loop $s^*$ and the union of all the outgoing edges $b$. Finally this RE can be combined with the $c$ edge going from $Real_I$ to $F2$ to make $((d + f) + f)s^*b + c$."
      ]
    },
    {
      "cell_type": "code",
      "metadata": {
        "scrolled": true,
        "id": "p7-DOtVkN4KZ",
        "outputId": "88a9ccf9-1a90-41f6-a5c6-0b9297ff3789",
        "colab": {
          "base_uri": "https://localhost:8080/",
          "height": 0
        }
      },
      "source": [
        "(Gfinal, DO, Rev_RE2) = del_gnfa_states(grnfa1, ['I3', 'I4', 'F1', 'B', 'F2' ])"
      ],
      "execution_count": 106,
      "outputs": [
        {
          "output_type": "stream",
          "text": [
            "**** Eliminating state I3 ****\n",
            "**** Eliminating state I4 ****\n",
            "**** Eliminating state F1 ****\n",
            "**** Eliminating state B ****\n",
            "**** Eliminating state F2 ****\n"
          ],
          "name": "stdout"
        }
      ]
    },
    {
      "cell_type": "code",
      "metadata": {
        "id": "JXAiplhtN4Ke",
        "outputId": "5787ff26-f84b-48c8-af73-4b0876445c39",
        "colab": {
          "base_uri": "https://localhost:8080/",
          "height": 0
        }
      },
      "source": [
        "Rev_RE2"
      ],
      "execution_count": 107,
      "outputs": [
        {
          "output_type": "execute_result",
          "data": {
            "application/vnd.google.colaboratory.intrinsic+json": {
              "type": "string"
            },
            "text/plain": [
              "'((((((((d + f) + f) ((s)* b)) + c) + c) ((a + \"\") + \"\")) + (((d + f) + f) (s)*)) + (((d + f) + f) (s)*))'"
            ]
          },
          "metadata": {
            "tags": []
          },
          "execution_count": 107
        }
      ]
    },
    {
      "cell_type": "markdown",
      "metadata": {
        "id": "01B5GtC6N4Ki"
      },
      "source": [
        "## Examine DO[0] through DO[Last_Legal_Item] (find out how long DO is)\n",
        "\n",
        "### [[ Slightly Updated Wording ]] Summarize your observation of the state elimination and which REs were introduced as a result (using the same guidelines as with Rev_RE1 above.\n",
        "\n",
        "*\n",
        "\n",
        "*\n",
        "\n",
        "*\n",
        "\n",
        "*\n",
        "\n",
        "*\n",
        "\n",
        "*\n",
        "\n",
        "*"
      ]
    },
    {
      "cell_type": "markdown",
      "metadata": {
        "id": "ipdruZwdN4Kj"
      },
      "source": [
        "## 3(d)i Check for isomorphism as requested between Rev_RE1 and Rev_RE2\n",
        "\n",
        "Apply a Jove call that is compact (and is in my lecture slides) that checks that Rev_RE1 and Rev_RE2 \n",
        "are equivalent. It has to involve iso_dfa and min_dfa and other calls."
      ]
    },
    {
      "cell_type": "code",
      "metadata": {
        "id": "i53PNI7NN4Kk",
        "outputId": "f0b7a1f1-16e9-4c13-8b46-73de00800e2a",
        "colab": {
          "base_uri": "https://localhost:8080/",
          "height": 0
        }
      },
      "source": [
        "iso_dfa( min_dfa(nfa2dfa(re2nfa(Rev_RE1))), min_dfa(nfa2dfa(re2nfa(Rev_RE2))) )"
      ],
      "execution_count": 108,
      "outputs": [
        {
          "output_type": "stream",
          "text": [
            "Generating LALR tables\n",
            "Generating LALR tables\n"
          ],
          "name": "stderr"
        },
        {
          "output_type": "execute_result",
          "data": {
            "text/plain": [
              "True"
            ]
          },
          "metadata": {
            "tags": []
          },
          "execution_count": 108
        }
      ]
    },
    {
      "cell_type": "markdown",
      "metadata": {
        "id": "RPSff1FVN4Kp"
      },
      "source": [
        ""
      ]
    },
    {
      "cell_type": "code",
      "metadata": {
        "id": "rvyMw0vhN4Kr",
        "outputId": "0a3cf765-3fd3-4b72-f626-18eb57ea894f",
        "colab": {
          "base_uri": "https://localhost:8080/",
          "height": 0
        }
      },
      "source": [
        "# Just look at it again for comparison\n",
        "\n",
        "Rev_RE1_hand"
      ],
      "execution_count": 109,
      "outputs": [
        {
          "output_type": "execute_result",
          "data": {
            "application/vnd.google.colaboratory.intrinsic+json": {
              "type": "string"
            },
            "text/plain": [
              "\"c + ca + (f+d)s*('' + b + ba)\""
            ]
          },
          "metadata": {
            "tags": []
          },
          "execution_count": 109
        }
      ]
    },
    {
      "cell_type": "markdown",
      "metadata": {
        "id": "UY2EoEadN4Kv"
      },
      "source": [
        "## 3(d)i Check for isomorphism as requested between Rev_RE1 and Rev_RE1_hand\n",
        "\n",
        "Same methods as above."
      ]
    },
    {
      "cell_type": "code",
      "metadata": {
        "id": "9BI1GQeWN4Kw",
        "outputId": "b7d37944-bf3c-466e-a869-ea746c7757a6",
        "colab": {
          "base_uri": "https://localhost:8080/",
          "height": 0
        }
      },
      "source": [
        "iso_dfa( min_dfa(nfa2dfa(re2nfa(Rev_RE1))), min_dfa(nfa2dfa(re2nfa(Rev_RE1_hand))) )"
      ],
      "execution_count": 110,
      "outputs": [
        {
          "output_type": "stream",
          "text": [
            "Generating LALR tables\n",
            "Generating LALR tables\n"
          ],
          "name": "stderr"
        },
        {
          "output_type": "execute_result",
          "data": {
            "text/plain": [
              "True"
            ]
          },
          "metadata": {
            "tags": []
          },
          "execution_count": 110
        }
      ]
    },
    {
      "cell_type": "markdown",
      "metadata": {
        "id": "KLZr8P3CN4K0"
      },
      "source": [
        "# Chasing down the RE2NFA components (SV)\n",
        "\n",
        "Find out where the s* components are and explain the set of all strings that precede s* in Rev_RE2 and the NFA of Rev_RE2\n",
        "\n",
        "Find out where the ending \"a\" is, and find out the set of all the symbols that precede a\n",
        "\n",
        "Let's first look at the NFA and then see where the RE \"parts\" are in it."
      ]
    },
    {
      "cell_type": "code",
      "metadata": {
        "scrolled": true,
        "id": "Eu5MS5ATN4K2",
        "outputId": "895b8a52-ffda-43aa-dc56-b44be34dcf17",
        "colab": {
          "base_uri": "https://localhost:8080/",
          "height": 1000
        }
      },
      "source": [
        "dotObj_nfa(re2nfa(Rev_RE2))"
      ],
      "execution_count": 111,
      "outputs": [
        {
          "output_type": "stream",
          "text": [
            "Generating LALR tables\n"
          ],
          "name": "stderr"
        },
        {
          "output_type": "execute_result",
          "data": {
            "text/plain": [
              "<graphviz.dot.Digraph at 0x7f8870e0aa58>"
            ],
            "image/svg+xml": "<?xml version=\"1.0\" encoding=\"UTF-8\" standalone=\"no\"?>\n<!DOCTYPE svg PUBLIC \"-//W3C//DTD SVG 1.1//EN\"\n \"http://www.w3.org/Graphics/SVG/1.1/DTD/svg11.dtd\">\n<!-- Generated by graphviz version 2.40.1 (20161225.0304)\n -->\n<!-- Title: %3 Pages: 1 -->\n<svg width=\"895pt\" height=\"714pt\"\n viewBox=\"0.00 0.00 894.75 714.00\" xmlns=\"http://www.w3.org/2000/svg\" xmlns:xlink=\"http://www.w3.org/1999/xlink\">\n<g id=\"graph0\" class=\"graph\" transform=\"scale(1 1) rotate(0) translate(4 709.9954)\">\n<title>%3</title>\n<polygon fill=\"#ffffff\" stroke=\"transparent\" points=\"-4,4 -4,-709.9954 890.7543,-709.9954 890.7543,4 -4,4\"/>\n<!-- EMPTY -->\n<g id=\"node1\" class=\"node\">\n<title>EMPTY</title>\n</g>\n<!-- St5 -->\n<g id=\"node3\" class=\"node\">\n<title>St5</title>\n<ellipse fill=\"none\" stroke=\"#000000\" cx=\"119.5975\" cy=\"-552.5975\" rx=\"23.2963\" ry=\"23.2963\"/>\n<text text-anchor=\"middle\" x=\"119.5975\" y=\"-548.8975\" font-family=\"Times,serif\" font-size=\"14.00\" fill=\"#000000\">St5</text>\n</g>\n<!-- EMPTY&#45;&gt;St5 -->\n<g id=\"edge3\" class=\"edge\">\n<title>EMPTY&#45;&gt;St5</title>\n<path fill=\"none\" stroke=\"#000000\" d=\"M31.1367,-421.7482C37.1488,-445.205 50.049,-486.4832 72,-515.5975 77.3441,-522.6855 84.3714,-529.1381 91.3802,-534.5983\"/>\n<polygon fill=\"#000000\" stroke=\"#000000\" points=\"89.3585,-537.4559 99.4973,-540.5309 93.489,-531.8044 89.3585,-537.4559\"/>\n</g>\n<!-- St24 -->\n<g id=\"node6\" class=\"node\">\n<title>St24</title>\n<ellipse fill=\"none\" stroke=\"#000000\" cx=\"119.5975\" cy=\"-403.5975\" rx=\"28.6953\" ry=\"28.6953\"/>\n<text text-anchor=\"middle\" x=\"119.5975\" y=\"-399.8975\" font-family=\"Times,serif\" font-size=\"14.00\" fill=\"#000000\">St24</text>\n</g>\n<!-- EMPTY&#45;&gt;St24 -->\n<g id=\"edge6\" class=\"edge\">\n<title>EMPTY&#45;&gt;St24</title>\n<path fill=\"none\" stroke=\"#000000\" d=\"M54.2815,-403.5975C62.5637,-403.5975 71.8286,-403.5975 80.7188,-403.5975\"/>\n<polygon fill=\"#000000\" stroke=\"#000000\" points=\"80.9016,-407.0976 90.9016,-403.5975 80.9015,-400.0976 80.9016,-407.0976\"/>\n</g>\n<!-- St1 -->\n<g id=\"node9\" class=\"node\">\n<title>St1</title>\n<ellipse fill=\"none\" stroke=\"#000000\" cx=\"119.5975\" cy=\"-617.5975\" rx=\"23.2963\" ry=\"23.2963\"/>\n<text text-anchor=\"middle\" x=\"119.5975\" y=\"-613.8975\" font-family=\"Times,serif\" font-size=\"14.00\" fill=\"#000000\">St1</text>\n</g>\n<!-- EMPTY&#45;&gt;St1 -->\n<g id=\"edge11\" class=\"edge\">\n<title>EMPTY&#45;&gt;St1</title>\n<path fill=\"none\" stroke=\"#000000\" d=\"M31.028,-421.7711C39.0123,-455.5148 58.9008,-529.429 91,-584.5975 92.6394,-587.4151 94.5349,-590.2172 96.5542,-592.9296\"/>\n<polygon fill=\"#000000\" stroke=\"#000000\" points=\"93.8441,-595.1444 102.8513,-600.7229 99.2888,-590.745 93.8441,-595.1444\"/>\n</g>\n<!-- St3 -->\n<g id=\"node13\" class=\"node\">\n<title>St3</title>\n<ellipse fill=\"none\" stroke=\"#000000\" cx=\"119.5975\" cy=\"-682.5975\" rx=\"23.2963\" ry=\"23.2963\"/>\n<text text-anchor=\"middle\" x=\"119.5975\" y=\"-678.8975\" font-family=\"Times,serif\" font-size=\"14.00\" fill=\"#000000\">St3</text>\n</g>\n<!-- EMPTY&#45;&gt;St3 -->\n<g id=\"edge4\" class=\"edge\">\n<title>EMPTY&#45;&gt;St3</title>\n<path fill=\"none\" stroke=\"#000000\" d=\"M28.8379,-421.5981C33.7221,-463.6827 49.6002,-570.9007 91,-649.5975 92.553,-652.5496 94.417,-655.4617 96.4391,-658.2605\"/>\n<polygon fill=\"#000000\" stroke=\"#000000\" points=\"93.8464,-660.6223 102.8273,-666.2431 99.3117,-656.2485 93.8464,-660.6223\"/>\n</g>\n<!-- St33 -->\n<g id=\"node20\" class=\"node\">\n<title>St33</title>\n<ellipse fill=\"none\" stroke=\"#000000\" cx=\"119.5975\" cy=\"-103.5975\" rx=\"28.6953\" ry=\"28.6953\"/>\n<text text-anchor=\"middle\" x=\"119.5975\" y=\"-99.8975\" font-family=\"Times,serif\" font-size=\"14.00\" fill=\"#000000\">St33</text>\n</g>\n<!-- EMPTY&#45;&gt;St33 -->\n<g id=\"edge9\" class=\"edge\">\n<title>EMPTY&#45;&gt;St33</title>\n<path fill=\"none\" stroke=\"#000000\" d=\"M28.7764,-385.501C33.6347,-341.5669 49.6484,-226.5631 91,-140.5975 92.1086,-138.2929 93.3773,-135.9952 94.75,-133.7377\"/>\n<polygon fill=\"#000000\" stroke=\"#000000\" points=\"97.7511,-135.5473 100.4409,-125.2996 91.9476,-131.6333 97.7511,-135.5473\"/>\n</g>\n<!-- St29 -->\n<g id=\"node23\" class=\"node\">\n<title>St29</title>\n<ellipse fill=\"none\" stroke=\"#000000\" cx=\"119.5975\" cy=\"-178.5975\" rx=\"28.6953\" ry=\"28.6953\"/>\n<text text-anchor=\"middle\" x=\"119.5975\" y=\"-174.8975\" font-family=\"Times,serif\" font-size=\"14.00\" fill=\"#000000\">St29</text>\n</g>\n<!-- EMPTY&#45;&gt;St29 -->\n<g id=\"edge1\" class=\"edge\">\n<title>EMPTY&#45;&gt;St29</title>\n<path fill=\"none\" stroke=\"#000000\" d=\"M31.0611,-385.4261C39.2276,-350.9032 59.5852,-274.0627 91,-215.5975 92.2105,-213.3447 93.556,-211.0861 94.9851,-208.8573\"/>\n<polygon fill=\"#000000\" stroke=\"#000000\" points=\"97.9714,-210.6931 100.8018,-200.4833 92.2223,-206.6996 97.9714,-210.6931\"/>\n</g>\n<!-- St14 -->\n<g id=\"node24\" class=\"node\">\n<title>St14</title>\n<ellipse fill=\"none\" stroke=\"#000000\" cx=\"194.7924\" cy=\"-457.5975\" rx=\"28.6953\" ry=\"28.6953\"/>\n<text text-anchor=\"middle\" x=\"194.7924\" y=\"-453.8975\" font-family=\"Times,serif\" font-size=\"14.00\" fill=\"#000000\">St14</text>\n</g>\n<!-- EMPTY&#45;&gt;St14 -->\n<g id=\"edge2\" class=\"edge\">\n<title>EMPTY&#45;&gt;St14</title>\n<path fill=\"none\" stroke=\"#000000\" d=\"M52.3432,-421.6996C63.6733,-428.9676 77.4987,-436.7549 91,-441.5975 111.6572,-449.0067 135.8348,-452.9857 155.6555,-455.1221\"/>\n<polygon fill=\"#000000\" stroke=\"#000000\" points=\"155.5852,-458.6314 165.8743,-456.1047 156.2552,-451.6636 155.5852,-458.6314\"/>\n</g>\n<!-- St12 -->\n<g id=\"node25\" class=\"node\">\n<title>St12</title>\n<ellipse fill=\"none\" stroke=\"#000000\" cx=\"345.1822\" cy=\"-504.5975\" rx=\"28.6953\" ry=\"28.6953\"/>\n<text text-anchor=\"middle\" x=\"345.1822\" y=\"-500.8975\" font-family=\"Times,serif\" font-size=\"14.00\" fill=\"#000000\">St12</text>\n</g>\n<!-- EMPTY&#45;&gt;St12 -->\n<g id=\"edge5\" class=\"edge\">\n<title>EMPTY&#45;&gt;St12</title>\n<path fill=\"none\" stroke=\"#000000\" d=\"M42.6579,-421.779C54.6715,-434.6504 72.3198,-451.378 91,-461.5975 160.059,-499.3779 254.206,-505.542 306.3702,-505.6999\"/>\n<polygon fill=\"#000000\" stroke=\"#000000\" points=\"306.5473,-509.1992 316.5318,-505.6554 306.5166,-502.1993 306.5473,-509.1992\"/>\n</g>\n<!-- St22 -->\n<g id=\"node27\" class=\"node\">\n<title>St22</title>\n<ellipse fill=\"none\" stroke=\"#000000\" cx=\"119.5975\" cy=\"-328.5975\" rx=\"28.6953\" ry=\"28.6953\"/>\n<text text-anchor=\"middle\" x=\"119.5975\" y=\"-324.8975\" font-family=\"Times,serif\" font-size=\"14.00\" fill=\"#000000\">St22</text>\n</g>\n<!-- EMPTY&#45;&gt;St22 -->\n<g id=\"edge7\" class=\"edge\">\n<title>EMPTY&#45;&gt;St22</title>\n<path fill=\"none\" stroke=\"#000000\" d=\"M49.4153,-385.4421C61.383,-375.7487 76.2826,-363.6807 89.2709,-353.1607\"/>\n<polygon fill=\"#000000\" stroke=\"#000000\" points=\"91.4998,-355.8595 97.0677,-346.8456 87.0939,-350.4199 91.4998,-355.8595\"/>\n</g>\n<!-- St31 -->\n<g id=\"node31\" class=\"node\">\n<title>St31</title>\n<ellipse fill=\"none\" stroke=\"#000000\" cx=\"119.5975\" cy=\"-28.5975\" rx=\"28.6953\" ry=\"28.6953\"/>\n<text text-anchor=\"middle\" x=\"119.5975\" y=\"-24.8975\" font-family=\"Times,serif\" font-size=\"14.00\" fill=\"#000000\">St31</text>\n</g>\n<!-- EMPTY&#45;&gt;St31 -->\n<g id=\"edge8\" class=\"edge\">\n<title>EMPTY&#45;&gt;St31</title>\n<path fill=\"none\" stroke=\"#000000\" d=\"M27.4888,-385.4885C29.4977,-333.4158 39.6879,-179.712 91,-65.5975 92.0488,-63.265 93.2725,-60.9464 94.6121,-58.6735\"/>\n<polygon fill=\"#000000\" stroke=\"#000000\" points=\"97.6205,-60.4698 100.2291,-50.2011 91.7862,-56.6018 97.6205,-60.4698\"/>\n</g>\n<!-- St20 -->\n<g id=\"node32\" class=\"node\">\n<title>St20</title>\n<ellipse fill=\"none\" stroke=\"#000000\" cx=\"119.5975\" cy=\"-253.5975\" rx=\"28.6953\" ry=\"28.6953\"/>\n<text text-anchor=\"middle\" x=\"119.5975\" y=\"-249.8975\" font-family=\"Times,serif\" font-size=\"14.00\" fill=\"#000000\">St20</text>\n</g>\n<!-- EMPTY&#45;&gt;St20 -->\n<g id=\"edge10\" class=\"edge\">\n<title>EMPTY&#45;&gt;St20</title>\n<path fill=\"none\" stroke=\"#000000\" d=\"M36.2159,-385.514C48.0213,-362.8011 69.5324,-322.8925 91,-290.5975 92.4157,-288.4677 93.916,-286.3019 95.4587,-284.1411\"/>\n<polygon fill=\"#000000\" stroke=\"#000000\" points=\"98.4051,-286.0429 101.5289,-275.919 92.7736,-281.8851 98.4051,-286.0429\"/>\n</g>\n<!-- St36 -->\n<g id=\"node2\" class=\"node\">\n<title>St36</title>\n<ellipse fill=\"none\" stroke=\"#000000\" cx=\"636.767\" cy=\"-97.5975\" rx=\"28.6953\" ry=\"28.6953\"/>\n<text text-anchor=\"middle\" x=\"636.767\" y=\"-93.8975\" font-family=\"Times,serif\" font-size=\"14.00\" fill=\"#000000\">St36</text>\n</g>\n<!-- St37 -->\n<g id=\"node37\" class=\"node\">\n<title>St37</title>\n<ellipse fill=\"none\" stroke=\"#000000\" cx=\"424.3772\" cy=\"-103.5975\" rx=\"28.6832\" ry=\"28.6832\"/>\n<ellipse fill=\"none\" stroke=\"#000000\" cx=\"424.3772\" cy=\"-103.5975\" rx=\"32.6952\" ry=\"32.6952\"/>\n<text text-anchor=\"middle\" x=\"424.3772\" y=\"-99.8975\" font-family=\"Times,serif\" font-size=\"14.00\" fill=\"#000000\">St37</text>\n</g>\n<!-- St36&#45;&gt;St37 -->\n<g id=\"edge49\" class=\"edge\">\n<title>St36&#45;&gt;St37</title>\n<path fill=\"none\" stroke=\"#000000\" d=\"M608.0982,-98.4074C571.8764,-99.4306 509.2162,-101.2008 467.2832,-102.3854\"/>\n<polygon fill=\"#000000\" stroke=\"#000000\" points=\"466.9948,-98.892 457.0976,-102.6731 467.1925,-105.8892 466.9948,-98.892\"/>\n<text text-anchor=\"middle\" x=\"531.5721\" y=\"-104.3975\" font-family=\"Times,serif\" font-size=\"14.00\" fill=\"#000000\">&#39;&#39; </text>\n</g>\n<!-- St6 -->\n<g id=\"node16\" class=\"node\">\n<title>St6</title>\n<ellipse fill=\"none\" stroke=\"#000000\" cx=\"269.9873\" cy=\"-552.5975\" rx=\"23.2963\" ry=\"23.2963\"/>\n<text text-anchor=\"middle\" x=\"269.9873\" y=\"-548.8975\" font-family=\"Times,serif\" font-size=\"14.00\" fill=\"#000000\">St6</text>\n</g>\n<!-- St5&#45;&gt;St6 -->\n<g id=\"edge14\" class=\"edge\">\n<title>St5&#45;&gt;St6</title>\n<path fill=\"none\" stroke=\"#000000\" d=\"M143.0959,-552.5975C168.002,-552.5975 207.5737,-552.5975 235.9041,-552.5975\"/>\n<polygon fill=\"#000000\" stroke=\"#000000\" points=\"236.1576,-556.0976 246.1576,-552.5975 236.1576,-549.0976 236.1576,-556.0976\"/>\n<text text-anchor=\"middle\" x=\"194.7924\" y=\"-556.3975\" font-family=\"Times,serif\" font-size=\"14.00\" fill=\"#000000\">f </text>\n</g>\n<!-- St27 -->\n<g id=\"node4\" class=\"node\">\n<title>St27</title>\n<ellipse fill=\"none\" stroke=\"#000000\" cx=\"636.767\" cy=\"-316.5975\" rx=\"28.6953\" ry=\"28.6953\"/>\n<text text-anchor=\"middle\" x=\"636.767\" y=\"-312.8975\" font-family=\"Times,serif\" font-size=\"14.00\" fill=\"#000000\">St27</text>\n</g>\n<!-- St28 -->\n<g id=\"node34\" class=\"node\">\n<title>St28</title>\n<ellipse fill=\"none\" stroke=\"#000000\" cx=\"424.3772\" cy=\"-328.5975\" rx=\"28.6832\" ry=\"28.6832\"/>\n<ellipse fill=\"none\" stroke=\"#000000\" cx=\"424.3772\" cy=\"-328.5975\" rx=\"32.6952\" ry=\"32.6952\"/>\n<text text-anchor=\"middle\" x=\"424.3772\" y=\"-324.8975\" font-family=\"Times,serif\" font-size=\"14.00\" fill=\"#000000\">St28</text>\n</g>\n<!-- St27&#45;&gt;St28 -->\n<g id=\"edge40\" class=\"edge\">\n<title>St27&#45;&gt;St28</title>\n<path fill=\"none\" stroke=\"#000000\" d=\"M608.0377,-318.5662C593.6654,-319.5273 576.0011,-320.6727 560.1696,-321.5975 529.0668,-323.4142 493.9417,-325.2182 467.2085,-326.5398\"/>\n<polygon fill=\"#000000\" stroke=\"#000000\" points=\"466.8514,-323.053 457.0352,-327.0395 467.1948,-330.0446 466.8514,-323.053\"/>\n<text text-anchor=\"middle\" x=\"531.5721\" y=\"-328.3975\" font-family=\"Times,serif\" font-size=\"14.00\" fill=\"#000000\">&#39;&#39; </text>\n</g>\n<!-- St4 -->\n<g id=\"node5\" class=\"node\">\n<title>St4</title>\n<ellipse fill=\"none\" stroke=\"#000000\" cx=\"269.9873\" cy=\"-682.5975\" rx=\"23.2963\" ry=\"23.2963\"/>\n<text text-anchor=\"middle\" x=\"269.9873\" y=\"-678.8975\" font-family=\"Times,serif\" font-size=\"14.00\" fill=\"#000000\">St4</text>\n</g>\n<!-- St9 -->\n<g id=\"node30\" class=\"node\">\n<title>St9</title>\n<ellipse fill=\"none\" stroke=\"#000000\" cx=\"424.3772\" cy=\"-631.5975\" rx=\"23.2963\" ry=\"23.2963\"/>\n<text text-anchor=\"middle\" x=\"424.3772\" y=\"-627.8975\" font-family=\"Times,serif\" font-size=\"14.00\" fill=\"#000000\">St9</text>\n</g>\n<!-- St4&#45;&gt;St9 -->\n<g id=\"edge20\" class=\"edge\">\n<title>St4&#45;&gt;St9</title>\n<path fill=\"none\" stroke=\"#000000\" d=\"M292.4369,-675.1816C318.8104,-666.4696 362.7486,-651.9554 392.6096,-642.0913\"/>\n<polygon fill=\"#000000\" stroke=\"#000000\" points=\"393.7534,-645.3996 402.1509,-638.9395 391.5577,-638.7528 393.7534,-645.3996\"/>\n<text text-anchor=\"middle\" x=\"345.1822\" y=\"-669.3975\" font-family=\"Times,serif\" font-size=\"14.00\" fill=\"#000000\">&#39;&#39; </text>\n</g>\n<!-- St25 -->\n<g id=\"node17\" class=\"node\">\n<title>St25</title>\n<ellipse fill=\"none\" stroke=\"#000000\" cx=\"269.9873\" cy=\"-403.5975\" rx=\"28.6953\" ry=\"28.6953\"/>\n<text text-anchor=\"middle\" x=\"269.9873\" y=\"-399.8975\" font-family=\"Times,serif\" font-size=\"14.00\" fill=\"#000000\">St25</text>\n</g>\n<!-- St24&#45;&gt;St25 -->\n<g id=\"edge37\" class=\"edge\">\n<title>St24&#45;&gt;St25</title>\n<path fill=\"none\" stroke=\"#000000\" d=\"M148.2386,-403.5975C171.6833,-403.5975 205.0821,-403.5975 230.9701,-403.5975\"/>\n<polygon fill=\"#000000\" stroke=\"#000000\" points=\"231.1971,-407.0976 241.197,-403.5975 231.197,-400.0976 231.1971,-407.0976\"/>\n<text text-anchor=\"middle\" x=\"194.7924\" y=\"-407.3975\" font-family=\"Times,serif\" font-size=\"14.00\" fill=\"#000000\">f </text>\n</g>\n<!-- St2 -->\n<g id=\"node7\" class=\"node\">\n<title>St2</title>\n<ellipse fill=\"none\" stroke=\"#000000\" cx=\"269.9873\" cy=\"-617.5975\" rx=\"23.2963\" ry=\"23.2963\"/>\n<text text-anchor=\"middle\" x=\"269.9873\" y=\"-613.8975\" font-family=\"Times,serif\" font-size=\"14.00\" fill=\"#000000\">St2</text>\n</g>\n<!-- St2&#45;&gt;St9 -->\n<g id=\"edge22\" class=\"edge\">\n<title>St2&#45;&gt;St9</title>\n<path fill=\"none\" stroke=\"#000000\" d=\"M293.4358,-619.7238C319.3554,-622.0741 361.3239,-625.8798 390.7434,-628.5476\"/>\n<polygon fill=\"#000000\" stroke=\"#000000\" points=\"390.6862,-632.0567 400.9614,-629.4741 391.3184,-625.0853 390.6862,-632.0567\"/>\n<text text-anchor=\"middle\" x=\"345.1822\" y=\"-630.3975\" font-family=\"Times,serif\" font-size=\"14.00\" fill=\"#000000\">&#39;&#39; </text>\n</g>\n<!-- St26 -->\n<g id=\"node8\" class=\"node\">\n<title>St26</title>\n<ellipse fill=\"none\" stroke=\"#000000\" cx=\"531.5721\" cy=\"-283.5975\" rx=\"28.6953\" ry=\"28.6953\"/>\n<text text-anchor=\"middle\" x=\"531.5721\" y=\"-279.8975\" font-family=\"Times,serif\" font-size=\"14.00\" fill=\"#000000\">St26</text>\n</g>\n<!-- St26&#45;&gt;St27 -->\n<g id=\"edge39\" class=\"edge\">\n<title>St26&#45;&gt;St27</title>\n<path fill=\"none\" stroke=\"#000000\" d=\"M558.9362,-292.1817C571.258,-296.0471 586.0011,-300.672 599.3254,-304.8519\"/>\n<polygon fill=\"#000000\" stroke=\"#000000\" points=\"598.5853,-308.2878 609.1745,-307.9416 600.6806,-301.6088 598.5853,-308.2878\"/>\n<text text-anchor=\"middle\" x=\"584.1696\" y=\"-304.3975\" font-family=\"Times,serif\" font-size=\"14.00\" fill=\"#000000\">s </text>\n</g>\n<!-- St1&#45;&gt;St2 -->\n<g id=\"edge12\" class=\"edge\">\n<title>St1&#45;&gt;St2</title>\n<path fill=\"none\" stroke=\"#000000\" d=\"M143.0959,-617.5975C168.002,-617.5975 207.5737,-617.5975 235.9041,-617.5975\"/>\n<polygon fill=\"#000000\" stroke=\"#000000\" points=\"236.1576,-621.0976 246.1576,-617.5975 236.1576,-614.0976 236.1576,-621.0976\"/>\n<text text-anchor=\"middle\" x=\"194.7924\" y=\"-621.3975\" font-family=\"Times,serif\" font-size=\"14.00\" fill=\"#000000\">d </text>\n</g>\n<!-- St7 -->\n<g id=\"node10\" class=\"node\">\n<title>St7</title>\n<ellipse fill=\"none\" stroke=\"#000000\" cx=\"531.5721\" cy=\"-644.5975\" rx=\"23.2963\" ry=\"23.2963\"/>\n<text text-anchor=\"middle\" x=\"531.5721\" y=\"-640.8975\" font-family=\"Times,serif\" font-size=\"14.00\" fill=\"#000000\">St7</text>\n</g>\n<!-- St8 -->\n<g id=\"node29\" class=\"node\">\n<title>St8</title>\n<ellipse fill=\"none\" stroke=\"#000000\" cx=\"636.767\" cy=\"-681.5975\" rx=\"23.2963\" ry=\"23.2963\"/>\n<text text-anchor=\"middle\" x=\"636.767\" y=\"-677.8975\" font-family=\"Times,serif\" font-size=\"14.00\" fill=\"#000000\">St8</text>\n</g>\n<!-- St7&#45;&gt;St8 -->\n<g id=\"edge17\" class=\"edge\">\n<title>St7&#45;&gt;St8</title>\n<path fill=\"none\" stroke=\"#000000\" d=\"M553.8812,-652.4442C568.6649,-657.644 588.2912,-664.5472 604.7347,-670.3308\"/>\n<polygon fill=\"#000000\" stroke=\"#000000\" points=\"603.8952,-673.7457 614.49,-673.762 606.2179,-667.1422 603.8952,-673.7457\"/>\n<text text-anchor=\"middle\" x=\"584.1696\" y=\"-667.3975\" font-family=\"Times,serif\" font-size=\"14.00\" fill=\"#000000\">s </text>\n</g>\n<!-- St13 -->\n<g id=\"node11\" class=\"node\">\n<title>St13</title>\n<ellipse fill=\"none\" stroke=\"#000000\" cx=\"636.767\" cy=\"-504.5975\" rx=\"28.6953\" ry=\"28.6953\"/>\n<text text-anchor=\"middle\" x=\"636.767\" y=\"-500.8975\" font-family=\"Times,serif\" font-size=\"14.00\" fill=\"#000000\">St13</text>\n</g>\n<!-- St16 -->\n<g id=\"node18\" class=\"node\">\n<title>St16</title>\n<ellipse fill=\"none\" stroke=\"#000000\" cx=\"742.9619\" cy=\"-389.5975\" rx=\"28.6953\" ry=\"28.6953\"/>\n<text text-anchor=\"middle\" x=\"742.9619\" y=\"-385.8975\" font-family=\"Times,serif\" font-size=\"14.00\" fill=\"#000000\">St16</text>\n</g>\n<!-- St13&#45;&gt;St16 -->\n<g id=\"edge27\" class=\"edge\">\n<title>St13&#45;&gt;St16</title>\n<path fill=\"none\" stroke=\"#000000\" d=\"M655.3244,-482.579C658.9042,-477.8031 662.444,-472.661 665.3645,-467.5975 675.9208,-449.2949 669.4272,-439.4774 683.3645,-423.5975 689.9545,-416.0889 698.623,-409.8509 707.3009,-404.8569\"/>\n<polygon fill=\"#000000\" stroke=\"#000000\" points=\"709.0683,-407.8813 716.2608,-400.1019 705.7869,-401.6981 709.0683,-407.8813\"/>\n<text text-anchor=\"middle\" x=\"687.8645\" y=\"-427.3975\" font-family=\"Times,serif\" font-size=\"14.00\" fill=\"#000000\">&#39;&#39; </text>\n</g>\n<!-- St18 -->\n<g id=\"node36\" class=\"node\">\n<title>St18</title>\n<ellipse fill=\"none\" stroke=\"#000000\" cx=\"742.9619\" cy=\"-468.5975\" rx=\"28.6832\" ry=\"28.6832\"/>\n<ellipse fill=\"none\" stroke=\"#000000\" cx=\"742.9619\" cy=\"-468.5975\" rx=\"32.6952\" ry=\"32.6952\"/>\n<text text-anchor=\"middle\" x=\"742.9619\" y=\"-464.8975\" font-family=\"Times,serif\" font-size=\"14.00\" fill=\"#000000\">St18</text>\n</g>\n<!-- St13&#45;&gt;St18 -->\n<g id=\"edge28\" class=\"edge\">\n<title>St13&#45;&gt;St18</title>\n<path fill=\"none\" stroke=\"#000000\" d=\"M657.2717,-484.0831C664.8322,-477.8675 673.883,-471.8334 683.3645,-468.5975 688.689,-466.7803 694.4403,-465.735 700.197,-465.2158\"/>\n<polygon fill=\"#000000\" stroke=\"#000000\" points=\"700.6248,-468.7013 710.4737,-464.7961 700.3392,-461.7071 700.6248,-468.7013\"/>\n<text text-anchor=\"middle\" x=\"687.8645\" y=\"-472.3975\" font-family=\"Times,serif\" font-size=\"14.00\" fill=\"#000000\">&#39;&#39; </text>\n</g>\n<!-- St19 -->\n<g id=\"node38\" class=\"node\">\n<title>St19</title>\n<ellipse fill=\"none\" stroke=\"#000000\" cx=\"742.9619\" cy=\"-581.5975\" rx=\"28.6832\" ry=\"28.6832\"/>\n<ellipse fill=\"none\" stroke=\"#000000\" cx=\"742.9619\" cy=\"-581.5975\" rx=\"32.6952\" ry=\"32.6952\"/>\n<text text-anchor=\"middle\" x=\"742.9619\" y=\"-577.8975\" font-family=\"Times,serif\" font-size=\"14.00\" fill=\"#000000\">St19</text>\n</g>\n<!-- St13&#45;&gt;St19 -->\n<g id=\"edge26\" class=\"edge\">\n<title>St13&#45;&gt;St19</title>\n<path fill=\"none\" stroke=\"#000000\" d=\"M652.6623,-528.4834C660.7894,-539.1986 671.4719,-551.2719 683.3645,-559.5975 688.9494,-563.5073 695.3118,-566.8116 701.7508,-569.5749\"/>\n<polygon fill=\"#000000\" stroke=\"#000000\" points=\"700.5693,-572.8708 711.1576,-573.2438 703.1129,-566.3493 700.5693,-572.8708\"/>\n<text text-anchor=\"middle\" x=\"687.8645\" y=\"-568.3975\" font-family=\"Times,serif\" font-size=\"14.00\" fill=\"#000000\">&#39;&#39; </text>\n</g>\n<!-- St35 -->\n<g id=\"node12\" class=\"node\">\n<title>St35</title>\n<ellipse fill=\"none\" stroke=\"#000000\" cx=\"531.5721\" cy=\"-55.5975\" rx=\"28.6953\" ry=\"28.6953\"/>\n<text text-anchor=\"middle\" x=\"531.5721\" y=\"-51.8975\" font-family=\"Times,serif\" font-size=\"14.00\" fill=\"#000000\">St35</text>\n</g>\n<!-- St35&#45;&gt;St36 -->\n<g id=\"edge48\" class=\"edge\">\n<title>St35&#45;&gt;St36</title>\n<path fill=\"none\" stroke=\"#000000\" d=\"M558.3894,-66.3045C571.125,-71.3893 586.5397,-77.5438 600.3174,-83.0446\"/>\n<polygon fill=\"#000000\" stroke=\"#000000\" points=\"599.4137,-86.4524 609.9987,-86.91 602.0093,-79.9514 599.4137,-86.4524\"/>\n<text text-anchor=\"middle\" x=\"584.1696\" y=\"-81.3975\" font-family=\"Times,serif\" font-size=\"14.00\" fill=\"#000000\">s </text>\n</g>\n<!-- St3&#45;&gt;St4 -->\n<g id=\"edge13\" class=\"edge\">\n<title>St3&#45;&gt;St4</title>\n<path fill=\"none\" stroke=\"#000000\" d=\"M143.0959,-682.5975C168.002,-682.5975 207.5737,-682.5975 235.9041,-682.5975\"/>\n<polygon fill=\"#000000\" stroke=\"#000000\" points=\"236.1576,-686.0976 246.1576,-682.5975 236.1576,-679.0976 236.1576,-686.0976\"/>\n<text text-anchor=\"middle\" x=\"194.7924\" y=\"-686.3975\" font-family=\"Times,serif\" font-size=\"14.00\" fill=\"#000000\">f </text>\n</g>\n<!-- St30 -->\n<g id=\"node14\" class=\"node\">\n<title>St30</title>\n<ellipse fill=\"none\" stroke=\"#000000\" cx=\"269.9873\" cy=\"-178.5975\" rx=\"28.6953\" ry=\"28.6953\"/>\n<text text-anchor=\"middle\" x=\"269.9873\" y=\"-174.8975\" font-family=\"Times,serif\" font-size=\"14.00\" fill=\"#000000\">St30</text>\n</g>\n<!-- St30&#45;&gt;St37 -->\n<g id=\"edge52\" class=\"edge\">\n<title>St30&#45;&gt;St37</title>\n<path fill=\"none\" stroke=\"#000000\" d=\"M295.8287,-166.0441C320.4311,-154.0927 357.7697,-135.9543 385.8769,-122.3002\"/>\n<polygon fill=\"#000000\" stroke=\"#000000\" points=\"387.5578,-125.3749 395.0233,-117.8571 384.4991,-119.0785 387.5578,-125.3749\"/>\n<text text-anchor=\"middle\" x=\"345.1822\" y=\"-157.3975\" font-family=\"Times,serif\" font-size=\"14.00\" fill=\"#000000\">&#39;&#39; </text>\n</g>\n<!-- St34 -->\n<g id=\"node15\" class=\"node\">\n<title>St34</title>\n<ellipse fill=\"none\" stroke=\"#000000\" cx=\"269.9873\" cy=\"-103.5975\" rx=\"28.6953\" ry=\"28.6953\"/>\n<text text-anchor=\"middle\" x=\"269.9873\" y=\"-99.8975\" font-family=\"Times,serif\" font-size=\"14.00\" fill=\"#000000\">St34</text>\n</g>\n<!-- St34&#45;&gt;St37 -->\n<g id=\"edge50\" class=\"edge\">\n<title>St34&#45;&gt;St37</title>\n<path fill=\"none\" stroke=\"#000000\" d=\"M298.665,-103.5975C321.9144,-103.5975 355.0378,-103.5975 381.448,-103.5975\"/>\n<polygon fill=\"#000000\" stroke=\"#000000\" points=\"381.5716,-107.0976 391.5716,-103.5975 381.5716,-100.0976 381.5716,-107.0976\"/>\n<text text-anchor=\"middle\" x=\"345.1822\" y=\"-107.3975\" font-family=\"Times,serif\" font-size=\"14.00\" fill=\"#000000\">&#39;&#39; </text>\n</g>\n<!-- St6&#45;&gt;St9 -->\n<g id=\"edge21\" class=\"edge\">\n<title>St6&#45;&gt;St9</title>\n<path fill=\"none\" stroke=\"#000000\" d=\"M291.2793,-562.3109C312.4167,-572.0806 345.6404,-587.7799 373.7797,-602.5975 380.6779,-606.2299 388.0039,-610.3008 394.8763,-614.2178\"/>\n<polygon fill=\"#000000\" stroke=\"#000000\" points=\"393.4719,-617.448 403.8838,-619.4081 396.9667,-611.3828 393.4719,-617.448\"/>\n<text text-anchor=\"middle\" x=\"345.1822\" y=\"-606.3975\" font-family=\"Times,serif\" font-size=\"14.00\" fill=\"#000000\">&#39;&#39; </text>\n</g>\n<!-- St25&#45;&gt;St28 -->\n<g id=\"edge42\" class=\"edge\">\n<title>St25&#45;&gt;St28</title>\n<path fill=\"none\" stroke=\"#000000\" d=\"M295.8287,-391.0441C320.4311,-379.0927 357.7697,-360.9543 385.8769,-347.3002\"/>\n<polygon fill=\"#000000\" stroke=\"#000000\" points=\"387.5578,-350.3749 395.0233,-342.8571 384.4991,-344.0785 387.5578,-350.3749\"/>\n<text text-anchor=\"middle\" x=\"345.1822\" y=\"-382.3975\" font-family=\"Times,serif\" font-size=\"14.00\" fill=\"#000000\">&#39;&#39; </text>\n</g>\n<!-- St17 -->\n<g id=\"node35\" class=\"node\">\n<title>St17</title>\n<ellipse fill=\"none\" stroke=\"#000000\" cx=\"854.1569\" cy=\"-389.5975\" rx=\"28.6832\" ry=\"28.6832\"/>\n<ellipse fill=\"none\" stroke=\"#000000\" cx=\"854.1569\" cy=\"-389.5975\" rx=\"32.6952\" ry=\"32.6952\"/>\n<text text-anchor=\"middle\" x=\"854.1569\" y=\"-385.8975\" font-family=\"Times,serif\" font-size=\"14.00\" fill=\"#000000\">St17</text>\n</g>\n<!-- St16&#45;&gt;St17 -->\n<g id=\"edge25\" class=\"edge\">\n<title>St16&#45;&gt;St17</title>\n<path fill=\"none\" stroke=\"#000000\" d=\"M771.5974,-389.5975C783.5802,-389.5975 797.7678,-389.5975 810.9713,-389.5975\"/>\n<polygon fill=\"#000000\" stroke=\"#000000\" points=\"811.2883,-393.0976 821.2883,-389.5975 811.2882,-386.0976 811.2883,-393.0976\"/>\n<text text-anchor=\"middle\" x=\"798.5594\" y=\"-393.3975\" font-family=\"Times,serif\" font-size=\"14.00\" fill=\"#000000\">a </text>\n</g>\n<!-- St23 -->\n<g id=\"node19\" class=\"node\">\n<title>St23</title>\n<ellipse fill=\"none\" stroke=\"#000000\" cx=\"269.9873\" cy=\"-328.5975\" rx=\"28.6953\" ry=\"28.6953\"/>\n<text text-anchor=\"middle\" x=\"269.9873\" y=\"-324.8975\" font-family=\"Times,serif\" font-size=\"14.00\" fill=\"#000000\">St23</text>\n</g>\n<!-- St23&#45;&gt;St28 -->\n<g id=\"edge43\" class=\"edge\">\n<title>St23&#45;&gt;St28</title>\n<path fill=\"none\" stroke=\"#000000\" d=\"M298.665,-328.5975C321.9144,-328.5975 355.0378,-328.5975 381.448,-328.5975\"/>\n<polygon fill=\"#000000\" stroke=\"#000000\" points=\"381.5716,-332.0976 391.5716,-328.5975 381.5716,-325.0976 381.5716,-332.0976\"/>\n<text text-anchor=\"middle\" x=\"345.1822\" y=\"-332.3975\" font-family=\"Times,serif\" font-size=\"14.00\" fill=\"#000000\">&#39;&#39; </text>\n</g>\n<!-- St33&#45;&gt;St34 -->\n<g id=\"edge46\" class=\"edge\">\n<title>St33&#45;&gt;St34</title>\n<path fill=\"none\" stroke=\"#000000\" d=\"M148.2386,-103.5975C171.6833,-103.5975 205.0821,-103.5975 230.9701,-103.5975\"/>\n<polygon fill=\"#000000\" stroke=\"#000000\" points=\"231.1971,-107.0976 241.197,-103.5975 231.197,-100.0976 231.1971,-107.0976\"/>\n<text text-anchor=\"middle\" x=\"194.7924\" y=\"-107.3975\" font-family=\"Times,serif\" font-size=\"14.00\" fill=\"#000000\">f </text>\n</g>\n<!-- St21 -->\n<g id=\"node21\" class=\"node\">\n<title>St21</title>\n<ellipse fill=\"none\" stroke=\"#000000\" cx=\"269.9873\" cy=\"-253.5975\" rx=\"28.6953\" ry=\"28.6953\"/>\n<text text-anchor=\"middle\" x=\"269.9873\" y=\"-249.8975\" font-family=\"Times,serif\" font-size=\"14.00\" fill=\"#000000\">St21</text>\n</g>\n<!-- St21&#45;&gt;St28 -->\n<g id=\"edge41\" class=\"edge\">\n<title>St21&#45;&gt;St28</title>\n<path fill=\"none\" stroke=\"#000000\" d=\"M295.8287,-266.1508C320.4311,-278.1022 357.7697,-296.2407 385.8769,-309.8947\"/>\n<polygon fill=\"#000000\" stroke=\"#000000\" points=\"384.4991,-313.1164 395.0233,-314.3378 387.5578,-306.82 384.4991,-313.1164\"/>\n<text text-anchor=\"middle\" x=\"345.1822\" y=\"-305.3975\" font-family=\"Times,serif\" font-size=\"14.00\" fill=\"#000000\">&#39;&#39; </text>\n</g>\n<!-- St15 -->\n<g id=\"node22\" class=\"node\">\n<title>St15</title>\n<ellipse fill=\"none\" stroke=\"#000000\" cx=\"636.767\" cy=\"-429.5975\" rx=\"28.6953\" ry=\"28.6953\"/>\n<text text-anchor=\"middle\" x=\"636.767\" y=\"-425.8975\" font-family=\"Times,serif\" font-size=\"14.00\" fill=\"#000000\">St15</text>\n</g>\n<!-- St15&#45;&gt;St16 -->\n<g id=\"edge30\" class=\"edge\">\n<title>St15&#45;&gt;St16</title>\n<path fill=\"none\" stroke=\"#000000\" d=\"M645.8735,-402.2864C653.1313,-385.262 665.1435,-364.7281 683.3645,-354.5975 694.2875,-348.5244 706.1877,-353.1868 716.4618,-360.8544\"/>\n<polygon fill=\"#000000\" stroke=\"#000000\" points=\"714.4115,-363.7046 724.3031,-367.5002 718.9374,-358.3645 714.4115,-363.7046\"/>\n<text text-anchor=\"middle\" x=\"687.8645\" y=\"-358.3975\" font-family=\"Times,serif\" font-size=\"14.00\" fill=\"#000000\">&#39;&#39; </text>\n</g>\n<!-- St15&#45;&gt;St18 -->\n<g id=\"edge31\" class=\"edge\">\n<title>St15&#45;&gt;St18</title>\n<path fill=\"none\" stroke=\"#000000\" d=\"M664.4034,-437.3735C673.3927,-440.0817 683.3684,-443.2785 692.3645,-446.5975 696.0995,-447.9755 699.9555,-449.4859 703.7946,-451.0495\"/>\n<polygon fill=\"#000000\" stroke=\"#000000\" points=\"702.6489,-454.3642 713.2246,-455.0003 705.3539,-447.9079 702.6489,-454.3642\"/>\n<text text-anchor=\"middle\" x=\"687.8645\" y=\"-450.3975\" font-family=\"Times,serif\" font-size=\"14.00\" fill=\"#000000\">&#39;&#39; </text>\n</g>\n<!-- St15&#45;&gt;St19 -->\n<g id=\"edge29\" class=\"edge\">\n<title>St15&#45;&gt;St19</title>\n<path fill=\"none\" stroke=\"#000000\" d=\"M655.6099,-451.4581C659.169,-456.2454 662.6282,-461.432 665.3645,-466.5975 677.4042,-489.3258 669.9393,-499.659 683.3645,-521.5975 690.5707,-533.3732 700.5237,-544.5933 710.2335,-554.0771\"/>\n<polygon fill=\"#000000\" stroke=\"#000000\" points=\"707.88,-556.6684 717.5617,-560.9715 712.6766,-551.57 707.88,-556.6684\"/>\n<text text-anchor=\"middle\" x=\"687.8645\" y=\"-536.3975\" font-family=\"Times,serif\" font-size=\"14.00\" fill=\"#000000\">&#39;&#39; </text>\n</g>\n<!-- St29&#45;&gt;St30 -->\n<g id=\"edge44\" class=\"edge\">\n<title>St29&#45;&gt;St30</title>\n<path fill=\"none\" stroke=\"#000000\" d=\"M148.2386,-178.5975C171.6833,-178.5975 205.0821,-178.5975 230.9701,-178.5975\"/>\n<polygon fill=\"#000000\" stroke=\"#000000\" points=\"231.1971,-182.0976 241.197,-178.5975 231.197,-175.0976 231.1971,-182.0976\"/>\n<text text-anchor=\"middle\" x=\"194.7924\" y=\"-182.3975\" font-family=\"Times,serif\" font-size=\"14.00\" fill=\"#000000\">d </text>\n</g>\n<!-- St14&#45;&gt;St15 -->\n<g id=\"edge24\" class=\"edge\">\n<title>St14&#45;&gt;St15</title>\n<path fill=\"none\" stroke=\"#000000\" d=\"M223.6197,-458.5139C253.8902,-459.3961 302.8767,-460.5975 345.1822,-460.5975 345.1822,-460.5975 345.1822,-460.5975 531.5721,-460.5975 555.4607,-460.5975 581.202,-453.151 601.2416,-445.5572\"/>\n<polygon fill=\"#000000\" stroke=\"#000000\" points=\"602.5834,-448.7903 610.5882,-441.8495 600.0022,-442.2836 602.5834,-448.7903\"/>\n<text text-anchor=\"middle\" x=\"424.3772\" y=\"-464.3975\" font-family=\"Times,serif\" font-size=\"14.00\" fill=\"#000000\">c </text>\n</g>\n<!-- St12&#45;&gt;St13 -->\n<g id=\"edge23\" class=\"edge\">\n<title>St12&#45;&gt;St13</title>\n<path fill=\"none\" stroke=\"#000000\" d=\"M373.9385,-504.5975C426.5275,-504.5975 538.2488,-504.5975 597.6798,-504.5975\"/>\n<polygon fill=\"#000000\" stroke=\"#000000\" points=\"597.7952,-508.0976 607.7952,-504.5975 597.7951,-501.0976 597.7952,-508.0976\"/>\n<text text-anchor=\"middle\" x=\"479.9746\" y=\"-508.3975\" font-family=\"Times,serif\" font-size=\"14.00\" fill=\"#000000\">c </text>\n</g>\n<!-- St11 -->\n<g id=\"node26\" class=\"node\">\n<title>St11</title>\n<ellipse fill=\"none\" stroke=\"#000000\" cx=\"636.767\" cy=\"-611.5975\" rx=\"27.8951\" ry=\"27.8951\"/>\n<text text-anchor=\"middle\" x=\"636.767\" y=\"-607.8975\" font-family=\"Times,serif\" font-size=\"14.00\" fill=\"#000000\">St11</text>\n</g>\n<!-- St11&#45;&gt;St16 -->\n<g id=\"edge33\" class=\"edge\">\n<title>St11&#45;&gt;St16</title>\n<path fill=\"none\" stroke=\"#000000\" d=\"M647.5977,-585.4873C656.8681,-563.3291 670.6872,-530.7447 683.3645,-502.5975 687.2017,-494.0778 688.9497,-492.295 692.3645,-483.5975 702.0735,-458.8687 697.3015,-449.7305 710.3645,-426.5975 712.0062,-423.6902 713.9042,-420.81 715.9424,-418.0161\"/>\n<polygon fill=\"#000000\" stroke=\"#000000\" points=\"718.8715,-419.9563 722.3611,-409.9527 713.3948,-415.5967 718.8715,-419.9563\"/>\n<text text-anchor=\"middle\" x=\"687.8645\" y=\"-506.3975\" font-family=\"Times,serif\" font-size=\"14.00\" fill=\"#000000\">&#39;&#39; </text>\n</g>\n<!-- St11&#45;&gt;St18 -->\n<g id=\"edge34\" class=\"edge\">\n<title>St11&#45;&gt;St18</title>\n<path fill=\"none\" stroke=\"#000000\" d=\"M663.3667,-602.8116C673.5128,-598.3723 684.5136,-592.0878 692.3645,-583.5975 706.7091,-568.0845 701.9547,-558.9803 710.3645,-539.5975 714.9111,-529.1183 719.9942,-517.8499 724.7687,-507.4456\"/>\n<polygon fill=\"#000000\" stroke=\"#000000\" points=\"728.0318,-508.7275 729.0424,-498.181 721.6755,-505.7953 728.0318,-508.7275\"/>\n<text text-anchor=\"middle\" x=\"687.8645\" y=\"-594.3975\" font-family=\"Times,serif\" font-size=\"14.00\" fill=\"#000000\">&#39;&#39; </text>\n</g>\n<!-- St11&#45;&gt;St19 -->\n<g id=\"edge32\" class=\"edge\">\n<title>St11&#45;&gt;St19</title>\n<path fill=\"none\" stroke=\"#000000\" d=\"M658.4239,-629.6311C668.7103,-635.9739 681.1748,-640.447 692.3645,-635.5975 702.0011,-631.421 710.6428,-624.4053 717.9422,-616.7895\"/>\n<polygon fill=\"#000000\" stroke=\"#000000\" points=\"720.7782,-618.8661 724.7815,-609.0567 715.5347,-614.2286 720.7782,-618.8661\"/>\n<text text-anchor=\"middle\" x=\"687.8645\" y=\"-640.3975\" font-family=\"Times,serif\" font-size=\"14.00\" fill=\"#000000\">&#39;&#39; </text>\n</g>\n<!-- St22&#45;&gt;St23 -->\n<g id=\"edge36\" class=\"edge\">\n<title>St22&#45;&gt;St23</title>\n<path fill=\"none\" stroke=\"#000000\" d=\"M148.2386,-328.5975C171.6833,-328.5975 205.0821,-328.5975 230.9701,-328.5975\"/>\n<polygon fill=\"#000000\" stroke=\"#000000\" points=\"231.1971,-332.0976 241.197,-328.5975 231.197,-325.0976 231.1971,-332.0976\"/>\n<text text-anchor=\"middle\" x=\"194.7924\" y=\"-332.3975\" font-family=\"Times,serif\" font-size=\"14.00\" fill=\"#000000\">f </text>\n</g>\n<!-- St32 -->\n<g id=\"node28\" class=\"node\">\n<title>St32</title>\n<ellipse fill=\"none\" stroke=\"#000000\" cx=\"269.9873\" cy=\"-28.5975\" rx=\"28.6953\" ry=\"28.6953\"/>\n<text text-anchor=\"middle\" x=\"269.9873\" y=\"-24.8975\" font-family=\"Times,serif\" font-size=\"14.00\" fill=\"#000000\">St32</text>\n</g>\n<!-- St32&#45;&gt;St37 -->\n<g id=\"edge51\" class=\"edge\">\n<title>St32&#45;&gt;St37</title>\n<path fill=\"none\" stroke=\"#000000\" d=\"M295.8287,-41.1508C320.4311,-53.1022 357.7697,-71.2407 385.8769,-84.8947\"/>\n<polygon fill=\"#000000\" stroke=\"#000000\" points=\"384.4991,-88.1164 395.0233,-89.3378 387.5578,-81.82 384.4991,-88.1164\"/>\n<text text-anchor=\"middle\" x=\"345.1822\" y=\"-81.3975\" font-family=\"Times,serif\" font-size=\"14.00\" fill=\"#000000\">&#39;&#39; </text>\n</g>\n<!-- St8&#45;&gt;St9 -->\n<g id=\"edge18\" class=\"edge\">\n<title>St8&#45;&gt;St9</title>\n<path fill=\"none\" stroke=\"#000000\" d=\"M613.4331,-684.3194C586.2436,-686.6795 540.2828,-688.1302 502.9746,-676.5975 484.8118,-670.983 466.2734,-660.6342 451.7656,-651.2754\"/>\n<polygon fill=\"#000000\" stroke=\"#000000\" points=\"453.5548,-648.2618 443.2927,-645.6274 449.6721,-654.0863 453.5548,-648.2618\"/>\n<text text-anchor=\"middle\" x=\"531.5721\" y=\"-688.3975\" font-family=\"Times,serif\" font-size=\"14.00\" fill=\"#000000\">&#39;&#39; </text>\n</g>\n<!-- St9&#45;&gt;St7 -->\n<g id=\"edge15\" class=\"edge\">\n<title>St9&#45;&gt;St7</title>\n<path fill=\"none\" stroke=\"#000000\" d=\"M447.6369,-634.4183C462.2852,-636.1947 481.4415,-638.5179 497.7543,-640.4962\"/>\n<polygon fill=\"#000000\" stroke=\"#000000\" points=\"497.6389,-644.0078 507.9876,-641.7373 498.4817,-637.0587 497.6389,-644.0078\"/>\n<text text-anchor=\"middle\" x=\"479.9746\" y=\"-642.3975\" font-family=\"Times,serif\" font-size=\"14.00\" fill=\"#000000\">&#39;&#39; </text>\n</g>\n<!-- St10 -->\n<g id=\"node33\" class=\"node\">\n<title>St10</title>\n<ellipse fill=\"none\" stroke=\"#000000\" cx=\"531.5721\" cy=\"-574.5975\" rx=\"28.6953\" ry=\"28.6953\"/>\n<text text-anchor=\"middle\" x=\"531.5721\" y=\"-570.8975\" font-family=\"Times,serif\" font-size=\"14.00\" fill=\"#000000\">St10</text>\n</g>\n<!-- St9&#45;&gt;St10 -->\n<g id=\"edge16\" class=\"edge\">\n<title>St9&#45;&gt;St10</title>\n<path fill=\"none\" stroke=\"#000000\" d=\"M445.0454,-620.6073C459.7266,-612.8007 479.7897,-602.1323 496.9002,-593.0339\"/>\n<polygon fill=\"#000000\" stroke=\"#000000\" points=\"498.8633,-595.9542 506.0494,-588.1689 495.5768,-589.7736 498.8633,-595.9542\"/>\n<text text-anchor=\"middle\" x=\"479.9746\" y=\"-606.3975\" font-family=\"Times,serif\" font-size=\"14.00\" fill=\"#000000\">&#39;&#39; </text>\n</g>\n<!-- St31&#45;&gt;St32 -->\n<g id=\"edge45\" class=\"edge\">\n<title>St31&#45;&gt;St32</title>\n<path fill=\"none\" stroke=\"#000000\" d=\"M148.2386,-28.5975C171.6833,-28.5975 205.0821,-28.5975 230.9701,-28.5975\"/>\n<polygon fill=\"#000000\" stroke=\"#000000\" points=\"231.1971,-32.0976 241.197,-28.5975 231.197,-25.0976 231.1971,-32.0976\"/>\n<text text-anchor=\"middle\" x=\"194.7924\" y=\"-32.3975\" font-family=\"Times,serif\" font-size=\"14.00\" fill=\"#000000\">f </text>\n</g>\n<!-- St20&#45;&gt;St21 -->\n<g id=\"edge35\" class=\"edge\">\n<title>St20&#45;&gt;St21</title>\n<path fill=\"none\" stroke=\"#000000\" d=\"M148.2386,-253.5975C171.6833,-253.5975 205.0821,-253.5975 230.9701,-253.5975\"/>\n<polygon fill=\"#000000\" stroke=\"#000000\" points=\"231.1971,-257.0976 241.197,-253.5975 231.197,-250.0976 231.1971,-257.0976\"/>\n<text text-anchor=\"middle\" x=\"194.7924\" y=\"-257.3975\" font-family=\"Times,serif\" font-size=\"14.00\" fill=\"#000000\">d </text>\n</g>\n<!-- St10&#45;&gt;St11 -->\n<g id=\"edge19\" class=\"edge\">\n<title>St10&#45;&gt;St11</title>\n<path fill=\"none\" stroke=\"#000000\" d=\"M558.6624,-584.1259C571.3988,-588.6056 586.768,-594.0114 600.4917,-598.8384\"/>\n<polygon fill=\"#000000\" stroke=\"#000000\" points=\"599.5378,-602.2131 610.1327,-602.2294 601.8605,-595.6096 599.5378,-602.2131\"/>\n<text text-anchor=\"middle\" x=\"584.1696\" y=\"-597.3975\" font-family=\"Times,serif\" font-size=\"14.00\" fill=\"#000000\">b </text>\n</g>\n<!-- St28&#45;&gt;St26 -->\n<g id=\"edge38\" class=\"edge\">\n<title>St28&#45;&gt;St26</title>\n<path fill=\"none\" stroke=\"#000000\" d=\"M454.5222,-315.9427C467.2787,-310.5876 482.2431,-304.3056 495.5737,-298.7094\"/>\n<polygon fill=\"#000000\" stroke=\"#000000\" points=\"497.071,-301.8768 504.9367,-294.7789 494.3615,-295.4225 497.071,-301.8768\"/>\n<text text-anchor=\"middle\" x=\"479.9746\" y=\"-309.3975\" font-family=\"Times,serif\" font-size=\"14.00\" fill=\"#000000\">&#39;&#39; </text>\n</g>\n<!-- St37&#45;&gt;St35 -->\n<g id=\"edge47\" class=\"edge\">\n<title>St37&#45;&gt;St35</title>\n<path fill=\"none\" stroke=\"#000000\" d=\"M454.2369,-90.2268C467.0982,-84.4677 482.2448,-77.6854 495.7086,-71.6565\"/>\n<polygon fill=\"#000000\" stroke=\"#000000\" points=\"497.4619,-74.7063 505.1583,-67.4251 494.6011,-68.3176 497.4619,-74.7063\"/>\n<text text-anchor=\"middle\" x=\"479.9746\" y=\"-83.3975\" font-family=\"Times,serif\" font-size=\"14.00\" fill=\"#000000\">&#39;&#39; </text>\n</g>\n</g>\n</svg>\n"
          },
          "metadata": {
            "tags": []
          },
          "execution_count": 111
        }
      ]
    },
    {
      "cell_type": "markdown",
      "metadata": {
        "id": "zgHWTRH3N4K8"
      },
      "source": [
        "## Chasing down the RE2NFA components (SV) - details\n",
        "\n",
        "\n",
        "This is an exercise in explaning how Rev_RE2 got translated to an NFA. You are to pick these cases and find an example of each, and explain below. What you pick does not matter.\n",
        "\n",
        "* Find a case where a Star is used, and explain the construction, pointing to the states involved. Use up to 6 bullets below. More or less based on how you explain (clarity not length emphasized).\n",
        "  - St37 is a case where Star is being used.\n",
        "  - The construction is for the $s^*$ part of the RE and is made up of a loop between St37, St36 and St35\n",
        "  - The construction is equivalent to a self loop on just St37 for the symbol $s$\n",
        "  - Starting at St37 zero or more $s$ symbols will result in an accepting string\n",
        "\n",
        "* Find a case where the Star follows something (I.e. a concatenation of the form \"X\" followed by \"Star\" is used). Show how that concatenation construction is accomplished in the same manner (up to 6 bullets roughly) as above. More or less based on how you explain.\n",
        "  - In the transitions between St25, St23, St21 and St28, there is a concatination between $(d + f) + f$ and $s^*$.\n",
        "  - This is done by adding epsilon transitions between the final states of the construct for $(d+f) + f$ and the intial states of the $s^*$ construct.\n",
        "  - The final states of the $(d+f) + f$ construct become nonfinal.\n",
        "  \n",
        "* Find a case where something follows Star (I.e. a concatenation of the form \"Star\" followed by \"X\"). Explain how the concatenation is accomplished.\n",
        "  - In the transitions between St9 and St10 there is a concatination between $s^*$ and $b$\n",
        "   This is done by adding a epsilon transition between the final state of the construct for $s^*$ and the intial states of the $b$ construct.\n",
        "  - The final states of the $s^*$ construct become nonfinal."
      ]
    },
    {
      "cell_type": "markdown",
      "metadata": {
        "id": "6nKxk854N4K9"
      },
      "source": [
        "## Repeat finding out the aforesaid paths in your own Rev_RE1_hand"
      ]
    },
    {
      "cell_type": "code",
      "metadata": {
        "id": "4rp-qGwkU1E2",
        "outputId": "9db43220-a230-4e6f-d657-54284d344da6",
        "colab": {
          "base_uri": "https://localhost:8080/",
          "height": 622
        }
      },
      "source": [
        "dotObj_nfa(re2nfa(Rev_RE1_hand))"
      ],
      "execution_count": 112,
      "outputs": [
        {
          "output_type": "stream",
          "text": [
            "Generating LALR tables\n"
          ],
          "name": "stderr"
        },
        {
          "output_type": "execute_result",
          "data": {
            "text/plain": [
              "<graphviz.dot.Digraph at 0x7f8878a3a828>"
            ],
            "image/svg+xml": "<?xml version=\"1.0\" encoding=\"UTF-8\" standalone=\"no\"?>\n<!DOCTYPE svg PUBLIC \"-//W3C//DTD SVG 1.1//EN\"\n \"http://www.w3.org/Graphics/SVG/1.1/DTD/svg11.dtd\">\n<!-- Generated by graphviz version 2.40.1 (20161225.0304)\n -->\n<!-- Title: %3 Pages: 1 -->\n<svg width=\"791pt\" height=\"423pt\"\n viewBox=\"0.00 0.00 790.97 423.00\" xmlns=\"http://www.w3.org/2000/svg\" xmlns:xlink=\"http://www.w3.org/1999/xlink\">\n<g id=\"graph0\" class=\"graph\" transform=\"scale(1 1) rotate(0) translate(4 418.9954)\">\n<title>%3</title>\n<polygon fill=\"#ffffff\" stroke=\"transparent\" points=\"-4,4 -4,-418.9954 786.9654,-418.9954 786.9654,4 -4,4\"/>\n<!-- EMPTY -->\n<g id=\"node1\" class=\"node\">\n<title>EMPTY</title>\n</g>\n<!-- St3 -->\n<g id=\"node6\" class=\"node\">\n<title>St3</title>\n<ellipse fill=\"none\" stroke=\"#000000\" cx=\"114.3979\" cy=\"-386.5975\" rx=\"23.2963\" ry=\"23.2963\"/>\n<text text-anchor=\"middle\" x=\"114.3979\" y=\"-382.8975\" font-family=\"Times,serif\" font-size=\"14.00\" fill=\"#000000\">St3</text>\n</g>\n<!-- EMPTY&#45;&gt;St3 -->\n<g id=\"edge3\" class=\"edge\">\n<title>EMPTY&#45;&gt;St3</title>\n<path fill=\"none\" stroke=\"#000000\" d=\"M41.432,-294.7617C55.5793,-312.5677 77.3007,-339.9064 93.3679,-360.1288\"/>\n<polygon fill=\"#000000\" stroke=\"#000000\" points=\"90.6912,-362.3863 99.6524,-368.0385 96.1719,-358.0317 90.6912,-362.3863\"/>\n</g>\n<!-- St9 -->\n<g id=\"node9\" class=\"node\">\n<title>St9</title>\n<ellipse fill=\"none\" stroke=\"#000000\" cx=\"114.3979\" cy=\"-186.5975\" rx=\"23.2963\" ry=\"23.2963\"/>\n<text text-anchor=\"middle\" x=\"114.3979\" y=\"-182.8975\" font-family=\"Times,serif\" font-size=\"14.00\" fill=\"#000000\">St9</text>\n</g>\n<!-- EMPTY&#45;&gt;St9 -->\n<g id=\"edge4\" class=\"edge\">\n<title>EMPTY&#45;&gt;St9</title>\n<path fill=\"none\" stroke=\"#000000\" d=\"M44.6863,-258.3846C57.9384,-244.7379 76.2088,-225.9235 90.7208,-210.9795\"/>\n<polygon fill=\"#000000\" stroke=\"#000000\" points=\"93.4648,-213.1778 97.9205,-203.5654 88.443,-208.3011 93.4648,-213.1778\"/>\n</g>\n<!-- St1 -->\n<g id=\"node14\" class=\"node\">\n<title>St1</title>\n<ellipse fill=\"none\" stroke=\"#000000\" cx=\"114.3979\" cy=\"-253.5975\" rx=\"23.2963\" ry=\"23.2963\"/>\n<text text-anchor=\"middle\" x=\"114.3979\" y=\"-249.8975\" font-family=\"Times,serif\" font-size=\"14.00\" fill=\"#000000\">St1</text>\n</g>\n<!-- EMPTY&#45;&gt;St1 -->\n<g id=\"edge1\" class=\"edge\">\n<title>EMPTY&#45;&gt;St1</title>\n<path fill=\"none\" stroke=\"#000000\" d=\"M54.1742,-269.4462C62.9119,-267.1467 72.6834,-264.5752 81.771,-262.1837\"/>\n<polygon fill=\"#000000\" stroke=\"#000000\" points=\"82.8691,-265.514 91.6491,-259.5841 81.0876,-258.7445 82.8691,-265.514\"/>\n</g>\n<!-- St7 -->\n<g id=\"node15\" class=\"node\">\n<title>St7</title>\n<ellipse fill=\"none\" stroke=\"#000000\" cx=\"114.3979\" cy=\"-320.5975\" rx=\"23.2963\" ry=\"23.2963\"/>\n<text text-anchor=\"middle\" x=\"114.3979\" y=\"-316.8975\" font-family=\"Times,serif\" font-size=\"14.00\" fill=\"#000000\">St7</text>\n</g>\n<!-- EMPTY&#45;&gt;St7 -->\n<g id=\"edge2\" class=\"edge\">\n<title>EMPTY&#45;&gt;St7</title>\n<path fill=\"none\" stroke=\"#000000\" d=\"M54.1742,-290.2781C63.7434,-295.0957 74.5525,-300.5375 84.3453,-305.4677\"/>\n<polygon fill=\"#000000\" stroke=\"#000000\" points=\"82.8434,-308.63 93.3492,-310.0006 85.9912,-302.3777 82.8434,-308.63\"/>\n</g>\n<!-- St13 -->\n<g id=\"node2\" class=\"node\">\n<title>St13</title>\n<ellipse fill=\"none\" stroke=\"#000000\" cx=\"316.5882\" cy=\"-186.5975\" rx=\"28.6953\" ry=\"28.6953\"/>\n<text text-anchor=\"middle\" x=\"316.5882\" y=\"-182.8975\" font-family=\"Times,serif\" font-size=\"14.00\" fill=\"#000000\">St13</text>\n</g>\n<!-- St17 -->\n<g id=\"node4\" class=\"node\">\n<title>St17</title>\n<ellipse fill=\"none\" stroke=\"#000000\" cx=\"423.7832\" cy=\"-186.5975\" rx=\"28.6953\" ry=\"28.6953\"/>\n<text text-anchor=\"middle\" x=\"423.7832\" y=\"-182.8975\" font-family=\"Times,serif\" font-size=\"14.00\" fill=\"#000000\">St17</text>\n</g>\n<!-- St13&#45;&gt;St17 -->\n<g id=\"edge12\" class=\"edge\">\n<title>St13&#45;&gt;St17</title>\n<path fill=\"none\" stroke=\"#000000\" d=\"M345.3145,-186.5975C357.4504,-186.5975 371.7721,-186.5975 384.836,-186.5975\"/>\n<polygon fill=\"#000000\" stroke=\"#000000\" points=\"384.9776,-190.0976 394.9776,-186.5975 384.9776,-183.0976 384.9776,-190.0976\"/>\n<text text-anchor=\"middle\" x=\"368.1857\" y=\"-190.3975\" font-family=\"Times,serif\" font-size=\"14.00\" fill=\"#000000\">&#39;&#39; </text>\n</g>\n<!-- St11 -->\n<g id=\"node10\" class=\"node\">\n<title>St11</title>\n<ellipse fill=\"none\" stroke=\"#000000\" cx=\"423.7832\" cy=\"-261.5975\" rx=\"27.8951\" ry=\"27.8951\"/>\n<text text-anchor=\"middle\" x=\"423.7832\" y=\"-257.8975\" font-family=\"Times,serif\" font-size=\"14.00\" fill=\"#000000\">St11</text>\n</g>\n<!-- St13&#45;&gt;St11 -->\n<g id=\"edge14\" class=\"edge\">\n<title>St13&#45;&gt;St11</title>\n<path fill=\"none\" stroke=\"#000000\" d=\"M340.1126,-203.0565C355.4373,-213.7786 375.6117,-227.8938 392.3106,-239.5774\"/>\n<polygon fill=\"#000000\" stroke=\"#000000\" points=\"390.4821,-242.5696 400.6822,-245.4347 394.495,-236.8341 390.4821,-242.5696\"/>\n<text text-anchor=\"middle\" x=\"368.1857\" y=\"-228.3975\" font-family=\"Times,serif\" font-size=\"14.00\" fill=\"#000000\">&#39;&#39; </text>\n</g>\n<!-- St15 -->\n<g id=\"node16\" class=\"node\">\n<title>St15</title>\n<ellipse fill=\"none\" stroke=\"#000000\" cx=\"423.7832\" cy=\"-111.5975\" rx=\"28.6953\" ry=\"28.6953\"/>\n<text text-anchor=\"middle\" x=\"423.7832\" y=\"-107.8975\" font-family=\"Times,serif\" font-size=\"14.00\" fill=\"#000000\">St15</text>\n</g>\n<!-- St13&#45;&gt;St15 -->\n<g id=\"edge11\" class=\"edge\">\n<title>St13&#45;&gt;St15</title>\n<path fill=\"none\" stroke=\"#000000\" d=\"M340.1126,-170.1384C355.3323,-159.4898 375.3355,-145.4943 391.967,-133.858\"/>\n<polygon fill=\"#000000\" stroke=\"#000000\" points=\"394.1265,-136.6187 400.3137,-128.0181 390.1135,-130.8832 394.1265,-136.6187\"/>\n<text text-anchor=\"middle\" x=\"368.1857\" y=\"-157.3975\" font-family=\"Times,serif\" font-size=\"14.00\" fill=\"#000000\">&#39;&#39; </text>\n</g>\n<!-- St14 -->\n<g id=\"node19\" class=\"node\">\n<title>St14</title>\n<ellipse fill=\"none\" stroke=\"#000000\" cx=\"423.7832\" cy=\"-32.5975\" rx=\"28.6832\" ry=\"28.6832\"/>\n<ellipse fill=\"none\" stroke=\"#000000\" cx=\"423.7832\" cy=\"-32.5975\" rx=\"32.6952\" ry=\"32.6952\"/>\n<text text-anchor=\"middle\" x=\"423.7832\" y=\"-28.8975\" font-family=\"Times,serif\" font-size=\"14.00\" fill=\"#000000\">St14</text>\n</g>\n<!-- St13&#45;&gt;St14 -->\n<g id=\"edge13\" class=\"edge\">\n<title>St13&#45;&gt;St14</title>\n<path fill=\"none\" stroke=\"#000000\" d=\"M331.9862,-161.9287C346.6617,-138.7487 369.652,-103.2807 391.1857,-73.5975 392.9378,-71.1822 394.7763,-68.7126 396.6503,-66.2421\"/>\n<polygon fill=\"#000000\" stroke=\"#000000\" points=\"399.7382,-67.9701 403.0842,-57.9175 394.1996,-63.6894 399.7382,-67.9701\"/>\n<text text-anchor=\"middle\" x=\"368.1857\" y=\"-117.3975\" font-family=\"Times,serif\" font-size=\"14.00\" fill=\"#000000\">&#39;&#39; </text>\n</g>\n<!-- St8 -->\n<g id=\"node3\" class=\"node\">\n<title>St8</title>\n<ellipse fill=\"none\" stroke=\"#000000\" cx=\"214.3933\" cy=\"-322.5975\" rx=\"23.2963\" ry=\"23.2963\"/>\n<text text-anchor=\"middle\" x=\"214.3933\" y=\"-318.8975\" font-family=\"Times,serif\" font-size=\"14.00\" fill=\"#000000\">St8</text>\n</g>\n<!-- St8&#45;&gt;St13 -->\n<g id=\"edge17\" class=\"edge\">\n<title>St8&#45;&gt;St13</title>\n<path fill=\"none\" stroke=\"#000000\" d=\"M230.1397,-305.0432C234.4051,-300.1236 238.9563,-294.719 242.9908,-289.5975 261.198,-266.4847 280.4895,-239.3776 294.7519,-218.7745\"/>\n<polygon fill=\"#000000\" stroke=\"#000000\" points=\"297.7484,-220.5943 300.5387,-210.3734 291.9836,-216.6234 297.7484,-220.5943\"/>\n<text text-anchor=\"middle\" x=\"265.4908\" y=\"-268.3975\" font-family=\"Times,serif\" font-size=\"14.00\" fill=\"#000000\">&#39;&#39; </text>\n</g>\n<!-- St18 -->\n<g id=\"node11\" class=\"node\">\n<title>St18</title>\n<ellipse fill=\"none\" stroke=\"#000000\" cx=\"536.9781\" cy=\"-189.5975\" rx=\"28.6953\" ry=\"28.6953\"/>\n<text text-anchor=\"middle\" x=\"536.9781\" y=\"-185.8975\" font-family=\"Times,serif\" font-size=\"14.00\" fill=\"#000000\">St18</text>\n</g>\n<!-- St17&#45;&gt;St18 -->\n<g id=\"edge20\" class=\"edge\">\n<title>St17&#45;&gt;St18</title>\n<path fill=\"none\" stroke=\"#000000\" d=\"M452.6399,-187.3623C466.3441,-187.7255 482.931,-188.1651 497.7565,-188.558\"/>\n<polygon fill=\"#000000\" stroke=\"#000000\" points=\"498.0848,-192.0678 508.174,-188.8341 498.2703,-185.0703 498.0848,-192.0678\"/>\n<text text-anchor=\"middle\" x=\"480.3806\" y=\"-192.3975\" font-family=\"Times,serif\" font-size=\"14.00\" fill=\"#000000\">b </text>\n</g>\n<!-- St5 -->\n<g id=\"node5\" class=\"node\">\n<title>St5</title>\n<ellipse fill=\"none\" stroke=\"#000000\" cx=\"316.5882\" cy=\"-387.5975\" rx=\"23.2963\" ry=\"23.2963\"/>\n<text text-anchor=\"middle\" x=\"316.5882\" y=\"-383.8975\" font-family=\"Times,serif\" font-size=\"14.00\" fill=\"#000000\">St5</text>\n</g>\n<!-- St6 -->\n<g id=\"node21\" class=\"node\">\n<title>St6</title>\n<ellipse fill=\"none\" stroke=\"#000000\" cx=\"423.7832\" cy=\"-387.5975\" rx=\"23.3111\" ry=\"23.3111\"/>\n<ellipse fill=\"none\" stroke=\"#000000\" cx=\"423.7832\" cy=\"-387.5975\" rx=\"27.2962\" ry=\"27.2962\"/>\n<text text-anchor=\"middle\" x=\"423.7832\" y=\"-383.8975\" font-family=\"Times,serif\" font-size=\"14.00\" fill=\"#000000\">St6</text>\n</g>\n<!-- St5&#45;&gt;St6 -->\n<g id=\"edge7\" class=\"edge\">\n<title>St5&#45;&gt;St6</title>\n<path fill=\"none\" stroke=\"#000000\" d=\"M340.1126,-387.5975C353.5326,-387.5975 370.6715,-387.5975 385.9388,-387.5975\"/>\n<polygon fill=\"#000000\" stroke=\"#000000\" points=\"386.1408,-391.0976 396.1408,-387.5975 386.1408,-384.0976 386.1408,-391.0976\"/>\n<text text-anchor=\"middle\" x=\"368.1857\" y=\"-391.3975\" font-family=\"Times,serif\" font-size=\"14.00\" fill=\"#000000\">a </text>\n</g>\n<!-- St4 -->\n<g id=\"node8\" class=\"node\">\n<title>St4</title>\n<ellipse fill=\"none\" stroke=\"#000000\" cx=\"214.3933\" cy=\"-387.5975\" rx=\"23.2963\" ry=\"23.2963\"/>\n<text text-anchor=\"middle\" x=\"214.3933\" y=\"-383.8975\" font-family=\"Times,serif\" font-size=\"14.00\" fill=\"#000000\">St4</text>\n</g>\n<!-- St3&#45;&gt;St4 -->\n<g id=\"edge6\" class=\"edge\">\n<title>St3&#45;&gt;St4</title>\n<path fill=\"none\" stroke=\"#000000\" d=\"M137.8424,-386.8319C150.5385,-386.9589 166.4526,-387.118 180.4773,-387.2583\"/>\n<polygon fill=\"#000000\" stroke=\"#000000\" points=\"180.7147,-390.7607 190.7492,-387.361 180.7848,-383.7611 180.7147,-390.7607\"/>\n<text text-anchor=\"middle\" x=\"161.7958\" y=\"-390.3975\" font-family=\"Times,serif\" font-size=\"14.00\" fill=\"#000000\">c </text>\n</g>\n<!-- St12 -->\n<g id=\"node7\" class=\"node\">\n<title>St12</title>\n<ellipse fill=\"none\" stroke=\"#000000\" cx=\"536.9781\" cy=\"-302.5975\" rx=\"28.6953\" ry=\"28.6953\"/>\n<text text-anchor=\"middle\" x=\"536.9781\" y=\"-298.8975\" font-family=\"Times,serif\" font-size=\"14.00\" fill=\"#000000\">St12</text>\n</g>\n<!-- St12&#45;&gt;St13 -->\n<g id=\"edge16\" class=\"edge\">\n<title>St12&#45;&gt;St13</title>\n<path fill=\"none\" stroke=\"#000000\" d=\"M508.9146,-309.1161C477.982,-314.7238 427.7662,-319.0415 391.1857,-298.5975 361.9429,-282.2543 342.0553,-249.0812 330.2172,-223.0591\"/>\n<polygon fill=\"#000000\" stroke=\"#000000\" points=\"333.4085,-221.6209 326.2176,-213.84 326.9868,-224.4069 333.4085,-221.6209\"/>\n<text text-anchor=\"middle\" x=\"423.7832\" y=\"-317.3975\" font-family=\"Times,serif\" font-size=\"14.00\" fill=\"#000000\">&#39;&#39; </text>\n</g>\n<!-- St4&#45;&gt;St5 -->\n<g id=\"edge8\" class=\"edge\">\n<title>St4&#45;&gt;St5</title>\n<path fill=\"none\" stroke=\"#000000\" d=\"M237.8389,-387.5975C251.1162,-387.5975 267.9581,-387.5975 282.656,-387.5975\"/>\n<polygon fill=\"#000000\" stroke=\"#000000\" points=\"282.8979,-391.0976 292.8979,-387.5975 282.8978,-384.0976 282.8979,-391.0976\"/>\n<text text-anchor=\"middle\" x=\"265.4908\" y=\"-391.3975\" font-family=\"Times,serif\" font-size=\"14.00\" fill=\"#000000\">&#39;&#39; </text>\n</g>\n<!-- St10 -->\n<g id=\"node12\" class=\"node\">\n<title>St10</title>\n<ellipse fill=\"none\" stroke=\"#000000\" cx=\"214.3933\" cy=\"-179.5975\" rx=\"28.6953\" ry=\"28.6953\"/>\n<text text-anchor=\"middle\" x=\"214.3933\" y=\"-175.8975\" font-family=\"Times,serif\" font-size=\"14.00\" fill=\"#000000\">St10</text>\n</g>\n<!-- St9&#45;&gt;St10 -->\n<g id=\"edge10\" class=\"edge\">\n<title>St9&#45;&gt;St10</title>\n<path fill=\"none\" stroke=\"#000000\" d=\"M137.8424,-184.9563C149.0268,-184.1733 162.7085,-183.2156 175.3959,-182.3274\"/>\n<polygon fill=\"#000000\" stroke=\"#000000\" points=\"176.0117,-185.793 185.7428,-181.6031 175.5228,-178.81 176.0117,-185.793\"/>\n<text text-anchor=\"middle\" x=\"161.7958\" y=\"-187.3975\" font-family=\"Times,serif\" font-size=\"14.00\" fill=\"#000000\">d </text>\n</g>\n<!-- St11&#45;&gt;St12 -->\n<g id=\"edge15\" class=\"edge\">\n<title>St11&#45;&gt;St12</title>\n<path fill=\"none\" stroke=\"#000000\" d=\"M450.3223,-271.2101C465.1497,-276.5807 483.8544,-283.3557 500.0876,-289.2355\"/>\n<polygon fill=\"#000000\" stroke=\"#000000\" points=\"499.2247,-292.6454 509.819,-292.7602 501.6087,-286.0638 499.2247,-292.6454\"/>\n<text text-anchor=\"middle\" x=\"480.3806\" y=\"-286.3975\" font-family=\"Times,serif\" font-size=\"14.00\" fill=\"#000000\">s </text>\n</g>\n<!-- St19 -->\n<g id=\"node13\" class=\"node\">\n<title>St19</title>\n<ellipse fill=\"none\" stroke=\"#000000\" cx=\"643.173\" cy=\"-189.5975\" rx=\"28.6953\" ry=\"28.6953\"/>\n<text text-anchor=\"middle\" x=\"643.173\" y=\"-185.8975\" font-family=\"Times,serif\" font-size=\"14.00\" fill=\"#000000\">St19</text>\n</g>\n<!-- St18&#45;&gt;St19 -->\n<g id=\"edge22\" class=\"edge\">\n<title>St18&#45;&gt;St19</title>\n<path fill=\"none\" stroke=\"#000000\" d=\"M565.716,-189.5975C577.5213,-189.5975 591.3776,-189.5975 604.0819,-189.5975\"/>\n<polygon fill=\"#000000\" stroke=\"#000000\" points=\"604.4122,-193.0976 614.4122,-189.5975 604.4121,-186.0976 604.4122,-193.0976\"/>\n<text text-anchor=\"middle\" x=\"592.0755\" y=\"-193.3975\" font-family=\"Times,serif\" font-size=\"14.00\" fill=\"#000000\">&#39;&#39; </text>\n</g>\n<!-- St10&#45;&gt;St13 -->\n<g id=\"edge18\" class=\"edge\">\n<title>St10&#45;&gt;St13</title>\n<path fill=\"none\" stroke=\"#000000\" d=\"M243.1323,-181.566C253.7994,-182.2966 266.086,-183.1382 277.5204,-183.9214\"/>\n<polygon fill=\"#000000\" stroke=\"#000000\" points=\"277.4951,-187.4278 287.7109,-184.6195 277.9735,-180.4442 277.4951,-187.4278\"/>\n<text text-anchor=\"middle\" x=\"265.4908\" y=\"-187.3975\" font-family=\"Times,serif\" font-size=\"14.00\" fill=\"#000000\">&#39;&#39; </text>\n</g>\n<!-- St20 -->\n<g id=\"node20\" class=\"node\">\n<title>St20</title>\n<ellipse fill=\"none\" stroke=\"#000000\" cx=\"750.3679\" cy=\"-189.5975\" rx=\"28.6832\" ry=\"28.6832\"/>\n<ellipse fill=\"none\" stroke=\"#000000\" cx=\"750.3679\" cy=\"-189.5975\" rx=\"32.6952\" ry=\"32.6952\"/>\n<text text-anchor=\"middle\" x=\"750.3679\" y=\"-185.8975\" font-family=\"Times,serif\" font-size=\"14.00\" fill=\"#000000\">St20</text>\n</g>\n<!-- St19&#45;&gt;St20 -->\n<g id=\"edge21\" class=\"edge\">\n<title>St19&#45;&gt;St20</title>\n<path fill=\"none\" stroke=\"#000000\" d=\"M671.8993,-189.5975C682.7396,-189.5975 695.3239,-189.5975 707.1981,-189.5975\"/>\n<polygon fill=\"#000000\" stroke=\"#000000\" points=\"707.3884,-193.0976 717.3884,-189.5975 707.3883,-186.0976 707.3884,-193.0976\"/>\n<text text-anchor=\"middle\" x=\"694.7705\" y=\"-193.3975\" font-family=\"Times,serif\" font-size=\"14.00\" fill=\"#000000\">a </text>\n</g>\n<!-- St2 -->\n<g id=\"node18\" class=\"node\">\n<title>St2</title>\n<ellipse fill=\"none\" stroke=\"#000000\" cx=\"214.3933\" cy=\"-253.5975\" rx=\"23.3111\" ry=\"23.3111\"/>\n<ellipse fill=\"none\" stroke=\"#000000\" cx=\"214.3933\" cy=\"-253.5975\" rx=\"27.2962\" ry=\"27.2962\"/>\n<text text-anchor=\"middle\" x=\"214.3933\" y=\"-249.8975\" font-family=\"Times,serif\" font-size=\"14.00\" fill=\"#000000\">St2</text>\n</g>\n<!-- St1&#45;&gt;St2 -->\n<g id=\"edge5\" class=\"edge\">\n<title>St1&#45;&gt;St2</title>\n<path fill=\"none\" stroke=\"#000000\" d=\"M137.8424,-253.5975C149.4119,-253.5975 163.6538,-253.5975 176.7029,-253.5975\"/>\n<polygon fill=\"#000000\" stroke=\"#000000\" points=\"176.8386,-257.0976 186.8386,-253.5975 176.8386,-250.0976 176.8386,-257.0976\"/>\n<text text-anchor=\"middle\" x=\"161.7958\" y=\"-257.3975\" font-family=\"Times,serif\" font-size=\"14.00\" fill=\"#000000\">c </text>\n</g>\n<!-- St7&#45;&gt;St8 -->\n<g id=\"edge9\" class=\"edge\">\n<title>St7&#45;&gt;St8</title>\n<path fill=\"none\" stroke=\"#000000\" d=\"M137.8424,-321.0664C150.5385,-321.3203 166.4526,-321.6386 180.4773,-321.9191\"/>\n<polygon fill=\"#000000\" stroke=\"#000000\" points=\"180.6812,-325.4238 190.7492,-322.1246 180.8213,-318.4252 180.6812,-325.4238\"/>\n<text text-anchor=\"middle\" x=\"161.7958\" y=\"-325.3975\" font-family=\"Times,serif\" font-size=\"14.00\" fill=\"#000000\">f </text>\n</g>\n<!-- St16 -->\n<g id=\"node17\" class=\"node\">\n<title>St16</title>\n<ellipse fill=\"none\" stroke=\"#000000\" cx=\"536.9781\" cy=\"-110.5975\" rx=\"28.6832\" ry=\"28.6832\"/>\n<ellipse fill=\"none\" stroke=\"#000000\" cx=\"536.9781\" cy=\"-110.5975\" rx=\"32.6952\" ry=\"32.6952\"/>\n<text text-anchor=\"middle\" x=\"536.9781\" y=\"-106.8975\" font-family=\"Times,serif\" font-size=\"14.00\" fill=\"#000000\">St16</text>\n</g>\n<!-- St15&#45;&gt;St16 -->\n<g id=\"edge19\" class=\"edge\">\n<title>St15&#45;&gt;St16</title>\n<path fill=\"none\" stroke=\"#000000\" d=\"M452.6399,-111.3425C465.1671,-111.2319 480.1032,-111.0999 493.9006,-110.978\"/>\n<polygon fill=\"#000000\" stroke=\"#000000\" points=\"494.2023,-114.4756 504.1709,-110.8873 494.1404,-107.4759 494.2023,-114.4756\"/>\n<text text-anchor=\"middle\" x=\"480.3806\" y=\"-115.3975\" font-family=\"Times,serif\" font-size=\"14.00\" fill=\"#000000\">b </text>\n</g>\n</g>\n</svg>\n"
          },
          "metadata": {
            "tags": []
          },
          "execution_count": 112
        }
      ]
    },
    {
      "cell_type": "markdown",
      "metadata": {
        "id": "nDwb51meN4LA"
      },
      "source": [
        "\n",
        "This is an exercise in explaning how Rev_RE1_hand got translated to an NFA. You are to pick these cases and find an example of each, and explain below. What you pick does not matter.\n",
        "\n",
        "* Find a case where a Star is used, and explain the construction, pointing to the states involved. Use up to 6 bullets below. More or less based on how you explain (clarity not length emphasized).\n",
        "  - A star is used in the loop between St13, St12 and St11.\n",
        "  - Starting from St13 zero or more $s$ symbols will result in a state of St13\n",
        "  - The construct is equivelnt to a self loop on the symbol $s$ from St13 to St13\n",
        "  - The epsilon transitions are an artifact of the re2nfa algorithm.\n",
        "\n",
        "* Find a case where the Star follows something (I.e. a concatenation of the form \"X\" followed by \"Star\" is used). If such a case does not arise in your RE, skip this part. Show how that concatenation construction is accomplished in the same manner (up to 6 bullets roughly) as above. More or less based on how you explain. \n",
        "  - A star follows another construct in the transition between St10, St8 and St13.\n",
        "  - The concatenation is between $d + f$ and $s^*$\n",
        "  - The concatenation is accomplished by adding epsilon transitions from the final states of the $d + f$ construct to the intial states of the $s^*$ construct, and making the final states of the $d + f$ construct nonfinal.\n",
        "  \n",
        "* Find a case where something follows Star (I.e. a concatenation of the form \"Star\" followed by \"X\"). If such a case does not arise in your RE, skip this part. Explain how the concatenation is accomplished.\n",
        "  - A construct following a star can be found in the transition between St13 and St14,St15 and St17.\n",
        "  - The concatination is between $s^*$ and $ba + b + \\epsilon$.\n",
        "  - The construct is constructed by adding epsilon transitions from the final states of the $s^*$ construct and the intial states of the $ba + b + \\epsilon$, and making the final states of the $s^*$ construct nonfinal."
      ]
    },
    {
      "cell_type": "markdown",
      "metadata": {
        "id": "QX6BTgWdN4LB"
      },
      "source": [
        "# END\n"
      ]
    }
  ]
}